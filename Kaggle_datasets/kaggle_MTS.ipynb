{
  "nbformat": 4,
  "nbformat_minor": 0,
  "metadata": {
    "colab": {
      "name": "kaggle_MTS.ipynb",
      "provenance": [],
      "toc_visible": true,
      "machine_shape": "hm"
    },
    "kernelspec": {
      "name": "python3",
      "display_name": "Python 3"
    },
    "language_info": {
      "name": "python"
    },
    "accelerator": "GPU",
    "widgets": {
      "application/vnd.jupyter.widget-state+json": {
        "48bc23cbce72451e967e404d217f3cc8": {
          "model_module": "@jupyter-widgets/controls",
          "model_name": "HBoxModel",
          "state": {
            "_view_name": "HBoxView",
            "_dom_classes": [],
            "_model_name": "HBoxModel",
            "_view_module": "@jupyter-widgets/controls",
            "_model_module_version": "1.5.0",
            "_view_count": null,
            "_view_module_version": "1.5.0",
            "box_style": "",
            "layout": "IPY_MODEL_23209acb11dd41e2b58288ef93f0696c",
            "_model_module": "@jupyter-widgets/controls",
            "children": [
              "IPY_MODEL_e24c4892cbb34c009004a67c66c9b0dc",
              "IPY_MODEL_d8b1ea76d6b6479f83eecbd508cacd81"
            ]
          }
        },
        "23209acb11dd41e2b58288ef93f0696c": {
          "model_module": "@jupyter-widgets/base",
          "model_name": "LayoutModel",
          "state": {
            "_view_name": "LayoutView",
            "grid_template_rows": null,
            "right": null,
            "justify_content": null,
            "_view_module": "@jupyter-widgets/base",
            "overflow": null,
            "_model_module_version": "1.2.0",
            "_view_count": null,
            "flex_flow": null,
            "width": null,
            "min_width": null,
            "border": null,
            "align_items": null,
            "bottom": null,
            "_model_module": "@jupyter-widgets/base",
            "top": null,
            "grid_column": null,
            "overflow_y": null,
            "overflow_x": null,
            "grid_auto_flow": null,
            "grid_area": null,
            "grid_template_columns": null,
            "flex": null,
            "_model_name": "LayoutModel",
            "justify_items": null,
            "grid_row": null,
            "max_height": null,
            "align_content": null,
            "visibility": null,
            "align_self": null,
            "height": null,
            "min_height": null,
            "padding": null,
            "grid_auto_rows": null,
            "grid_gap": null,
            "max_width": null,
            "order": null,
            "_view_module_version": "1.2.0",
            "grid_template_areas": null,
            "object_position": null,
            "object_fit": null,
            "grid_auto_columns": null,
            "margin": null,
            "display": null,
            "left": null
          }
        },
        "e24c4892cbb34c009004a67c66c9b0dc": {
          "model_module": "@jupyter-widgets/controls",
          "model_name": "FloatProgressModel",
          "state": {
            "_view_name": "ProgressView",
            "style": "IPY_MODEL_38fcd62fa7384e9e9bb61ca0cebe196e",
            "_dom_classes": [],
            "description": "100%",
            "_model_name": "FloatProgressModel",
            "bar_style": "success",
            "max": 3074,
            "_view_module": "@jupyter-widgets/controls",
            "_model_module_version": "1.5.0",
            "value": 3074,
            "_view_count": null,
            "_view_module_version": "1.5.0",
            "orientation": "horizontal",
            "min": 0,
            "description_tooltip": null,
            "_model_module": "@jupyter-widgets/controls",
            "layout": "IPY_MODEL_4e87c10bc9be448e942214d9ade46730"
          }
        },
        "d8b1ea76d6b6479f83eecbd508cacd81": {
          "model_module": "@jupyter-widgets/controls",
          "model_name": "HTMLModel",
          "state": {
            "_view_name": "HTMLView",
            "style": "IPY_MODEL_4f467326c9bd443081663e21e35aa204",
            "_dom_classes": [],
            "description": "",
            "_model_name": "HTMLModel",
            "placeholder": "​",
            "_view_module": "@jupyter-widgets/controls",
            "_model_module_version": "1.5.0",
            "value": " 3074/3074 [02:50&lt;00:00, 18.03it/s]",
            "_view_count": null,
            "_view_module_version": "1.5.0",
            "description_tooltip": null,
            "_model_module": "@jupyter-widgets/controls",
            "layout": "IPY_MODEL_71ddd9370060461dbd239e0a58d12c92"
          }
        },
        "38fcd62fa7384e9e9bb61ca0cebe196e": {
          "model_module": "@jupyter-widgets/controls",
          "model_name": "ProgressStyleModel",
          "state": {
            "_view_name": "StyleView",
            "_model_name": "ProgressStyleModel",
            "description_width": "initial",
            "_view_module": "@jupyter-widgets/base",
            "_model_module_version": "1.5.0",
            "_view_count": null,
            "_view_module_version": "1.2.0",
            "bar_color": null,
            "_model_module": "@jupyter-widgets/controls"
          }
        },
        "4e87c10bc9be448e942214d9ade46730": {
          "model_module": "@jupyter-widgets/base",
          "model_name": "LayoutModel",
          "state": {
            "_view_name": "LayoutView",
            "grid_template_rows": null,
            "right": null,
            "justify_content": null,
            "_view_module": "@jupyter-widgets/base",
            "overflow": null,
            "_model_module_version": "1.2.0",
            "_view_count": null,
            "flex_flow": null,
            "width": null,
            "min_width": null,
            "border": null,
            "align_items": null,
            "bottom": null,
            "_model_module": "@jupyter-widgets/base",
            "top": null,
            "grid_column": null,
            "overflow_y": null,
            "overflow_x": null,
            "grid_auto_flow": null,
            "grid_area": null,
            "grid_template_columns": null,
            "flex": null,
            "_model_name": "LayoutModel",
            "justify_items": null,
            "grid_row": null,
            "max_height": null,
            "align_content": null,
            "visibility": null,
            "align_self": null,
            "height": null,
            "min_height": null,
            "padding": null,
            "grid_auto_rows": null,
            "grid_gap": null,
            "max_width": null,
            "order": null,
            "_view_module_version": "1.2.0",
            "grid_template_areas": null,
            "object_position": null,
            "object_fit": null,
            "grid_auto_columns": null,
            "margin": null,
            "display": null,
            "left": null
          }
        },
        "4f467326c9bd443081663e21e35aa204": {
          "model_module": "@jupyter-widgets/controls",
          "model_name": "DescriptionStyleModel",
          "state": {
            "_view_name": "StyleView",
            "_model_name": "DescriptionStyleModel",
            "description_width": "",
            "_view_module": "@jupyter-widgets/base",
            "_model_module_version": "1.5.0",
            "_view_count": null,
            "_view_module_version": "1.2.0",
            "_model_module": "@jupyter-widgets/controls"
          }
        },
        "71ddd9370060461dbd239e0a58d12c92": {
          "model_module": "@jupyter-widgets/base",
          "model_name": "LayoutModel",
          "state": {
            "_view_name": "LayoutView",
            "grid_template_rows": null,
            "right": null,
            "justify_content": null,
            "_view_module": "@jupyter-widgets/base",
            "overflow": null,
            "_model_module_version": "1.2.0",
            "_view_count": null,
            "flex_flow": null,
            "width": null,
            "min_width": null,
            "border": null,
            "align_items": null,
            "bottom": null,
            "_model_module": "@jupyter-widgets/base",
            "top": null,
            "grid_column": null,
            "overflow_y": null,
            "overflow_x": null,
            "grid_auto_flow": null,
            "grid_area": null,
            "grid_template_columns": null,
            "flex": null,
            "_model_name": "LayoutModel",
            "justify_items": null,
            "grid_row": null,
            "max_height": null,
            "align_content": null,
            "visibility": null,
            "align_self": null,
            "height": null,
            "min_height": null,
            "padding": null,
            "grid_auto_rows": null,
            "grid_gap": null,
            "max_width": null,
            "order": null,
            "_view_module_version": "1.2.0",
            "grid_template_areas": null,
            "object_position": null,
            "object_fit": null,
            "grid_auto_columns": null,
            "margin": null,
            "display": null,
            "left": null
          }
        },
        "2619749654de4cb5a511741992fee3b8": {
          "model_module": "@jupyter-widgets/controls",
          "model_name": "HBoxModel",
          "state": {
            "_view_name": "HBoxView",
            "_dom_classes": [],
            "_model_name": "HBoxModel",
            "_view_module": "@jupyter-widgets/controls",
            "_model_module_version": "1.5.0",
            "_view_count": null,
            "_view_module_version": "1.5.0",
            "box_style": "",
            "layout": "IPY_MODEL_e8cbd9b02932495e8553cb26a86dcffc",
            "_model_module": "@jupyter-widgets/controls",
            "children": [
              "IPY_MODEL_63a6d20028b54589b6aeef753c7c32d2",
              "IPY_MODEL_172b9331552e45c4aff1d30e593f558a"
            ]
          }
        },
        "e8cbd9b02932495e8553cb26a86dcffc": {
          "model_module": "@jupyter-widgets/base",
          "model_name": "LayoutModel",
          "state": {
            "_view_name": "LayoutView",
            "grid_template_rows": null,
            "right": null,
            "justify_content": null,
            "_view_module": "@jupyter-widgets/base",
            "overflow": null,
            "_model_module_version": "1.2.0",
            "_view_count": null,
            "flex_flow": null,
            "width": null,
            "min_width": null,
            "border": null,
            "align_items": null,
            "bottom": null,
            "_model_module": "@jupyter-widgets/base",
            "top": null,
            "grid_column": null,
            "overflow_y": null,
            "overflow_x": null,
            "grid_auto_flow": null,
            "grid_area": null,
            "grid_template_columns": null,
            "flex": null,
            "_model_name": "LayoutModel",
            "justify_items": null,
            "grid_row": null,
            "max_height": null,
            "align_content": null,
            "visibility": null,
            "align_self": null,
            "height": null,
            "min_height": null,
            "padding": null,
            "grid_auto_rows": null,
            "grid_gap": null,
            "max_width": null,
            "order": null,
            "_view_module_version": "1.2.0",
            "grid_template_areas": null,
            "object_position": null,
            "object_fit": null,
            "grid_auto_columns": null,
            "margin": null,
            "display": null,
            "left": null
          }
        },
        "63a6d20028b54589b6aeef753c7c32d2": {
          "model_module": "@jupyter-widgets/controls",
          "model_name": "FloatProgressModel",
          "state": {
            "_view_name": "ProgressView",
            "style": "IPY_MODEL_aabc23364f784bf18476c5efa565e2d8",
            "_dom_classes": [],
            "description": "100%",
            "_model_name": "FloatProgressModel",
            "bar_style": "success",
            "max": 91635,
            "_view_module": "@jupyter-widgets/controls",
            "_model_module_version": "1.5.0",
            "value": 91635,
            "_view_count": null,
            "_view_module_version": "1.5.0",
            "orientation": "horizontal",
            "min": 0,
            "description_tooltip": null,
            "_model_module": "@jupyter-widgets/controls",
            "layout": "IPY_MODEL_fff45cfcda254cc48709dbf2c6ee99c2"
          }
        },
        "172b9331552e45c4aff1d30e593f558a": {
          "model_module": "@jupyter-widgets/controls",
          "model_name": "HTMLModel",
          "state": {
            "_view_name": "HTMLView",
            "style": "IPY_MODEL_432865845c514af0a1e7722396f50c5e",
            "_dom_classes": [],
            "description": "",
            "_model_name": "HTMLModel",
            "placeholder": "​",
            "_view_module": "@jupyter-widgets/controls",
            "_model_module_version": "1.5.0",
            "value": " 91635/91635 [00:48&lt;00:00, 1879.69it/s]",
            "_view_count": null,
            "_view_module_version": "1.5.0",
            "description_tooltip": null,
            "_model_module": "@jupyter-widgets/controls",
            "layout": "IPY_MODEL_caf04a782449414e9fb7be9bd3bc9436"
          }
        },
        "aabc23364f784bf18476c5efa565e2d8": {
          "model_module": "@jupyter-widgets/controls",
          "model_name": "ProgressStyleModel",
          "state": {
            "_view_name": "StyleView",
            "_model_name": "ProgressStyleModel",
            "description_width": "initial",
            "_view_module": "@jupyter-widgets/base",
            "_model_module_version": "1.5.0",
            "_view_count": null,
            "_view_module_version": "1.2.0",
            "bar_color": null,
            "_model_module": "@jupyter-widgets/controls"
          }
        },
        "fff45cfcda254cc48709dbf2c6ee99c2": {
          "model_module": "@jupyter-widgets/base",
          "model_name": "LayoutModel",
          "state": {
            "_view_name": "LayoutView",
            "grid_template_rows": null,
            "right": null,
            "justify_content": null,
            "_view_module": "@jupyter-widgets/base",
            "overflow": null,
            "_model_module_version": "1.2.0",
            "_view_count": null,
            "flex_flow": null,
            "width": null,
            "min_width": null,
            "border": null,
            "align_items": null,
            "bottom": null,
            "_model_module": "@jupyter-widgets/base",
            "top": null,
            "grid_column": null,
            "overflow_y": null,
            "overflow_x": null,
            "grid_auto_flow": null,
            "grid_area": null,
            "grid_template_columns": null,
            "flex": null,
            "_model_name": "LayoutModel",
            "justify_items": null,
            "grid_row": null,
            "max_height": null,
            "align_content": null,
            "visibility": null,
            "align_self": null,
            "height": null,
            "min_height": null,
            "padding": null,
            "grid_auto_rows": null,
            "grid_gap": null,
            "max_width": null,
            "order": null,
            "_view_module_version": "1.2.0",
            "grid_template_areas": null,
            "object_position": null,
            "object_fit": null,
            "grid_auto_columns": null,
            "margin": null,
            "display": null,
            "left": null
          }
        },
        "432865845c514af0a1e7722396f50c5e": {
          "model_module": "@jupyter-widgets/controls",
          "model_name": "DescriptionStyleModel",
          "state": {
            "_view_name": "StyleView",
            "_model_name": "DescriptionStyleModel",
            "description_width": "",
            "_view_module": "@jupyter-widgets/base",
            "_model_module_version": "1.5.0",
            "_view_count": null,
            "_view_module_version": "1.2.0",
            "_model_module": "@jupyter-widgets/controls"
          }
        },
        "caf04a782449414e9fb7be9bd3bc9436": {
          "model_module": "@jupyter-widgets/base",
          "model_name": "LayoutModel",
          "state": {
            "_view_name": "LayoutView",
            "grid_template_rows": null,
            "right": null,
            "justify_content": null,
            "_view_module": "@jupyter-widgets/base",
            "overflow": null,
            "_model_module_version": "1.2.0",
            "_view_count": null,
            "flex_flow": null,
            "width": null,
            "min_width": null,
            "border": null,
            "align_items": null,
            "bottom": null,
            "_model_module": "@jupyter-widgets/base",
            "top": null,
            "grid_column": null,
            "overflow_y": null,
            "overflow_x": null,
            "grid_auto_flow": null,
            "grid_area": null,
            "grid_template_columns": null,
            "flex": null,
            "_model_name": "LayoutModel",
            "justify_items": null,
            "grid_row": null,
            "max_height": null,
            "align_content": null,
            "visibility": null,
            "align_self": null,
            "height": null,
            "min_height": null,
            "padding": null,
            "grid_auto_rows": null,
            "grid_gap": null,
            "max_width": null,
            "order": null,
            "_view_module_version": "1.2.0",
            "grid_template_areas": null,
            "object_position": null,
            "object_fit": null,
            "grid_auto_columns": null,
            "margin": null,
            "display": null,
            "left": null
          }
        }
      }
    }
  },
  "cells": [
    {
      "cell_type": "code",
      "metadata": {
        "id": "sROqXrjNBZiN"
      },
      "source": [
        "import warnings\n",
        "warnings.filterwarnings(\"ignore\", category=DeprecationWarning)"
      ],
      "execution_count": 85,
      "outputs": []
    },
    {
      "cell_type": "code",
      "metadata": {
        "colab": {
          "base_uri": "https://localhost:8080/"
        },
        "id": "6oVuxD5t0__g",
        "outputId": "16a80ad0-b045-42d9-924d-ac4b3c01d1bc"
      },
      "source": [
        "# Проверяем видео-карту\n",
        "!nvidia-smi"
      ],
      "execution_count": 86,
      "outputs": [
        {
          "output_type": "stream",
          "text": [
            "Sun May  2 21:33:46 2021       \n",
            "+-----------------------------------------------------------------------------+\n",
            "| NVIDIA-SMI 465.19.01    Driver Version: 460.32.03    CUDA Version: 11.2     |\n",
            "|-------------------------------+----------------------+----------------------+\n",
            "| GPU  Name        Persistence-M| Bus-Id        Disp.A | Volatile Uncorr. ECC |\n",
            "| Fan  Temp  Perf  Pwr:Usage/Cap|         Memory-Usage | GPU-Util  Compute M. |\n",
            "|                               |                      |               MIG M. |\n",
            "|===============================+======================+======================|\n",
            "|   0  Tesla V100-SXM2...  Off  | 00000000:00:04.0 Off |                    0 |\n",
            "| N/A   34C    P0    24W / 300W |      0MiB / 16160MiB |      0%      Default |\n",
            "|                               |                      |                  N/A |\n",
            "+-------------------------------+----------------------+----------------------+\n",
            "                                                                               \n",
            "+-----------------------------------------------------------------------------+\n",
            "| Processes:                                                                  |\n",
            "|  GPU   GI   CI        PID   Type   Process name                  GPU Memory |\n",
            "|        ID   ID                                                   Usage      |\n",
            "|=============================================================================|\n",
            "|  No running processes found                                                 |\n",
            "+-----------------------------------------------------------------------------+\n"
          ],
          "name": "stdout"
        }
      ]
    },
    {
      "cell_type": "code",
      "metadata": {
        "colab": {
          "base_uri": "https://localhost:8080/"
        },
        "id": "d9emhcY71P_z",
        "outputId": "40276174-65b4-437b-b9ab-e6e050ddc01d"
      },
      "source": [
        "# Загружаем kaggle \n",
        "!pip install kaggle"
      ],
      "execution_count": 87,
      "outputs": [
        {
          "output_type": "stream",
          "text": [
            "Requirement already satisfied: kaggle in /usr/local/lib/python3.7/dist-packages (1.5.12)\n",
            "Requirement already satisfied: six>=1.10 in /usr/local/lib/python3.7/dist-packages (from kaggle) (1.15.0)\n",
            "Requirement already satisfied: urllib3 in /usr/local/lib/python3.7/dist-packages (from kaggle) (1.24.3)\n",
            "Requirement already satisfied: python-dateutil in /usr/local/lib/python3.7/dist-packages (from kaggle) (2.8.1)\n",
            "Requirement already satisfied: python-slugify in /usr/local/lib/python3.7/dist-packages (from kaggle) (4.0.1)\n",
            "Requirement already satisfied: requests in /usr/local/lib/python3.7/dist-packages (from kaggle) (2.23.0)\n",
            "Requirement already satisfied: tqdm in /usr/local/lib/python3.7/dist-packages (from kaggle) (4.41.1)\n",
            "Requirement already satisfied: certifi in /usr/local/lib/python3.7/dist-packages (from kaggle) (2020.12.5)\n",
            "Requirement already satisfied: text-unidecode>=1.3 in /usr/local/lib/python3.7/dist-packages (from python-slugify->kaggle) (1.3)\n",
            "Requirement already satisfied: chardet<4,>=3.0.2 in /usr/local/lib/python3.7/dist-packages (from requests->kaggle) (3.0.4)\n",
            "Requirement already satisfied: idna<3,>=2.5 in /usr/local/lib/python3.7/dist-packages (from requests->kaggle) (2.10)\n"
          ],
          "name": "stdout"
        }
      ]
    },
    {
      "cell_type": "code",
      "metadata": {
        "colab": {
          "resources": {
            "http://localhost:8080/nbextensions/google.colab/files.js": {
              "data": "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",
              "ok": true,
              "headers": [
                [
                  "content-type",
                  "application/javascript"
                ]
              ],
              "status": 200,
              "status_text": ""
            }
          },
          "base_uri": "https://localhost:8080/",
          "height": 76
        },
        "id": "rm0NxrQb1QCk",
        "outputId": "79d06fe7-ecfd-4e9c-fb96-bb67e60c3bcd"
      },
      "source": [
        "# Подключаем диск и загружаем json \n",
        "from google.colab import files\n",
        "files.upload()\n",
        "\n",
        "from google.colab import drive\n",
        "drive.mount('/content/drive')"
      ],
      "execution_count": 88,
      "outputs": [
        {
          "output_type": "display_data",
          "data": {
            "text/html": [
              "\n",
              "     <input type=\"file\" id=\"files-08a04254-4981-481f-b162-b275031bb5c9\" name=\"files[]\" multiple disabled\n",
              "        style=\"border:none\" />\n",
              "     <output id=\"result-08a04254-4981-481f-b162-b275031bb5c9\">\n",
              "      Upload widget is only available when the cell has been executed in the\n",
              "      current browser session. Please rerun this cell to enable.\n",
              "      </output>\n",
              "      <script src=\"/nbextensions/google.colab/files.js\"></script> "
            ],
            "text/plain": [
              "<IPython.core.display.HTML object>"
            ]
          },
          "metadata": {
            "tags": []
          }
        },
        {
          "output_type": "stream",
          "text": [
            "Drive already mounted at /content/drive; to attempt to forcibly remount, call drive.mount(\"/content/drive\", force_remount=True).\n"
          ],
          "name": "stdout"
        }
      ]
    },
    {
      "cell_type": "code",
      "metadata": {
        "id": "FyrJbwOT1QFc"
      },
      "source": [
        "# Прописываем директории для данных \n",
        "!mkdir -p ~/.kaggle\n",
        "!cp kaggle.json ~/.kaggle/\n",
        "!chmod 600 ~/.kaggle/kaggle.json"
      ],
      "execution_count": 89,
      "outputs": []
    },
    {
      "cell_type": "code",
      "metadata": {
        "colab": {
          "base_uri": "https://localhost:8080/"
        },
        "id": "SIltiq4X1QIY",
        "outputId": "660b4e2f-7eac-46a5-e7a7-e17ac304d12c"
      },
      "source": [
        "# Загружаем данные с kaggle\n",
        "!kaggle competitions download -c mts-ml-summer-school"
      ],
      "execution_count": 90,
      "outputs": [
        {
          "output_type": "stream",
          "text": [
            "Warning: Looks like you're using an outdated API Version, please consider updating (server 1.5.12 / client 1.5.4)\n",
            "users.csv.zip: Skipping, found more recently modified local copy (use --force to force download)\n",
            "items.csv.zip: Skipping, found more recently modified local copy (use --force to force download)\n",
            "sample_submission.csv: Skipping, found more recently modified local copy (use --force to force download)\n",
            "interactions.csv.zip: Skipping, found more recently modified local copy (use --force to force download)\n"
          ],
          "name": "stdout"
        }
      ]
    },
    {
      "cell_type": "code",
      "metadata": {
        "colab": {
          "base_uri": "https://localhost:8080/"
        },
        "id": "6L1qUt9F2QMB",
        "outputId": "14ea0291-86df-4cba-f9d4-6e63bb9fc023"
      },
      "source": [
        "# Проверяем директорию с данными\n",
        "!ls"
      ],
      "execution_count": 91,
      "outputs": [
        {
          "output_type": "stream",
          "text": [
            "date   interactions.csv.zip  kaggle.json  sample_submission.csv\n",
            "drive  items.csv.zip\t     sample_data  users.csv.zip\n"
          ],
          "name": "stdout"
        }
      ]
    },
    {
      "cell_type": "markdown",
      "metadata": {
        "id": "kP6kHnW0r9br"
      },
      "source": [
        "# Loading Data \n",
        "Предоставлены данные из приложения МТС Библиотека по взаимодействиям пользователей с книгами за 2 года.\n",
        "\n",
        "В отдельных файлах есть:\n",
        "\n",
        "- факты чтения книг пользователями\n",
        "- описание книг\n",
        "- описание пользователей"
      ]
    },
    {
      "cell_type": "code",
      "metadata": {
        "id": "DzI28rug2Nmi"
      },
      "source": [
        "# Проверяем наличие папки sound. Если есть, удаляем ее\n",
        "!rm -R /content/date"
      ],
      "execution_count": 92,
      "outputs": []
    },
    {
      "cell_type": "code",
      "metadata": {
        "id": "SEh8FdrY2C2u"
      },
      "source": [
        "# Извлекаем данные\n",
        "!unzip -q '/content/interactions.csv.zip' -d '/content/date'\n",
        "!unzip -q '/content/items.csv.zip' -d '/content/date'\n",
        "!unzip -q '/content/users.csv.zip' -d '/content/date'"
      ],
      "execution_count": 93,
      "outputs": []
    },
    {
      "cell_type": "code",
      "metadata": {
        "id": "THcCzv8gqSry"
      },
      "source": [
        "# Функция для построения гистограммы\n",
        "def get_plot_col_distribution(df, num_show, num_row):\n",
        "  nunique = df.nunique()\n",
        "  df = df[[col for col in df if nunique[col] > 1 and nunique[col] < 50]]\n",
        "  n_row, n_col = df.shape\n",
        "  col_names = list(df)\n",
        "  n_graph_row = (n_col + num_row - 1) / num_row\n",
        "  plt.figure(num = None, figsize = (6 * num_row, 8 * n_graph_row), dpi = 80, \n",
        "             facecolor = 'w', edgecolor = 'k')\n",
        "  for i in range(min(n_col, num_show)):\n",
        "    plt.subplot(n_graph_row, num_row, i + 1)\n",
        "    col_df = df.iloc[:, i]\n",
        "    if (not np.issubdtype(type(col_df.iloc[0]), np.number)):\n",
        "      value_count = col_df.value_counts()\n",
        "      value_count.plot.bar()\n",
        "    else:\n",
        "      col_df.hist()\n",
        "    plt.ylabel('counts')\n",
        "    plt.xticks(rotation = 90)\n",
        "    plt.title(f'{col_names[i]} (column {i})')\n",
        "  plt.tight_layout(pad = 1.0, w_pad = 1.0, h_pad = 1.0)\n",
        "  plt.show()\n",
        "\n",
        "\n",
        "# Функция для построения корреляционной матрицы\n",
        "def get_plot_corr_matrix(df, num_width):\n",
        "  fn = df.dataframeName\n",
        "  df = df.dropna('columns')\n",
        "  df = df[[col for col in df if df[col].nunique() > 1]]\n",
        "  if df.shape[1] < 2:\n",
        "    print(f'Отсутствует корреляция ({df.shape[1]}) меньше чем 2!')\n",
        "    return\n",
        "  corr = df.corr()\n",
        "  plt.figure(num = None, figsize = (num_width, num_width), dpi = 80, \n",
        "             facecolor = 'w', edgecolor = 'k')\n",
        "  corr_matrix = plt.matshow(corr, fignum = 1)\n",
        "  plt.xticks(range(len(corr.columns)), corr.columns, rotation = 90)\n",
        "  plt.yticks(range(len(corr.columns)), corr.columns)\n",
        "  plt.gca().xaxis.tick_bottom()\n",
        "  plt.colorbar(corr_matrix)\n",
        "  plt.title(f'Матрица Корреляции:\\n{fn}', fontsize = 15)\n",
        "  plt.show()\n",
        "\n",
        "\n",
        "# Функция для построения точечной диаграммы\n",
        "def get_plot_scatter(df, plot_size, text_size):\n",
        "  df = df.select_dtypes(include=[np.number])\n",
        "  df = df.dropna('columns')\n",
        "  df = df[[col for col in df if df[col].nunique() > 1]]\n",
        "  col_names = list(df)\n",
        "  if len(col_names) > 10:\n",
        "    col_names = col_names[:10]\n",
        "  df = df[col_names]\n",
        "  ax = pd.plotting.scatter_matrix(df, alpha = 0.75, \n",
        "                                  figsize = [plot_size, plot_size], diagonal = 'kde')\n",
        "  corrs = df.corr().values\n",
        "  for i, j in zip(*plt.np.triu_indices_from(ax, k = 1)):\n",
        "    ax[i, j].annotate('Corr. coef = %.3f' % corrs[i, j], (0.8, 0.2), \n",
        "                      xycoords='axes fraction', ha='center', va='center', size = text_size)\n",
        "  plt.suptitle('Точечная диаграмма')\n",
        "  plt.show()\n",
        "\n",
        "\n",
        "# Функция для записи в .csv\n",
        "def get_to_csv(df, fn):\n",
        "  pred = []\n",
        "  ids = []\n",
        "  for id, rec in tqdm(df.groupby('user_id')):\n",
        "    ids += [id]\n",
        "    pred += [' '.join(map(str, rec['item_id'].values[0]))]\n",
        "  my_submission = pd.DataFrame({'Id': ids, 'Predicted': pred})\n",
        "  sub = pd.read_csv('/content/sample_submission.csv')\n",
        "  my_submission = sub['Id'].to_frame().merge(my_submission, on = 'Id', how = 'left')\n",
        "  my_submission.to_csv(fn, index = False)\n",
        "  return my_submission\n",
        "\n",
        "\n",
        "# Функция для оценки системы\n",
        "def get_score(rec_df, train_data, num = 10, print_met=False):\n",
        "  pred_rec = rec_df.explode('item_id')\n",
        "  pred_rec['rank'] = pred_rec.groupby('user_id').cumcount() + 1\n",
        "  pred_rec = train_data.set_index(['user_id', 'item_id']).join(\n",
        "      pred_rec.set_index(['user_id', 'item_id']))\n",
        "  pred_rec = pred_rec.sort_values(by=['user_id', 'rating'])\n",
        "  pred_rec['user_all_book'] = tqdm(pred_rec.groupby(level = 'user_id', \n",
        "                                                    sort = False)['rank'].transform(np.size))\n",
        "  pred_rec['reciprocal_rank'] = 1 / pred_rec['rank']\n",
        "  pred_rec['reciprocal_rank'] = pred_rec['reciprocal_rank'].fillna(0)\n",
        "  pred_rec['cumulative_rank'] = pred_rec.groupby(level='user_id').cumcount() + 1\n",
        "  pred_rec['cumulative_rank'] = pred_rec['cumulative_rank'] / pred_rec['rank']\n",
        "\n",
        "  metrics = {f'MAPE: {num}': [], f'MRR': []}\n",
        "  users_count = pred_rec.index.get_level_values('user_id').nunique()\n",
        "  for i in range(1, num + 1):\n",
        "    best_i = f'hit: {i}'\n",
        "    pred_rec[best_i] = pred_rec['rank'] <= i\n",
        "    if print_met:\n",
        "      print(f'Precission: {i} = {(pred_rec[best_i] / i).sum() / users_count:.2f}')\n",
        "      print(f'Recall: {i} = {(pred_rec[best_i] / pred_rec[\"user_all_book\"]).sum() / users_count:.2f}')\n",
        "\n",
        "  MAPE = (pred_rec['cumulative_rank'] / pred_rec['user_all_book']).sum() / users_count\n",
        "  metrics[f'MAPE: {num}'] += [MAPE]\n",
        "  MRR = pred_rec.groupby(level='user_id')['reciprocal_rank'].max().mean()\n",
        "  metrics['MRR'] += [MRR]\n",
        "  if print_met:\n",
        "    print(f'MAPE: {num} = {round(MAPE, 2)}')\n",
        "    print(f'MRR = {round(mrr, 2)}')\n",
        "\n",
        "  return metrics"
      ],
      "execution_count": 165,
      "outputs": []
    },
    {
      "cell_type": "code",
      "metadata": {
        "id": "A1IuvWdH2-tV"
      },
      "source": [
        "import pandas as pd\n",
        "import numpy as np\n",
        "pd.set_option('display.max_colwidth', None)\n",
        "\n",
        "from more_itertools import pairwise\n",
        "from tqdm.auto import tqdm\n",
        "import scipy.sparse as sp\n",
        "from itertools import islice, cycle\n",
        "import matplotlib.pyplot as plt\n",
        "import seaborn as sns\n",
        "sns.set()"
      ],
      "execution_count": 95,
      "outputs": []
    },
    {
      "cell_type": "code",
      "metadata": {
        "id": "v3w4TENf2-wK"
      },
      "source": [
        "# Загрузим данные из csv\n",
        "PATH = '/content/date/'\n",
        "\n",
        "users_df = pd.read_csv(PATH + 'users.csv')\n",
        "users_df.dataframeName = 'users.csv'\n",
        "\n",
        "items_df = pd.read_csv(PATH + 'items.csv')\n",
        "items_df.dataframeName = 'items.csv'\n",
        "\n",
        "interactions_df = pd.read_csv(PATH + 'interactions.csv')\n",
        "interactions_df.dataframeName = 'interactions.csv'"
      ],
      "execution_count": 96,
      "outputs": []
    },
    {
      "cell_type": "code",
      "metadata": {
        "colab": {
          "base_uri": "https://localhost:8080/",
          "height": 623
        },
        "id": "_awHXjjZ4oHF",
        "outputId": "fe7b64d5-9087-4dd9-b13a-4749da8937cc"
      },
      "source": [
        "# Выведем df c фактами чтения книг пользователями и инфу о df\n",
        "display(interactions_df)\n",
        "interactions_df.info()"
      ],
      "execution_count": 97,
      "outputs": [
        {
          "output_type": "display_data",
          "data": {
            "text/html": [
              "<div>\n",
              "<style scoped>\n",
              "    .dataframe tbody tr th:only-of-type {\n",
              "        vertical-align: middle;\n",
              "    }\n",
              "\n",
              "    .dataframe tbody tr th {\n",
              "        vertical-align: top;\n",
              "    }\n",
              "\n",
              "    .dataframe thead th {\n",
              "        text-align: right;\n",
              "    }\n",
              "</style>\n",
              "<table border=\"1\" class=\"dataframe\">\n",
              "  <thead>\n",
              "    <tr style=\"text-align: right;\">\n",
              "      <th></th>\n",
              "      <th>user_id</th>\n",
              "      <th>item_id</th>\n",
              "      <th>progress</th>\n",
              "      <th>rating</th>\n",
              "      <th>start_date</th>\n",
              "    </tr>\n",
              "  </thead>\n",
              "  <tbody>\n",
              "    <tr>\n",
              "      <th>0</th>\n",
              "      <td>90133</td>\n",
              "      <td>82910</td>\n",
              "      <td>100</td>\n",
              "      <td>NaN</td>\n",
              "      <td>2018-01-01</td>\n",
              "    </tr>\n",
              "    <tr>\n",
              "      <th>1</th>\n",
              "      <td>159130</td>\n",
              "      <td>331068</td>\n",
              "      <td>70</td>\n",
              "      <td>NaN</td>\n",
              "      <td>2018-01-01</td>\n",
              "    </tr>\n",
              "    <tr>\n",
              "      <th>2</th>\n",
              "      <td>80061</td>\n",
              "      <td>26540</td>\n",
              "      <td>69</td>\n",
              "      <td>4.0</td>\n",
              "      <td>2018-01-01</td>\n",
              "    </tr>\n",
              "    <tr>\n",
              "      <th>3</th>\n",
              "      <td>12811</td>\n",
              "      <td>301895</td>\n",
              "      <td>16</td>\n",
              "      <td>NaN</td>\n",
              "      <td>2018-01-01</td>\n",
              "    </tr>\n",
              "    <tr>\n",
              "      <th>4</th>\n",
              "      <td>5778</td>\n",
              "      <td>127872</td>\n",
              "      <td>100</td>\n",
              "      <td>NaN</td>\n",
              "      <td>2018-01-01</td>\n",
              "    </tr>\n",
              "    <tr>\n",
              "      <th>...</th>\n",
              "      <td>...</td>\n",
              "      <td>...</td>\n",
              "      <td>...</td>\n",
              "      <td>...</td>\n",
              "      <td>...</td>\n",
              "    </tr>\n",
              "    <tr>\n",
              "      <th>1562612</th>\n",
              "      <td>978</td>\n",
              "      <td>321492</td>\n",
              "      <td>50</td>\n",
              "      <td>NaN</td>\n",
              "      <td>2019-12-31</td>\n",
              "    </tr>\n",
              "    <tr>\n",
              "      <th>1562613</th>\n",
              "      <td>165713</td>\n",
              "      <td>325032</td>\n",
              "      <td>9</td>\n",
              "      <td>NaN</td>\n",
              "      <td>2019-12-31</td>\n",
              "    </tr>\n",
              "    <tr>\n",
              "      <th>1562614</th>\n",
              "      <td>43983</td>\n",
              "      <td>96797</td>\n",
              "      <td>100</td>\n",
              "      <td>5.0</td>\n",
              "      <td>2019-12-31</td>\n",
              "    </tr>\n",
              "    <tr>\n",
              "      <th>1562615</th>\n",
              "      <td>63445</td>\n",
              "      <td>157812</td>\n",
              "      <td>5</td>\n",
              "      <td>0.0</td>\n",
              "      <td>2019-12-31</td>\n",
              "    </tr>\n",
              "    <tr>\n",
              "      <th>1562616</th>\n",
              "      <td>104572</td>\n",
              "      <td>242176</td>\n",
              "      <td>1</td>\n",
              "      <td>0.0</td>\n",
              "      <td>2019-12-31</td>\n",
              "    </tr>\n",
              "  </tbody>\n",
              "</table>\n",
              "<p>1562617 rows × 5 columns</p>\n",
              "</div>"
            ],
            "text/plain": [
              "         user_id  item_id  progress  rating  start_date\n",
              "0          90133    82910       100     NaN  2018-01-01\n",
              "1         159130   331068        70     NaN  2018-01-01\n",
              "2          80061    26540        69     4.0  2018-01-01\n",
              "3          12811   301895        16     NaN  2018-01-01\n",
              "4           5778   127872       100     NaN  2018-01-01\n",
              "...          ...      ...       ...     ...         ...\n",
              "1562612      978   321492        50     NaN  2019-12-31\n",
              "1562613   165713   325032         9     NaN  2019-12-31\n",
              "1562614    43983    96797       100     5.0  2019-12-31\n",
              "1562615    63445   157812         5     0.0  2019-12-31\n",
              "1562616   104572   242176         1     0.0  2019-12-31\n",
              "\n",
              "[1562617 rows x 5 columns]"
            ]
          },
          "metadata": {
            "tags": []
          }
        },
        {
          "output_type": "stream",
          "text": [
            "<class 'pandas.core.frame.DataFrame'>\n",
            "RangeIndex: 1562617 entries, 0 to 1562616\n",
            "Data columns (total 5 columns):\n",
            " #   Column      Non-Null Count    Dtype  \n",
            "---  ------      --------------    -----  \n",
            " 0   user_id     1562617 non-null  int64  \n",
            " 1   item_id     1562617 non-null  int64  \n",
            " 2   progress    1562617 non-null  int64  \n",
            " 3   rating      323571 non-null   float64\n",
            " 4   start_date  1562617 non-null  object \n",
            "dtypes: float64(1), int64(3), object(1)\n",
            "memory usage: 59.6+ MB\n"
          ],
          "name": "stdout"
        }
      ]
    },
    {
      "cell_type": "code",
      "metadata": {
        "colab": {
          "base_uri": "https://localhost:8080/",
          "height": 554
        },
        "id": "e427fRKf2qWK",
        "outputId": "04792673-b23f-4da2-80dd-5c653dd4998a"
      },
      "source": [
        "get_plot_corr_matrix(interactions_df, 8)"
      ],
      "execution_count": 98,
      "outputs": [
        {
          "output_type": "display_data",
          "data": {
            "image/png": "[encoded data removed]",
            "text/plain": [
              "<Figure size 640x640 with 2 Axes>"
            ]
          },
          "metadata": {
            "tags": []
          }
        }
      ]
    },
    {
      "cell_type": "code",
      "metadata": {
        "colab": {
          "base_uri": "https://localhost:8080/"
        },
        "id": "UXcUnBA65Y2C",
        "outputId": "6ef93093-50a7-4199-a386-7fec96ce34ba"
      },
      "source": [
        "# Преобразуем object в datetime\n",
        "interactions_df['start_date'] = pd.to_datetime(interactions_df['start_date'])\n",
        "interactions_df.info()"
      ],
      "execution_count": 99,
      "outputs": [
        {
          "output_type": "stream",
          "text": [
            "<class 'pandas.core.frame.DataFrame'>\n",
            "RangeIndex: 1562617 entries, 0 to 1562616\n",
            "Data columns (total 5 columns):\n",
            " #   Column      Non-Null Count    Dtype         \n",
            "---  ------      --------------    -----         \n",
            " 0   user_id     1562617 non-null  int64         \n",
            " 1   item_id     1562617 non-null  int64         \n",
            " 2   progress    1562617 non-null  int64         \n",
            " 3   rating      323571 non-null   float64       \n",
            " 4   start_date  1562617 non-null  datetime64[ns]\n",
            "dtypes: datetime64[ns](1), float64(1), int64(3)\n",
            "memory usage: 59.6 MB\n"
          ],
          "name": "stdout"
        }
      ]
    },
    {
      "cell_type": "code",
      "metadata": {
        "colab": {
          "base_uri": "https://localhost:8080/"
        },
        "id": "YDtTxi346UbL",
        "outputId": "37d1fdfb-86f6-492f-99d1-a85ede4d3d5f"
      },
      "source": [
        "# Проверим на дубликаты\n",
        "dublicates = interactions_df.duplicated(subset=['user_id', 'item_id'], keep=False)\n",
        "print(f'Количество дублирующихся значений: {dublicates.sum()}')"
      ],
      "execution_count": 100,
      "outputs": [
        {
          "output_type": "stream",
          "text": [
            "Количество дублирующихся значений: 224\n"
          ],
          "name": "stdout"
        }
      ]
    },
    {
      "cell_type": "code",
      "metadata": {
        "colab": {
          "base_uri": "https://localhost:8080/"
        },
        "id": "euccEzPq75B-",
        "outputId": "b2015036-855b-4e20-df31-a854acda99c4"
      },
      "source": [
        "# Сортируем и оставляем уникальные значения\n",
        "dublicates_df = interactions_df[dublicates].sort_values(by=['user_id', 'start_date'])\n",
        "interactions_df = interactions_df[~dublicates]\n",
        "\n",
        "# Добавим инфу в дубликатах\n",
        "dublicates_df = dublicates_df.groupby(['user_id', 'item_id']).agg({\n",
        "    'progress': 'max',\n",
        "    'rating': 'max',\n",
        "    'start_date': 'min'})\n",
        "interactions_df = interactions_df.append(dublicates_df.reset_index(), ignore_index=True)\n",
        "\n",
        "# Укажем тип данных в df\n",
        "interactions_df['progress'] = interactions_df['progress'].astype(np.int8)\n",
        "interactions_df['rating'] = interactions_df['rating'].astype(pd.SparseDtype(np.float32, np.nan))\n",
        "interactions_df.info()"
      ],
      "execution_count": 101,
      "outputs": [
        {
          "output_type": "stream",
          "text": [
            "<class 'pandas.core.frame.DataFrame'>\n",
            "RangeIndex: 1562505 entries, 0 to 1562504\n",
            "Data columns (total 5 columns):\n",
            " #   Column      Non-Null Count    Dtype               \n",
            "---  ------      --------------    -----               \n",
            " 0   user_id     1562505 non-null  int64               \n",
            " 1   item_id     1562505 non-null  int64               \n",
            " 2   progress    1562505 non-null  int8                \n",
            " 3   rating      323563 non-null   Sparse[float32, nan]\n",
            " 4   start_date  1562505 non-null  datetime64[ns]      \n",
            "dtypes: Sparse[float32, nan](1), datetime64[ns](1), int64(2), int8(1)\n",
            "memory usage: 39.7 MB\n"
          ],
          "name": "stdout"
        }
      ]
    },
    {
      "cell_type": "code",
      "metadata": {
        "colab": {
          "base_uri": "https://localhost:8080/",
          "height": 866
        },
        "id": "W2HpYqnY4oPb",
        "outputId": "f44ec935-7601-4395-8686-92fe6b13a503"
      },
      "source": [
        "# Выведем описание книг и информацию о df\n",
        "display(items_df)\n",
        "items_df.info(memory_usage='full')"
      ],
      "execution_count": 102,
      "outputs": [
        {
          "output_type": "display_data",
          "data": {
            "text/html": [
              "<div>\n",
              "<style scoped>\n",
              "    .dataframe tbody tr th:only-of-type {\n",
              "        vertical-align: middle;\n",
              "    }\n",
              "\n",
              "    .dataframe tbody tr th {\n",
              "        vertical-align: top;\n",
              "    }\n",
              "\n",
              "    .dataframe thead th {\n",
              "        text-align: right;\n",
              "    }\n",
              "</style>\n",
              "<table border=\"1\" class=\"dataframe\">\n",
              "  <thead>\n",
              "    <tr style=\"text-align: right;\">\n",
              "      <th></th>\n",
              "      <th>id</th>\n",
              "      <th>title</th>\n",
              "      <th>genres</th>\n",
              "      <th>authors</th>\n",
              "      <th>year</th>\n",
              "    </tr>\n",
              "  </thead>\n",
              "  <tbody>\n",
              "    <tr>\n",
              "      <th>0</th>\n",
              "      <td>248031</td>\n",
              "      <td>Ворон-челобитчик</td>\n",
              "      <td>Зарубежные детские книги,Сказки,Зарубежная классика,Литература 19 века,Русская классика</td>\n",
              "      <td>Михаил Салтыков-Щедрин</td>\n",
              "      <td>1886</td>\n",
              "    </tr>\n",
              "    <tr>\n",
              "      <th>1</th>\n",
              "      <td>256084</td>\n",
              "      <td>Скрипка Ротшильда</td>\n",
              "      <td>Классическая проза,Литература 19 века,Русская классика</td>\n",
              "      <td>Антон Чехов</td>\n",
              "      <td>1894</td>\n",
              "    </tr>\n",
              "    <tr>\n",
              "      <th>2</th>\n",
              "      <td>134166</td>\n",
              "      <td>Испорченные дети</td>\n",
              "      <td>Зарубежная классика,Классическая проза,Литература 19 века,Русская классика</td>\n",
              "      <td>Михаил Салтыков-Щедрин</td>\n",
              "      <td>1869</td>\n",
              "    </tr>\n",
              "    <tr>\n",
              "      <th>3</th>\n",
              "      <td>281311</td>\n",
              "      <td>Странный человек</td>\n",
              "      <td>Пьесы и драматургия,Литература 19 века</td>\n",
              "      <td>Михаил Лермонтов</td>\n",
              "      <td>1831</td>\n",
              "    </tr>\n",
              "    <tr>\n",
              "      <th>4</th>\n",
              "      <td>213473</td>\n",
              "      <td>Господа ташкентцы</td>\n",
              "      <td>Зарубежная классика,Классическая проза,Литература 19 века,Русская классика</td>\n",
              "      <td>Михаил Салтыков-Щедрин</td>\n",
              "      <td>1873</td>\n",
              "    </tr>\n",
              "    <tr>\n",
              "      <th>...</th>\n",
              "      <td>...</td>\n",
              "      <td>...</td>\n",
              "      <td>...</td>\n",
              "      <td>...</td>\n",
              "      <td>...</td>\n",
              "    </tr>\n",
              "    <tr>\n",
              "      <th>63753</th>\n",
              "      <td>143203</td>\n",
              "      <td>Игрушка палача</td>\n",
              "      <td>Эротические романы,Любовно-фантастические романы,Остросюжетные любовные романы</td>\n",
              "      <td>Эрика Адамс</td>\n",
              "      <td>2019</td>\n",
              "    </tr>\n",
              "    <tr>\n",
              "      <th>63754</th>\n",
              "      <td>27324</td>\n",
              "      <td>Любовь под развесистой клюквой</td>\n",
              "      <td>Современные любовные романы</td>\n",
              "      <td>Маргарита Южина</td>\n",
              "      <td>NaN</td>\n",
              "    </tr>\n",
              "    <tr>\n",
              "      <th>63755</th>\n",
              "      <td>359711</td>\n",
              "      <td>Куда уходят грешницы, или Гробница Наполеона</td>\n",
              "      <td>Современные детективы</td>\n",
              "      <td>Наталья Андреева</td>\n",
              "      <td>NaN</td>\n",
              "    </tr>\n",
              "    <tr>\n",
              "      <th>63756</th>\n",
              "      <td>283955</td>\n",
              "      <td>Сварить медведя</td>\n",
              "      <td>Зарубежные детективы,Исторические детективы,Зарубежные приключения,Исторические приключения</td>\n",
              "      <td>Микаель Ниеми</td>\n",
              "      <td>2017</td>\n",
              "    </tr>\n",
              "    <tr>\n",
              "      <th>63757</th>\n",
              "      <td>256666</td>\n",
              "      <td>Подарок моей мечты</td>\n",
              "      <td>Любовное фэнтези</td>\n",
              "      <td>Елизавета Соболянская</td>\n",
              "      <td>2019</td>\n",
              "    </tr>\n",
              "  </tbody>\n",
              "</table>\n",
              "<p>63758 rows × 5 columns</p>\n",
              "</div>"
            ],
            "text/plain": [
              "           id  ...  year\n",
              "0      248031  ...  1886\n",
              "1      256084  ...  1894\n",
              "2      134166  ...  1869\n",
              "3      281311  ...  1831\n",
              "4      213473  ...  1873\n",
              "...       ...  ...   ...\n",
              "63753  143203  ...  2019\n",
              "63754   27324  ...   NaN\n",
              "63755  359711  ...   NaN\n",
              "63756  283955  ...  2017\n",
              "63757  256666  ...  2019\n",
              "\n",
              "[63758 rows x 5 columns]"
            ]
          },
          "metadata": {
            "tags": []
          }
        },
        {
          "output_type": "stream",
          "text": [
            "<class 'pandas.core.frame.DataFrame'>\n",
            "RangeIndex: 63758 entries, 0 to 63757\n",
            "Data columns (total 5 columns):\n",
            " #   Column   Non-Null Count  Dtype \n",
            "---  ------   --------------  ----- \n",
            " 0   id       63758 non-null  int64 \n",
            " 1   title    63758 non-null  object\n",
            " 2   genres   63753 non-null  object\n",
            " 3   authors  56700 non-null  object\n",
            " 4   year     49508 non-null  object\n",
            "dtypes: int64(1), object(4)\n",
            "memory usage: 2.4+ MB\n"
          ],
          "name": "stdout"
        }
      ]
    },
    {
      "cell_type": "code",
      "metadata": {
        "colab": {
          "base_uri": "https://localhost:8080/",
          "height": 548
        },
        "id": "gtNmmw5Y6-Mb",
        "outputId": "47b3a8ed-27da-4395-a57f-215d660ad366"
      },
      "source": [
        "get_plot_corr_matrix(items_df, 8)"
      ],
      "execution_count": 103,
      "outputs": [
        {
          "output_type": "display_data",
          "data": {
            "image/png": "[encoded data removed]",
            "text/plain": [
              "<Figure size 640x640 with 2 Axes>"
            ]
          },
          "metadata": {
            "tags": []
          }
        }
      ]
    },
    {
      "cell_type": "code",
      "metadata": {
        "colab": {
          "base_uri": "https://localhost:8080/",
          "height": 457
        },
        "id": "mCdVCYFK7XvM",
        "outputId": "83d09893-241d-4e3f-9f11-041925a79f5e"
      },
      "source": [
        "get_plot_scatter(users_df, 6, 15)"
      ],
      "execution_count": 104,
      "outputs": [
        {
          "output_type": "display_data",
          "data": {
            "image/png": "[encoded data removed]",
            "text/plain": [
              "<Figure size 432x432 with 1 Axes>"
            ]
          },
          "metadata": {
            "tags": []
          }
        }
      ]
    },
    {
      "cell_type": "code",
      "metadata": {
        "colab": {
          "base_uri": "https://localhost:8080/",
          "height": 35
        },
        "id": "TQOXO-7quNsY",
        "outputId": "5114a46c-ffc6-4bef-b3bb-86814d6de845"
      },
      "source": [
        "# Функция для форматирования данных\n",
        "def get_bytes_format(num, float_prec=4):\n",
        "  units = ['bytes', 'Kb', 'Mb', 'Gb', 'Tb', 'Pb', 'Eb']\n",
        "  for unit in units[:-1]:\n",
        "    if abs(num) < 1000:\n",
        "      return f'{num:.{float_prec}f} {unit}'\n",
        "    num /= 1000\n",
        "  return f'{num:.4f} {units[-1]}'\n",
        "\n",
        "num = items_df.memory_usage(deep=True).sum()\n",
        "get_bytes_format(num)"
      ],
      "execution_count": 105,
      "outputs": [
        {
          "output_type": "execute_result",
          "data": {
            "application/vnd.google.colaboratory.intrinsic+json": {
              "type": "string"
            },
            "text/plain": [
              "'33.5358 Mb'"
            ]
          },
          "metadata": {
            "tags": []
          },
          "execution_count": 105
        }
      ]
    },
    {
      "cell_type": "code",
      "metadata": {
        "colab": {
          "base_uri": "https://localhost:8080/"
        },
        "id": "_-BcHB4QuNvV",
        "outputId": "f53c9366-92e7-4b52-9304-78d53c04a21f"
      },
      "source": [
        "# Подсчитаем уникальные значения\n",
        "items_df.nunique()"
      ],
      "execution_count": 106,
      "outputs": [
        {
          "output_type": "execute_result",
          "data": {
            "text/plain": [
              "id         63758\n",
              "title      58093\n",
              "genres     11091\n",
              "authors    17024\n",
              "year        1074\n",
              "dtype: int64"
            ]
          },
          "metadata": {
            "tags": []
          },
          "execution_count": 106
        }
      ]
    },
    {
      "cell_type": "code",
      "metadata": {
        "colab": {
          "base_uri": "https://localhost:8080/"
        },
        "id": "okKaL4q31oOG",
        "outputId": "a3c6d121-72a5-4507-9131-da59694c1727"
      },
      "source": [
        "# Изменим тип данных\n",
        "for col in ['genres', 'authors', 'year']:\n",
        "  items_df[col] = items_df[col].astype('category')\n",
        "\n",
        "items_df.info(memory_usage='full')"
      ],
      "execution_count": 107,
      "outputs": [
        {
          "output_type": "stream",
          "text": [
            "<class 'pandas.core.frame.DataFrame'>\n",
            "RangeIndex: 63758 entries, 0 to 63757\n",
            "Data columns (total 5 columns):\n",
            " #   Column   Non-Null Count  Dtype   \n",
            "---  ------   --------------  -----   \n",
            " 0   id       63758 non-null  int64   \n",
            " 1   title    63758 non-null  object  \n",
            " 2   genres   63753 non-null  category\n",
            " 3   authors  56700 non-null  category\n",
            " 4   year     49508 non-null  category\n",
            "dtypes: category(3), int64(1), object(1)\n",
            "memory usage: 2.5+ MB\n"
          ],
          "name": "stdout"
        }
      ]
    },
    {
      "cell_type": "code",
      "metadata": {
        "colab": {
          "base_uri": "https://localhost:8080/",
          "height": 35
        },
        "id": "XuEmY8ok3Xgr",
        "outputId": "971251dc-ad77-4a38-b534-39579b9efbce"
      },
      "source": [
        "num = items_df.memory_usage(deep=True).sum()\n",
        "get_bytes_format(num)"
      ],
      "execution_count": 108,
      "outputs": [
        {
          "output_type": "execute_result",
          "data": {
            "application/vnd.google.colaboratory.intrinsic+json": {
              "type": "string"
            },
            "text/plain": [
              "'18.6994 Mb'"
            ]
          },
          "metadata": {
            "tags": []
          },
          "execution_count": 108
        }
      ]
    },
    {
      "cell_type": "code",
      "metadata": {
        "colab": {
          "base_uri": "https://localhost:8080/"
        },
        "id": "jB51FqAt3YEi",
        "outputId": "00483dc4-5d61-4ae3-e5cf-2b80fa3acc48"
      },
      "source": [
        "# Посмотрим взаимодействия книг\n",
        "interactions_items = interactions_df['item_id'].unique()\n",
        "\n",
        "items = len(np.intersect1d(interactions_items, items_df['id']))\n",
        "items_interaction = len(np.setdiff1d(interactions_items, items_df['id']))\n",
        "items_features = len(np.setdiff1d(items_df['id'], interactions_items))\n",
        "total_items = items + items_interaction + items_features\n",
        "\n",
        "print(f'Количество книг: {total_items}')\n",
        "print(f'Количество книг с взаимодействиями и фичами: {items} ({items / total_items * 100:.2f}%)')\n",
        "print(f'Количество книг только с взаимодействиями: {items_interaction} ({items_interaction / total_items * 100:.2f}%)')\n",
        "print(f'Количество книг с фичами: {items_features} ({items_features / total_items * 100:.2f}%)')"
      ],
      "execution_count": 109,
      "outputs": [
        {
          "output_type": "stream",
          "text": [
            "Количество книг: 63758\n",
            "Количество книг с взаимодействиями и фичами: 63758 (100.00%)\n",
            "Количество книг только с взаимодействиями: 0 (0.00%)\n",
            "Количество книг с фичами: 0 (0.00%)\n"
          ],
          "name": "stdout"
        }
      ]
    },
    {
      "cell_type": "code",
      "metadata": {
        "colab": {
          "base_uri": "https://localhost:8080/",
          "height": 589
        },
        "id": "vMnKA2A62-y-",
        "outputId": "55ab6f85-b81f-4b59-b6a1-e9003029fc43"
      },
      "source": [
        "# Выведем описание пользователей и инфу о df\n",
        "display(users_df)\n",
        "users_df.info()"
      ],
      "execution_count": 110,
      "outputs": [
        {
          "output_type": "display_data",
          "data": {
            "text/html": [
              "<div>\n",
              "<style scoped>\n",
              "    .dataframe tbody tr th:only-of-type {\n",
              "        vertical-align: middle;\n",
              "    }\n",
              "\n",
              "    .dataframe tbody tr th {\n",
              "        vertical-align: top;\n",
              "    }\n",
              "\n",
              "    .dataframe thead th {\n",
              "        text-align: right;\n",
              "    }\n",
              "</style>\n",
              "<table border=\"1\" class=\"dataframe\">\n",
              "  <thead>\n",
              "    <tr style=\"text-align: right;\">\n",
              "      <th></th>\n",
              "      <th>user_id</th>\n",
              "      <th>age</th>\n",
              "      <th>sex</th>\n",
              "    </tr>\n",
              "  </thead>\n",
              "  <tbody>\n",
              "    <tr>\n",
              "      <th>0</th>\n",
              "      <td>0</td>\n",
              "      <td>45_54</td>\n",
              "      <td>1.0</td>\n",
              "    </tr>\n",
              "    <tr>\n",
              "      <th>1</th>\n",
              "      <td>1</td>\n",
              "      <td>25_34</td>\n",
              "      <td>0.0</td>\n",
              "    </tr>\n",
              "    <tr>\n",
              "      <th>2</th>\n",
              "      <td>2</td>\n",
              "      <td>45_54</td>\n",
              "      <td>0.0</td>\n",
              "    </tr>\n",
              "    <tr>\n",
              "      <th>3</th>\n",
              "      <td>3</td>\n",
              "      <td>65_inf</td>\n",
              "      <td>0.0</td>\n",
              "    </tr>\n",
              "    <tr>\n",
              "      <th>4</th>\n",
              "      <td>4</td>\n",
              "      <td>18_24</td>\n",
              "      <td>0.0</td>\n",
              "    </tr>\n",
              "    <tr>\n",
              "      <th>...</th>\n",
              "      <td>...</td>\n",
              "      <td>...</td>\n",
              "      <td>...</td>\n",
              "    </tr>\n",
              "    <tr>\n",
              "      <th>137249</th>\n",
              "      <td>166060</td>\n",
              "      <td>25_34</td>\n",
              "      <td>0.0</td>\n",
              "    </tr>\n",
              "    <tr>\n",
              "      <th>137250</th>\n",
              "      <td>166061</td>\n",
              "      <td>35_44</td>\n",
              "      <td>1.0</td>\n",
              "    </tr>\n",
              "    <tr>\n",
              "      <th>137251</th>\n",
              "      <td>166062</td>\n",
              "      <td>45_54</td>\n",
              "      <td>1.0</td>\n",
              "    </tr>\n",
              "    <tr>\n",
              "      <th>137252</th>\n",
              "      <td>166065</td>\n",
              "      <td>25_34</td>\n",
              "      <td>0.0</td>\n",
              "    </tr>\n",
              "    <tr>\n",
              "      <th>137253</th>\n",
              "      <td>166066</td>\n",
              "      <td>45_54</td>\n",
              "      <td>0.0</td>\n",
              "    </tr>\n",
              "  </tbody>\n",
              "</table>\n",
              "<p>137254 rows × 3 columns</p>\n",
              "</div>"
            ],
            "text/plain": [
              "        user_id     age  sex\n",
              "0             0   45_54  1.0\n",
              "1             1   25_34  0.0\n",
              "2             2   45_54  0.0\n",
              "3             3  65_inf  0.0\n",
              "4             4   18_24  0.0\n",
              "...         ...     ...  ...\n",
              "137249   166060   25_34  0.0\n",
              "137250   166061   35_44  1.0\n",
              "137251   166062   45_54  1.0\n",
              "137252   166065   25_34  0.0\n",
              "137253   166066   45_54  0.0\n",
              "\n",
              "[137254 rows x 3 columns]"
            ]
          },
          "metadata": {
            "tags": []
          }
        },
        {
          "output_type": "stream",
          "text": [
            "<class 'pandas.core.frame.DataFrame'>\n",
            "RangeIndex: 137254 entries, 0 to 137253\n",
            "Data columns (total 3 columns):\n",
            " #   Column   Non-Null Count   Dtype  \n",
            "---  ------   --------------   -----  \n",
            " 0   user_id  137254 non-null  int64  \n",
            " 1   age      137244 non-null  object \n",
            " 2   sex      135640 non-null  float64\n",
            "dtypes: float64(1), int64(1), object(1)\n",
            "memory usage: 3.1+ MB\n"
          ],
          "name": "stdout"
        }
      ]
    },
    {
      "cell_type": "code",
      "metadata": {
        "colab": {
          "base_uri": "https://localhost:8080/",
          "height": 699
        },
        "id": "-xdMEEZY7y4P",
        "outputId": "d8dd170f-45c1-4cd4-bc32-5526980f719c"
      },
      "source": [
        "get_plot_col_distribution(users_df, 10, 5)"
      ],
      "execution_count": 111,
      "outputs": [
        {
          "output_type": "display_data",
          "data": {
            "image/png": "[encoded data removed]",
            "text/plain": [
              "<Figure size 2400x768 with 2 Axes>"
            ]
          },
          "metadata": {
            "tags": []
          }
        }
      ]
    },
    {
      "cell_type": "code",
      "metadata": {
        "colab": {
          "base_uri": "https://localhost:8080/"
        },
        "id": "UPeIHZPI74wE",
        "outputId": "4193d6b2-eac7-4210-e18d-1d32c344a559"
      },
      "source": [
        "get_plot_corr_matrix(users_df, 8)"
      ],
      "execution_count": 112,
      "outputs": [
        {
          "output_type": "stream",
          "text": [
            "Отсутствует корреляция (1) меньше чем 2!\n"
          ],
          "name": "stdout"
        }
      ]
    },
    {
      "cell_type": "code",
      "metadata": {
        "colab": {
          "base_uri": "https://localhost:8080/",
          "height": 457
        },
        "id": "bNubms90796K",
        "outputId": "3ebbaaa5-28d6-4c5c-ab05-a42cf7c7fc8f"
      },
      "source": [
        "get_plot_scatter(users_df, 6, 15)"
      ],
      "execution_count": 113,
      "outputs": [
        {
          "output_type": "display_data",
          "data": {
            "image/png": "[encoded data removed]",
            "text/plain": [
              "<Figure size 432x432 with 1 Axes>"
            ]
          },
          "metadata": {
            "tags": []
          }
        }
      ]
    },
    {
      "cell_type": "code",
      "metadata": {
        "colab": {
          "base_uri": "https://localhost:8080/"
        },
        "id": "v5kmdGfk7soe",
        "outputId": "b010937d-ce56-410d-e254-2694bc237715"
      },
      "source": [
        "# Изменим тип и подсчитаем уникальные значения\n",
        "users_df['age'] = users_df['age'].astype('category')\n",
        "users_df['sex'] = users_df['sex'].astype(pd.SparseDtype(np.float32, np.nan))\n",
        "users_df.nunique()"
      ],
      "execution_count": 114,
      "outputs": [
        {
          "output_type": "execute_result",
          "data": {
            "text/plain": [
              "user_id    137254\n",
              "age             6\n",
              "sex             2\n",
              "dtype: int64"
            ]
          },
          "metadata": {
            "tags": []
          },
          "execution_count": 114
        }
      ]
    },
    {
      "cell_type": "code",
      "metadata": {
        "colab": {
          "base_uri": "https://localhost:8080/"
        },
        "id": "kv0npeAl9C0B",
        "outputId": "c1d3c03e-ed7e-4fb5-acdb-5531cb6790b0"
      },
      "source": [
        "# Посмотрим взаимодействия пользователей\n",
        "interactions_users = interactions_df['user_id'].unique()\n",
        "\n",
        "users = len(np.intersect1d(interactions_users, users_df['user_id']))\n",
        "users_iteraction = len(np.setdiff1d(interactions_users, users_df['user_id']))\n",
        "users_features = len(np.setdiff1d(users_df['user_id'], interactions_users))\n",
        "total_users = users + users_iteraction + users_features\n",
        "\n",
        "print(f'Количество пользователей: {total_users}')\n",
        "print(f'Количество взаимодействиями и фичами: {users} ({users / total_users * 100:.2f}%)')\n",
        "print(f'Количество пользователей только с взаимодействиями: {users_iteraction} ({users_iteraction / total_users * 100:.2f}%)')\n",
        "print(f'Количество пользователей с фичами: {users_features} ({users_features / total_users * 100:.2f}%)')"
      ],
      "execution_count": 115,
      "outputs": [
        {
          "output_type": "stream",
          "text": [
            "Количество пользователей: 164771\n",
            "Количество взаимодействиями и фичами: 130808 (79.39%)\n",
            "Количество пользователей только с взаимодействиями: 27517 (16.70%)\n",
            "Количество пользователей с фичами: 6446 (3.91%)\n"
          ],
          "name": "stdout"
        }
      ]
    },
    {
      "cell_type": "markdown",
      "metadata": {
        "id": "KF1E_Mei8cwV"
      },
      "source": [
        "# Preprocessing Data"
      ]
    },
    {
      "cell_type": "code",
      "metadata": {
        "id": "SWW0GIML9HL9"
      },
      "source": [
        "# Сопаставим индексы для данных\n",
        "users_map = dict(enumerate(interactions_df['user_id'].unique()))\n",
        "users_mapping = {v: k for k, v in users_map.items()}\n",
        "\n",
        "items_map = dict(enumerate(interactions_df['item_id'].unique()))\n",
        "items_mapping = {v: k for k, v in items_map.items()}\n",
        "\n",
        "# Приведем к единому размеру название книг\n",
        "items_df['title'] = items_df['title'].str.lower()\n",
        "items_titles = pd.Series(items_df['title'].values, index = items_df['id']).to_dict()"
      ],
      "execution_count": 118,
      "outputs": []
    },
    {
      "cell_type": "markdown",
      "metadata": {
        "id": "VvtRXPo1ERsx"
      },
      "source": [
        "# Create System\n",
        "\n",
        "Наиболее точно порекомендовать список из 10 книг для каждого пользователя из тестовой выборки.\n",
        "\n",
        "🎯 Цель соревнования - разобраться, как работают базовые модели рекомендаций и попробовать улучшить их результат."
      ]
    },
    {
      "cell_type": "code",
      "metadata": {
        "id": "onDvAZN19Hcw"
      },
      "source": [
        "# Создадим класс рекомендательной системы\n",
        "class RecSys():\n",
        "  def __init__(self, max_ = 100, days = 10, item_col = 'item_id', date_col = 'date'):\n",
        "    self.recomm = []\n",
        "    self.max_ = max_\n",
        "    self.days = days\n",
        "    self.item_col = item_col\n",
        "    self.date_col = date_col\n",
        "\n",
        "  def get_fit(self, df, ):\n",
        "    start_date = df[self.date_col].max().normalize() - pd.DateOffset(days=self.days)\n",
        "    self.recomm = df.loc[df[self.date_col] > start_date, \n",
        "                         self.item_col].value_counts().head(self.max_).index.values\n",
        "\n",
        "  def get_recomm(self, users=None, num = 10):\n",
        "    recs = self.recomm[:num].astype(int)\n",
        "    if users is None:\n",
        "      return recs\n",
        "    else:\n",
        "      return list(islice(cycle([recs]), len(users)))\n"
      ],
      "execution_count": 140,
      "outputs": []
    },
    {
      "cell_type": "code",
      "metadata": {
        "id": "ao_qX7c7EXhf"
      },
      "source": [
        "# Загрузим проверочный файл\n",
        "submission = pd.read_csv('/content/sample_submission.csv')\n",
        "submission.columns = ['user_id', 'Predicted']\n",
        "\n",
        "# Обозначим количество дней\n",
        "full_days = (interactions_df['start_date'].unique().max() - interactions_df['start_date'].\n",
        "             unique().min()).astype('timedelta64[D]').astype('int')\n",
        "\n",
        "# Cоздадим тренировочный датасет\n",
        "train_data = submission['user_id'].to_frame().merge(interactions_df, on = 'user_id', how = 'left')\n",
        "submission.columns = ['Id', 'Predicted']\n"
      ],
      "execution_count": 141,
      "outputs": []
    },
    {
      "cell_type": "markdown",
      "metadata": {
        "id": "SMaT5InFJCwc"
      },
      "source": [
        "# Fit and Test System"
      ]
    },
    {
      "cell_type": "code",
      "metadata": {
        "colab": {
          "base_uri": "https://localhost:8080/"
        },
        "id": "WYZ8KuA-GiT_",
        "outputId": "c961597e-11ab-4b82-9336-6496504e30d9"
      },
      "source": [
        "# Создаем модель и обучаем\n",
        "model = RecSys(days = 729, date_col = 'start_date')\n",
        "model.get_fit(train_data)\n",
        "\n",
        "recommendation = model.get_recomm()\n",
        "recommendation"
      ],
      "execution_count": 142,
      "outputs": [
        {
          "output_type": "execute_result",
          "data": {
            "text/plain": [
              "array([ 80576,  37493,  68956,  75731, 270299, 364794, 330824, 178529,\n",
              "       104445, 211600])"
            ]
          },
          "metadata": {
            "tags": []
          },
          "execution_count": 142
        }
      ]
    },
    {
      "cell_type": "code",
      "metadata": {
        "colab": {
          "base_uri": "https://localhost:8080/"
        },
        "id": "0qlfqtAFIBmO",
        "outputId": "dcfcac06-7937-463e-dfdf-3051e66d4f2a"
      },
      "source": [
        "# Проверяем рекомендации\n",
        "list(map(items_titles.get, recommendation))"
      ],
      "execution_count": 143,
      "outputs": [
        {
          "output_type": "execute_result",
          "data": {
            "text/plain": [
              "['сила подсознания, или как изменить жизнь за 4 недели',\n",
              " 'снеговик',\n",
              " 'невеста смерти',\n",
              " 'земное притяжение',\n",
              " 'цена вопроса. том 1',\n",
              " 'долина драконов. магическая практика',\n",
              " 'струны волшебства. книга первая. страшные сказки закрытого королевства',\n",
              " 'яблоки из сада шлицбутера',\n",
              " 'чудовищное предложение',\n",
              " 'магическая сделка']"
            ]
          },
          "metadata": {
            "tags": []
          },
          "execution_count": 143
        }
      ]
    },
    {
      "cell_type": "code",
      "metadata": {
        "colab": {
          "base_uri": "https://localhost:8080/",
          "height": 355
        },
        "id": "zLOGfDMYVLFR",
        "outputId": "19ee5a42-a972-411e-93a1-2a9e49dacda0"
      },
      "source": [
        "# Возьмем рекомендации для 10 пользователей\n",
        "pred_rec = pd.DataFrame({'user_id': train_data['user_id'].unique()})\n",
        "num = 10\n",
        "pred_rec['item_id'] = model.get_recomm(pred_rec['user_id'], num = num)\n",
        "pred_rec.head(10)"
      ],
      "execution_count": 155,
      "outputs": [
        {
          "output_type": "execute_result",
          "data": {
            "text/html": [
              "<div>\n",
              "<style scoped>\n",
              "    .dataframe tbody tr th:only-of-type {\n",
              "        vertical-align: middle;\n",
              "    }\n",
              "\n",
              "    .dataframe tbody tr th {\n",
              "        vertical-align: top;\n",
              "    }\n",
              "\n",
              "    .dataframe thead th {\n",
              "        text-align: right;\n",
              "    }\n",
              "</style>\n",
              "<table border=\"1\" class=\"dataframe\">\n",
              "  <thead>\n",
              "    <tr style=\"text-align: right;\">\n",
              "      <th></th>\n",
              "      <th>user_id</th>\n",
              "      <th>item_id</th>\n",
              "    </tr>\n",
              "  </thead>\n",
              "  <tbody>\n",
              "    <tr>\n",
              "      <th>0</th>\n",
              "      <td>10001</td>\n",
              "      <td>[80576, 37493, 68956, 75731, 270299, 364794, 330824, 178529, 104445, 211600]</td>\n",
              "    </tr>\n",
              "    <tr>\n",
              "      <th>1</th>\n",
              "      <td>10002</td>\n",
              "      <td>[80576, 37493, 68956, 75731, 270299, 364794, 330824, 178529, 104445, 211600]</td>\n",
              "    </tr>\n",
              "    <tr>\n",
              "      <th>2</th>\n",
              "      <td>100152</td>\n",
              "      <td>[80576, 37493, 68956, 75731, 270299, 364794, 330824, 178529, 104445, 211600]</td>\n",
              "    </tr>\n",
              "    <tr>\n",
              "      <th>3</th>\n",
              "      <td>100197</td>\n",
              "      <td>[80576, 37493, 68956, 75731, 270299, 364794, 330824, 178529, 104445, 211600]</td>\n",
              "    </tr>\n",
              "    <tr>\n",
              "      <th>4</th>\n",
              "      <td>100284</td>\n",
              "      <td>[80576, 37493, 68956, 75731, 270299, 364794, 330824, 178529, 104445, 211600]</td>\n",
              "    </tr>\n",
              "    <tr>\n",
              "      <th>5</th>\n",
              "      <td>10031</td>\n",
              "      <td>[80576, 37493, 68956, 75731, 270299, 364794, 330824, 178529, 104445, 211600]</td>\n",
              "    </tr>\n",
              "    <tr>\n",
              "      <th>6</th>\n",
              "      <td>100412</td>\n",
              "      <td>[80576, 37493, 68956, 75731, 270299, 364794, 330824, 178529, 104445, 211600]</td>\n",
              "    </tr>\n",
              "    <tr>\n",
              "      <th>7</th>\n",
              "      <td>100428</td>\n",
              "      <td>[80576, 37493, 68956, 75731, 270299, 364794, 330824, 178529, 104445, 211600]</td>\n",
              "    </tr>\n",
              "    <tr>\n",
              "      <th>8</th>\n",
              "      <td>100450</td>\n",
              "      <td>[80576, 37493, 68956, 75731, 270299, 364794, 330824, 178529, 104445, 211600]</td>\n",
              "    </tr>\n",
              "    <tr>\n",
              "      <th>9</th>\n",
              "      <td>100562</td>\n",
              "      <td>[80576, 37493, 68956, 75731, 270299, 364794, 330824, 178529, 104445, 211600]</td>\n",
              "    </tr>\n",
              "  </tbody>\n",
              "</table>\n",
              "</div>"
            ],
            "text/plain": [
              "   user_id                                                                       item_id\n",
              "0    10001  [80576, 37493, 68956, 75731, 270299, 364794, 330824, 178529, 104445, 211600]\n",
              "1    10002  [80576, 37493, 68956, 75731, 270299, 364794, 330824, 178529, 104445, 211600]\n",
              "2   100152  [80576, 37493, 68956, 75731, 270299, 364794, 330824, 178529, 104445, 211600]\n",
              "3   100197  [80576, 37493, 68956, 75731, 270299, 364794, 330824, 178529, 104445, 211600]\n",
              "4   100284  [80576, 37493, 68956, 75731, 270299, 364794, 330824, 178529, 104445, 211600]\n",
              "5    10031  [80576, 37493, 68956, 75731, 270299, 364794, 330824, 178529, 104445, 211600]\n",
              "6   100412  [80576, 37493, 68956, 75731, 270299, 364794, 330824, 178529, 104445, 211600]\n",
              "7   100428  [80576, 37493, 68956, 75731, 270299, 364794, 330824, 178529, 104445, 211600]\n",
              "8   100450  [80576, 37493, 68956, 75731, 270299, 364794, 330824, 178529, 104445, 211600]\n",
              "9   100562  [80576, 37493, 68956, 75731, 270299, 364794, 330824, 178529, 104445, 211600]"
            ]
          },
          "metadata": {
            "tags": []
          },
          "execution_count": 155
        }
      ]
    },
    {
      "cell_type": "code",
      "metadata": {
        "colab": {
          "base_uri": "https://localhost:8080/",
          "height": 405,
          "referenced_widgets": [
            "48bc23cbce72451e967e404d217f3cc8",
            "23209acb11dd41e2b58288ef93f0696c",
            "e24c4892cbb34c009004a67c66c9b0dc",
            "d8b1ea76d6b6479f83eecbd508cacd81",
            "38fcd62fa7384e9e9bb61ca0cebe196e",
            "4e87c10bc9be448e942214d9ade46730",
            "4f467326c9bd443081663e21e35aa204",
            "71ddd9370060461dbd239e0a58d12c92"
          ]
        },
        "id": "e0-bJyuBWIqF",
        "outputId": "8b878cac-4ad5-4d61-f937-568e8b1814eb"
      },
      "source": [
        "# Сохраним результат\n",
        "my_submission = get_to_csv(pred_rec, '/content/date/sample_submission.csv')\n",
        "\n",
        "my_submission.head(10)"
      ],
      "execution_count": 159,
      "outputs": [
        {
          "output_type": "display_data",
          "data": {
            "application/vnd.jupyter.widget-view+json": {
              "model_id": "48bc23cbce72451e967e404d217f3cc8",
              "version_minor": 0,
              "version_major": 2
            },
            "text/plain": [
              "HBox(children=(FloatProgress(value=0.0, max=3074.0), HTML(value='')))"
            ]
          },
          "metadata": {
            "tags": []
          }
        },
        {
          "output_type": "stream",
          "text": [
            "\n"
          ],
          "name": "stdout"
        },
        {
          "output_type": "execute_result",
          "data": {
            "text/html": [
              "<div>\n",
              "<style scoped>\n",
              "    .dataframe tbody tr th:only-of-type {\n",
              "        vertical-align: middle;\n",
              "    }\n",
              "\n",
              "    .dataframe tbody tr th {\n",
              "        vertical-align: top;\n",
              "    }\n",
              "\n",
              "    .dataframe thead th {\n",
              "        text-align: right;\n",
              "    }\n",
              "</style>\n",
              "<table border=\"1\" class=\"dataframe\">\n",
              "  <thead>\n",
              "    <tr style=\"text-align: right;\">\n",
              "      <th></th>\n",
              "      <th>Id</th>\n",
              "      <th>Predicted</th>\n",
              "    </tr>\n",
              "  </thead>\n",
              "  <tbody>\n",
              "    <tr>\n",
              "      <th>0</th>\n",
              "      <td>10001</td>\n",
              "      <td>80576 37493 68956 75731 270299 364794 330824 178529 104445 211600</td>\n",
              "    </tr>\n",
              "    <tr>\n",
              "      <th>1</th>\n",
              "      <td>10002</td>\n",
              "      <td>80576 37493 68956 75731 270299 364794 330824 178529 104445 211600</td>\n",
              "    </tr>\n",
              "    <tr>\n",
              "      <th>2</th>\n",
              "      <td>100152</td>\n",
              "      <td>80576 37493 68956 75731 270299 364794 330824 178529 104445 211600</td>\n",
              "    </tr>\n",
              "    <tr>\n",
              "      <th>3</th>\n",
              "      <td>100197</td>\n",
              "      <td>80576 37493 68956 75731 270299 364794 330824 178529 104445 211600</td>\n",
              "    </tr>\n",
              "    <tr>\n",
              "      <th>4</th>\n",
              "      <td>100284</td>\n",
              "      <td>80576 37493 68956 75731 270299 364794 330824 178529 104445 211600</td>\n",
              "    </tr>\n",
              "    <tr>\n",
              "      <th>5</th>\n",
              "      <td>10031</td>\n",
              "      <td>80576 37493 68956 75731 270299 364794 330824 178529 104445 211600</td>\n",
              "    </tr>\n",
              "    <tr>\n",
              "      <th>6</th>\n",
              "      <td>100412</td>\n",
              "      <td>80576 37493 68956 75731 270299 364794 330824 178529 104445 211600</td>\n",
              "    </tr>\n",
              "    <tr>\n",
              "      <th>7</th>\n",
              "      <td>100428</td>\n",
              "      <td>80576 37493 68956 75731 270299 364794 330824 178529 104445 211600</td>\n",
              "    </tr>\n",
              "    <tr>\n",
              "      <th>8</th>\n",
              "      <td>100450</td>\n",
              "      <td>80576 37493 68956 75731 270299 364794 330824 178529 104445 211600</td>\n",
              "    </tr>\n",
              "    <tr>\n",
              "      <th>9</th>\n",
              "      <td>100562</td>\n",
              "      <td>80576 37493 68956 75731 270299 364794 330824 178529 104445 211600</td>\n",
              "    </tr>\n",
              "  </tbody>\n",
              "</table>\n",
              "</div>"
            ],
            "text/plain": [
              "       Id                                                          Predicted\n",
              "0   10001  80576 37493 68956 75731 270299 364794 330824 178529 104445 211600\n",
              "1   10002  80576 37493 68956 75731 270299 364794 330824 178529 104445 211600\n",
              "2  100152  80576 37493 68956 75731 270299 364794 330824 178529 104445 211600\n",
              "3  100197  80576 37493 68956 75731 270299 364794 330824 178529 104445 211600\n",
              "4  100284  80576 37493 68956 75731 270299 364794 330824 178529 104445 211600\n",
              "5   10031  80576 37493 68956 75731 270299 364794 330824 178529 104445 211600\n",
              "6  100412  80576 37493 68956 75731 270299 364794 330824 178529 104445 211600\n",
              "7  100428  80576 37493 68956 75731 270299 364794 330824 178529 104445 211600\n",
              "8  100450  80576 37493 68956 75731 270299 364794 330824 178529 104445 211600\n",
              "9  100562  80576 37493 68956 75731 270299 364794 330824 178529 104445 211600"
            ]
          },
          "metadata": {
            "tags": []
          },
          "execution_count": 159
        }
      ]
    },
    {
      "cell_type": "code",
      "metadata": {
        "colab": {
          "base_uri": "https://localhost:8080/",
          "height": 84,
          "referenced_widgets": [
            "2619749654de4cb5a511741992fee3b8",
            "e8cbd9b02932495e8553cb26a86dcffc",
            "63a6d20028b54589b6aeef753c7c32d2",
            "172b9331552e45c4aff1d30e593f558a",
            "aabc23364f784bf18476c5efa565e2d8",
            "fff45cfcda254cc48709dbf2c6ee99c2",
            "432865845c514af0a1e7722396f50c5e",
            "caf04a782449414e9fb7be9bd3bc9436"
          ]
        },
        "id": "y_sUJGEYWI-u",
        "outputId": "87070460-cd5d-4341-def7-549c7fb751b7"
      },
      "source": [
        "# Оценим модель\n",
        "metrics = get_score(pred_rec, train_data)\n",
        "print(metrics)"
      ],
      "execution_count": 164,
      "outputs": [
        {
          "output_type": "display_data",
          "data": {
            "application/vnd.jupyter.widget-view+json": {
              "model_id": "2619749654de4cb5a511741992fee3b8",
              "version_minor": 0,
              "version_major": 2
            },
            "text/plain": [
              "HBox(children=(FloatProgress(value=0.0, max=91635.0), HTML(value='')))"
            ]
          },
          "metadata": {
            "tags": []
          }
        },
        {
          "output_type": "stream",
          "text": [
            "\n",
            "{'MAPE: 10': [0.03727178267234922], 'MRR': [0.061716418295793704]}\n"
          ],
          "name": "stdout"
        }
      ]
    },
    {
      "cell_type": "code",
      "metadata": {
        "colab": {
          "base_uri": "https://localhost:8080/"
        },
        "id": "oF8oPqVuYjL0",
        "outputId": "da2e094b-7f47-4b32-cbce-454a50541405"
      },
      "source": [
        "!kaggle competitions submit  -c mtc-ml-summer-school -f 'content/date/sample_submission.csv' -m \"Test First\""
      ],
      "execution_count": 167,
      "outputs": [
        {
          "output_type": "stream",
          "text": [
            "Traceback (most recent call last):\n",
            "  File \"/usr/local/bin/kaggle\", line 8, in <module>\n",
            "    sys.exit(main())\n",
            "  File \"/usr/local/lib/python2.7/dist-packages/kaggle/cli.py\", line 51, in main\n",
            "    out = args.func(**command_args)\n",
            "  File \"/usr/local/lib/python2.7/dist-packages/kaggle/api/kaggle_api_extended.py\", line 544, in competition_submit_cli\n",
            "    competition, quiet)\n",
            "  File \"/usr/local/lib/python2.7/dist-packages/kaggle/api/kaggle_api_extended.py\", line 495, in competition_submit\n",
            "    content_length=os.path.getsize(file_name),\n",
            "  File \"/usr/lib/python2.7/genericpath.py\", line 57, in getsize\n",
            "    return os.stat(filename).st_size\n",
            "OSError: [Errno 2] No such file or directory: 'content/date/sample_submission.csv'\n"
          ],
          "name": "stdout"
        }
      ]
    }
  ]
}