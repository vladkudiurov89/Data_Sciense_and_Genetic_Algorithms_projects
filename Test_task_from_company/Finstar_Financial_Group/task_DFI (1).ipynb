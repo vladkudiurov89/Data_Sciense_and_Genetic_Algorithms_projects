{
  "nbformat": 4,
  "nbformat_minor": 0,
  "metadata": {
    "accelerator": "GPU",
    "colab": {
      "name": "task_DFI.ipynb",
      "provenance": [],
      "collapsed_sections": [],
      "machine_shape": "hm"
    },
    "kernelspec": {
      "display_name": "Python 3",
      "name": "python3"
    },
    "language_info": {
      "name": "python"
    }
  },
  "cells": [
    {
      "cell_type": "code",
      "metadata": {
        "id": "StpVP7G_PpFt",
        "colab": {
          "base_uri": "https://localhost:8080/"
        },
        "outputId": "24f7254e-734b-480a-9399-605b6888307c"
      },
      "source": [
        "# проверим видеокарту\n",
        "!nvidia-smi"
      ],
      "execution_count": null,
      "outputs": [
        {
          "output_type": "stream",
          "text": [
            "Thu Jun 17 20:33:53 2021       \n",
            "+-----------------------------------------------------------------------------+\n",
            "| NVIDIA-SMI 465.27       Driver Version: 460.32.03    CUDA Version: 11.2     |\n",
            "|-------------------------------+----------------------+----------------------+\n",
            "| GPU  Name        Persistence-M| Bus-Id        Disp.A | Volatile Uncorr. ECC |\n",
            "| Fan  Temp  Perf  Pwr:Usage/Cap|         Memory-Usage | GPU-Util  Compute M. |\n",
            "|                               |                      |               MIG M. |\n",
            "|===============================+======================+======================|\n",
            "|   0  Tesla P100-PCIE...  Off  | 00000000:00:04.0 Off |                    0 |\n",
            "| N/A   46C    P0    29W / 250W |      0MiB / 16280MiB |      0%      Default |\n",
            "|                               |                      |                  N/A |\n",
            "+-------------------------------+----------------------+----------------------+\n",
            "                                                                               \n",
            "+-----------------------------------------------------------------------------+\n",
            "| Processes:                                                                  |\n",
            "|  GPU   GI   CI        PID   Type   Process name                  GPU Memory |\n",
            "|        ID   ID                                                   Usage      |\n",
            "|=============================================================================|\n",
            "|  No running processes found                                                 |\n",
            "+-----------------------------------------------------------------------------+\n"
          ],
          "name": "stdout"
        }
      ]
    },
    {
      "cell_type": "code",
      "metadata": {
        "id": "kLHR3wMtEwta",
        "colab": {
          "base_uri": "https://localhost:8080/"
        },
        "outputId": "fee41e04-80a6-485e-a10c-9cc8f985dd84"
      },
      "source": [
        "!pip install fancyimpute\n",
        "!pip install mlens"
      ],
      "execution_count": null,
      "outputs": [
        {
          "output_type": "stream",
          "text": [
            "Collecting fancyimpute\n",
            "  Downloading https://files.pythonhosted.org/packages/3d/7b/bf3e7ee13111f0c01c5918ea41501301f3f0cd7254004ed29467ad76636a/fancyimpute-0.5.5.tar.gz\n",
            "Collecting knnimpute\n",
            "  Downloading https://files.pythonhosted.org/packages/e8/35/e9ab006430d36aed71f623db8d194a723a14d40b52b3405cdd5b94d9de04/knnimpute-0.1.0.tar.gz\n",
            "Requirement already satisfied: numpy>=1.10 in /usr/local/lib/python3.7/dist-packages (from fancyimpute) (1.19.5)\n",
            "Requirement already satisfied: scipy in /usr/local/lib/python3.7/dist-packages (from fancyimpute) (1.4.1)\n",
            "Requirement already satisfied: cvxpy>=1.0.6 in /usr/local/lib/python3.7/dist-packages (from fancyimpute) (1.0.31)\n",
            "Requirement already satisfied: scikit-learn>=0.21.2 in /usr/local/lib/python3.7/dist-packages (from fancyimpute) (0.22.2.post1)\n",
            "Requirement already satisfied: keras>=2.0.0 in /usr/local/lib/python3.7/dist-packages (from fancyimpute) (2.4.3)\n",
            "Requirement already satisfied: tensorflow in /usr/local/lib/python3.7/dist-packages (from fancyimpute) (2.5.0)\n",
            "Requirement already satisfied: six in /usr/local/lib/python3.7/dist-packages (from knnimpute->fancyimpute) (1.15.0)\n",
            "Requirement already satisfied: osqp>=0.4.1 in /usr/local/lib/python3.7/dist-packages (from cvxpy>=1.0.6->fancyimpute) (0.6.2.post0)\n",
            "Requirement already satisfied: scs>=1.1.3 in /usr/local/lib/python3.7/dist-packages (from cvxpy>=1.0.6->fancyimpute) (2.1.4)\n",
            "Requirement already satisfied: ecos>=2 in /usr/local/lib/python3.7/dist-packages (from cvxpy>=1.0.6->fancyimpute) (2.0.7.post1)\n",
            "Requirement already satisfied: multiprocess in /usr/local/lib/python3.7/dist-packages (from cvxpy>=1.0.6->fancyimpute) (0.70.11.1)\n",
            "Requirement already satisfied: joblib>=0.11 in /usr/local/lib/python3.7/dist-packages (from scikit-learn>=0.21.2->fancyimpute) (1.0.1)\n",
            "Requirement already satisfied: pyyaml in /usr/local/lib/python3.7/dist-packages (from keras>=2.0.0->fancyimpute) (3.13)\n",
            "Requirement already satisfied: h5py in /usr/local/lib/python3.7/dist-packages (from keras>=2.0.0->fancyimpute) (3.1.0)\n",
            "Requirement already satisfied: wrapt~=1.12.1 in /usr/local/lib/python3.7/dist-packages (from tensorflow->fancyimpute) (1.12.1)\n",
            "Requirement already satisfied: astunparse~=1.6.3 in /usr/local/lib/python3.7/dist-packages (from tensorflow->fancyimpute) (1.6.3)\n",
            "Requirement already satisfied: gast==0.4.0 in /usr/local/lib/python3.7/dist-packages (from tensorflow->fancyimpute) (0.4.0)\n",
            "Requirement already satisfied: flatbuffers~=1.12.0 in /usr/local/lib/python3.7/dist-packages (from tensorflow->fancyimpute) (1.12)\n",
            "Requirement already satisfied: tensorflow-estimator<2.6.0,>=2.5.0rc0 in /usr/local/lib/python3.7/dist-packages (from tensorflow->fancyimpute) (2.5.0)\n",
            "Requirement already satisfied: wheel~=0.35 in /usr/local/lib/python3.7/dist-packages (from tensorflow->fancyimpute) (0.36.2)\n",
            "Requirement already satisfied: grpcio~=1.34.0 in /usr/local/lib/python3.7/dist-packages (from tensorflow->fancyimpute) (1.34.1)\n",
            "Requirement already satisfied: tensorboard~=2.5 in /usr/local/lib/python3.7/dist-packages (from tensorflow->fancyimpute) (2.5.0)\n",
            "Requirement already satisfied: google-pasta~=0.2 in /usr/local/lib/python3.7/dist-packages (from tensorflow->fancyimpute) (0.2.0)\n",
            "Requirement already satisfied: absl-py~=0.10 in /usr/local/lib/python3.7/dist-packages (from tensorflow->fancyimpute) (0.12.0)\n",
            "Requirement already satisfied: keras-preprocessing~=1.1.2 in /usr/local/lib/python3.7/dist-packages (from tensorflow->fancyimpute) (1.1.2)\n",
            "Requirement already satisfied: typing-extensions~=3.7.4 in /usr/local/lib/python3.7/dist-packages (from tensorflow->fancyimpute) (3.7.4.3)\n",
            "Requirement already satisfied: keras-nightly~=2.5.0.dev in /usr/local/lib/python3.7/dist-packages (from tensorflow->fancyimpute) (2.5.0.dev2021032900)\n",
            "Requirement already satisfied: opt-einsum~=3.3.0 in /usr/local/lib/python3.7/dist-packages (from tensorflow->fancyimpute) (3.3.0)\n",
            "Requirement already satisfied: protobuf>=3.9.2 in /usr/local/lib/python3.7/dist-packages (from tensorflow->fancyimpute) (3.12.4)\n",
            "Requirement already satisfied: termcolor~=1.1.0 in /usr/local/lib/python3.7/dist-packages (from tensorflow->fancyimpute) (1.1.0)\n",
            "Requirement already satisfied: qdldl in /usr/local/lib/python3.7/dist-packages (from osqp>=0.4.1->cvxpy>=1.0.6->fancyimpute) (0.1.5.post0)\n",
            "Requirement already satisfied: dill>=0.3.3 in /usr/local/lib/python3.7/dist-packages (from multiprocess->cvxpy>=1.0.6->fancyimpute) (0.3.3)\n",
            "Requirement already satisfied: cached-property; python_version < \"3.8\" in /usr/local/lib/python3.7/dist-packages (from h5py->keras>=2.0.0->fancyimpute) (1.5.2)\n",
            "Requirement already satisfied: google-auth-oauthlib<0.5,>=0.4.1 in /usr/local/lib/python3.7/dist-packages (from tensorboard~=2.5->tensorflow->fancyimpute) (0.4.4)\n",
            "Requirement already satisfied: requests<3,>=2.21.0 in /usr/local/lib/python3.7/dist-packages (from tensorboard~=2.5->tensorflow->fancyimpute) (2.23.0)\n",
            "Requirement already satisfied: markdown>=2.6.8 in /usr/local/lib/python3.7/dist-packages (from tensorboard~=2.5->tensorflow->fancyimpute) (3.3.4)\n",
            "Requirement already satisfied: google-auth<2,>=1.6.3 in /usr/local/lib/python3.7/dist-packages (from tensorboard~=2.5->tensorflow->fancyimpute) (1.31.0)\n",
            "Requirement already satisfied: werkzeug>=0.11.15 in /usr/local/lib/python3.7/dist-packages (from tensorboard~=2.5->tensorflow->fancyimpute) (1.0.1)\n",
            "Requirement already satisfied: tensorboard-data-server<0.7.0,>=0.6.0 in /usr/local/lib/python3.7/dist-packages (from tensorboard~=2.5->tensorflow->fancyimpute) (0.6.1)\n",
            "Requirement already satisfied: setuptools>=41.0.0 in /usr/local/lib/python3.7/dist-packages (from tensorboard~=2.5->tensorflow->fancyimpute) (57.0.0)\n",
            "Requirement already satisfied: tensorboard-plugin-wit>=1.6.0 in /usr/local/lib/python3.7/dist-packages (from tensorboard~=2.5->tensorflow->fancyimpute) (1.8.0)\n",
            "Requirement already satisfied: requests-oauthlib>=0.7.0 in /usr/local/lib/python3.7/dist-packages (from google-auth-oauthlib<0.5,>=0.4.1->tensorboard~=2.5->tensorflow->fancyimpute) (1.3.0)\n",
            "Requirement already satisfied: certifi>=2017.4.17 in /usr/local/lib/python3.7/dist-packages (from requests<3,>=2.21.0->tensorboard~=2.5->tensorflow->fancyimpute) (2021.5.30)\n",
            "Requirement already satisfied: chardet<4,>=3.0.2 in /usr/local/lib/python3.7/dist-packages (from requests<3,>=2.21.0->tensorboard~=2.5->tensorflow->fancyimpute) (3.0.4)\n",
            "Requirement already satisfied: urllib3!=1.25.0,!=1.25.1,<1.26,>=1.21.1 in /usr/local/lib/python3.7/dist-packages (from requests<3,>=2.21.0->tensorboard~=2.5->tensorflow->fancyimpute) (1.24.3)\n",
            "Requirement already satisfied: idna<3,>=2.5 in /usr/local/lib/python3.7/dist-packages (from requests<3,>=2.21.0->tensorboard~=2.5->tensorflow->fancyimpute) (2.10)\n",
            "Requirement already satisfied: importlib-metadata; python_version < \"3.8\" in /usr/local/lib/python3.7/dist-packages (from markdown>=2.6.8->tensorboard~=2.5->tensorflow->fancyimpute) (4.5.0)\n",
            "Requirement already satisfied: pyasn1-modules>=0.2.1 in /usr/local/lib/python3.7/dist-packages (from google-auth<2,>=1.6.3->tensorboard~=2.5->tensorflow->fancyimpute) (0.2.8)\n",
            "Requirement already satisfied: rsa<5,>=3.1.4; python_version >= \"3.6\" in /usr/local/lib/python3.7/dist-packages (from google-auth<2,>=1.6.3->tensorboard~=2.5->tensorflow->fancyimpute) (4.7.2)\n",
            "Requirement already satisfied: cachetools<5.0,>=2.0.0 in /usr/local/lib/python3.7/dist-packages (from google-auth<2,>=1.6.3->tensorboard~=2.5->tensorflow->fancyimpute) (4.2.2)\n",
            "Requirement already satisfied: oauthlib>=3.0.0 in /usr/local/lib/python3.7/dist-packages (from requests-oauthlib>=0.7.0->google-auth-oauthlib<0.5,>=0.4.1->tensorboard~=2.5->tensorflow->fancyimpute) (3.1.1)\n",
            "Requirement already satisfied: zipp>=0.5 in /usr/local/lib/python3.7/dist-packages (from importlib-metadata; python_version < \"3.8\"->markdown>=2.6.8->tensorboard~=2.5->tensorflow->fancyimpute) (3.4.1)\n",
            "Requirement already satisfied: pyasn1<0.5.0,>=0.4.6 in /usr/local/lib/python3.7/dist-packages (from pyasn1-modules>=0.2.1->google-auth<2,>=1.6.3->tensorboard~=2.5->tensorflow->fancyimpute) (0.4.8)\n",
            "Building wheels for collected packages: fancyimpute, knnimpute\n",
            "  Building wheel for fancyimpute (setup.py) ... \u001b[?25l\u001b[?25hdone\n",
            "  Created wheel for fancyimpute: filename=fancyimpute-0.5.5-cp37-none-any.whl size=26455 sha256=9a5682056e0399e0c0fcab86042f154832fbcacd5dab821cde62446e0319563c\n",
            "  Stored in directory: /root/.cache/pip/wheels/b2/d2/22/75596186b24b7363894e594f28e98b56fdc56306762bc00fe0\n",
            "  Building wheel for knnimpute (setup.py) ... \u001b[?25l\u001b[?25hdone\n",
            "  Created wheel for knnimpute: filename=knnimpute-0.1.0-cp37-none-any.whl size=11354 sha256=e80e5fe56666e62816a68115b02868dc633b1d7d544e536044a39bb3c19a8c1c\n",
            "  Stored in directory: /root/.cache/pip/wheels/a3/92/31/c3f8864714e9938396c3a68d8c542531f7e2d7862bb750b2e3\n",
            "Successfully built fancyimpute knnimpute\n",
            "Installing collected packages: knnimpute, fancyimpute\n",
            "Successfully installed fancyimpute-0.5.5 knnimpute-0.1.0\n",
            "Collecting mlens\n",
            "\u001b[?25l  Downloading https://files.pythonhosted.org/packages/0b/f7/c04bda423ac93ddb54bc4c3a21c79c9a24bc83844efc30dc4c11c289e894/mlens-0.2.3-py2.py3-none-any.whl (227kB)\n",
            "\u001b[K     |████████████████████████████████| 235kB 4.3MB/s \n",
            "\u001b[?25hRequirement already satisfied: scipy>=0.17 in /usr/local/lib/python3.7/dist-packages (from mlens) (1.4.1)\n",
            "Requirement already satisfied: numpy>=1.11 in /usr/local/lib/python3.7/dist-packages (from mlens) (1.19.5)\n",
            "Installing collected packages: mlens\n",
            "Successfully installed mlens-0.2.3\n"
          ],
          "name": "stdout"
        }
      ]
    },
    {
      "cell_type": "markdown",
      "metadata": {
        "id": "rEVgeHvsRDIm"
      },
      "source": [
        "# Import libraries and Load Data"
      ]
    },
    {
      "cell_type": "code",
      "metadata": {
        "id": "FuBdF5otQLMK"
      },
      "source": [
        "# Игнорируем предупреждения\n",
        "import warnings\n",
        "from sklearn.exceptions import ConvergenceWarning\n",
        "\n",
        "warnings.filterwarnings(\"ignore\", category=DeprecationWarning)\n",
        "warnings.filterwarnings(\"ignore\", category=ConvergenceWarning)\n",
        "warnings.filterwarnings(\"ignore\", category=UserWarning)\n",
        "warnings.filterwarnings(\"ignore\", category=FutureWarning)"
      ],
      "execution_count": null,
      "outputs": []
    },
    {
      "cell_type": "code",
      "metadata": {
        "id": "Mi90OJHIQ3C-",
        "colab": {
          "base_uri": "https://localhost:8080/"
        },
        "outputId": "d05cbc2c-ba6e-4d88-f033-7e8bf66e96e5"
      },
      "source": [
        "from sklearn.model_selection import train_test_split, cross_val_score, cross_val_predict\n",
        "from sklearn.preprocessing import StandardScaler\n",
        "from sklearn.ensemble import RandomForestClassifier, GradientBoostingClassifier\n",
        "from sklearn.metrics import roc_auc_score, f1_score, roc_curve, classification_report\n",
        "from sklearn.linear_model import LogisticRegression\n",
        "from sklearn.svm import SVC\n",
        "from sklearn.naive_bayes import GaussianNB\n",
        "from sklearn import preprocessing\n",
        "from tensorflow.keras.optimizers import Adam, RMSprop\n",
        "from tensorflow.keras.models import Sequential, Model\n",
        "from tensorflow.keras.layers import Dense, Dropout, BatchNormalization\n",
        "from sklearn.utils.testing import ignore_warnings\n",
        "from imblearn.pipeline import make_pipeline as imb_make_pipeline\n",
        "from sklearn.experimental import enable_iterative_imputer\n",
        "from sklearn.impute import IterativeImputer\n",
        "import timeit\n",
        "from sklearn.impute import SimpleImputer\n",
        "from sklearn.pipeline import make_pipeline\n",
        "from sklearn.preprocessing import RobustScaler, FunctionTransformer\n",
        "from imblearn.under_sampling import RandomUnderSampler\n",
        "from imblearn.over_sampling import RandomOverSampler, SMOTE\n",
        "from imblearn.ensemble import BalancedBaggingClassifier, EasyEnsemble\n",
        "import xgboost as xgb\n",
        "from sklearn.ensemble import RandomForestClassifier, VotingClassifier, GradientBoostingClassifier\n",
        "from sklearn.metrics import (roc_auc_score, confusion_matrix,\n",
        "                             accuracy_score, roc_curve,\n",
        "                             precision_recall_curve, f1_score)\n",
        "\n",
        "from mlens.visualization import corrmat\n",
        "\n",
        "import pandas as pd\n",
        "import numpy as np\n",
        "import matplotlib.pyplot as plt\n",
        "import seaborn as sns\n",
        "\n",
        "sns.set(style=\"whitegrid\", color_codes=True)"
      ],
      "execution_count": null,
      "outputs": [
        {
          "output_type": "stream",
          "text": [
            "[MLENS] backend: threading\n"
          ],
          "name": "stderr"
        }
      ]
    },
    {
      "cell_type": "code",
      "metadata": {
        "id": "op-r4TaOQLPL",
        "colab": {
          "base_uri": "https://localhost:8080/"
        },
        "outputId": "d0d07b45-0e3b-4b96-f189-1d43a0dec0d8"
      },
      "source": [
        "from google.colab import drive\n",
        "drive.mount('/content/drive')"
      ],
      "execution_count": null,
      "outputs": [
        {
          "output_type": "stream",
          "text": [
            "Mounted at /content/drive\n"
          ],
          "name": "stdout"
        }
      ]
    },
    {
      "cell_type": "code",
      "metadata": {
        "id": "A0W-LGJ0QLR6",
        "colab": {
          "base_uri": "https://localhost:8080/",
          "height": 695
        },
        "outputId": "aa30ce47-9f8b-4180-88d9-8bda3e5f5728"
      },
      "source": [
        "# Загрузим данные\n",
        "PATH = \"/content/drive/My Drive/datasets/work_data/\"\n",
        "fname = 'Test Sample.xlsx'\n",
        "df = pd.read_excel(PATH + fname)\n",
        "display(df)"
      ],
      "execution_count": null,
      "outputs": [
        {
          "output_type": "display_data",
          "data": {
            "text/html": [
              "<div>\n",
              "<style scoped>\n",
              "    .dataframe tbody tr th:only-of-type {\n",
              "        vertical-align: middle;\n",
              "    }\n",
              "\n",
              "    .dataframe tbody tr th {\n",
              "        vertical-align: top;\n",
              "    }\n",
              "\n",
              "    .dataframe thead th {\n",
              "        text-align: right;\n",
              "    }\n",
              "</style>\n",
              "<table border=\"1\" class=\"dataframe\">\n",
              "  <thead>\n",
              "    <tr style=\"text-align: right;\">\n",
              "      <th></th>\n",
              "      <th>fpd5_flg</th>\n",
              "      <th>dt</th>\n",
              "      <th>gender</th>\n",
              "      <th>device_quaility_index</th>\n",
              "      <th>behavioral_index</th>\n",
              "      <th>type_of_document</th>\n",
              "      <th>age</th>\n",
              "      <th>email_domain_formatted</th>\n",
              "      <th>social_status</th>\n",
              "      <th>salary</th>\n",
              "      <th>disbursment_type</th>\n",
              "      <th>os</th>\n",
              "      <th>email_index</th>\n",
              "    </tr>\n",
              "  </thead>\n",
              "  <tbody>\n",
              "    <tr>\n",
              "      <th>0</th>\n",
              "      <td>0</td>\n",
              "      <td>2021-01-22</td>\n",
              "      <td>0</td>\n",
              "      <td>NaN</td>\n",
              "      <td>NaN</td>\n",
              "      <td>UMID</td>\n",
              "      <td>26</td>\n",
              "      <td>GMAIL.COM</td>\n",
              "      <td>Private Company Employee</td>\n",
              "      <td>20000.0</td>\n",
              "      <td>Bank</td>\n",
              "      <td>Android</td>\n",
              "      <td>0.0</td>\n",
              "    </tr>\n",
              "    <tr>\n",
              "      <th>1</th>\n",
              "      <td>0</td>\n",
              "      <td>2020-12-14</td>\n",
              "      <td>1</td>\n",
              "      <td>3.0</td>\n",
              "      <td>4.0</td>\n",
              "      <td>UMID</td>\n",
              "      <td>32</td>\n",
              "      <td>GMAIL.COM</td>\n",
              "      <td>Other</td>\n",
              "      <td>18000.0</td>\n",
              "      <td>E-wallet</td>\n",
              "      <td>Android</td>\n",
              "      <td>1.0</td>\n",
              "    </tr>\n",
              "    <tr>\n",
              "      <th>2</th>\n",
              "      <td>1</td>\n",
              "      <td>2021-01-26</td>\n",
              "      <td>0</td>\n",
              "      <td>0.0</td>\n",
              "      <td>3.0</td>\n",
              "      <td>SSS</td>\n",
              "      <td>41</td>\n",
              "      <td>YAHOO.COM</td>\n",
              "      <td>Private Company Employee</td>\n",
              "      <td>14000.0</td>\n",
              "      <td>Bank</td>\n",
              "      <td>Android</td>\n",
              "      <td>1.0</td>\n",
              "    </tr>\n",
              "    <tr>\n",
              "      <th>3</th>\n",
              "      <td>1</td>\n",
              "      <td>2020-12-10</td>\n",
              "      <td>1</td>\n",
              "      <td>0.0</td>\n",
              "      <td>5.0</td>\n",
              "      <td>TIN</td>\n",
              "      <td>28</td>\n",
              "      <td>GMAIL.COM</td>\n",
              "      <td>BPO Professionals</td>\n",
              "      <td>40000.0</td>\n",
              "      <td>E-wallet</td>\n",
              "      <td>Android</td>\n",
              "      <td>1.0</td>\n",
              "    </tr>\n",
              "    <tr>\n",
              "      <th>4</th>\n",
              "      <td>1</td>\n",
              "      <td>2021-01-17</td>\n",
              "      <td>0</td>\n",
              "      <td>3.0</td>\n",
              "      <td>3.0</td>\n",
              "      <td>UMID</td>\n",
              "      <td>31</td>\n",
              "      <td>GMAIL.COM</td>\n",
              "      <td>BPO Professionals</td>\n",
              "      <td>25000.0</td>\n",
              "      <td>Bank</td>\n",
              "      <td>Android</td>\n",
              "      <td>0.0</td>\n",
              "    </tr>\n",
              "    <tr>\n",
              "      <th>...</th>\n",
              "      <td>...</td>\n",
              "      <td>...</td>\n",
              "      <td>...</td>\n",
              "      <td>...</td>\n",
              "      <td>...</td>\n",
              "      <td>...</td>\n",
              "      <td>...</td>\n",
              "      <td>...</td>\n",
              "      <td>...</td>\n",
              "      <td>...</td>\n",
              "      <td>...</td>\n",
              "      <td>...</td>\n",
              "      <td>...</td>\n",
              "    </tr>\n",
              "    <tr>\n",
              "      <th>15358</th>\n",
              "      <td>0</td>\n",
              "      <td>2021-01-05</td>\n",
              "      <td>1</td>\n",
              "      <td>3.0</td>\n",
              "      <td>5.0</td>\n",
              "      <td>UMID</td>\n",
              "      <td>36</td>\n",
              "      <td>GMAIL.COM</td>\n",
              "      <td>Business Owner</td>\n",
              "      <td>25000.0</td>\n",
              "      <td>E-wallet</td>\n",
              "      <td>Android</td>\n",
              "      <td>6.0</td>\n",
              "    </tr>\n",
              "    <tr>\n",
              "      <th>15359</th>\n",
              "      <td>1</td>\n",
              "      <td>2021-01-23</td>\n",
              "      <td>1</td>\n",
              "      <td>0.0</td>\n",
              "      <td>3.0</td>\n",
              "      <td>Passport</td>\n",
              "      <td>32</td>\n",
              "      <td>GMAIL.COM</td>\n",
              "      <td>Self-Employed</td>\n",
              "      <td>25000.0</td>\n",
              "      <td>E-wallet</td>\n",
              "      <td>Android</td>\n",
              "      <td>1.0</td>\n",
              "    </tr>\n",
              "    <tr>\n",
              "      <th>15360</th>\n",
              "      <td>1</td>\n",
              "      <td>2021-02-01</td>\n",
              "      <td>1</td>\n",
              "      <td>1.0</td>\n",
              "      <td>5.0</td>\n",
              "      <td>UMID</td>\n",
              "      <td>29</td>\n",
              "      <td>GMAIL.COM</td>\n",
              "      <td>Private Company Employee</td>\n",
              "      <td>25000.0</td>\n",
              "      <td>E-wallet</td>\n",
              "      <td>Android</td>\n",
              "      <td>0.0</td>\n",
              "    </tr>\n",
              "    <tr>\n",
              "      <th>15361</th>\n",
              "      <td>0</td>\n",
              "      <td>2020-12-14</td>\n",
              "      <td>1</td>\n",
              "      <td>1.0</td>\n",
              "      <td>5.0</td>\n",
              "      <td>UMID</td>\n",
              "      <td>37</td>\n",
              "      <td>GMAIL.COM</td>\n",
              "      <td>Private Company Employee</td>\n",
              "      <td>25000.0</td>\n",
              "      <td>Bank</td>\n",
              "      <td>Android</td>\n",
              "      <td>6.0</td>\n",
              "    </tr>\n",
              "    <tr>\n",
              "      <th>15362</th>\n",
              "      <td>0</td>\n",
              "      <td>2021-01-30</td>\n",
              "      <td>1</td>\n",
              "      <td>3.0</td>\n",
              "      <td>4.0</td>\n",
              "      <td>SSS</td>\n",
              "      <td>41</td>\n",
              "      <td>GMAIL.COM</td>\n",
              "      <td>Private Company Employee</td>\n",
              "      <td>35000.0</td>\n",
              "      <td>Bank</td>\n",
              "      <td>Android</td>\n",
              "      <td>0.0</td>\n",
              "    </tr>\n",
              "  </tbody>\n",
              "</table>\n",
              "<p>15363 rows × 13 columns</p>\n",
              "</div>"
            ],
            "text/plain": [
              "       fpd5_flg          dt  gender  ...  disbursment_type       os email_index\n",
              "0             0  2021-01-22       0  ...              Bank  Android         0.0\n",
              "1             0  2020-12-14       1  ...          E-wallet  Android         1.0\n",
              "2             1  2021-01-26       0  ...              Bank  Android         1.0\n",
              "3             1  2020-12-10       1  ...          E-wallet  Android         1.0\n",
              "4             1  2021-01-17       0  ...              Bank  Android         0.0\n",
              "...         ...         ...     ...  ...               ...      ...         ...\n",
              "15358         0  2021-01-05       1  ...          E-wallet  Android         6.0\n",
              "15359         1  2021-01-23       1  ...          E-wallet  Android         1.0\n",
              "15360         1  2021-02-01       1  ...          E-wallet  Android         0.0\n",
              "15361         0  2020-12-14       1  ...              Bank  Android         6.0\n",
              "15362         0  2021-01-30       1  ...              Bank  Android         0.0\n",
              "\n",
              "[15363 rows x 13 columns]"
            ]
          },
          "metadata": {
            "tags": []
          }
        }
      ]
    },
    {
      "cell_type": "code",
      "metadata": {
        "id": "loefH-LwQLaT",
        "colab": {
          "base_uri": "https://localhost:8080/"
        },
        "outputId": "6a28405b-f0d9-41a9-e5a8-882765d6c615"
      },
      "source": [
        "# Проверка датасета на отсутствие данных \n",
        "df.isna().sum()"
      ],
      "execution_count": null,
      "outputs": [
        {
          "output_type": "execute_result",
          "data": {
            "text/plain": [
              "fpd5_flg                    0\n",
              "dt                          0\n",
              "gender                      0\n",
              "device_quaility_index     565\n",
              "behavioral_index          565\n",
              "type_of_document            0\n",
              "age                         0\n",
              "email_domain_formatted      0\n",
              "social_status               0\n",
              "salary                    714\n",
              "disbursment_type            0\n",
              "os                         16\n",
              "email_index                33\n",
              "dtype: int64"
            ]
          },
          "metadata": {
            "tags": []
          },
          "execution_count": 7
        }
      ]
    },
    {
      "cell_type": "code",
      "metadata": {
        "id": "jkTOSYvuRoVA",
        "colab": {
          "base_uri": "https://localhost:8080/"
        },
        "outputId": "97d45ab1-90c9-46ed-a3df-8412efb307ae"
      },
      "source": [
        "# Функция для вычисления процентного списка пропущенных данных\n",
        "def get_persent(fn):\n",
        "  try:\n",
        "    for col in fn.columns:\n",
        "      pct_missing = np.mean(fn[col].isnull())\n",
        "      print('{} - {}%'.format(col, round(pct_missing*100, 3)))\n",
        "  except ValueError:\n",
        "    print('Error DataFrame')\n",
        "\n",
        "get_persent(df)"
      ],
      "execution_count": null,
      "outputs": [
        {
          "output_type": "stream",
          "text": [
            "fpd5_flg - 0.0%\n",
            "dt - 0.0%\n",
            "gender - 0.0%\n",
            "device_quaility_index - 3.678%\n",
            "behavioral_index - 3.678%\n",
            "type_of_document - 0.0%\n",
            "age - 0.0%\n",
            "email_domain_formatted - 0.0%\n",
            "social_status - 0.0%\n",
            "salary - 4.648%\n",
            "disbursment_type - 0.0%\n",
            "os - 0.104%\n",
            "email_index - 0.215%\n"
          ],
          "name": "stdout"
        }
      ]
    },
    {
      "cell_type": "code",
      "metadata": {
        "id": "W1v0IbRwUNuA",
        "colab": {
          "base_uri": "https://localhost:8080/",
          "height": 297
        },
        "outputId": "4a8888bc-41a3-4553-a7b2-e9729d47d564"
      },
      "source": [
        "# Выведем описательную статистику по данным\n",
        "df.describe()"
      ],
      "execution_count": null,
      "outputs": [
        {
          "output_type": "execute_result",
          "data": {
            "text/html": [
              "<div>\n",
              "<style scoped>\n",
              "    .dataframe tbody tr th:only-of-type {\n",
              "        vertical-align: middle;\n",
              "    }\n",
              "\n",
              "    .dataframe tbody tr th {\n",
              "        vertical-align: top;\n",
              "    }\n",
              "\n",
              "    .dataframe thead th {\n",
              "        text-align: right;\n",
              "    }\n",
              "</style>\n",
              "<table border=\"1\" class=\"dataframe\">\n",
              "  <thead>\n",
              "    <tr style=\"text-align: right;\">\n",
              "      <th></th>\n",
              "      <th>fpd5_flg</th>\n",
              "      <th>gender</th>\n",
              "      <th>device_quaility_index</th>\n",
              "      <th>behavioral_index</th>\n",
              "      <th>age</th>\n",
              "      <th>salary</th>\n",
              "      <th>email_index</th>\n",
              "    </tr>\n",
              "  </thead>\n",
              "  <tbody>\n",
              "    <tr>\n",
              "      <th>count</th>\n",
              "      <td>15363.000000</td>\n",
              "      <td>15363.000000</td>\n",
              "      <td>14798.000000</td>\n",
              "      <td>14798.000000</td>\n",
              "      <td>15363.000000</td>\n",
              "      <td>1.464900e+04</td>\n",
              "      <td>15330.000000</td>\n",
              "    </tr>\n",
              "    <tr>\n",
              "      <th>mean</th>\n",
              "      <td>0.272798</td>\n",
              "      <td>0.629109</td>\n",
              "      <td>2.369982</td>\n",
              "      <td>4.051291</td>\n",
              "      <td>35.135781</td>\n",
              "      <td>1.261647e+05</td>\n",
              "      <td>1.580039</td>\n",
              "    </tr>\n",
              "    <tr>\n",
              "      <th>std</th>\n",
              "      <td>0.445412</td>\n",
              "      <td>0.483059</td>\n",
              "      <td>1.077686</td>\n",
              "      <td>0.937965</td>\n",
              "      <td>9.125229</td>\n",
              "      <td>1.239332e+07</td>\n",
              "      <td>2.397705</td>\n",
              "    </tr>\n",
              "    <tr>\n",
              "      <th>min</th>\n",
              "      <td>0.000000</td>\n",
              "      <td>0.000000</td>\n",
              "      <td>0.000000</td>\n",
              "      <td>1.000000</td>\n",
              "      <td>21.000000</td>\n",
              "      <td>0.000000e+00</td>\n",
              "      <td>0.000000</td>\n",
              "    </tr>\n",
              "    <tr>\n",
              "      <th>25%</th>\n",
              "      <td>0.000000</td>\n",
              "      <td>0.000000</td>\n",
              "      <td>2.000000</td>\n",
              "      <td>3.000000</td>\n",
              "      <td>28.000000</td>\n",
              "      <td>1.500000e+04</td>\n",
              "      <td>0.000000</td>\n",
              "    </tr>\n",
              "    <tr>\n",
              "      <th>50%</th>\n",
              "      <td>0.000000</td>\n",
              "      <td>1.000000</td>\n",
              "      <td>3.000000</td>\n",
              "      <td>4.000000</td>\n",
              "      <td>34.000000</td>\n",
              "      <td>2.000000e+04</td>\n",
              "      <td>1.000000</td>\n",
              "    </tr>\n",
              "    <tr>\n",
              "      <th>75%</th>\n",
              "      <td>1.000000</td>\n",
              "      <td>1.000000</td>\n",
              "      <td>3.000000</td>\n",
              "      <td>5.000000</td>\n",
              "      <td>41.000000</td>\n",
              "      <td>2.600000e+04</td>\n",
              "      <td>1.000000</td>\n",
              "    </tr>\n",
              "    <tr>\n",
              "      <th>max</th>\n",
              "      <td>1.000000</td>\n",
              "      <td>1.000000</td>\n",
              "      <td>4.000000</td>\n",
              "      <td>6.000000</td>\n",
              "      <td>69.000000</td>\n",
              "      <td>1.500020e+09</td>\n",
              "      <td>12.000000</td>\n",
              "    </tr>\n",
              "  </tbody>\n",
              "</table>\n",
              "</div>"
            ],
            "text/plain": [
              "           fpd5_flg        gender  ...        salary   email_index\n",
              "count  15363.000000  15363.000000  ...  1.464900e+04  15330.000000\n",
              "mean       0.272798      0.629109  ...  1.261647e+05      1.580039\n",
              "std        0.445412      0.483059  ...  1.239332e+07      2.397705\n",
              "min        0.000000      0.000000  ...  0.000000e+00      0.000000\n",
              "25%        0.000000      0.000000  ...  1.500000e+04      0.000000\n",
              "50%        0.000000      1.000000  ...  2.000000e+04      1.000000\n",
              "75%        1.000000      1.000000  ...  2.600000e+04      1.000000\n",
              "max        1.000000      1.000000  ...  1.500020e+09     12.000000\n",
              "\n",
              "[8 rows x 7 columns]"
            ]
          },
          "metadata": {
            "tags": []
          },
          "execution_count": 9
        }
      ]
    },
    {
      "cell_type": "code",
      "metadata": {
        "id": "MUkxNnMQhtJY",
        "colab": {
          "base_uri": "https://localhost:8080/"
        },
        "outputId": "77a0a00d-ad73-416d-c1f2-929967f9f9cd"
      },
      "source": [
        "# Проверим на дубликаты\n",
        "df.duplicated()"
      ],
      "execution_count": null,
      "outputs": [
        {
          "output_type": "execute_result",
          "data": {
            "text/plain": [
              "0        False\n",
              "1        False\n",
              "2        False\n",
              "3        False\n",
              "4        False\n",
              "         ...  \n",
              "15358    False\n",
              "15359    False\n",
              "15360    False\n",
              "15361    False\n",
              "15362    False\n",
              "Length: 15363, dtype: bool"
            ]
          },
          "metadata": {
            "tags": []
          },
          "execution_count": 10
        }
      ]
    },
    {
      "cell_type": "code",
      "metadata": {
        "id": "TqUkFRIoUnf3",
        "colab": {
          "base_uri": "https://localhost:8080/"
        },
        "outputId": "df5c496c-7e08-4aa4-b2b0-b0ab3a6d1341"
      },
      "source": [
        "# Выведем информацию о данных\n",
        "df.info()"
      ],
      "execution_count": null,
      "outputs": [
        {
          "output_type": "stream",
          "text": [
            "<class 'pandas.core.frame.DataFrame'>\n",
            "RangeIndex: 15363 entries, 0 to 15362\n",
            "Data columns (total 13 columns):\n",
            " #   Column                  Non-Null Count  Dtype  \n",
            "---  ------                  --------------  -----  \n",
            " 0   fpd5_flg                15363 non-null  int64  \n",
            " 1   dt                      15363 non-null  object \n",
            " 2   gender                  15363 non-null  int64  \n",
            " 3   device_quaility_index   14798 non-null  float64\n",
            " 4   behavioral_index        14798 non-null  float64\n",
            " 5   type_of_document        15363 non-null  object \n",
            " 6   age                     15363 non-null  int64  \n",
            " 7   email_domain_formatted  15363 non-null  object \n",
            " 8   social_status           15363 non-null  object \n",
            " 9   salary                  14649 non-null  float64\n",
            " 10  disbursment_type        15363 non-null  object \n",
            " 11  os                      15347 non-null  object \n",
            " 12  email_index             15330 non-null  float64\n",
            "dtypes: float64(4), int64(3), object(6)\n",
            "memory usage: 1.5+ MB\n"
          ],
          "name": "stdout"
        }
      ]
    },
    {
      "cell_type": "code",
      "metadata": {
        "id": "uZnGkIuXXH_E",
        "colab": {
          "base_uri": "https://localhost:8080/",
          "height": 266
        },
        "outputId": "5edf7444-4eec-44bd-e8da-2b3cb3e1cac9"
      },
      "source": [
        "# Проверим корреляцию между переменными\n",
        "df.corr()"
      ],
      "execution_count": null,
      "outputs": [
        {
          "output_type": "execute_result",
          "data": {
            "text/html": [
              "<div>\n",
              "<style scoped>\n",
              "    .dataframe tbody tr th:only-of-type {\n",
              "        vertical-align: middle;\n",
              "    }\n",
              "\n",
              "    .dataframe tbody tr th {\n",
              "        vertical-align: top;\n",
              "    }\n",
              "\n",
              "    .dataframe thead th {\n",
              "        text-align: right;\n",
              "    }\n",
              "</style>\n",
              "<table border=\"1\" class=\"dataframe\">\n",
              "  <thead>\n",
              "    <tr style=\"text-align: right;\">\n",
              "      <th></th>\n",
              "      <th>fpd5_flg</th>\n",
              "      <th>gender</th>\n",
              "      <th>device_quaility_index</th>\n",
              "      <th>behavioral_index</th>\n",
              "      <th>age</th>\n",
              "      <th>salary</th>\n",
              "      <th>email_index</th>\n",
              "    </tr>\n",
              "  </thead>\n",
              "  <tbody>\n",
              "    <tr>\n",
              "      <th>fpd5_flg</th>\n",
              "      <td>1.000000</td>\n",
              "      <td>-0.059176</td>\n",
              "      <td>-0.063721</td>\n",
              "      <td>0.036196</td>\n",
              "      <td>-0.057321</td>\n",
              "      <td>-0.005169</td>\n",
              "      <td>0.042753</td>\n",
              "    </tr>\n",
              "    <tr>\n",
              "      <th>gender</th>\n",
              "      <td>-0.059176</td>\n",
              "      <td>1.000000</td>\n",
              "      <td>-0.072875</td>\n",
              "      <td>-0.021173</td>\n",
              "      <td>-0.002914</td>\n",
              "      <td>0.006323</td>\n",
              "      <td>-0.000178</td>\n",
              "    </tr>\n",
              "    <tr>\n",
              "      <th>device_quaility_index</th>\n",
              "      <td>-0.063721</td>\n",
              "      <td>-0.072875</td>\n",
              "      <td>1.000000</td>\n",
              "      <td>-0.030675</td>\n",
              "      <td>-0.229887</td>\n",
              "      <td>-0.010639</td>\n",
              "      <td>-0.076656</td>\n",
              "    </tr>\n",
              "    <tr>\n",
              "      <th>behavioral_index</th>\n",
              "      <td>0.036196</td>\n",
              "      <td>-0.021173</td>\n",
              "      <td>-0.030675</td>\n",
              "      <td>1.000000</td>\n",
              "      <td>-0.018614</td>\n",
              "      <td>0.008439</td>\n",
              "      <td>0.036294</td>\n",
              "    </tr>\n",
              "    <tr>\n",
              "      <th>age</th>\n",
              "      <td>-0.057321</td>\n",
              "      <td>-0.002914</td>\n",
              "      <td>-0.229887</td>\n",
              "      <td>-0.018614</td>\n",
              "      <td>1.000000</td>\n",
              "      <td>0.005681</td>\n",
              "      <td>0.086435</td>\n",
              "    </tr>\n",
              "    <tr>\n",
              "      <th>salary</th>\n",
              "      <td>-0.005169</td>\n",
              "      <td>0.006323</td>\n",
              "      <td>-0.010639</td>\n",
              "      <td>0.008439</td>\n",
              "      <td>0.005681</td>\n",
              "      <td>1.000000</td>\n",
              "      <td>-0.001994</td>\n",
              "    </tr>\n",
              "    <tr>\n",
              "      <th>email_index</th>\n",
              "      <td>0.042753</td>\n",
              "      <td>-0.000178</td>\n",
              "      <td>-0.076656</td>\n",
              "      <td>0.036294</td>\n",
              "      <td>0.086435</td>\n",
              "      <td>-0.001994</td>\n",
              "      <td>1.000000</td>\n",
              "    </tr>\n",
              "  </tbody>\n",
              "</table>\n",
              "</div>"
            ],
            "text/plain": [
              "                       fpd5_flg    gender  ...    salary  email_index\n",
              "fpd5_flg               1.000000 -0.059176  ... -0.005169     0.042753\n",
              "gender                -0.059176  1.000000  ...  0.006323    -0.000178\n",
              "device_quaility_index -0.063721 -0.072875  ... -0.010639    -0.076656\n",
              "behavioral_index       0.036196 -0.021173  ...  0.008439     0.036294\n",
              "age                   -0.057321 -0.002914  ...  0.005681     0.086435\n",
              "salary                -0.005169  0.006323  ...  1.000000    -0.001994\n",
              "email_index            0.042753 -0.000178  ... -0.001994     1.000000\n",
              "\n",
              "[7 rows x 7 columns]"
            ]
          },
          "metadata": {
            "tags": []
          },
          "execution_count": 12
        }
      ]
    },
    {
      "cell_type": "code",
      "metadata": {
        "id": "lUNv0AYi6INE",
        "colab": {
          "base_uri": "https://localhost:8080/",
          "height": 424
        },
        "outputId": "e776ebad-9191-49fa-d9b0-8fab78ebc8bb"
      },
      "source": [
        "# Построим матрицу корреляции\n",
        "f = plt.figure(figsize=(16, 6))\n",
        "plt.matshow(df.corr(), fignum=f.number)\n",
        "plt.yticks(range(df.select_dtypes(['number']).shape[1]), df.select_dtypes(['number']).columns, fontsize=14)\n",
        "cb = plt.colorbar()\n",
        "cb.ax.tick_params(labelsize=14)\n",
        "plt.title('Correlation Matrix', fontsize=16)"
      ],
      "execution_count": null,
      "outputs": [
        {
          "output_type": "execute_result",
          "data": {
            "text/plain": [
              "Text(0.5, 1.05, 'Correlation Matrix')"
            ]
          },
          "metadata": {
            "tags": []
          },
          "execution_count": 13
        },
        {
          "output_type": "display_data",
          "data": {
            "image/png": "[encoded data removed]",
            "text/plain": [
              "<Figure size 1152x432 with 2 Axes>"
            ]
          },
          "metadata": {
            "tags": []
          }
        }
      ]
    },
    {
      "cell_type": "markdown",
      "metadata": {
        "id": "BjsL7qYDSkpv"
      },
      "source": [
        "По данным выше видно, что пропуски имееются в переменных device_quaility_index, behavioral_index,salary, os, email_index причина отсутствие данных. Корреляция между переменными есть, но слабая. Просто удалить пропуски из переменных было бы не корректно. Чтобы не потерять данные, подставим в пропуски значения."
      ]
    },
    {
      "cell_type": "markdown",
      "metadata": {
        "id": "dFR4DsheRT5j"
      },
      "source": [
        "# Preprocessing Data"
      ]
    },
    {
      "cell_type": "code",
      "metadata": {
        "id": "uigvbTY0SN-w",
        "colab": {
          "base_uri": "https://localhost:8080/"
        },
        "outputId": "b90dd7ab-000d-4ec1-8944-4567b515d911"
      },
      "source": [
        "# Получим X и Y c датасета\n",
        "df1 = df.copy()\n",
        "X = df1.drop(['fpd5_flg', 'dt'], axis=1).values\n",
        "Y = df1['fpd5_flg'].astype(int)\n",
        "col = df1.drop(['fpd5_flg', 'dt'], axis=1)\n",
        "\n",
        "class_0 = len(df1[df1['fpd5_flg']==0])\n",
        "class_1 = len(df1[df1['fpd5_flg']==1])\n",
        "class_0_perc = class_0/(class_0 + class_1)\n",
        "class_1_perc = class_1 / (class_0 + class_1)\n",
        "\n",
        "print(f\"class_0: {round((class_0_perc * 100), 3)} %\")\n",
        "print(f\"class_1: {round((class_1_perc * 100), 3)} %\\n\")\n",
        "\n",
        "# Проверим баланс классов\n",
        "df1.fpd5_flg.value_counts(normalize = True)"
      ],
      "execution_count": null,
      "outputs": [
        {
          "output_type": "stream",
          "text": [
            "class_0: 72.72 %\n",
            "class_1: 27.28 %\n",
            "\n"
          ],
          "name": "stdout"
        },
        {
          "output_type": "execute_result",
          "data": {
            "text/plain": [
              "0    0.727202\n",
              "1    0.272798\n",
              "Name: fpd5_flg, dtype: float64"
            ]
          },
          "metadata": {
            "tags": []
          },
          "execution_count": 14
        }
      ]
    },
    {
      "cell_type": "code",
      "metadata": {
        "id": "4S0PMQ_ERoX4",
        "colab": {
          "base_uri": "https://localhost:8080/"
        },
        "outputId": "740e9289-d46f-4dea-cc4d-ea6f5c0c306f"
      },
      "source": [
        "# Заменим пропуски медианной в переменных\n",
        "df1['dt'] =  pd.to_datetime(df1['dt'], infer_datetime_format=True)\n",
        "df1['salary'] = df['salary'].fillna(df1['salary']. median()).astype(int)\n",
        "df1['behavioral_index'] = df1['behavioral_index'].fillna(df1['behavioral_index']. median()).astype(int)\n",
        "df1['device_quaility_index'] = df1['device_quaility_index'].fillna(df1['device_quaility_index']. median()).astype(int)\n",
        "\n",
        "# вычислим средние категориальные значения для других категориальных переменных\n",
        "df1 = pd.get_dummies(df1, columns=['type_of_document', 'disbursment_type', 'os'])\n",
        "df1['email_index'] = df1['email_index'].fillna(df1['email_index']. median()).astype(int)\n",
        "\n",
        "# Удаляем тектстовые значения, но можно их было пропустить через токенайзер, получить Embanding и добавить к обшей выборке\n",
        "df1 = df1.drop(['dt', 'email_domain_formatted', 'social_status'], axis = 1)\n",
        "\n",
        "# Проверка датасета на отсутствие данных \n",
        "df1.isna().sum()"
      ],
      "execution_count": null,
      "outputs": [
        {
          "output_type": "execute_result",
          "data": {
            "text/plain": [
              "fpd5_flg                              0\n",
              "gender                                0\n",
              "device_quaility_index                 0\n",
              "behavioral_index                      0\n",
              "age                                   0\n",
              "salary                                0\n",
              "email_index                           0\n",
              "type_of_document_Driver license ID    0\n",
              "type_of_document_PRC                  0\n",
              "type_of_document_Passport             0\n",
              "type_of_document_SSS                  0\n",
              "type_of_document_TIN                  0\n",
              "type_of_document_UMID                 0\n",
              "disbursment_type_Bank                 0\n",
              "disbursment_type_E-wallet             0\n",
              "os_Android                            0\n",
              "os_Chrome OS                          0\n",
              "os_Linux                              0\n",
              "os_OS X                               0\n",
              "os_Windows                            0\n",
              "os_iOS                                0\n",
              "os_macOS                              0\n",
              "dtype: int64"
            ]
          },
          "metadata": {
            "tags": []
          },
          "execution_count": 15
        }
      ]
    },
    {
      "cell_type": "code",
      "metadata": {
        "id": "qTs9D85zT7fx",
        "colab": {
          "base_uri": "https://localhost:8080/",
          "height": 301
        },
        "outputId": "076bb8f0-9bf1-4e3e-d80c-ce2a6896f493"
      },
      "source": [
        "# Отобразим на графике\n",
        "\n",
        "pos = df1[df1['fpd5_flg'] == 0].shape[0]\n",
        "neg = df1[df1['fpd5_flg'] == 1].shape[0]\n",
        "plt.figure(figsize=(6, 4))\n",
        "sns.countplot(df1['fpd5_flg'])\n",
        "plt.xticks((0, 1), ['0-class', \"1-class\"])\n",
        "plt.ylabel('Количество классов')\n",
        "plt.xlabel(\"\")\n",
        "plt.title('Соотношение классов')"
      ],
      "execution_count": null,
      "outputs": [
        {
          "output_type": "execute_result",
          "data": {
            "text/plain": [
              "Text(0.5, 1.0, 'Соотношение классов')"
            ]
          },
          "metadata": {
            "tags": []
          },
          "execution_count": 16
        },
        {
          "output_type": "display_data",
          "data": {
            "image/png": "[encoded data removed]",
            "text/plain": [
              "<Figure size 432x288 with 1 Axes>"
            ]
          },
          "metadata": {
            "tags": []
          }
        }
      ]
    },
    {
      "cell_type": "markdown",
      "metadata": {
        "id": "ePZJrPspD2xv"
      },
      "source": [
        "Дисбаланс классов.Для более точной оценке будем использовать, RobustScaler чтобы стандартизация была менее подвержена влиянию выбросов, т.е. была более надежной."
      ]
    },
    {
      "cell_type": "markdown",
      "metadata": {
        "id": "UGCOICIlQBNT"
      },
      "source": [
        "# Make Models"
      ]
    },
    {
      "cell_type": "code",
      "metadata": {
        "id": "USR8tXp0Efz9",
        "colab": {
          "base_uri": "https://localhost:8080/"
        },
        "outputId": "542f0031-0608-478a-c2c8-08c029d26d31"
      },
      "source": [
        "# Исходные данные\n",
        "X = df1.loc[:, df1.columns != \"fpd5_flg\"].values\n",
        "y = df1.loc[:, df1.columns == \"fpd5_flg\"].values.flatten()\n",
        "X_train, X_test, y_train, y_test = train_test_split(\n",
        "    X, y, test_size=0.2, shuffle=True, random_state=123, stratify=y)\n",
        "print(f\"Исходные данные shapes: {X_train.shape, X_test.shape}\")\n",
        "print(f\"Исходные данные shapes: {y_train.shape, y_test.shape}\")\n",
        "\n",
        "# Очистка двоичных столбцов\n",
        "train_indices_na = np.max(np.isnan(X_train), axis=1)\n",
        "test_indices_na = np.max(np.isnan(X_test), axis=1)\n",
        "X_train_dropna, y_train_dropna = X_train[~train_indices_na, :][:, :-6], y_train[~train_indices_na]\n",
        "X_test_dropna, y_test_dropna = X_test[~test_indices_na, :][:, :-6], y_test[~test_indices_na]\n",
        "print(f\"\\nОчищенные данные: {X_train_dropna.shape, X_test_dropna.shape}\\n\")\n",
        "\n",
        "\n",
        "# Преобразование данных\n",
        "mice = IterativeImputer(verbose=0)\n",
        "X_mice = mice.fit_transform(X)\n",
        "X_train_mice, X_test_mice, y_train_mice, y_test_mice = train_test_split(\n",
        "    X_mice, y, test_size=0.2, shuffle=True, random_state=123, stratify=y)\n",
        "print(f\"Преобразование данных: {X_train_mice.shape, X_test_mice.shape}\")\n",
        "print(f\"Преобразование данных: {y_train_mice.shape, y_test_mice.shape}\")\n"
      ],
      "execution_count": null,
      "outputs": [
        {
          "output_type": "stream",
          "text": [
            "Исходные данные shapes: ((12290, 21), (3073, 21))\n",
            "Исходные данные shapes: ((12290,), (3073,))\n",
            "\n",
            "Очищенные данные: ((12290, 15), (3073, 15))\n",
            "\n",
            "Преобразование данных: ((12290, 21), (3073, 21))\n",
            "Преобразование данных: ((12290,), (3073,))\n"
          ],
          "name": "stdout"
        }
      ]
    },
    {
      "cell_type": "code",
      "metadata": {
        "colab": {
          "base_uri": "https://localhost:8080/"
        },
        "id": "ATKZl0wnH2hN",
        "outputId": "35bf2f8b-5310-4c23-8107-1fa49b3671a6"
      },
      "source": [
        "%%timeit\n",
        "\n",
        "# Модель случайный лес классификатор \n",
        "rf_clf = RandomForestClassifier(n_estimators=100,\n",
        "                                max_features=0.25,\n",
        "                                criterion=\"gini\",\n",
        "                                class_weight=\"balanced\")\n",
        "pip_baseline = make_pipeline(RobustScaler(), rf_clf)\n",
        "scores = cross_val_score(pip_baseline,\n",
        "                         X_train_dropna, y_train_dropna,\n",
        "                         scoring=\"roc_auc\", cv=10, verbose=1)\n",
        "print(f\"\\nБазовая модель средняя AUC: {scores.mean():.3f}\\n\")\n",
        "\n",
        "# Модель со среднеми  данными\n",
        "pip_impute_mean = make_pipeline(SimpleImputer(strategy=\"mean\"),\n",
        "                                RobustScaler(), rf_clf)\n",
        "scores = cross_val_score(pip_impute_mean,\n",
        "                         X_train, y_train,\n",
        "                         scoring=\"roc_auc\", cv=10, verbose=1)\n",
        "print(f\"\\nМодель со среднеми данными средняя AUC: {scores.mean():.3f}\\n\")\n",
        "\n",
        "# Модель с медианными данными\n",
        "pip_impute_median = make_pipeline(SimpleImputer(strategy=\"median\"),\n",
        "                                  RobustScaler(), rf_clf)\n",
        "scores = cross_val_score(pip_impute_median,\n",
        "                         X_train, y_train,\n",
        "                         scoring=\"roc_auc\", cv=10, verbose=1)\n",
        "print(f\"\\nМодель с медианными данными средняя AUC: {scores.mean():.3f}\\n\")\n",
        "\n",
        "\n",
        "# Модель с преобразованными данными\n",
        "pip_impute_mice = make_pipeline(RobustScaler(), rf_clf)\n",
        "scores = cross_val_score(pip_impute_mice,\n",
        "                         X_train_mice, y_train_mice,\n",
        "                         scoring=\"roc_auc\", cv=10, verbose=1)\n",
        "print(f\"\\nМодель с преобразованными данными средняя AUC: {scores.mean():.3f}\\n\")"
      ],
      "execution_count": null,
      "outputs": [
        {
          "output_type": "stream",
          "text": [
            "[Parallel(n_jobs=1)]: Using backend SequentialBackend with 1 concurrent workers.\n",
            "[Parallel(n_jobs=1)]: Done  10 out of  10 | elapsed:   10.2s finished\n",
            "[Parallel(n_jobs=1)]: Using backend SequentialBackend with 1 concurrent workers.\n"
          ],
          "name": "stderr"
        },
        {
          "output_type": "stream",
          "text": [
            "\n",
            "Базовая модель средняя AUC: 0.564\n",
            "\n"
          ],
          "name": "stdout"
        },
        {
          "output_type": "stream",
          "text": [
            "[Parallel(n_jobs=1)]: Done  10 out of  10 | elapsed:   11.4s finished\n",
            "[Parallel(n_jobs=1)]: Using backend SequentialBackend with 1 concurrent workers.\n"
          ],
          "name": "stderr"
        },
        {
          "output_type": "stream",
          "text": [
            "\n",
            "Модель со среднеми данными средняя AUC: 0.567\n",
            "\n"
          ],
          "name": "stdout"
        },
        {
          "output_type": "stream",
          "text": [
            "[Parallel(n_jobs=1)]: Done  10 out of  10 | elapsed:   11.5s finished\n",
            "[Parallel(n_jobs=1)]: Using backend SequentialBackend with 1 concurrent workers.\n"
          ],
          "name": "stderr"
        },
        {
          "output_type": "stream",
          "text": [
            "\n",
            "Модель с медианными данными средняя AUC: 0.569\n",
            "\n"
          ],
          "name": "stdout"
        },
        {
          "output_type": "stream",
          "text": [
            "[Parallel(n_jobs=1)]: Done  10 out of  10 | elapsed:   11.4s finished\n",
            "[Parallel(n_jobs=1)]: Using backend SequentialBackend with 1 concurrent workers.\n"
          ],
          "name": "stderr"
        },
        {
          "output_type": "stream",
          "text": [
            "\n",
            "Модель с преобразованными данными средняя AUC: 0.568\n",
            "\n"
          ],
          "name": "stdout"
        },
        {
          "output_type": "stream",
          "text": [
            "[Parallel(n_jobs=1)]: Done  10 out of  10 | elapsed:    9.8s finished\n",
            "[Parallel(n_jobs=1)]: Using backend SequentialBackend with 1 concurrent workers.\n"
          ],
          "name": "stderr"
        },
        {
          "output_type": "stream",
          "text": [
            "\n",
            "Базовая модель средняя AUC: 0.564\n",
            "\n"
          ],
          "name": "stdout"
        },
        {
          "output_type": "stream",
          "text": [
            "[Parallel(n_jobs=1)]: Done  10 out of  10 | elapsed:   11.2s finished\n",
            "[Parallel(n_jobs=1)]: Using backend SequentialBackend with 1 concurrent workers.\n"
          ],
          "name": "stderr"
        },
        {
          "output_type": "stream",
          "text": [
            "\n",
            "Модель со среднеми данными средняя AUC: 0.569\n",
            "\n"
          ],
          "name": "stdout"
        },
        {
          "output_type": "stream",
          "text": [
            "[Parallel(n_jobs=1)]: Done  10 out of  10 | elapsed:   11.7s finished\n",
            "[Parallel(n_jobs=1)]: Using backend SequentialBackend with 1 concurrent workers.\n"
          ],
          "name": "stderr"
        },
        {
          "output_type": "stream",
          "text": [
            "\n",
            "Модель с медианными данными средняя AUC: 0.567\n",
            "\n"
          ],
          "name": "stdout"
        },
        {
          "output_type": "stream",
          "text": [
            "[Parallel(n_jobs=1)]: Done  10 out of  10 | elapsed:   11.2s finished\n",
            "[Parallel(n_jobs=1)]: Using backend SequentialBackend with 1 concurrent workers.\n"
          ],
          "name": "stderr"
        },
        {
          "output_type": "stream",
          "text": [
            "\n",
            "Модель с преобразованными данными средняя AUC: 0.566\n",
            "\n"
          ],
          "name": "stdout"
        },
        {
          "output_type": "stream",
          "text": [
            "[Parallel(n_jobs=1)]: Done  10 out of  10 | elapsed:    9.8s finished\n",
            "[Parallel(n_jobs=1)]: Using backend SequentialBackend with 1 concurrent workers.\n"
          ],
          "name": "stderr"
        },
        {
          "output_type": "stream",
          "text": [
            "\n",
            "Базовая модель средняя AUC: 0.563\n",
            "\n"
          ],
          "name": "stdout"
        },
        {
          "output_type": "stream",
          "text": [
            "[Parallel(n_jobs=1)]: Done  10 out of  10 | elapsed:   11.3s finished\n",
            "[Parallel(n_jobs=1)]: Using backend SequentialBackend with 1 concurrent workers.\n"
          ],
          "name": "stderr"
        },
        {
          "output_type": "stream",
          "text": [
            "\n",
            "Модель со среднеми данными средняя AUC: 0.566\n",
            "\n"
          ],
          "name": "stdout"
        },
        {
          "output_type": "stream",
          "text": [
            "[Parallel(n_jobs=1)]: Done  10 out of  10 | elapsed:   11.3s finished\n",
            "[Parallel(n_jobs=1)]: Using backend SequentialBackend with 1 concurrent workers.\n"
          ],
          "name": "stderr"
        },
        {
          "output_type": "stream",
          "text": [
            "\n",
            "Модель с медианными данными средняя AUC: 0.566\n",
            "\n"
          ],
          "name": "stdout"
        },
        {
          "output_type": "stream",
          "text": [
            "[Parallel(n_jobs=1)]: Done  10 out of  10 | elapsed:   11.3s finished\n",
            "[Parallel(n_jobs=1)]: Using backend SequentialBackend with 1 concurrent workers.\n"
          ],
          "name": "stderr"
        },
        {
          "output_type": "stream",
          "text": [
            "\n",
            "Модель с преобразованными данными средняя AUC: 0.566\n",
            "\n"
          ],
          "name": "stdout"
        },
        {
          "output_type": "stream",
          "text": [
            "[Parallel(n_jobs=1)]: Done  10 out of  10 | elapsed:   10.1s finished\n",
            "[Parallel(n_jobs=1)]: Using backend SequentialBackend with 1 concurrent workers.\n"
          ],
          "name": "stderr"
        },
        {
          "output_type": "stream",
          "text": [
            "\n",
            "Базовая модель средняя AUC: 0.565\n",
            "\n"
          ],
          "name": "stdout"
        },
        {
          "output_type": "stream",
          "text": [
            "[Parallel(n_jobs=1)]: Done  10 out of  10 | elapsed:   11.2s finished\n",
            "[Parallel(n_jobs=1)]: Using backend SequentialBackend with 1 concurrent workers.\n"
          ],
          "name": "stderr"
        },
        {
          "output_type": "stream",
          "text": [
            "\n",
            "Модель со среднеми данными средняя AUC: 0.566\n",
            "\n"
          ],
          "name": "stdout"
        },
        {
          "output_type": "stream",
          "text": [
            "[Parallel(n_jobs=1)]: Done  10 out of  10 | elapsed:   11.4s finished\n",
            "[Parallel(n_jobs=1)]: Using backend SequentialBackend with 1 concurrent workers.\n"
          ],
          "name": "stderr"
        },
        {
          "output_type": "stream",
          "text": [
            "\n",
            "Модель с медианными данными средняя AUC: 0.567\n",
            "\n"
          ],
          "name": "stdout"
        },
        {
          "output_type": "stream",
          "text": [
            "[Parallel(n_jobs=1)]: Done  10 out of  10 | elapsed:   11.4s finished\n",
            "[Parallel(n_jobs=1)]: Using backend SequentialBackend with 1 concurrent workers.\n"
          ],
          "name": "stderr"
        },
        {
          "output_type": "stream",
          "text": [
            "\n",
            "Модель с преобразованными данными средняя AUC: 0.568\n",
            "\n"
          ],
          "name": "stdout"
        },
        {
          "output_type": "stream",
          "text": [
            "[Parallel(n_jobs=1)]: Done  10 out of  10 | elapsed:    9.9s finished\n",
            "[Parallel(n_jobs=1)]: Using backend SequentialBackend with 1 concurrent workers.\n"
          ],
          "name": "stderr"
        },
        {
          "output_type": "stream",
          "text": [
            "\n",
            "Базовая модель средняя AUC: 0.564\n",
            "\n"
          ],
          "name": "stdout"
        },
        {
          "output_type": "stream",
          "text": [
            "[Parallel(n_jobs=1)]: Done  10 out of  10 | elapsed:   11.5s finished\n",
            "[Parallel(n_jobs=1)]: Using backend SequentialBackend with 1 concurrent workers.\n"
          ],
          "name": "stderr"
        },
        {
          "output_type": "stream",
          "text": [
            "\n",
            "Модель со среднеми данными средняя AUC: 0.569\n",
            "\n"
          ],
          "name": "stdout"
        },
        {
          "output_type": "stream",
          "text": [
            "[Parallel(n_jobs=1)]: Done  10 out of  10 | elapsed:   11.6s finished\n",
            "[Parallel(n_jobs=1)]: Using backend SequentialBackend with 1 concurrent workers.\n"
          ],
          "name": "stderr"
        },
        {
          "output_type": "stream",
          "text": [
            "\n",
            "Модель с медианными данными средняя AUC: 0.567\n",
            "\n"
          ],
          "name": "stdout"
        },
        {
          "output_type": "stream",
          "text": [
            "[Parallel(n_jobs=1)]: Done  10 out of  10 | elapsed:   11.1s finished\n",
            "[Parallel(n_jobs=1)]: Using backend SequentialBackend with 1 concurrent workers.\n"
          ],
          "name": "stderr"
        },
        {
          "output_type": "stream",
          "text": [
            "\n",
            "Модель с преобразованными данными средняя AUC: 0.569\n",
            "\n"
          ],
          "name": "stdout"
        },
        {
          "output_type": "stream",
          "text": [
            "[Parallel(n_jobs=1)]: Done  10 out of  10 | elapsed:    9.8s finished\n",
            "[Parallel(n_jobs=1)]: Using backend SequentialBackend with 1 concurrent workers.\n"
          ],
          "name": "stderr"
        },
        {
          "output_type": "stream",
          "text": [
            "\n",
            "Базовая модель средняя AUC: 0.566\n",
            "\n"
          ],
          "name": "stdout"
        },
        {
          "output_type": "stream",
          "text": [
            "[Parallel(n_jobs=1)]: Done  10 out of  10 | elapsed:   11.8s finished\n",
            "[Parallel(n_jobs=1)]: Using backend SequentialBackend with 1 concurrent workers.\n"
          ],
          "name": "stderr"
        },
        {
          "output_type": "stream",
          "text": [
            "\n",
            "Модель со среднеми данными средняя AUC: 0.570\n",
            "\n"
          ],
          "name": "stdout"
        },
        {
          "output_type": "stream",
          "text": [
            "[Parallel(n_jobs=1)]: Done  10 out of  10 | elapsed:   11.8s finished\n",
            "[Parallel(n_jobs=1)]: Using backend SequentialBackend with 1 concurrent workers.\n"
          ],
          "name": "stderr"
        },
        {
          "output_type": "stream",
          "text": [
            "\n",
            "Модель с медианными данными средняя AUC: 0.568\n",
            "\n",
            "\n",
            "Модель с преобразованными данными средняя AUC: 0.568\n",
            "\n",
            "1 loop, best of 5: 43.8 s per loop\n"
          ],
          "name": "stdout"
        },
        {
          "output_type": "stream",
          "text": [
            "[Parallel(n_jobs=1)]: Done  10 out of  10 | elapsed:   11.6s finished\n"
          ],
          "name": "stderr"
        }
      ]
    },
    {
      "cell_type": "code",
      "metadata": {
        "colab": {
          "base_uri": "https://localhost:8080/"
        },
        "id": "_HWgRa4dH2kp",
        "outputId": "81477cf4-b14c-4bd7-9d45-9017a681d212"
      },
      "source": [
        "%%time\n",
        "# Модель случайного леса классификатор(конфигурация та же)\n",
        "rf_clf = RandomForestClassifier(n_estimators=500,\n",
        "                                max_features=0.25,\n",
        "                                criterion=\"entropy\",\n",
        "                                class_weight=\"balanced\")\n",
        "\n",
        "# Модель построенная на средней выборке\n",
        "pip_orig = make_pipeline(SimpleImputer(strategy=\"mean\"), RobustScaler(),rf_clf)                    \n",
        "scores = cross_val_score(pip_orig,\n",
        "                         X_train, y_train,\n",
        "                         scoring=\"roc_auc\", cv=10)\n",
        "print(f\"Модель построенная на средней выборке среднее AUC: {scores.mean():.3f}\")\n",
        "\n",
        "# Модель с Undersampling\n",
        "pip_undersample = imb_make_pipeline(SimpleImputer(strategy=\"mean\"),\n",
        "                                    RobustScaler(),\n",
        "                                    RandomUnderSampler(), rf_clf)\n",
        "scores = cross_val_score(pip_undersample,\n",
        "                         X_train, y_train,\n",
        "                         scoring=\"roc_auc\", cv=10)\n",
        "print(f\"Модель с Undersampling средняя AUC: {scores.mean():.3f}\")\n",
        "\n",
        "# модель с передискретизации\n",
        "pip_oversample = imb_make_pipeline(SimpleImputer(strategy=\"mean\"),\n",
        "                                    RobustScaler(),\n",
        "                                    RandomOverSampler(), rf_clf)\n",
        "scores = cross_val_score(pip_oversample,\n",
        "                         X_train, y_train,\n",
        "                         scoring=\"roc_auc\", cv=10)\n",
        "print(f\"модель с передискретизации средняя AUC: {scores.mean():.3f}\")\n",
        "\n",
        "# Модель с EasyEnsemble\n",
        "resampled_rf = BalancedBaggingClassifier(base_estimator=rf_clf,\n",
        "                                         n_estimators=10, random_state=123)\n",
        "pip_resampled = make_pipeline(SimpleImputer(strategy=\"mean\"),\n",
        "                              RobustScaler(), resampled_rf)\n",
        "                             \n",
        "scores = cross_val_score(pip_resampled,\n",
        "                         X_train, y_train,\n",
        "                         scoring=\"roc_auc\", cv=10)\n",
        "print(f\"модель с EasyEnsemble средняя AUC: {scores.mean():.3f}\")\n",
        "\n",
        "# Модель SMOTE\n",
        "pip_smote = imb_make_pipeline(SimpleImputer(strategy=\"mean\"),\n",
        "                              RobustScaler(),\n",
        "                              SMOTE(), rf_clf)\n",
        "scores = cross_val_score(pip_smote,\n",
        "                         X_train, y_train,\n",
        "                         scoring=\"roc_auc\", cv=10)\n",
        "print(f\"Модель SMOTE: {scores.mean():.3f}\")"
      ],
      "execution_count": null,
      "outputs": [
        {
          "output_type": "stream",
          "text": [
            "Модель построенная на средней выборке среднее AUC: 0.569\n",
            "Модель с Undersampling средняя AUC: 0.573\n",
            "модель с передискретизации средняя AUC: 0.565\n",
            "модель с EasyEnsemble средняя AUC: 0.583\n",
            "Модель SMOTE: 0.568\n",
            "CPU times: user 11min 51s, sys: 3.93 s, total: 11min 55s\n",
            "Wall time: 11min 52s\n"
          ],
          "name": "stdout"
        }
      ]
    },
    {
      "cell_type": "markdown",
      "metadata": {
        "id": "k_8jZ3QuK_8t"
      },
      "source": [
        "Построим модели, используя три разные модели в качестве базовых \n",
        "обучающихся:\n",
        "\n",
        "Extra Gradient Boosting\n",
        "\n",
        "Support Vector Classifier\n",
        "\n",
        "Random Forest"
      ]
    },
    {
      "cell_type": "code",
      "metadata": {
        "id": "0pN3RVnZH2nw",
        "colab": {
          "base_uri": "https://localhost:8080/"
        },
        "outputId": "b711b9f6-91e1-452d-bf36-c9e398c57099"
      },
      "source": [
        "# Мы будем использовать логистическую регрессию в качестве метаобучения и k-folds cross validation для проверки и настройки гиперпараметров составной модели. \n",
        "# Кроме того, мы построим кривые ROC и AUC с использованием тестовых данных и оценим производительность всех моделей\n",
        "\n",
        "%%time\n",
        "# Заменем данные на среднее\n",
        "imp = SimpleImputer()\n",
        "imp.fit(X_train)\n",
        "X_train = imp.transform(X_train)\n",
        "X_test = imp.transform(X_test)\n",
        "\n",
        "# Стандартизуем данные\n",
        "std = RobustScaler()\n",
        "std.fit(X_train)\n",
        "X_train = std.transform(X_train)\n",
        "X_test = std.transform(X_test)\n",
        "\n",
        "# Реализуем RandomUnderSampler\n",
        "random_undersampler = RandomUnderSampler()\n",
        "X_res, y_res = random_undersampler.fit_sample(X_train, y_train)\n",
        "# Перемешаем данные\n",
        "perms = np.random.permutation(X_res.shape[0])\n",
        "X_res = X_res[perms]\n",
        "y_res = y_res[perms]\n",
        "X_res.shape, y_res.shape\n",
        "\n",
        "\n",
        "# Extra Gradient Boosting\n",
        "xgb_clf = xgb.XGBClassifier(objective=\"binary:logistic\",\n",
        "                            learning_rate=0.03,\n",
        "                            n_estimators=500,\n",
        "                            max_depth=1,\n",
        "                            subsample=0.4,\n",
        "                            random_state=123)\n",
        "\n",
        "# Support Vector Classifier\n",
        "svm_clf = SVC(gamma=0.1,\n",
        "                C=0.01,\n",
        "                kernel=\"poly\",\n",
        "                degree=3,\n",
        "                coef0=10.0,\n",
        "                probability=True)\n",
        "\n",
        "#  Random Forest\n",
        "rf_clf = RandomForestClassifier(n_estimators=300,\n",
        "                                max_features=\"sqrt\",\n",
        "                                criterion=\"gini\",\n",
        "                                min_samples_leaf=5,\n",
        "                                class_weight=\"balanced\")\n",
        "\n",
        "# Определитель обучения\n",
        "logreg_clf = LogisticRegression(penalty=\"l2\",\n",
        "                                C=100,\n",
        "                                fit_intercept=True)\n",
        "\n",
        "# Установка для голосования CLF\n",
        "voting_clf = VotingClassifier([(\"xgb\", xgb_clf),\n",
        "                               (\"svm\", svm_clf),\n",
        "                               (\"rf\", rf_clf)],\n",
        "                              voting=\"soft\",\n",
        "                              flatten_transform=True)\n",
        "voting_clf.fit(X_res, y_res)\n",
        "xgb_model, svm_model, rf_model = voting_clf.estimators_\n",
        "models = {\"xgb\": xgb_model, \"svm\": svm_model,\n",
        "          \"rf\": rf_model, \"avg_ensemble\": voting_clf}\n",
        "\n",
        "# Первый стек\n",
        "first_stack = make_pipeline(voting_clf,\n",
        "                            FunctionTransformer(lambda X: X[:, 1::2]))\n",
        "# Используйте CV для создания мета-функций \n",
        "meta_features = cross_val_predict(first_stack,\n",
        "                                  X_res, y_res,\n",
        "                                  cv=10,\n",
        "                                  method=\"transform\")\n",
        "# Второй стек\n",
        "first_stack.fit(X_res, y_res)\n",
        "second_stack = logreg_clf.fit(meta_features, y_res)"
      ],
      "execution_count": null,
      "outputs": [
        {
          "output_type": "stream",
          "text": [
            "CPU times: user 3min 14s, sys: 976 ms, total: 3min 15s\n",
            "Wall time: 3min 15s\n"
          ],
          "name": "stdout"
        }
      ]
    },
    {
      "cell_type": "markdown",
      "metadata": {
        "id": "P0I3rkXkQSa3"
      },
      "source": [
        "# Score Models"
      ]
    },
    {
      "cell_type": "code",
      "metadata": {
        "id": "PXHkpe9nHHm9"
      },
      "source": [
        "from sklearn.experimental import enable_iterative_imputer\n",
        "from sklearn.impute import IterativeImputer\n",
        "import timeit\n",
        "from sklearn.impute import SimpleImputer\n",
        "from sklearn.pipeline import make_pipeline\n",
        "from sklearn.preprocessing import RobustScaler, FunctionTransformer\n",
        "from imblearn.under_sampling import RandomUnderSampler\n",
        "from imblearn.over_sampling import RandomOverSampler, SMOTE\n",
        "from imblearn.ensemble import BalancedBaggingClassifier, EasyEnsemble\n",
        "import xgboost as xgb\n",
        "from sklearn.ensemble import RandomForestClassifier, VotingClassifier, GradientBoostingClassifier\n",
        "from sklearn.metrics import (roc_auc_score, confusion_matrix,\n",
        "                             accuracy_score, roc_curve,\n",
        "                             precision_recall_curve, f1_score)\n",
        "\n",
        "from mlens.visualization import corrmat"
      ],
      "execution_count": null,
      "outputs": []
    },
    {
      "cell_type": "code",
      "metadata": {
        "id": "XWPMIxRlP-Dj",
        "colab": {
          "base_uri": "https://localhost:8080/",
          "height": 437
        },
        "outputId": "73c200e9-501b-4b8c-a643-21d16f24582e"
      },
      "source": [
        "# Постройте кривые ROC и PR, используя все модели и данные испытаний\n",
        "fig, axes = plt.subplots(1, 2, figsize=(14, 6))\n",
        "for name, model in models.items():\n",
        "            model_probs = model.predict_proba(X_test)[:, 1:]\n",
        "            model_auc_score = roc_auc_score(y_test, model_probs)\n",
        "            fpr, tpr, _ = roc_curve(y_test, model_probs)\n",
        "            precision, recall, _ = precision_recall_curve(y_test, model_probs)\n",
        "            axes[0].plot(fpr, tpr, label=f\"{name}, auc = {model_auc_score:.3f}\")\n",
        "            axes[1].plot(recall, precision, label=f\"{name}\")\n",
        "stacked_probs = second_stack.predict_proba(first_stack.transform(X_test))[:, 1:]\n",
        "stacked_auc_score = roc_auc_score(y_test, stacked_probs)\n",
        "fpr, tpr, _ = roc_curve(y_test, stacked_probs)\n",
        "precision, recall, _ = precision_recall_curve(y_test, stacked_probs)\n",
        "axes[0].plot(fpr, tpr, label=f\"stacked_ensemble, auc = {stacked_auc_score:.3f}\")\n",
        "axes[1].plot(recall, precision, label=\"stacked_ensembe\")\n",
        "axes[0].legend(loc=\"lower right\")\n",
        "axes[0].set_xlabel(\"FPR\")\n",
        "axes[0].set_ylabel(\"TPR\")\n",
        "axes[0].set_title(\"ROC curve\")\n",
        "axes[1].legend()\n",
        "axes[1].set_xlabel(\"recall\")\n",
        "axes[1].set_ylabel(\"precision\")\n",
        "axes[1].set_title(\"PR curve\")\n",
        "plt.tight_layout()"
      ],
      "execution_count": null,
      "outputs": [
        {
          "output_type": "display_data",
          "data": {
            "image/png": "[encoded data removed]",
            "text/plain": [
              "<Figure size 1008x432 with 2 Axes>"
            ]
          },
          "metadata": {
            "tags": []
          }
        }
      ]
    },
    {
      "cell_type": "code",
      "metadata": {
        "id": "83EpU2-hP-A3",
        "colab": {
          "base_uri": "https://localhost:8080/",
          "height": 575
        },
        "outputId": "be961d2b-0c19-44c2-822d-31ed7d9bf920"
      },
      "source": [
        "# Построим матрицу корреляций\n",
        "probs_df = pd.DataFrame(meta_features, columns=[\"xgb\", \"svm\", \"rf\"])\n",
        "corrmat(probs_df.corr(), inflate=True)"
      ],
      "execution_count": null,
      "outputs": [
        {
          "output_type": "display_data",
          "data": {
            "image/png": "[encoded data removed]",
            "text/plain": [
              "<Figure size 792x648 with 2 Axes>"
            ]
          },
          "metadata": {
            "tags": []
          }
        },
        {
          "output_type": "execute_result",
          "data": {
            "text/plain": [
              "<matplotlib.axes._subplots.AxesSubplot at 0x7fc5528bfb50>"
            ]
          },
          "metadata": {
            "tags": []
          },
          "execution_count": 23
        }
      ]
    },
    {
      "cell_type": "code",
      "metadata": {
        "id": "8rlVfSL1QwQI",
        "colab": {
          "base_uri": "https://localhost:8080/"
        },
        "outputId": "9f04d787-de5f-493c-a3ac-26f7daf0dc31"
      },
      "source": [
        "print(models.keys()) "
      ],
      "execution_count": null,
      "outputs": [
        {
          "output_type": "stream",
          "text": [
            "dict_keys(['xgb', 'svm', 'rf', 'avg_ensemble'])\n"
          ],
          "name": "stdout"
        }
      ]
    },
    {
      "cell_type": "code",
      "metadata": {
        "id": "u0dG0KqqQwSw",
        "colab": {
          "base_uri": "https://localhost:8080/",
          "height": 419
        },
        "outputId": "4c70afd6-b1a5-4393-82c6-b16a6626b8bf"
      },
      "source": [
        "xgb = models['xgb'].predict_proba(X)\n",
        "svm = models['svm'].predict_proba(X)\n",
        "rf = models['rf'].predict_proba(X)\n",
        "avg_ensemble = models['avg_ensemble'].predict_proba(X)\n",
        "_data = np.concatenate([xgb, svm, rf, avg_ensemble], axis=1)\n",
        "cols=['0_class_xgb', '1_class_xgb', '0_class_svm', '1_class_svm', '0_class_rf', '1_class_rf', '0_class_avg_ensemble', '1_class_avg_ensemble']\n",
        "result_data = pd.DataFrame(_data, columns=cols)\n",
        "\n",
        "result_data\n",
        "\n"
      ],
      "execution_count": null,
      "outputs": [
        {
          "output_type": "execute_result",
          "data": {
            "text/html": [
              "<div>\n",
              "<style scoped>\n",
              "    .dataframe tbody tr th:only-of-type {\n",
              "        vertical-align: middle;\n",
              "    }\n",
              "\n",
              "    .dataframe tbody tr th {\n",
              "        vertical-align: top;\n",
              "    }\n",
              "\n",
              "    .dataframe thead th {\n",
              "        text-align: right;\n",
              "    }\n",
              "</style>\n",
              "<table border=\"1\" class=\"dataframe\">\n",
              "  <thead>\n",
              "    <tr style=\"text-align: right;\">\n",
              "      <th></th>\n",
              "      <th>0_class_xgb</th>\n",
              "      <th>1_class_xgb</th>\n",
              "      <th>0_class_svm</th>\n",
              "      <th>1_class_svm</th>\n",
              "      <th>0_class_rf</th>\n",
              "      <th>1_class_rf</th>\n",
              "      <th>0_class_avg_ensemble</th>\n",
              "      <th>1_class_avg_ensemble</th>\n",
              "    </tr>\n",
              "  </thead>\n",
              "  <tbody>\n",
              "    <tr>\n",
              "      <th>0</th>\n",
              "      <td>0.808152</td>\n",
              "      <td>0.191848</td>\n",
              "      <td>3.000001e-14</td>\n",
              "      <td>1.0</td>\n",
              "      <td>0.696833</td>\n",
              "      <td>0.303167</td>\n",
              "      <td>0.495865</td>\n",
              "      <td>0.504135</td>\n",
              "    </tr>\n",
              "    <tr>\n",
              "      <th>1</th>\n",
              "      <td>0.807060</td>\n",
              "      <td>0.192940</td>\n",
              "      <td>3.000001e-14</td>\n",
              "      <td>1.0</td>\n",
              "      <td>0.642573</td>\n",
              "      <td>0.357427</td>\n",
              "      <td>0.481069</td>\n",
              "      <td>0.518931</td>\n",
              "    </tr>\n",
              "    <tr>\n",
              "      <th>2</th>\n",
              "      <td>0.795425</td>\n",
              "      <td>0.204575</td>\n",
              "      <td>3.000001e-14</td>\n",
              "      <td>1.0</td>\n",
              "      <td>0.721564</td>\n",
              "      <td>0.278436</td>\n",
              "      <td>0.503789</td>\n",
              "      <td>0.496211</td>\n",
              "    </tr>\n",
              "    <tr>\n",
              "      <th>3</th>\n",
              "      <td>0.759248</td>\n",
              "      <td>0.240752</td>\n",
              "      <td>3.000001e-14</td>\n",
              "      <td>1.0</td>\n",
              "      <td>0.633568</td>\n",
              "      <td>0.366432</td>\n",
              "      <td>0.453891</td>\n",
              "      <td>0.546109</td>\n",
              "    </tr>\n",
              "    <tr>\n",
              "      <th>4</th>\n",
              "      <td>0.808152</td>\n",
              "      <td>0.191848</td>\n",
              "      <td>3.000001e-14</td>\n",
              "      <td>1.0</td>\n",
              "      <td>0.696833</td>\n",
              "      <td>0.303167</td>\n",
              "      <td>0.495865</td>\n",
              "      <td>0.504135</td>\n",
              "    </tr>\n",
              "    <tr>\n",
              "      <th>...</th>\n",
              "      <td>...</td>\n",
              "      <td>...</td>\n",
              "      <td>...</td>\n",
              "      <td>...</td>\n",
              "      <td>...</td>\n",
              "      <td>...</td>\n",
              "      <td>...</td>\n",
              "      <td>...</td>\n",
              "    </tr>\n",
              "    <tr>\n",
              "      <th>15358</th>\n",
              "      <td>0.796126</td>\n",
              "      <td>0.203874</td>\n",
              "      <td>3.000001e-14</td>\n",
              "      <td>1.0</td>\n",
              "      <td>0.613315</td>\n",
              "      <td>0.386685</td>\n",
              "      <td>0.459316</td>\n",
              "      <td>0.540684</td>\n",
              "    </tr>\n",
              "    <tr>\n",
              "      <th>15359</th>\n",
              "      <td>0.772805</td>\n",
              "      <td>0.227195</td>\n",
              "      <td>3.000001e-14</td>\n",
              "      <td>1.0</td>\n",
              "      <td>0.561966</td>\n",
              "      <td>0.438034</td>\n",
              "      <td>0.444307</td>\n",
              "      <td>0.555693</td>\n",
              "    </tr>\n",
              "    <tr>\n",
              "      <th>15360</th>\n",
              "      <td>0.808152</td>\n",
              "      <td>0.191848</td>\n",
              "      <td>3.000001e-14</td>\n",
              "      <td>1.0</td>\n",
              "      <td>0.647206</td>\n",
              "      <td>0.352794</td>\n",
              "      <td>0.479949</td>\n",
              "      <td>0.520051</td>\n",
              "    </tr>\n",
              "    <tr>\n",
              "      <th>15361</th>\n",
              "      <td>0.796126</td>\n",
              "      <td>0.203874</td>\n",
              "      <td>3.000001e-14</td>\n",
              "      <td>1.0</td>\n",
              "      <td>0.664772</td>\n",
              "      <td>0.335228</td>\n",
              "      <td>0.482368</td>\n",
              "      <td>0.517632</td>\n",
              "    </tr>\n",
              "    <tr>\n",
              "      <th>15362</th>\n",
              "      <td>0.818620</td>\n",
              "      <td>0.181380</td>\n",
              "      <td>3.000001e-14</td>\n",
              "      <td>1.0</td>\n",
              "      <td>0.740734</td>\n",
              "      <td>0.259266</td>\n",
              "      <td>0.516050</td>\n",
              "      <td>0.483950</td>\n",
              "    </tr>\n",
              "  </tbody>\n",
              "</table>\n",
              "<p>15363 rows × 8 columns</p>\n",
              "</div>"
            ],
            "text/plain": [
              "       0_class_xgb  1_class_xgb  ...  0_class_avg_ensemble  1_class_avg_ensemble\n",
              "0         0.808152     0.191848  ...              0.495865              0.504135\n",
              "1         0.807060     0.192940  ...              0.481069              0.518931\n",
              "2         0.795425     0.204575  ...              0.503789              0.496211\n",
              "3         0.759248     0.240752  ...              0.453891              0.546109\n",
              "4         0.808152     0.191848  ...              0.495865              0.504135\n",
              "...            ...          ...  ...                   ...                   ...\n",
              "15358     0.796126     0.203874  ...              0.459316              0.540684\n",
              "15359     0.772805     0.227195  ...              0.444307              0.555693\n",
              "15360     0.808152     0.191848  ...              0.479949              0.520051\n",
              "15361     0.796126     0.203874  ...              0.482368              0.517632\n",
              "15362     0.818620     0.181380  ...              0.516050              0.483950\n",
              "\n",
              "[15363 rows x 8 columns]"
            ]
          },
          "metadata": {
            "tags": []
          },
          "execution_count": 135
        }
      ]
    },
    {
      "cell_type": "code",
      "metadata": {
        "id": "v26tTmsZpLRw"
      },
      "source": [
        "res_datе = pd.concat([result_data, df], axis=1)\n",
        "res_datе.to_excel('/content/res_data.xlsx')"
      ],
      "execution_count": null,
      "outputs": []
    }
  ]
}