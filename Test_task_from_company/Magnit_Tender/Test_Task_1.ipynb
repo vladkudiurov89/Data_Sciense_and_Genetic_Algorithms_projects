{
  "nbformat": 4,
  "nbformat_minor": 0,
  "metadata": {
    "colab": {
      "name": "Test_Task_1.ipynb",
      "provenance": [],
      "toc_visible": true,
      "machine_shape": "hm"
    },
    "kernelspec": {
      "name": "python3",
      "display_name": "Python 3"
    },
    "accelerator": "GPU"
  },
  "cells": [
    {
      "cell_type": "markdown",
      "metadata": {
        "id": "O2mmZVnSxYQB"
      },
      "source": [
        "# Тестовое задание\r\n",
        "\r\n",
        " Исполнитель: Владислав Кудюров\r\n",
        "\r\n",
        " Задача 1:\r\n",
        "\r\n",
        "\r\n",
        "*   Проведите аналитику полученных данных\r\n",
        "\r\n",
        "*   Подготовьте данные для регрессионной модели\r\n",
        "*   Обучите регрессионную модель и осуществите прогноз на последний месяц для поля SALES\r\n",
        "\r\n",
        "*   Оцените качество модели с помощью функции metric\r\n",
        "\r\n",
        "\r\n",
        "\r\n",
        "\r\n",
        "\r\n",
        "\r\n",
        "\r\n"
      ]
    },
    {
      "cell_type": "code",
      "metadata": {
        "id": "i2W26ZXbwwPF"
      },
      "source": [
        "# Загружаем библиотеки\r\n",
        "import pandas as pd\r\n",
        "import seaborn as sns\r\n",
        "import matplotlib.pylab as plt\r\n",
        "from pylab import rcParams\r\n",
        "from mlxtend.plotting import scatterplotmatrix\r\n",
        "\r\n",
        "import os\r\n",
        "import warnings\r\n",
        "import numpy as np\r\n",
        "\r\n",
        "from sklearn.model_selection import train_test_split\r\n",
        "from sklearn.pipeline import Pipeline\r\n",
        "from sklearn.preprocessing import MinMaxScaler\r\n",
        "from sklearn.multioutput import MultiOutputRegressor\r\n",
        "from sklearn.linear_model import LinearRegression, Ridge, Lasso, SGDRegressor\r\n",
        "from sklearn.svm import LinearSVR, SVR\r\n",
        "from sklearn.ensemble import RandomForestRegressor\r\n",
        "from xgboost import XGBRegressor\r\n",
        "from sklearn.model_selection import KFold, GridSearchCV\r\n",
        "\r\n",
        "rcParams['figure.figsize'] = 20, 10\r\n",
        "sns.set()\r\n",
        "warnings.filterwarnings(\"ignore\")\r\n",
        "%matplotlib inline"
      ],
      "execution_count": 81,
      "outputs": []
    },
    {
      "cell_type": "code",
      "metadata": {
        "colab": {
          "base_uri": "https://localhost:8080/"
        },
        "id": "ZDzAGOdPxVj2",
        "outputId": "9e91a567-9e9a-496c-a416-0445f6b31748"
      },
      "source": [
        "# подключаем гугл драйв диск для загрузки файлов\r\n",
        "from google.colab import drive \r\n",
        "drive.mount('/content/drive')\r\n",
        "\r\n",
        "# Указываем путь к данным\r\n",
        "PATH = '/content/drive/My Drive/datasets/test_magnit/'"
      ],
      "execution_count": 82,
      "outputs": [
        {
          "output_type": "stream",
          "text": [
            "Drive already mounted at /content/drive; to attempt to forcibly remount, call drive.mount(\"/content/drive\", force_remount=True).\n"
          ],
          "name": "stdout"
        }
      ]
    },
    {
      "cell_type": "markdown",
      "metadata": {
        "id": "EWrWpvst6Rhy"
      },
      "source": [
        "# Проведем аналитику полученных данных"
      ]
    },
    {
      "cell_type": "code",
      "metadata": {
        "colab": {
          "base_uri": "https://localhost:8080/",
          "height": 407
        },
        "id": "VK4vfWFV2mLF",
        "outputId": "0e6e9f35-54fd-43bb-d5f4-65bc16a8574c"
      },
      "source": [
        "# Загружаем данные \r\n",
        "df = pd.read_csv(PATH + 'data_regression_for_task.csv')\r\n",
        "df.index += 1\r\n",
        "display(df)"
      ],
      "execution_count": 83,
      "outputs": [
        {
          "output_type": "display_data",
          "data": {
            "text/html": [
              "<div>\n",
              "<style scoped>\n",
              "    .dataframe tbody tr th:only-of-type {\n",
              "        vertical-align: middle;\n",
              "    }\n",
              "\n",
              "    .dataframe tbody tr th {\n",
              "        vertical-align: top;\n",
              "    }\n",
              "\n",
              "    .dataframe thead th {\n",
              "        text-align: right;\n",
              "    }\n",
              "</style>\n",
              "<table border=\"1\" class=\"dataframe\">\n",
              "  <thead>\n",
              "    <tr style=\"text-align: right;\">\n",
              "      <th></th>\n",
              "      <th>YEAR</th>\n",
              "      <th>MONTH</th>\n",
              "      <th>CONTRAGENT</th>\n",
              "      <th>ARTICLE_CODE</th>\n",
              "      <th>ARTICLE_NAME</th>\n",
              "      <th>ARTICLE_GROUP</th>\n",
              "      <th>SALES</th>\n",
              "      <th>STORE_SALES</th>\n",
              "    </tr>\n",
              "  </thead>\n",
              "  <tbody>\n",
              "    <tr>\n",
              "      <th>1</th>\n",
              "      <td>2017</td>\n",
              "      <td>4</td>\n",
              "      <td>ROYAL WINE CORP</td>\n",
              "      <td>100200</td>\n",
              "      <td>GAMLA CAB - 750ML</td>\n",
              "      <td>WINE</td>\n",
              "      <td>0.0</td>\n",
              "      <td>0.0</td>\n",
              "    </tr>\n",
              "    <tr>\n",
              "      <th>2</th>\n",
              "      <td>2017</td>\n",
              "      <td>4</td>\n",
              "      <td>SANTA MARGHERITA USA INC</td>\n",
              "      <td>100749</td>\n",
              "      <td>SANTA MARGHERITA P/GRIG ALTO - 375ML</td>\n",
              "      <td>WINE</td>\n",
              "      <td>0.0</td>\n",
              "      <td>0.0</td>\n",
              "    </tr>\n",
              "    <tr>\n",
              "      <th>3</th>\n",
              "      <td>2017</td>\n",
              "      <td>4</td>\n",
              "      <td>JIM BEAM BRANDS CO</td>\n",
              "      <td>10103</td>\n",
              "      <td>KNOB CREEK BOURBON 9YR - 100P - 375ML</td>\n",
              "      <td>LIQUOR</td>\n",
              "      <td>0.0</td>\n",
              "      <td>0.0</td>\n",
              "    </tr>\n",
              "    <tr>\n",
              "      <th>4</th>\n",
              "      <td>2017</td>\n",
              "      <td>4</td>\n",
              "      <td>HEAVEN HILL DISTILLERIES INC</td>\n",
              "      <td>10120</td>\n",
              "      <td>J W DANT BOURBON 100P - 1.75L</td>\n",
              "      <td>LIQUOR</td>\n",
              "      <td>0.0</td>\n",
              "      <td>0.0</td>\n",
              "    </tr>\n",
              "    <tr>\n",
              "      <th>5</th>\n",
              "      <td>2017</td>\n",
              "      <td>4</td>\n",
              "      <td>ROYAL WINE CORP</td>\n",
              "      <td>101664</td>\n",
              "      <td>RAMON CORDOVA RIOJA - 750ML</td>\n",
              "      <td>WINE</td>\n",
              "      <td>0.0</td>\n",
              "      <td>0.0</td>\n",
              "    </tr>\n",
              "    <tr>\n",
              "      <th>...</th>\n",
              "      <td>...</td>\n",
              "      <td>...</td>\n",
              "      <td>...</td>\n",
              "      <td>...</td>\n",
              "      <td>...</td>\n",
              "      <td>...</td>\n",
              "      <td>...</td>\n",
              "      <td>...</td>\n",
              "    </tr>\n",
              "    <tr>\n",
              "      <th>128351</th>\n",
              "      <td>2018</td>\n",
              "      <td>2</td>\n",
              "      <td>ANHEUSER BUSCH INC</td>\n",
              "      <td>9997</td>\n",
              "      <td>HOEGAARDEN 4/6NR - 12OZ</td>\n",
              "      <td>BEER</td>\n",
              "      <td>66460.0</td>\n",
              "      <td>212.0</td>\n",
              "    </tr>\n",
              "    <tr>\n",
              "      <th>128352</th>\n",
              "      <td>2018</td>\n",
              "      <td>2</td>\n",
              "      <td>COASTAL BREWING COMPANY LLC</td>\n",
              "      <td>99970</td>\n",
              "      <td>DOMINION OAK BARREL STOUT 4/6 NR - 12OZ</td>\n",
              "      <td>BEER</td>\n",
              "      <td>9080.0</td>\n",
              "      <td>35.0</td>\n",
              "    </tr>\n",
              "    <tr>\n",
              "      <th>128353</th>\n",
              "      <td>2018</td>\n",
              "      <td>2</td>\n",
              "      <td>BOSTON BEER CORPORATION</td>\n",
              "      <td>99988</td>\n",
              "      <td>SAM ADAMS COLD SNAP 1/6 KG</td>\n",
              "      <td>KEGS</td>\n",
              "      <td>0.0</td>\n",
              "      <td>32.0</td>\n",
              "    </tr>\n",
              "    <tr>\n",
              "      <th>128354</th>\n",
              "      <td>2018</td>\n",
              "      <td>2</td>\n",
              "      <td>NaN</td>\n",
              "      <td>BC</td>\n",
              "      <td>BEER CREDIT</td>\n",
              "      <td>REF</td>\n",
              "      <td>0.0</td>\n",
              "      <td>-35.0</td>\n",
              "    </tr>\n",
              "    <tr>\n",
              "      <th>128355</th>\n",
              "      <td>2018</td>\n",
              "      <td>2</td>\n",
              "      <td>NaN</td>\n",
              "      <td>WC</td>\n",
              "      <td>WINE CREDIT</td>\n",
              "      <td>REF</td>\n",
              "      <td>0.0</td>\n",
              "      <td>-81.0</td>\n",
              "    </tr>\n",
              "  </tbody>\n",
              "</table>\n",
              "<p>128355 rows × 8 columns</p>\n",
              "</div>"
            ],
            "text/plain": [
              "        YEAR  MONTH  ...    SALES STORE_SALES\n",
              "1       2017      4  ...      0.0         0.0\n",
              "2       2017      4  ...      0.0         0.0\n",
              "3       2017      4  ...      0.0         0.0\n",
              "4       2017      4  ...      0.0         0.0\n",
              "5       2017      4  ...      0.0         0.0\n",
              "...      ...    ...  ...      ...         ...\n",
              "128351  2018      2  ...  66460.0       212.0\n",
              "128352  2018      2  ...   9080.0        35.0\n",
              "128353  2018      2  ...      0.0        32.0\n",
              "128354  2018      2  ...      0.0       -35.0\n",
              "128355  2018      2  ...      0.0       -81.0\n",
              "\n",
              "[128355 rows x 8 columns]"
            ]
          },
          "metadata": {
            "tags": []
          }
        }
      ]
    },
    {
      "cell_type": "code",
      "metadata": {
        "colab": {
          "base_uri": "https://localhost:8080/"
        },
        "id": "4oi9yI382mN3",
        "outputId": "e30e4d55-798a-4b93-fecc-a979d4a82843"
      },
      "source": [
        "# Выведем информацию о датасете\r\n",
        "df.info()"
      ],
      "execution_count": 84,
      "outputs": [
        {
          "output_type": "stream",
          "text": [
            "<class 'pandas.core.frame.DataFrame'>\n",
            "RangeIndex: 128355 entries, 1 to 128355\n",
            "Data columns (total 8 columns):\n",
            " #   Column         Non-Null Count   Dtype  \n",
            "---  ------         --------------   -----  \n",
            " 0   YEAR           128355 non-null  int64  \n",
            " 1   MONTH          128355 non-null  int64  \n",
            " 2   CONTRAGENT     128331 non-null  object \n",
            " 3   ARTICLE_CODE   128355 non-null  object \n",
            " 4   ARTICLE_NAME   128355 non-null  object \n",
            " 5   ARTICLE_GROUP  128354 non-null  object \n",
            " 6   SALES          128355 non-null  float64\n",
            " 7   STORE_SALES    128355 non-null  float64\n",
            "dtypes: float64(2), int64(2), object(4)\n",
            "memory usage: 7.8+ MB\n"
          ],
          "name": "stdout"
        }
      ]
    },
    {
      "cell_type": "code",
      "metadata": {
        "id": "zjbtTz135AZn"
      },
      "source": [
        "# Функция для вычисления процентного списка пропущенных данных\r\n",
        "def get_persent(fn):\r\n",
        "  try:\r\n",
        "    for col in fn.columns:\r\n",
        "      pct_missing = np.mean(fn[col].isnull())\r\n",
        "      print('{} - {}%'.format(col, round(pct_missing*100, 3)))\r\n",
        "  except ValueError:\r\n",
        "    print('Error DataFrame')\r\n",
        "\r\n",
        "# Метрика для оценки модели\r\n",
        "def metric(y_true, y_pred):\r\n",
        "    return np.sum(np.abs(y_true - y_pred)) / np.sum(y_pred) * 100\r\n"
      ],
      "execution_count": 85,
      "outputs": []
    },
    {
      "cell_type": "code",
      "metadata": {
        "colab": {
          "base_uri": "https://localhost:8080/"
        },
        "id": "SVulYEUXZrbM",
        "outputId": "5b7d1aa6-ad24-4090-8b01-e6c855886248"
      },
      "source": [
        "# Oтображения сводной статистики числовых переменных\r\n",
        "print(f'Сводная статистика числовых переменных:\\n {df.describe().T}')\r\n",
        "\r\n",
        "# Проверка датасета на отсутствие данных \r\n",
        "print(f'\\nСумма пропущенных значений в переменных:\\n{df.isna().sum()}')\r\n",
        "print(f'\\nПроцент пропущенных данных:')\r\n",
        "get_persent(df)"
      ],
      "execution_count": 86,
      "outputs": [
        {
          "output_type": "stream",
          "text": [
            "Сводная статистика числовых переменных:\n",
            "                 count         mean           std  ...     50%     75%         max\n",
            "YEAR         128355.0  2017.206030      0.404454  ...  2017.0  2017.0     2018.00\n",
            "MONTH        128355.0     7.079303      3.645826  ...     8.0    10.0       12.00\n",
            "SALES        128355.0  6563.037435  28924.944352  ...   330.0  3250.0  1616600.00\n",
            "STORE_SALES  128355.0    22.624213    239.693277  ...     1.0     4.0    16271.75\n",
            "\n",
            "[4 rows x 8 columns]\n",
            "\n",
            "Сумма пропущенных значений в переменных:\n",
            "YEAR              0\n",
            "MONTH             0\n",
            "CONTRAGENT       24\n",
            "ARTICLE_CODE      0\n",
            "ARTICLE_NAME      0\n",
            "ARTICLE_GROUP     1\n",
            "SALES             0\n",
            "STORE_SALES       0\n",
            "dtype: int64\n",
            "\n",
            "Процент пропущенных данных:\n",
            "YEAR - 0.0%\n",
            "MONTH - 0.0%\n",
            "CONTRAGENT - 0.019%\n",
            "ARTICLE_CODE - 0.0%\n",
            "ARTICLE_NAME - 0.0%\n",
            "ARTICLE_GROUP - 0.001%\n",
            "SALES - 0.0%\n",
            "STORE_SALES - 0.0%\n"
          ],
          "name": "stdout"
        }
      ]
    },
    {
      "cell_type": "markdown",
      "metadata": {
        "id": "I3YMD9YVlF7Y"
      },
      "source": [
        "# Подготовка данных для регрессионной модели"
      ]
    },
    {
      "cell_type": "code",
      "metadata": {
        "colab": {
          "base_uri": "https://localhost:8080/"
        },
        "id": "xBMQSWYpqURY",
        "outputId": "672c174d-3929-4482-a4d5-bee4dbe4cc15"
      },
      "source": [
        "# Посмотрим, насколько каждая независимая переменная соотносится с этой зависимой переменной\r\n",
        "data_matrix = df.corr()\r\n",
        "data_matrix[\"SALES\"].sort_values(ascending=False)"
      ],
      "execution_count": 87,
      "outputs": [
        {
          "output_type": "execute_result",
          "data": {
            "text/plain": [
              "SALES          1.000000\n",
              "STORE_SALES    0.459783\n",
              "MONTH          0.028801\n",
              "YEAR          -0.013295\n",
              "Name: SALES, dtype: float64"
            ]
          },
          "metadata": {
            "tags": []
          },
          "execution_count": 87
        }
      ]
    },
    {
      "cell_type": "code",
      "metadata": {
        "colab": {
          "base_uri": "https://localhost:8080/",
          "height": 347
        },
        "id": "Kl9WHbyDieVd",
        "outputId": "ae3ba583-7500-4365-9233-519cec77638e"
      },
      "source": [
        "# Удалим ненужные столбцы\r\n",
        "data = df.drop(['CONTRAGENT', 'ARTICLE_CODE', 'YEAR', 'ARTICLE_NAME'], axis=1)\r\n",
        "data.head(10)"
      ],
      "execution_count": 88,
      "outputs": [
        {
          "output_type": "execute_result",
          "data": {
            "text/html": [
              "<div>\n",
              "<style scoped>\n",
              "    .dataframe tbody tr th:only-of-type {\n",
              "        vertical-align: middle;\n",
              "    }\n",
              "\n",
              "    .dataframe tbody tr th {\n",
              "        vertical-align: top;\n",
              "    }\n",
              "\n",
              "    .dataframe thead th {\n",
              "        text-align: right;\n",
              "    }\n",
              "</style>\n",
              "<table border=\"1\" class=\"dataframe\">\n",
              "  <thead>\n",
              "    <tr style=\"text-align: right;\">\n",
              "      <th></th>\n",
              "      <th>MONTH</th>\n",
              "      <th>ARTICLE_GROUP</th>\n",
              "      <th>SALES</th>\n",
              "      <th>STORE_SALES</th>\n",
              "    </tr>\n",
              "  </thead>\n",
              "  <tbody>\n",
              "    <tr>\n",
              "      <th>1</th>\n",
              "      <td>4</td>\n",
              "      <td>WINE</td>\n",
              "      <td>0.0</td>\n",
              "      <td>0.0</td>\n",
              "    </tr>\n",
              "    <tr>\n",
              "      <th>2</th>\n",
              "      <td>4</td>\n",
              "      <td>WINE</td>\n",
              "      <td>0.0</td>\n",
              "      <td>0.0</td>\n",
              "    </tr>\n",
              "    <tr>\n",
              "      <th>3</th>\n",
              "      <td>4</td>\n",
              "      <td>LIQUOR</td>\n",
              "      <td>0.0</td>\n",
              "      <td>0.0</td>\n",
              "    </tr>\n",
              "    <tr>\n",
              "      <th>4</th>\n",
              "      <td>4</td>\n",
              "      <td>LIQUOR</td>\n",
              "      <td>0.0</td>\n",
              "      <td>0.0</td>\n",
              "    </tr>\n",
              "    <tr>\n",
              "      <th>5</th>\n",
              "      <td>4</td>\n",
              "      <td>WINE</td>\n",
              "      <td>0.0</td>\n",
              "      <td>0.0</td>\n",
              "    </tr>\n",
              "    <tr>\n",
              "      <th>6</th>\n",
              "      <td>4</td>\n",
              "      <td>WINE</td>\n",
              "      <td>0.0</td>\n",
              "      <td>0.0</td>\n",
              "    </tr>\n",
              "    <tr>\n",
              "      <th>7</th>\n",
              "      <td>4</td>\n",
              "      <td>WINE</td>\n",
              "      <td>0.0</td>\n",
              "      <td>0.0</td>\n",
              "    </tr>\n",
              "    <tr>\n",
              "      <th>8</th>\n",
              "      <td>4</td>\n",
              "      <td>LIQUOR</td>\n",
              "      <td>0.0</td>\n",
              "      <td>0.0</td>\n",
              "    </tr>\n",
              "    <tr>\n",
              "      <th>9</th>\n",
              "      <td>4</td>\n",
              "      <td>WINE</td>\n",
              "      <td>0.0</td>\n",
              "      <td>0.0</td>\n",
              "    </tr>\n",
              "    <tr>\n",
              "      <th>10</th>\n",
              "      <td>4</td>\n",
              "      <td>WINE</td>\n",
              "      <td>0.0</td>\n",
              "      <td>0.0</td>\n",
              "    </tr>\n",
              "  </tbody>\n",
              "</table>\n",
              "</div>"
            ],
            "text/plain": [
              "    MONTH ARTICLE_GROUP  SALES  STORE_SALES\n",
              "1       4          WINE    0.0          0.0\n",
              "2       4          WINE    0.0          0.0\n",
              "3       4        LIQUOR    0.0          0.0\n",
              "4       4        LIQUOR    0.0          0.0\n",
              "5       4          WINE    0.0          0.0\n",
              "6       4          WINE    0.0          0.0\n",
              "7       4          WINE    0.0          0.0\n",
              "8       4        LIQUOR    0.0          0.0\n",
              "9       4          WINE    0.0          0.0\n",
              "10      4          WINE    0.0          0.0"
            ]
          },
          "metadata": {
            "tags": []
          },
          "execution_count": 88
        }
      ]
    },
    {
      "cell_type": "code",
      "metadata": {
        "colab": {
          "base_uri": "https://localhost:8080/",
          "height": 551
        },
        "id": "ST2TICMrieY3",
        "outputId": "2ee1603e-97b5-41c3-c6e5-e92f99c0c065"
      },
      "source": [
        "# Распарсим категориальную переменную\r\n",
        "print(f'Категориальная переменная:\\n{data.ARTICLE_GROUP.value_counts(normalize=True)}')\r\n",
        "data = pd.get_dummies(data, columns=['ARTICLE_GROUP'], drop_first=True)\r\n",
        "data.head(10)"
      ],
      "execution_count": 89,
      "outputs": [
        {
          "output_type": "stream",
          "text": [
            "Категориальная переменная:\n",
            "WINE            0.616085\n",
            "LIQUOR          0.221240\n",
            "BEER            0.127966\n",
            "KEGS            0.028343\n",
            "NON-ALCOHOL     0.004893\n",
            "STR_SUPPLIES    0.000826\n",
            "REF             0.000397\n",
            "DUNNAGE         0.000249\n",
            "Name: ARTICLE_GROUP, dtype: float64\n"
          ],
          "name": "stdout"
        },
        {
          "output_type": "execute_result",
          "data": {
            "text/html": [
              "<div>\n",
              "<style scoped>\n",
              "    .dataframe tbody tr th:only-of-type {\n",
              "        vertical-align: middle;\n",
              "    }\n",
              "\n",
              "    .dataframe tbody tr th {\n",
              "        vertical-align: top;\n",
              "    }\n",
              "\n",
              "    .dataframe thead th {\n",
              "        text-align: right;\n",
              "    }\n",
              "</style>\n",
              "<table border=\"1\" class=\"dataframe\">\n",
              "  <thead>\n",
              "    <tr style=\"text-align: right;\">\n",
              "      <th></th>\n",
              "      <th>MONTH</th>\n",
              "      <th>SALES</th>\n",
              "      <th>STORE_SALES</th>\n",
              "      <th>ARTICLE_GROUP_DUNNAGE</th>\n",
              "      <th>ARTICLE_GROUP_KEGS</th>\n",
              "      <th>ARTICLE_GROUP_LIQUOR</th>\n",
              "      <th>ARTICLE_GROUP_NON-ALCOHOL</th>\n",
              "      <th>ARTICLE_GROUP_REF</th>\n",
              "      <th>ARTICLE_GROUP_STR_SUPPLIES</th>\n",
              "      <th>ARTICLE_GROUP_WINE</th>\n",
              "    </tr>\n",
              "  </thead>\n",
              "  <tbody>\n",
              "    <tr>\n",
              "      <th>1</th>\n",
              "      <td>4</td>\n",
              "      <td>0.0</td>\n",
              "      <td>0.0</td>\n",
              "      <td>0</td>\n",
              "      <td>0</td>\n",
              "      <td>0</td>\n",
              "      <td>0</td>\n",
              "      <td>0</td>\n",
              "      <td>0</td>\n",
              "      <td>1</td>\n",
              "    </tr>\n",
              "    <tr>\n",
              "      <th>2</th>\n",
              "      <td>4</td>\n",
              "      <td>0.0</td>\n",
              "      <td>0.0</td>\n",
              "      <td>0</td>\n",
              "      <td>0</td>\n",
              "      <td>0</td>\n",
              "      <td>0</td>\n",
              "      <td>0</td>\n",
              "      <td>0</td>\n",
              "      <td>1</td>\n",
              "    </tr>\n",
              "    <tr>\n",
              "      <th>3</th>\n",
              "      <td>4</td>\n",
              "      <td>0.0</td>\n",
              "      <td>0.0</td>\n",
              "      <td>0</td>\n",
              "      <td>0</td>\n",
              "      <td>1</td>\n",
              "      <td>0</td>\n",
              "      <td>0</td>\n",
              "      <td>0</td>\n",
              "      <td>0</td>\n",
              "    </tr>\n",
              "    <tr>\n",
              "      <th>4</th>\n",
              "      <td>4</td>\n",
              "      <td>0.0</td>\n",
              "      <td>0.0</td>\n",
              "      <td>0</td>\n",
              "      <td>0</td>\n",
              "      <td>1</td>\n",
              "      <td>0</td>\n",
              "      <td>0</td>\n",
              "      <td>0</td>\n",
              "      <td>0</td>\n",
              "    </tr>\n",
              "    <tr>\n",
              "      <th>5</th>\n",
              "      <td>4</td>\n",
              "      <td>0.0</td>\n",
              "      <td>0.0</td>\n",
              "      <td>0</td>\n",
              "      <td>0</td>\n",
              "      <td>0</td>\n",
              "      <td>0</td>\n",
              "      <td>0</td>\n",
              "      <td>0</td>\n",
              "      <td>1</td>\n",
              "    </tr>\n",
              "    <tr>\n",
              "      <th>6</th>\n",
              "      <td>4</td>\n",
              "      <td>0.0</td>\n",
              "      <td>0.0</td>\n",
              "      <td>0</td>\n",
              "      <td>0</td>\n",
              "      <td>0</td>\n",
              "      <td>0</td>\n",
              "      <td>0</td>\n",
              "      <td>0</td>\n",
              "      <td>1</td>\n",
              "    </tr>\n",
              "    <tr>\n",
              "      <th>7</th>\n",
              "      <td>4</td>\n",
              "      <td>0.0</td>\n",
              "      <td>0.0</td>\n",
              "      <td>0</td>\n",
              "      <td>0</td>\n",
              "      <td>0</td>\n",
              "      <td>0</td>\n",
              "      <td>0</td>\n",
              "      <td>0</td>\n",
              "      <td>1</td>\n",
              "    </tr>\n",
              "    <tr>\n",
              "      <th>8</th>\n",
              "      <td>4</td>\n",
              "      <td>0.0</td>\n",
              "      <td>0.0</td>\n",
              "      <td>0</td>\n",
              "      <td>0</td>\n",
              "      <td>1</td>\n",
              "      <td>0</td>\n",
              "      <td>0</td>\n",
              "      <td>0</td>\n",
              "      <td>0</td>\n",
              "    </tr>\n",
              "    <tr>\n",
              "      <th>9</th>\n",
              "      <td>4</td>\n",
              "      <td>0.0</td>\n",
              "      <td>0.0</td>\n",
              "      <td>0</td>\n",
              "      <td>0</td>\n",
              "      <td>0</td>\n",
              "      <td>0</td>\n",
              "      <td>0</td>\n",
              "      <td>0</td>\n",
              "      <td>1</td>\n",
              "    </tr>\n",
              "    <tr>\n",
              "      <th>10</th>\n",
              "      <td>4</td>\n",
              "      <td>0.0</td>\n",
              "      <td>0.0</td>\n",
              "      <td>0</td>\n",
              "      <td>0</td>\n",
              "      <td>0</td>\n",
              "      <td>0</td>\n",
              "      <td>0</td>\n",
              "      <td>0</td>\n",
              "      <td>1</td>\n",
              "    </tr>\n",
              "  </tbody>\n",
              "</table>\n",
              "</div>"
            ],
            "text/plain": [
              "    MONTH  SALES  ...  ARTICLE_GROUP_STR_SUPPLIES  ARTICLE_GROUP_WINE\n",
              "1       4    0.0  ...                           0                   1\n",
              "2       4    0.0  ...                           0                   1\n",
              "3       4    0.0  ...                           0                   0\n",
              "4       4    0.0  ...                           0                   0\n",
              "5       4    0.0  ...                           0                   1\n",
              "6       4    0.0  ...                           0                   1\n",
              "7       4    0.0  ...                           0                   1\n",
              "8       4    0.0  ...                           0                   0\n",
              "9       4    0.0  ...                           0                   1\n",
              "10      4    0.0  ...                           0                   1\n",
              "\n",
              "[10 rows x 10 columns]"
            ]
          },
          "metadata": {
            "tags": []
          },
          "execution_count": 89
        }
      ]
    },
    {
      "cell_type": "code",
      "metadata": {
        "colab": {
          "base_uri": "https://localhost:8080/"
        },
        "id": "3wH4eP6qiebr",
        "outputId": "41d2e582-3bc0-4ca4-bc1d-299c026f2a74"
      },
      "source": [
        "# Проверка датасета на отсутствие данных \r\n",
        "print(f'Сумма пропущенных значений в переменных:\\n{data.isna().sum()}')"
      ],
      "execution_count": 90,
      "outputs": [
        {
          "output_type": "stream",
          "text": [
            "Сумма пропущенных значений в переменных:\n",
            "MONTH                         0\n",
            "SALES                         0\n",
            "STORE_SALES                   0\n",
            "ARTICLE_GROUP_DUNNAGE         0\n",
            "ARTICLE_GROUP_KEGS            0\n",
            "ARTICLE_GROUP_LIQUOR          0\n",
            "ARTICLE_GROUP_NON-ALCOHOL     0\n",
            "ARTICLE_GROUP_REF             0\n",
            "ARTICLE_GROUP_STR_SUPPLIES    0\n",
            "ARTICLE_GROUP_WINE            0\n",
            "dtype: int64\n"
          ],
          "name": "stdout"
        }
      ]
    },
    {
      "cell_type": "code",
      "metadata": {
        "colab": {
          "base_uri": "https://localhost:8080/",
          "height": 879
        },
        "id": "6gnWuQfm0KbE",
        "outputId": "444613ad-e46a-4e22-a10a-385745ba3907"
      },
      "source": [
        "# Строим гистограмму для каждой числовой переменной, чтоб узнать тип данных\r\n",
        "data.hist(bins=50, figsize=(20,15))\r\n",
        "sns.set(style='whitegrid', rc={\"grid.linewidth\": 0.1})\r\n",
        "plt.savefig(\"attribute_histogram_plots\")\r\n",
        "plt.show()"
      ],
      "execution_count": 97,
      "outputs": [
        {
          "output_type": "display_data",
          "data": {
            "image/png": "[encoded data removed]",
            "text/plain": [
              "<Figure size 1440x1080 with 12 Axes>"
            ]
          },
          "metadata": {
            "tags": []
          }
        }
      ]
    },
    {
      "cell_type": "code",
      "metadata": {
        "colab": {
          "base_uri": "https://localhost:8080/"
        },
        "id": "2wfLO_xK0XkA",
        "outputId": "44ed3971-ed8f-4af8-8911-6e8dc5cc4b5d"
      },
      "source": [
        "# Получим Х и Y\r\n",
        "data['MONTH'].astype('float')\r\n",
        "X = data.drop('SALES', axis=1)\r\n",
        "Y = data['SALES']\r\n",
        "Y = np.array(Y).reshape(-1,1)\r\n",
        "\r\n",
        "print(X.shape)\r\n",
        "print(Y.shape)"
      ],
      "execution_count": 98,
      "outputs": [
        {
          "output_type": "stream",
          "text": [
            "(128355, 9)\n",
            "(128355, 1)\n"
          ],
          "name": "stdout"
        }
      ]
    },
    {
      "cell_type": "code",
      "metadata": {
        "colab": {
          "base_uri": "https://localhost:8080/"
        },
        "id": "fUk8lnWSrv-w",
        "outputId": "e7c63d2b-d99e-4326-c440-3d3dd4c14388"
      },
      "source": [
        "# подготовим наши данные, разобъем всю выборку на три части: обучающую, валидационную и тестовую.\r\n",
        "X_train, X_test, y_train, y_test= train_test_split(X, Y, random_state=0, test_size=0.3)\r\n",
        "print(f'X_train: {X_train.shape}, y_train: {y_train.shape}')\r\n",
        "print(f'X_test: {X_test.shape}, y_test: {y_test.shape}')\r\n"
      ],
      "execution_count": 106,
      "outputs": [
        {
          "output_type": "stream",
          "text": [
            "X_train: (89848, 9), y_train: (89848, 1)\n",
            "X_test: (38507, 9), y_test: (38507, 1)\n"
          ],
          "name": "stdout"
        }
      ]
    },
    {
      "cell_type": "markdown",
      "metadata": {
        "id": "-tlMiSab3TQd"
      },
      "source": [
        "# Обучим регрессионную модель и осуществите прогноз на последний месяц для поля SALES"
      ]
    },
    {
      "cell_type": "code",
      "metadata": {
        "id": "OLcWslsiupWa"
      },
      "source": [
        "# Создадим Pipeline и хэш-таблицу с параметрами для подбора модели с помощью решетчатого поиска\r\n",
        "\r\n",
        "pipe = Pipeline([('scaler', MinMaxScaler()), \r\n",
        "                 ('model', MultiOutputRegressor(LinearRegression()))])\r\n",
        "param_grid = [{'model': [MultiOutputRegressor(LinearRegression())]}, \r\n",
        "               {'model': [MultiOutputRegressor(Ridge())]}, \r\n",
        "               {'model': [MultiOutputRegressor(Lasso())]}, \r\n",
        "               {'model': [MultiOutputRegressor(SGDRegressor())]}, \r\n",
        "               {'model': [MultiOutputRegressor(SVR(kernel='poly'))]}, \r\n",
        "               {'model': [MultiOutputRegressor(LinearSVR())]}, \r\n",
        "               {'model': [MultiOutputRegressor(RandomForestRegressor())]}, \r\n",
        "               {'model': [MultiOutputRegressor(XGBRegressor(objective ='reg:squarederror'))]}]"
      ],
      "execution_count": 107,
      "outputs": []
    },
    {
      "cell_type": "code",
      "metadata": {
        "id": "SXzFwrNnupZv"
      },
      "source": [
        "# Далее разобъем наши данные на фолды, для более корректной кросс-валидации, \r\n",
        "# так как у нас много моделей, а так же что тестовый набор составляет примерно 1/3 от обучающего, то выберем парметр cv=3\r\n",
        "\r\n",
        "kfold = KFold(n_splits=3)\r\n",
        "\r\n",
        "# Приступим к подбору модели и оптимальных параметров\r\n",
        "#Модель для rougher\r\n",
        "grid_model= GridSearchCV(pipe, param_grid=param_grid, cv=kfold, n_jobs=-1)"
      ],
      "execution_count": 108,
      "outputs": []
    },
    {
      "cell_type": "code",
      "metadata": {
        "colab": {
          "base_uri": "https://localhost:8080/"
        },
        "id": "WX5SVQXdupdi",
        "outputId": "38f9963a-4822-4f4b-ee09-37f716891878"
      },
      "source": [
        "%%time\r\n",
        "\r\n",
        "# Обучим сначала модель для этапа rougher\r\n",
        "grid_model.fit(X_train, y_train)"
      ],
      "execution_count": 109,
      "outputs": [
        {
          "output_type": "stream",
          "text": [
            "CPU times: user 3.12 s, sys: 193 ms, total: 3.31 s\n",
            "Wall time: 4min 8s\n"
          ],
          "name": "stdout"
        },
        {
          "output_type": "execute_result",
          "data": {
            "text/plain": [
              "GridSearchCV(cv=KFold(n_splits=3, random_state=None, shuffle=False),\n",
              "             error_score=nan,\n",
              "             estimator=Pipeline(memory=None,\n",
              "                                steps=[('scaler',\n",
              "                                        MinMaxScaler(copy=True,\n",
              "                                                     feature_range=(0, 1))),\n",
              "                                       ('model',\n",
              "                                        MultiOutputRegressor(estimator=LinearRegression(copy_X=True,\n",
              "                                                                                        fit_intercept=True,\n",
              "                                                                                        n_jobs=None,\n",
              "                                                                                        normalize=False),\n",
              "                                                             n_jobs=None))],\n",
              "                                verbose=False),\n",
              "             iid='deprecated', n_jobs=-1,\n",
              "             p...\n",
              "                                                                                learning_rate=0.1,\n",
              "                                                                                max_delta_step=0,\n",
              "                                                                                max_depth=3,\n",
              "                                                                                min_child_weight=1,\n",
              "                                                                                missing=None,\n",
              "                                                                                n_estimators=100,\n",
              "                                                                                n_jobs=1,\n",
              "                                                                                nthread=None,\n",
              "                                                                                objective='reg:squarederror',\n",
              "                                                                                random_state=0,\n",
              "                                                                                reg_alpha=0,\n",
              "                                                                                reg_lambda=1,\n",
              "                                                                                scale_pos_weight=1,\n",
              "                                                                                seed=None,\n",
              "                                                                                silent=None,\n",
              "                                                                                subsample=1,\n",
              "                                                                                verbosity=1),\n",
              "                                                         n_jobs=None)]}],\n",
              "             pre_dispatch='2*n_jobs', refit=True, return_train_score=False,\n",
              "             scoring=None, verbose=0)"
            ]
          },
          "metadata": {
            "tags": []
          },
          "execution_count": 109
        }
      ]
    },
    {
      "cell_type": "code",
      "metadata": {
        "colab": {
          "base_uri": "https://localhost:8080/"
        },
        "id": "14ivsGsi2FvN",
        "outputId": "23c2fa57-f16a-4f0d-df96-c069cd2dbf4b"
      },
      "source": [
        "# Посмотрим, какая модель и с какими параметрами оказалась лучшей\r\n",
        "grid_model.best_params_"
      ],
      "execution_count": 110,
      "outputs": [
        {
          "output_type": "execute_result",
          "data": {
            "text/plain": [
              "{'model': MultiOutputRegressor(estimator=XGBRegressor(base_score=0.5, booster='gbtree',\n",
              "                                             colsample_bylevel=1,\n",
              "                                             colsample_bynode=1,\n",
              "                                             colsample_bytree=1, gamma=0,\n",
              "                                             importance_type='gain',\n",
              "                                             learning_rate=0.1, max_delta_step=0,\n",
              "                                             max_depth=3, min_child_weight=1,\n",
              "                                             missing=None, n_estimators=100,\n",
              "                                             n_jobs=1, nthread=None,\n",
              "                                             objective='reg:squarederror',\n",
              "                                             random_state=0, reg_alpha=0,\n",
              "                                             reg_lambda=1, scale_pos_weight=1,\n",
              "                                             seed=None, silent=None, subsample=1,\n",
              "                                             verbosity=1),\n",
              "                      n_jobs=None)}"
            ]
          },
          "metadata": {
            "tags": []
          },
          "execution_count": 110
        }
      ]
    },
    {
      "cell_type": "markdown",
      "metadata": {
        "id": "WlzPJHtD6Jul"
      },
      "source": [
        "# Оцените качество модели с помощью функции metric"
      ]
    },
    {
      "cell_type": "code",
      "metadata": {
        "colab": {
          "base_uri": "https://localhost:8080/",
          "height": 407
        },
        "id": "DfhoSptl2FzU",
        "outputId": "6d2798ce-2a53-4bce-a7c3-4683f7d95405"
      },
      "source": [
        "#Получим предсказания\r\n",
        "y_pred_array = pd.DataFrame(grid_model.predict(X_test))\r\n",
        "y_pred_array"
      ],
      "execution_count": 111,
      "outputs": [
        {
          "output_type": "execute_result",
          "data": {
            "text/html": [
              "<div>\n",
              "<style scoped>\n",
              "    .dataframe tbody tr th:only-of-type {\n",
              "        vertical-align: middle;\n",
              "    }\n",
              "\n",
              "    .dataframe tbody tr th {\n",
              "        vertical-align: top;\n",
              "    }\n",
              "\n",
              "    .dataframe thead th {\n",
              "        text-align: right;\n",
              "    }\n",
              "</style>\n",
              "<table border=\"1\" class=\"dataframe\">\n",
              "  <thead>\n",
              "    <tr style=\"text-align: right;\">\n",
              "      <th></th>\n",
              "      <th>0</th>\n",
              "    </tr>\n",
              "  </thead>\n",
              "  <tbody>\n",
              "    <tr>\n",
              "      <th>0</th>\n",
              "      <td>934.499695</td>\n",
              "    </tr>\n",
              "    <tr>\n",
              "      <th>1</th>\n",
              "      <td>6464.163574</td>\n",
              "    </tr>\n",
              "    <tr>\n",
              "      <th>2</th>\n",
              "      <td>1384.623535</td>\n",
              "    </tr>\n",
              "    <tr>\n",
              "      <th>3</th>\n",
              "      <td>2344.855225</td>\n",
              "    </tr>\n",
              "    <tr>\n",
              "      <th>4</th>\n",
              "      <td>6575.760254</td>\n",
              "    </tr>\n",
              "    <tr>\n",
              "      <th>...</th>\n",
              "      <td>...</td>\n",
              "    </tr>\n",
              "    <tr>\n",
              "      <th>38502</th>\n",
              "      <td>17423.341797</td>\n",
              "    </tr>\n",
              "    <tr>\n",
              "      <th>38503</th>\n",
              "      <td>1962.756470</td>\n",
              "    </tr>\n",
              "    <tr>\n",
              "      <th>38504</th>\n",
              "      <td>15713.921875</td>\n",
              "    </tr>\n",
              "    <tr>\n",
              "      <th>38505</th>\n",
              "      <td>6464.163574</td>\n",
              "    </tr>\n",
              "    <tr>\n",
              "      <th>38506</th>\n",
              "      <td>1273.026855</td>\n",
              "    </tr>\n",
              "  </tbody>\n",
              "</table>\n",
              "<p>38507 rows × 1 columns</p>\n",
              "</div>"
            ],
            "text/plain": [
              "                  0\n",
              "0        934.499695\n",
              "1       6464.163574\n",
              "2       1384.623535\n",
              "3       2344.855225\n",
              "4       6575.760254\n",
              "...             ...\n",
              "38502  17423.341797\n",
              "38503   1962.756470\n",
              "38504  15713.921875\n",
              "38505   6464.163574\n",
              "38506   1273.026855\n",
              "\n",
              "[38507 rows x 1 columns]"
            ]
          },
          "metadata": {
            "tags": []
          },
          "execution_count": 111
        }
      ]
    },
    {
      "cell_type": "code",
      "metadata": {
        "colab": {
          "base_uri": "https://localhost:8080/"
        },
        "id": "D_3Na0eX2F2Q",
        "outputId": "7439f615-7688-4a39-aa32-afe14b54f5e7"
      },
      "source": [
        "# Оценим модель метрикой\r\n",
        "get_metric_score = metric(y_test, y_pred_array)\r\n",
        "get_metric_score"
      ],
      "execution_count": 114,
      "outputs": [
        {
          "output_type": "execute_result",
          "data": {
            "text/plain": [
              "0    100.515109\n",
              "dtype: float64"
            ]
          },
          "metadata": {
            "tags": []
          },
          "execution_count": 114
        }
      ]
    },
    {
      "cell_type": "code",
      "metadata": {
        "id": "WT4RAM8M2F5J"
      },
      "source": [
        ""
      ],
      "execution_count": null,
      "outputs": []
    },
    {
      "cell_type": "code",
      "metadata": {
        "id": "edDlHScHupgU"
      },
      "source": [
        "from sklearn.preprocessing import StandardScaler\r\n",
        "from tensorflow.keras.models import Sequential\r\n",
        "from tensorflow.keras.layers import Dense, Dropout, BatchNormalization, Flatten\r\n",
        "from tensorflow.keras.optimizers import Adam\r\n"
      ],
      "execution_count": 128,
      "outputs": []
    },
    {
      "cell_type": "code",
      "metadata": {
        "colab": {
          "base_uri": "https://localhost:8080/"
        },
        "id": "DKe1yGpXupjB",
        "outputId": "4de0bf34-e83a-4db7-e75d-22798b8befc3"
      },
      "source": [
        "print(f'X_train: {X_train.shape}, y_train: {y_train.shape}')\r\n",
        "print(f'X_test: {X_test.shape}, y_test: {y_test.shape}')"
      ],
      "execution_count": 125,
      "outputs": [
        {
          "output_type": "stream",
          "text": [
            "X_train: (89848, 9), y_train: (89848, 1)\n",
            "X_test: (38507, 9), y_test: (38507, 1)\n"
          ],
          "name": "stdout"
        }
      ]
    },
    {
      "cell_type": "code",
      "metadata": {
        "colab": {
          "base_uri": "https://localhost:8080/"
        },
        "id": "pkUwV78lAQSp",
        "outputId": "77a1d521-3a13-43e4-a8e6-5cf56eef88fa"
      },
      "source": [
        "# В качестве нормализации данных используем готовую библиотеку \r\n",
        "yScaler = StandardScaler()\r\n",
        "\r\n",
        "# Скармливаем объекту двумерный вектор\r\n",
        "yScaler.fit(y_train.reshape(-1, 1))\r\n",
        "\r\n",
        "# Нормализуем по нормальному распределению\r\n",
        "y_trainScaled = yScaler.transform(y_train.reshape(-1, 1))\r\n",
        "\r\n",
        "print(y_trainScaled.shape)\r\n",
        "print(y_train[1])\r\n",
        "print(y_trainScaled[1])"
      ],
      "execution_count": 126,
      "outputs": [
        {
          "output_type": "stream",
          "text": [
            "(89848, 1)\n",
            "[80.]\n",
            "[-0.21922881]\n"
          ],
          "name": "stdout"
        }
      ]
    },
    {
      "cell_type": "code",
      "metadata": {
        "id": "sHCdB_FpAMhd"
      },
      "source": [
        "# Обучаем модель полученными данными\r\n",
        "model = Sequential()\r\n",
        "model.add(BatchNormalization(input_shape=(X_train.shape[1],)))\r\n",
        "model.add(Dense(128, activation='relu'))\r\n",
        "model.add(Dense(1000, activation='tanh'))\r\n",
        "model.add(Dense(100, activation='relu'))\r\n",
        "model.add(Dense(1, activation='linear'))\r\n",
        "\r\n",
        "model.compile(optimizer=Adam(lr=1e-5), loss='mse', metrics=['mae'])\r\n",
        "\r\n"
      ],
      "execution_count": 135,
      "outputs": []
    },
    {
      "cell_type": "code",
      "metadata": {
        "colab": {
          "base_uri": "https://localhost:8080/",
          "height": 785
        },
        "id": "G2T90sW5A2Le",
        "outputId": "db2c2469-3b76-4e24-a646-19c5e8dc8b67"
      },
      "source": [
        "history = model.fit(X_train, \r\n",
        "                    y_trainScaled, \r\n",
        "                    epochs=15, \r\n",
        "                    batch_size=500,\r\n",
        "                    validation_split=0.15, \r\n",
        "                    verbose=2)\r\n",
        "\r\n",
        "plt.plot(history.history['mae'], \r\n",
        "         label='Средняя абсолютная ошибка на обучающем наборе')\r\n",
        "plt.plot(history.history['val_mae'], \r\n",
        "         label='Средняя абсолютная ошибка на проверочном наборе')\r\n",
        "plt.xlabel('Эпоха обучения')\r\n",
        "plt.ylabel('Средняя абсолютная ошибка')\r\n",
        "plt.legend()\r\n",
        "plt.show()"
      ],
      "execution_count": 137,
      "outputs": [
        {
          "output_type": "stream",
          "text": [
            "Epoch 1/15\n",
            "153/153 - 0s - loss: 0.7639 - mae: 0.2670 - val_loss: 0.8435 - val_mae: 0.2740\n",
            "Epoch 2/15\n",
            "153/153 - 0s - loss: 0.7714 - mae: 0.2694 - val_loss: 0.8453 - val_mae: 0.2795\n",
            "Epoch 3/15\n",
            "153/153 - 1s - loss: 0.7626 - mae: 0.2666 - val_loss: 0.8459 - val_mae: 0.2693\n",
            "Epoch 4/15\n",
            "153/153 - 0s - loss: 0.7680 - mae: 0.2680 - val_loss: 0.8439 - val_mae: 0.2847\n",
            "Epoch 5/15\n",
            "153/153 - 0s - loss: 0.7821 - mae: 0.2685 - val_loss: 0.8514 - val_mae: 0.2993\n",
            "Epoch 6/15\n",
            "153/153 - 0s - loss: 0.7604 - mae: 0.2666 - val_loss: 0.8427 - val_mae: 0.2785\n",
            "Epoch 7/15\n",
            "153/153 - 0s - loss: 0.7674 - mae: 0.2644 - val_loss: 0.8459 - val_mae: 0.2963\n",
            "Epoch 8/15\n",
            "153/153 - 0s - loss: 0.7740 - mae: 0.2663 - val_loss: 0.8442 - val_mae: 0.2765\n",
            "Epoch 9/15\n",
            "153/153 - 0s - loss: 0.7561 - mae: 0.2677 - val_loss: 0.8436 - val_mae: 0.2848\n",
            "Epoch 10/15\n",
            "153/153 - 0s - loss: 0.7686 - mae: 0.2684 - val_loss: 0.8423 - val_mae: 0.2719\n",
            "Epoch 11/15\n",
            "153/153 - 0s - loss: 0.7653 - mae: 0.2664 - val_loss: 0.8462 - val_mae: 0.2871\n",
            "Epoch 12/15\n",
            "153/153 - 0s - loss: 0.7718 - mae: 0.2683 - val_loss: 0.8437 - val_mae: 0.2826\n",
            "Epoch 13/15\n",
            "153/153 - 0s - loss: 0.7605 - mae: 0.2680 - val_loss: 0.8437 - val_mae: 0.2718\n",
            "Epoch 14/15\n",
            "153/153 - 0s - loss: 0.7705 - mae: 0.2676 - val_loss: 0.8424 - val_mae: 0.2658\n",
            "Epoch 15/15\n",
            "153/153 - 0s - loss: 0.7679 - mae: 0.2683 - val_loss: 0.8463 - val_mae: 0.2962\n"
          ],
          "name": "stdout"
        },
        {
          "output_type": "display_data",
          "data": {
            "image/png": "[encoded data removed]",
            "text/plain": [
              "<Figure size 432x288 with 1 Axes>"
            ]
          },
          "metadata": {
            "tags": []
          }
        }
      ]
    },
    {
      "cell_type": "code",
      "metadata": {
        "colab": {
          "base_uri": "https://localhost:8080/"
        },
        "id": "9N62jFuAA2O-",
        "outputId": "2968052f-39eb-418f-c185-afe213e68e2e"
      },
      "source": [
        "y_pred = model.predict(X_test)\r\n",
        "\r\n",
        "# Оценим модель метрикой\r\n",
        "get_met = metric(y_test, y_pred)\r\n",
        "get_met"
      ],
      "execution_count": 142,
      "outputs": [
        {
          "output_type": "execute_result",
          "data": {
            "text/plain": [
              "11463404.387758316"
            ]
          },
          "metadata": {
            "tags": []
          },
          "execution_count": 142
        }
      ]
    }
  ]
}