{
  "nbformat": 4,
  "nbformat_minor": 0,
  "metadata": {
    "colab": {
      "name": "Test_Task_2.ipynb",
      "provenance": [],
      "toc_visible": true
    },
    "kernelspec": {
      "name": "python3",
      "display_name": "Python 3"
    }
  },
  "cells": [
    {
      "cell_type": "markdown",
      "metadata": {
        "id": "WsY3UKLcK9x4"
      },
      "source": [
        "# Тестовое задание\r\n",
        "\r\n",
        "Исполнитель: Владислав Кудюров\r\n",
        "\r\n",
        "Задача 2:\r\n",
        "\r\n",
        "\r\n",
        "\r\n",
        "1.   Проведите аналитику полученных данных\r\n",
        "\r\n",
        "2.   Подготовьте данные для модели классификации\r\n",
        "3.   Обучите модель классификации и осуществите прогноз для отложенной выборки с учетомо перекоса в данных TARGET\r\n",
        "4.   Оцените качество модели с помощью функции f1_score\r\n",
        "\r\n",
        "\r\n",
        "\r\n"
      ]
    },
    {
      "cell_type": "code",
      "metadata": {
        "id": "drSCpyUHK3Gf"
      },
      "source": [
        "import pandas as pd\r\n",
        "import seaborn as sns\r\n",
        "import matplotlib.pylab as plt\r\n",
        "from pylab import rcParams\r\n",
        "import warnings\r\n",
        "rcParams['figure.figsize'] = 20, 10\r\n",
        "warnings.filterwarnings(\"ignore\")\r\n",
        "%matplotlib inline\r\n",
        "from sklearn.preprocessing import StandardScaler\r\n",
        "from sklearn.linear_model import LogisticRegression\r\n",
        "from sklearn.svm import LinearSVC\r\n",
        "from sklearn.svm import SVC\r\n",
        "from sklearn.tree import DecisionTreeClassifier\r\n",
        "from sklearn.tree import DecisionTreeClassifier\r\n",
        "from sklearn.ensemble import GradientBoostingClassifier\r\n",
        "from sklearn.ensemble import RandomForestClassifier\r\n",
        "from sklearn.neighbors import KNeighborsClassifier\r\n",
        "from tensorflow.keras import utils\r\n",
        "import numpy as np\r\n",
        "from sklearn.model_selection import train_test_split\r\n",
        "from sklearn.metrics import f1_score\r\n",
        "from sklearn.metrics import roc_auc_score\r\n",
        "from sklearn.metrics import roc_curve\r\n",
        "from sklearn.utils import shuffle\r\n",
        "from tensorflow.keras.optimizers import Adam, RMSprop\r\n",
        "from tensorflow.keras.models import Sequential, Model\r\n",
        "from tensorflow.keras.layers import Dense, Dropout, BatchNormalization"
      ],
      "execution_count": 258,
      "outputs": []
    },
    {
      "cell_type": "code",
      "metadata": {
        "colab": {
          "base_uri": "https://localhost:8080/"
        },
        "id": "3yIxbmVxK_Ga",
        "outputId": "8101e228-7c3d-4383-a82c-955d71c60829"
      },
      "source": [
        "# подключаем гугл драйв диск для загрузки файлов\r\n",
        "from google.colab import drive \r\n",
        "drive.mount('/content/drive')\r\n",
        "\r\n",
        "# Указываем путь к данным\r\n",
        "PATH = '/content/drive/My Drive/datasets/test_magnit/'"
      ],
      "execution_count": 259,
      "outputs": [
        {
          "output_type": "stream",
          "text": [
            "Drive already mounted at /content/drive; to attempt to forcibly remount, call drive.mount(\"/content/drive\", force_remount=True).\n"
          ],
          "name": "stdout"
        }
      ]
    },
    {
      "cell_type": "code",
      "metadata": {
        "colab": {
          "base_uri": "https://localhost:8080/",
          "height": 407
        },
        "id": "uNEdHhMkK_JY",
        "outputId": "b8f91b80-4936-49ce-8646-06c17e854f60"
      },
      "source": [
        "# Загружаем данные \r\n",
        "df = pd.read_csv(PATH + 'data_classification_for_task.csv')\r\n",
        "df.index += 1\r\n",
        "display(df)"
      ],
      "execution_count": 260,
      "outputs": [
        {
          "output_type": "display_data",
          "data": {
            "text/html": [
              "<div>\n",
              "<style scoped>\n",
              "    .dataframe tbody tr th:only-of-type {\n",
              "        vertical-align: middle;\n",
              "    }\n",
              "\n",
              "    .dataframe tbody tr th {\n",
              "        vertical-align: top;\n",
              "    }\n",
              "\n",
              "    .dataframe thead th {\n",
              "        text-align: right;\n",
              "    }\n",
              "</style>\n",
              "<table border=\"1\" class=\"dataframe\">\n",
              "  <thead>\n",
              "    <tr style=\"text-align: right;\">\n",
              "      <th></th>\n",
              "      <th>AGE</th>\n",
              "      <th>GENDER</th>\n",
              "      <th>FEATURE_1</th>\n",
              "      <th>FEATURE_2</th>\n",
              "      <th>FEATURE_3</th>\n",
              "      <th>FEATURE_4</th>\n",
              "      <th>FEATURE_5</th>\n",
              "      <th>FEATURE_6</th>\n",
              "      <th>FEATURE_7</th>\n",
              "      <th>FEATURE_8</th>\n",
              "      <th>FEATURE_9</th>\n",
              "      <th>FEATURE_10</th>\n",
              "      <th>FEATURE_11</th>\n",
              "      <th>TARGET</th>\n",
              "    </tr>\n",
              "  </thead>\n",
              "  <tbody>\n",
              "    <tr>\n",
              "      <th>1</th>\n",
              "      <td>63</td>\n",
              "      <td>1</td>\n",
              "      <td>3</td>\n",
              "      <td>145</td>\n",
              "      <td>233</td>\n",
              "      <td>1</td>\n",
              "      <td>0</td>\n",
              "      <td>150</td>\n",
              "      <td>0</td>\n",
              "      <td>2.3</td>\n",
              "      <td>0</td>\n",
              "      <td>0</td>\n",
              "      <td>1</td>\n",
              "      <td>1</td>\n",
              "    </tr>\n",
              "    <tr>\n",
              "      <th>2</th>\n",
              "      <td>37</td>\n",
              "      <td>1</td>\n",
              "      <td>2</td>\n",
              "      <td>130</td>\n",
              "      <td>250</td>\n",
              "      <td>0</td>\n",
              "      <td>1</td>\n",
              "      <td>187</td>\n",
              "      <td>0</td>\n",
              "      <td>3.5</td>\n",
              "      <td>0</td>\n",
              "      <td>0</td>\n",
              "      <td>2</td>\n",
              "      <td>1</td>\n",
              "    </tr>\n",
              "    <tr>\n",
              "      <th>3</th>\n",
              "      <td>41</td>\n",
              "      <td>0</td>\n",
              "      <td>1</td>\n",
              "      <td>130</td>\n",
              "      <td>204</td>\n",
              "      <td>0</td>\n",
              "      <td>0</td>\n",
              "      <td>172</td>\n",
              "      <td>0</td>\n",
              "      <td>1.4</td>\n",
              "      <td>2</td>\n",
              "      <td>0</td>\n",
              "      <td>2</td>\n",
              "      <td>1</td>\n",
              "    </tr>\n",
              "    <tr>\n",
              "      <th>4</th>\n",
              "      <td>56</td>\n",
              "      <td>1</td>\n",
              "      <td>1</td>\n",
              "      <td>120</td>\n",
              "      <td>236</td>\n",
              "      <td>0</td>\n",
              "      <td>1</td>\n",
              "      <td>178</td>\n",
              "      <td>0</td>\n",
              "      <td>0.8</td>\n",
              "      <td>2</td>\n",
              "      <td>0</td>\n",
              "      <td>2</td>\n",
              "      <td>1</td>\n",
              "    </tr>\n",
              "    <tr>\n",
              "      <th>5</th>\n",
              "      <td>57</td>\n",
              "      <td>0</td>\n",
              "      <td>0</td>\n",
              "      <td>120</td>\n",
              "      <td>354</td>\n",
              "      <td>0</td>\n",
              "      <td>1</td>\n",
              "      <td>163</td>\n",
              "      <td>1</td>\n",
              "      <td>0.6</td>\n",
              "      <td>2</td>\n",
              "      <td>0</td>\n",
              "      <td>2</td>\n",
              "      <td>1</td>\n",
              "    </tr>\n",
              "    <tr>\n",
              "      <th>...</th>\n",
              "      <td>...</td>\n",
              "      <td>...</td>\n",
              "      <td>...</td>\n",
              "      <td>...</td>\n",
              "      <td>...</td>\n",
              "      <td>...</td>\n",
              "      <td>...</td>\n",
              "      <td>...</td>\n",
              "      <td>...</td>\n",
              "      <td>...</td>\n",
              "      <td>...</td>\n",
              "      <td>...</td>\n",
              "      <td>...</td>\n",
              "      <td>...</td>\n",
              "    </tr>\n",
              "    <tr>\n",
              "      <th>299</th>\n",
              "      <td>57</td>\n",
              "      <td>0</td>\n",
              "      <td>0</td>\n",
              "      <td>140</td>\n",
              "      <td>241</td>\n",
              "      <td>0</td>\n",
              "      <td>1</td>\n",
              "      <td>123</td>\n",
              "      <td>1</td>\n",
              "      <td>0.2</td>\n",
              "      <td>1</td>\n",
              "      <td>0</td>\n",
              "      <td>3</td>\n",
              "      <td>0</td>\n",
              "    </tr>\n",
              "    <tr>\n",
              "      <th>300</th>\n",
              "      <td>45</td>\n",
              "      <td>1</td>\n",
              "      <td>3</td>\n",
              "      <td>110</td>\n",
              "      <td>264</td>\n",
              "      <td>0</td>\n",
              "      <td>1</td>\n",
              "      <td>132</td>\n",
              "      <td>0</td>\n",
              "      <td>1.2</td>\n",
              "      <td>1</td>\n",
              "      <td>0</td>\n",
              "      <td>3</td>\n",
              "      <td>0</td>\n",
              "    </tr>\n",
              "    <tr>\n",
              "      <th>301</th>\n",
              "      <td>68</td>\n",
              "      <td>1</td>\n",
              "      <td>0</td>\n",
              "      <td>144</td>\n",
              "      <td>193</td>\n",
              "      <td>1</td>\n",
              "      <td>1</td>\n",
              "      <td>141</td>\n",
              "      <td>0</td>\n",
              "      <td>3.4</td>\n",
              "      <td>1</td>\n",
              "      <td>2</td>\n",
              "      <td>3</td>\n",
              "      <td>0</td>\n",
              "    </tr>\n",
              "    <tr>\n",
              "      <th>302</th>\n",
              "      <td>57</td>\n",
              "      <td>1</td>\n",
              "      <td>0</td>\n",
              "      <td>130</td>\n",
              "      <td>131</td>\n",
              "      <td>0</td>\n",
              "      <td>1</td>\n",
              "      <td>115</td>\n",
              "      <td>1</td>\n",
              "      <td>1.2</td>\n",
              "      <td>1</td>\n",
              "      <td>1</td>\n",
              "      <td>3</td>\n",
              "      <td>0</td>\n",
              "    </tr>\n",
              "    <tr>\n",
              "      <th>303</th>\n",
              "      <td>57</td>\n",
              "      <td>0</td>\n",
              "      <td>1</td>\n",
              "      <td>130</td>\n",
              "      <td>236</td>\n",
              "      <td>0</td>\n",
              "      <td>0</td>\n",
              "      <td>174</td>\n",
              "      <td>0</td>\n",
              "      <td>0.0</td>\n",
              "      <td>1</td>\n",
              "      <td>1</td>\n",
              "      <td>2</td>\n",
              "      <td>0</td>\n",
              "    </tr>\n",
              "  </tbody>\n",
              "</table>\n",
              "<p>303 rows × 14 columns</p>\n",
              "</div>"
            ],
            "text/plain": [
              "     AGE  GENDER  FEATURE_1  ...  FEATURE_10  FEATURE_11  TARGET\n",
              "1     63       1          3  ...           0           1       1\n",
              "2     37       1          2  ...           0           2       1\n",
              "3     41       0          1  ...           0           2       1\n",
              "4     56       1          1  ...           0           2       1\n",
              "5     57       0          0  ...           0           2       1\n",
              "..   ...     ...        ...  ...         ...         ...     ...\n",
              "299   57       0          0  ...           0           3       0\n",
              "300   45       1          3  ...           0           3       0\n",
              "301   68       1          0  ...           2           3       0\n",
              "302   57       1          0  ...           1           3       0\n",
              "303   57       0          1  ...           1           2       0\n",
              "\n",
              "[303 rows x 14 columns]"
            ]
          },
          "metadata": {
            "tags": []
          }
        }
      ]
    },
    {
      "cell_type": "code",
      "metadata": {
        "colab": {
          "base_uri": "https://localhost:8080/"
        },
        "id": "W0PUhsp0K_MT",
        "outputId": "9df7025e-64ce-4c3a-af81-69dfdc6504d6"
      },
      "source": [
        "# Выведем информацию о датасете\r\n",
        "df.info()"
      ],
      "execution_count": 261,
      "outputs": [
        {
          "output_type": "stream",
          "text": [
            "<class 'pandas.core.frame.DataFrame'>\n",
            "RangeIndex: 303 entries, 1 to 303\n",
            "Data columns (total 14 columns):\n",
            " #   Column      Non-Null Count  Dtype  \n",
            "---  ------      --------------  -----  \n",
            " 0   AGE         303 non-null    int64  \n",
            " 1   GENDER      303 non-null    int64  \n",
            " 2   FEATURE_1   303 non-null    int64  \n",
            " 3   FEATURE_2   303 non-null    int64  \n",
            " 4   FEATURE_3   303 non-null    int64  \n",
            " 5   FEATURE_4   303 non-null    int64  \n",
            " 6   FEATURE_5   303 non-null    int64  \n",
            " 7   FEATURE_6   303 non-null    int64  \n",
            " 8   FEATURE_7   303 non-null    int64  \n",
            " 9   FEATURE_8   303 non-null    float64\n",
            " 10  FEATURE_9   303 non-null    int64  \n",
            " 11  FEATURE_10  303 non-null    int64  \n",
            " 12  FEATURE_11  303 non-null    int64  \n",
            " 13  TARGET      303 non-null    int64  \n",
            "dtypes: float64(1), int64(13)\n",
            "memory usage: 33.3 KB\n"
          ],
          "name": "stdout"
        }
      ]
    },
    {
      "cell_type": "code",
      "metadata": {
        "id": "cGHLcqGVK_O9"
      },
      "source": [
        "# Функция для вычисления процентного списка пропущенных данных\r\n",
        "def get_persent(fn):\r\n",
        "  try:\r\n",
        "    for col in fn.columns:\r\n",
        "      pct_missing = np.mean(fn[col].isnull())\r\n",
        "      print('{} - {}%'.format(col, round(pct_missing*100, 3)))\r\n",
        "  except ValueError:\r\n",
        "    print('Error DataFrame')"
      ],
      "execution_count": 262,
      "outputs": []
    },
    {
      "cell_type": "code",
      "metadata": {
        "colab": {
          "base_uri": "https://localhost:8080/"
        },
        "id": "2KovlZPVMWdM",
        "outputId": "350d35d1-2f0f-4c22-8534-393c973c91d6"
      },
      "source": [
        "# Oтображения сводной статистики числовых переменных\r\n",
        "print(f'Сводная статистика числовых переменных:\\n {df.describe().T}')\r\n",
        "\r\n",
        "# Проверка датасета на отсутствие данных \r\n",
        "print(f'\\nСумма пропущенных значений в переменных:\\n{df.isna().sum()}')\r\n",
        "print(f'\\nПроцент пропущенных данных:')\r\n",
        "get_persent(df)"
      ],
      "execution_count": 263,
      "outputs": [
        {
          "output_type": "stream",
          "text": [
            "Сводная статистика числовых переменных:\n",
            "             count        mean        std    min    25%    50%    75%    max\n",
            "AGE         303.0   54.366337   9.082101   29.0   47.5   55.0   61.0   77.0\n",
            "GENDER      303.0    0.683168   0.466011    0.0    0.0    1.0    1.0    1.0\n",
            "FEATURE_1   303.0    0.966997   1.032052    0.0    0.0    1.0    2.0    3.0\n",
            "FEATURE_2   303.0  131.623762  17.538143   94.0  120.0  130.0  140.0  200.0\n",
            "FEATURE_3   303.0  246.264026  51.830751  126.0  211.0  240.0  274.5  564.0\n",
            "FEATURE_4   303.0    0.148515   0.356198    0.0    0.0    0.0    0.0    1.0\n",
            "FEATURE_5   303.0    0.528053   0.525860    0.0    0.0    1.0    1.0    2.0\n",
            "FEATURE_6   303.0  149.646865  22.905161   71.0  133.5  153.0  166.0  202.0\n",
            "FEATURE_7   303.0    0.326733   0.469794    0.0    0.0    0.0    1.0    1.0\n",
            "FEATURE_8   303.0    1.039604   1.161075    0.0    0.0    0.8    1.6    6.2\n",
            "FEATURE_9   303.0    1.399340   0.616226    0.0    1.0    1.0    2.0    2.0\n",
            "FEATURE_10  303.0    0.729373   1.022606    0.0    0.0    0.0    1.0    4.0\n",
            "FEATURE_11  303.0    2.313531   0.612277    0.0    2.0    2.0    3.0    3.0\n",
            "TARGET      303.0    0.544554   0.498835    0.0    0.0    1.0    1.0    1.0\n",
            "\n",
            "Сумма пропущенных значений в переменных:\n",
            "AGE           0\n",
            "GENDER        0\n",
            "FEATURE_1     0\n",
            "FEATURE_2     0\n",
            "FEATURE_3     0\n",
            "FEATURE_4     0\n",
            "FEATURE_5     0\n",
            "FEATURE_6     0\n",
            "FEATURE_7     0\n",
            "FEATURE_8     0\n",
            "FEATURE_9     0\n",
            "FEATURE_10    0\n",
            "FEATURE_11    0\n",
            "TARGET        0\n",
            "dtype: int64\n",
            "\n",
            "Процент пропущенных данных:\n",
            "AGE - 0.0%\n",
            "GENDER - 0.0%\n",
            "FEATURE_1 - 0.0%\n",
            "FEATURE_2 - 0.0%\n",
            "FEATURE_3 - 0.0%\n",
            "FEATURE_4 - 0.0%\n",
            "FEATURE_5 - 0.0%\n",
            "FEATURE_6 - 0.0%\n",
            "FEATURE_7 - 0.0%\n",
            "FEATURE_8 - 0.0%\n",
            "FEATURE_9 - 0.0%\n",
            "FEATURE_10 - 0.0%\n",
            "FEATURE_11 - 0.0%\n",
            "TARGET - 0.0%\n"
          ],
          "name": "stdout"
        }
      ]
    },
    {
      "cell_type": "code",
      "metadata": {
        "colab": {
          "base_uri": "https://localhost:8080/",
          "height": 393
        },
        "id": "C4c_5LcKPkE8",
        "outputId": "16be040f-5211-4f27-d583-e2aacd378218"
      },
      "source": [
        "# Посмотрим переменную, которую будем предсказывать\r\n",
        "pos = df[df['TARGET'] == 0].shape[0]\r\n",
        "neg = df[df['TARGET'] == 1].shape[0]\r\n",
        "sns.set(style='whitegrid', rc={\"grid.linewidth\": 0.1})\r\n",
        "plt.figure(figsize=(8, 6))\r\n",
        "sns.countplot(df['TARGET'])\r\n",
        "plt.xticks((0, 1), ['0', \"1\"])\r\n",
        "plt.ylabel('Количество исходов')\r\n",
        "plt.xlabel(\"\")\r\n"
      ],
      "execution_count": 264,
      "outputs": [
        {
          "output_type": "execute_result",
          "data": {
            "text/plain": [
              "Text(0.5, 0, '')"
            ]
          },
          "metadata": {
            "tags": []
          },
          "execution_count": 264
        },
        {
          "output_type": "display_data",
          "data": {
            "image/png": "[encoded data removed]",
            "text/plain": [
              "<Figure size 576x432 with 1 Axes>"
            ]
          },
          "metadata": {
            "tags": []
          }
        }
      ]
    },
    {
      "cell_type": "code",
      "metadata": {
        "colab": {
          "base_uri": "https://localhost:8080/"
        },
        "id": "jZXgVHErPvd-",
        "outputId": "93dc9a62-7257-4a2e-97e1-4cc9b716c4db"
      },
      "source": [
        "print(f'Количество исходов с событием 0: {pos}')\r\n",
        "print(f'Количество исходов с событием 1: {neg}')\r\n",
        "print(f'Соотношение между исходами: {(pos / neg) * 100:.2f}%')"
      ],
      "execution_count": 265,
      "outputs": [
        {
          "output_type": "stream",
          "text": [
            "Количество исходов с событием 0: 138\n",
            "Количество исходов с событием 1: 165\n",
            "Соотношение между исходами: 83.64%\n"
          ],
          "name": "stdout"
        }
      ]
    },
    {
      "cell_type": "markdown",
      "metadata": {
        "id": "Jnfhcw0yMqgJ"
      },
      "source": [
        "# Подготовьте данные для модели классификации\r\n"
      ]
    },
    {
      "cell_type": "code",
      "metadata": {
        "colab": {
          "base_uri": "https://localhost:8080/"
        },
        "id": "rUZbjc0aMWgZ",
        "outputId": "f4d56064-6636-42b9-da19-317ebbfa2055"
      },
      "source": [
        "# Переведем переменную в режим int\r\n",
        "df['FEATURE_8'] = df['FEATURE_8'].astype('int')\r\n",
        "df.info()"
      ],
      "execution_count": 266,
      "outputs": [
        {
          "output_type": "stream",
          "text": [
            "<class 'pandas.core.frame.DataFrame'>\n",
            "RangeIndex: 303 entries, 1 to 303\n",
            "Data columns (total 14 columns):\n",
            " #   Column      Non-Null Count  Dtype\n",
            "---  ------      --------------  -----\n",
            " 0   AGE         303 non-null    int64\n",
            " 1   GENDER      303 non-null    int64\n",
            " 2   FEATURE_1   303 non-null    int64\n",
            " 3   FEATURE_2   303 non-null    int64\n",
            " 4   FEATURE_3   303 non-null    int64\n",
            " 5   FEATURE_4   303 non-null    int64\n",
            " 6   FEATURE_5   303 non-null    int64\n",
            " 7   FEATURE_6   303 non-null    int64\n",
            " 8   FEATURE_7   303 non-null    int64\n",
            " 9   FEATURE_8   303 non-null    int64\n",
            " 10  FEATURE_9   303 non-null    int64\n",
            " 11  FEATURE_10  303 non-null    int64\n",
            " 12  FEATURE_11  303 non-null    int64\n",
            " 13  TARGET      303 non-null    int64\n",
            "dtypes: int64(14)\n",
            "memory usage: 33.3 KB\n"
          ],
          "name": "stdout"
        }
      ]
    },
    {
      "cell_type": "code",
      "metadata": {
        "colab": {
          "base_uri": "https://localhost:8080/",
          "height": 882
        },
        "id": "TQ-SRjetw8Rz",
        "outputId": "8ef81f55-c502-4422-d284-aadca78a1242"
      },
      "source": [
        "# Строим гистограмму для каждой числовой переменной, чтоб узнать тип данных\r\n",
        "df.hist(bins=50, figsize=(20,15))\r\n",
        "sns.set(style='whitegrid', rc={\"grid.linewidth\": 0.1})\r\n",
        "plt.savefig(\"attribute_histogram_plots\")\r\n",
        "plt.show()"
      ],
      "execution_count": 267,
      "outputs": [
        {
          "output_type": "display_data",
          "data": {
            "image/png": "[encoded data removed]",
            "text/plain": [
              "<Figure size 1440x1080 with 16 Axes>"
            ]
          },
          "metadata": {
            "tags": []
          }
        }
      ]
    },
    {
      "cell_type": "code",
      "metadata": {
        "colab": {
          "base_uri": "https://localhost:8080/"
        },
        "id": "XtUo6LZmNWAH",
        "outputId": "7a74b98b-a1f6-4d36-8a73-55e2577fff07"
      },
      "source": [
        "# Проверим корреляцию между переменными\r\n",
        "data_matrix = df.corr()\r\n",
        "data_matrix[\"TARGET\"].sort_values(ascending=False)"
      ],
      "execution_count": 268,
      "outputs": [
        {
          "output_type": "execute_result",
          "data": {
            "text/plain": [
              "TARGET        1.000000\n",
              "FEATURE_1     0.433798\n",
              "FEATURE_6     0.421741\n",
              "FEATURE_9     0.345877\n",
              "FEATURE_5     0.137230\n",
              "FEATURE_4    -0.028046\n",
              "FEATURE_3    -0.085239\n",
              "FEATURE_2    -0.144931\n",
              "AGE          -0.225439\n",
              "GENDER       -0.280937\n",
              "FEATURE_11   -0.344029\n",
              "FEATURE_10   -0.391724\n",
              "FEATURE_8    -0.423572\n",
              "FEATURE_7    -0.436757\n",
              "Name: TARGET, dtype: float64"
            ]
          },
          "metadata": {
            "tags": []
          },
          "execution_count": 268
        }
      ]
    },
    {
      "cell_type": "code",
      "metadata": {
        "colab": {
          "base_uri": "https://localhost:8080/"
        },
        "id": "OfvjuuX2PWJp",
        "outputId": "8d1050e5-b9aa-444c-8e81-9aec4c87533b"
      },
      "source": [
        "# Оценим баланс классов, которые нам необходимо предсказывать в нашей изначальной выборке\r\n",
        "df.TARGET.value_counts(normalize=True)"
      ],
      "execution_count": 269,
      "outputs": [
        {
          "output_type": "execute_result",
          "data": {
            "text/plain": [
              "1    0.544554\n",
              "0    0.455446\n",
              "Name: TARGET, dtype: float64"
            ]
          },
          "metadata": {
            "tags": []
          },
          "execution_count": 269
        }
      ]
    },
    {
      "cell_type": "code",
      "metadata": {
        "id": "hzf7N1OANWDO"
      },
      "source": [
        "# Обозначаем X и Y\r\n",
        "X = df.drop('TARGET', axis=1)\r\n",
        "indx = X.index\r\n",
        "y = df['TARGET']\r\n"
      ],
      "execution_count": 270,
      "outputs": []
    },
    {
      "cell_type": "code",
      "metadata": {
        "colab": {
          "base_uri": "https://localhost:8080/"
        },
        "id": "Ff2dnlffNWGP",
        "outputId": "52e90e34-05c6-43db-dc88-8c1c639d6804"
      },
      "source": [
        "#  Разобъем всю выборку на три части: обучающую, валидационную и тестовую.\r\n",
        "X_train, X_valid, y_train, y_valid = train_test_split(X, y, random_state=42, test_size=.3)\r\n",
        "X_valid, X_test, y_valid, y_test = train_test_split(X_valid, y_valid, random_state=42, test_size=.5)\r\n",
        "print(f'X_train: {X_train.shape}, y_train: {y_train.shape}')\r\n",
        "print(f'X_test: {X_test.shape}, y_test: {y_test.shape}')\r\n",
        "print(f'X_valid: {X_valid.shape}, y_valid: {y_valid.shape}')"
      ],
      "execution_count": 271,
      "outputs": [
        {
          "output_type": "stream",
          "text": [
            "X_train: (212, 13), y_train: (212,)\n",
            "X_test: (46, 13), y_test: (46,)\n",
            "X_valid: (45, 13), y_valid: (45,)\n"
          ],
          "name": "stdout"
        }
      ]
    },
    {
      "cell_type": "code",
      "metadata": {
        "colab": {
          "base_uri": "https://localhost:8080/"
        },
        "id": "FOk8_4eKOWDY",
        "outputId": "78c91e8b-730e-4fcc-e160-9d50f761c058"
      },
      "source": [
        "# Обучим простейшую модель классификации K-ближайших соседей, \r\n",
        "# на не сбалансированном датасете и сравним предсказание данной модели со случайной моделью\r\n",
        "\r\n",
        "for n_neighbors in range(1, 10):\r\n",
        "    knc = KNeighborsClassifier(n_neighbors=n_neighbors)\r\n",
        "    predicted = knc.fit(X_train, y_train).predict(X_valid)\r\n",
        "    probabilities_valid = knc.predict_proba(X_valid)\r\n",
        "    probabilities_one_valid = probabilities_valid[:, 1]\r\n",
        "    \r\n",
        "    print(f'n: {n_neighbors}\\tAccuracy: {round(knc.score(X_train, y_train), 3)}\\\r\n",
        "    \\tF1: {round(f1_score(y_valid.values, predicted),3)}\\\r\n",
        "    \\tROC AUC: {round(roc_auc_score(y_valid, probabilities_one_valid), 3)}')"
      ],
      "execution_count": 272,
      "outputs": [
        {
          "output_type": "stream",
          "text": [
            "n: 1\tAccuracy: 1.0    \tF1: 0.604    \tROC AUC: 0.524\n",
            "n: 2\tAccuracy: 0.783    \tF1: 0.651    \tROC AUC: 0.669\n",
            "n: 3\tAccuracy: 0.778    \tF1: 0.679    \tROC AUC: 0.695\n",
            "n: 4\tAccuracy: 0.755    \tF1: 0.667    \tROC AUC: 0.729\n",
            "n: 5\tAccuracy: 0.769    \tF1: 0.727    \tROC AUC: 0.716\n",
            "n: 6\tAccuracy: 0.759    \tF1: 0.64    \tROC AUC: 0.653\n",
            "n: 7\tAccuracy: 0.745    \tF1: 0.667    \tROC AUC: 0.678\n",
            "n: 8\tAccuracy: 0.722    \tF1: 0.667    \tROC AUC: 0.686\n",
            "n: 9\tAccuracy: 0.722    \tF1: 0.679    \tROC AUC: 0.681\n"
          ],
          "name": "stdout"
        }
      ]
    },
    {
      "cell_type": "markdown",
      "metadata": {
        "id": "WX2R5OiuRG25"
      },
      "source": [
        "Будем ориентироваться на F1-меру, максимальное значение данная метрика имеет при количестве соседей равным 5.\r\n",
        "\r\n"
      ]
    },
    {
      "cell_type": "code",
      "metadata": {
        "colab": {
          "base_uri": "https://localhost:8080/"
        },
        "id": "Mm4JwFYbOWGt",
        "outputId": "cc94c1dc-50f7-4312-a92d-1b4ba41880ce"
      },
      "source": [
        "# Проверим нашу модель на адекватность, сгенерируем псевдослучайную последовательность 0 и 1, \r\n",
        "# равную размером с тестовой выборкой и сравним метрики\r\n",
        "\r\n",
        "y_random = [np.random.randint(0, 2) for i in range(len(y_test))]\r\n",
        "\r\n",
        "# Обучим нашу модель с гиперпареметром количчества соседей - 5\r\n",
        "model = KNeighborsClassifier(n_neighbors=5)\r\n",
        "model.fit(X_train, y_train)\r\n",
        "predicted = model.predict(X_test)\r\n",
        "probabilities_valid = model.predict_proba(X_test)\r\n",
        "probabilities_one_valid = probabilities_valid[:, 1]\r\n",
        "\r\n",
        "print(\"F1 на тестовой выборке: {:.3f}\".format(f1_score(y_test, predicted)))\r\n",
        "print(\"F1 на случайной выборке: {:.3f}\".format(f1_score(y_random, predicted)))\r\n",
        "\r\n",
        "print(\"ROC AUC на тестовой выборке: {:.3f}\".format(roc_auc_score(y_test, probabilities_one_valid)))\r\n",
        "print(\"ROC AUC на случайной выборке: {:.3f}\".format(roc_auc_score(y_random, probabilities_one_valid)))"
      ],
      "execution_count": 273,
      "outputs": [
        {
          "output_type": "stream",
          "text": [
            "F1 на тестовой выборке: 0.667\n",
            "F1 на случайной выборке: 0.571\n",
            "ROC AUC на тестовой выборке: 0.727\n",
            "ROC AUC на случайной выборке: 0.551\n"
          ],
          "name": "stdout"
        }
      ]
    },
    {
      "cell_type": "code",
      "metadata": {
        "colab": {
          "base_uri": "https://localhost:8080/",
          "height": 518
        },
        "id": "9lyumT6POWJo",
        "outputId": "113d4527-e11d-415d-8da0-e70d5fec076c"
      },
      "source": [
        "fpr_test, tpr_test, thresholds = roc_curve(y_test, probabilities_one_valid)\r\n",
        "fpr_random, tpr_random, thresholds = roc_curve(y_random, probabilities_one_valid)\r\n",
        "plt.figure(figsize=(10, 8))\r\n",
        "plt.plot(fpr_test, tpr_test, label='ROC-кривая на тестовой')\r\n",
        "plt.plot(fpr_random, tpr_random, label='ROC-кривая на случайной')\r\n",
        "plt.plot([0, 1], [0, 1], linestyle='--')\r\n",
        "plt.legend()\r\n",
        "plt.ylim([0.0, 1.0])\r\n",
        "plt.xlim([0.0, 1.0])\r\n",
        "plt.xlabel('False Positive Rate')\r\n",
        "plt.ylabel('True Positive Rate')\r\n",
        "plt.title('ROC-кривая')\r\n",
        "plt.show()"
      ],
      "execution_count": 274,
      "outputs": [
        {
          "output_type": "display_data",
          "data": {
            "image/png": "[encoded data removed]",
            "text/plain": [
              "<Figure size 720x576 with 1 Axes>"
            ]
          },
          "metadata": {
            "tags": []
          }
        }
      ]
    },
    {
      "cell_type": "markdown",
      "metadata": {
        "id": "ouhdEAJqMzDA"
      },
      "source": [
        "# Обучите модель классификации и осуществите прогноз для отложенной выборки с учетомо перекоса в данных TARGET.  "
      ]
    },
    {
      "cell_type": "code",
      "metadata": {
        "colab": {
          "base_uri": "https://localhost:8080/"
        },
        "id": "dW73KGQXMWjQ",
        "outputId": "a3405496-561a-4953-e9bc-7f109220ec1d"
      },
      "source": [
        "# Оценим баланс классов, которые нам необходимо предсказывать в нашей изначальной выборке\r\n",
        "df.TARGET.value_counts(normalize=True)"
      ],
      "execution_count": 275,
      "outputs": [
        {
          "output_type": "execute_result",
          "data": {
            "text/plain": [
              "1    0.544554\n",
              "0    0.455446\n",
              "Name: TARGET, dtype: float64"
            ]
          },
          "metadata": {
            "tags": []
          },
          "execution_count": 275
        }
      ]
    },
    {
      "cell_type": "code",
      "metadata": {
        "colab": {
          "base_uri": "https://localhost:8080/"
        },
        "id": "1F4vvAjiM38X",
        "outputId": "5ff5c34c-f368-4b02-96d2-9fab36e96a9c"
      },
      "source": [
        "# K-ближайших соседей\r\n",
        "%%time\r\n",
        "for n_neighbors in range(1, 9):\r\n",
        "    model = KNeighborsClassifier(n_neighbors=n_neighbors)\r\n",
        "    predicted = model.fit(X_train, y_train).predict(X_valid)\r\n",
        "    probabilities_one_valid = model.predict_proba(X_valid)[:, 1]   \r\n",
        "    print(f'K: {n_neighbors}\\tF1-мера на валидации: {round(f1_score(y_valid, predicted), 3)}\\\r\n",
        "    \\tROC AUC: {round(roc_auc_score(y_valid, probabilities_one_valid), 3)}')"
      ],
      "execution_count": 276,
      "outputs": [
        {
          "output_type": "stream",
          "text": [
            "K: 1\tF1-мера на валидации: 0.604    \tROC AUC: 0.524\n",
            "K: 2\tF1-мера на валидации: 0.651    \tROC AUC: 0.669\n",
            "K: 3\tF1-мера на валидации: 0.679    \tROC AUC: 0.695\n",
            "K: 4\tF1-мера на валидации: 0.667    \tROC AUC: 0.729\n",
            "K: 5\tF1-мера на валидации: 0.727    \tROC AUC: 0.716\n",
            "K: 6\tF1-мера на валидации: 0.64    \tROC AUC: 0.653\n",
            "K: 7\tF1-мера на валидации: 0.667    \tROC AUC: 0.678\n",
            "K: 8\tF1-мера на валидации: 0.667    \tROC AUC: 0.686\n",
            "CPU times: user 62.9 ms, sys: 4.06 ms, total: 67 ms\n",
            "Wall time: 65.2 ms\n"
          ],
          "name": "stdout"
        }
      ]
    },
    {
      "cell_type": "code",
      "metadata": {
        "colab": {
          "base_uri": "https://localhost:8080/"
        },
        "id": "jQpSU5s8SDTy",
        "outputId": "2e00b57e-8cc9-46aa-bf85-98fea504556c"
      },
      "source": [
        "# Логистическая регрессия\r\n",
        "%%time\r\n",
        "model = LogisticRegression(solver='liblinear')\r\n",
        "predicted = model.fit(X_train, y_train).predict(X_valid)\r\n",
        "probabilities_one_valid = model.predict_proba(X_valid)[:, 1]  \r\n",
        "print(f'F1-мера на валидации: {round(f1_score(y_valid, predicted), 3)}\\\r\n",
        "    \\tROC AUC: {round(roc_auc_score(y_valid, probabilities_one_valid), 3)}')"
      ],
      "execution_count": 277,
      "outputs": [
        {
          "output_type": "stream",
          "text": [
            "F1-мера на валидации: 0.857    \tROC AUC: 0.942\n",
            "CPU times: user 9.66 ms, sys: 0 ns, total: 9.66 ms\n",
            "Wall time: 10.1 ms\n"
          ],
          "name": "stdout"
        }
      ]
    },
    {
      "cell_type": "code",
      "metadata": {
        "colab": {
          "base_uri": "https://localhost:8080/"
        },
        "id": "SYDwS99OSDXQ",
        "outputId": "a0fb8d44-a58e-439c-80bc-9477174e6b31"
      },
      "source": [
        "# Классификатор линейных векторов\r\n",
        "%%time\r\n",
        "model = LinearSVC(random_state=42)\r\n",
        "predicted = model.fit(X_train, y_train).predict(X_valid)\r\n",
        "probabilities_one_valid = model.decision_function(X_valid) > 0 \r\n",
        "print(f'F1-мера на валидации: {round(f1_score(y_valid, predicted), 3)}\\\r\n",
        "    \\tROC AUC: {round(roc_auc_score(y_valid, probabilities_one_valid), 3)}')"
      ],
      "execution_count": 278,
      "outputs": [
        {
          "output_type": "stream",
          "text": [
            "F1-мера на валидации: 0.889    \tROC AUC: 0.857\n",
            "CPU times: user 20.4 ms, sys: 12 µs, total: 20.4 ms\n",
            "Wall time: 20.7 ms\n"
          ],
          "name": "stdout"
        }
      ]
    },
    {
      "cell_type": "code",
      "metadata": {
        "colab": {
          "base_uri": "https://localhost:8080/"
        },
        "id": "OvqEctC_SDao",
        "outputId": "202b4b4f-d9b2-4b2c-cbd1-1f8b8557cd98"
      },
      "source": [
        "# Метод опорных векторов\r\n",
        "%%time\r\n",
        "model = SVC(C=10, gamma=3, random_state=42, probability=True)\r\n",
        "predicted = model.fit(X_train, y_train).predict(X_valid)\r\n",
        "probabilities_one_valid = model.predict_proba(X_valid)[:, 1]  \r\n",
        "print(f'F1-мера на валидации: {round(f1_score(y_valid, predicted), 3)}\\\r\n",
        "    \\tROC AUC: {round(roc_auc_score(y_valid, probabilities_one_valid), 3)}')"
      ],
      "execution_count": 279,
      "outputs": [
        {
          "output_type": "stream",
          "text": [
            "F1-мера на валидации: 0.696    \tROC AUC: 0.479\n",
            "CPU times: user 26.5 ms, sys: 0 ns, total: 26.5 ms\n",
            "Wall time: 26.9 ms\n"
          ],
          "name": "stdout"
        }
      ]
    },
    {
      "cell_type": "code",
      "metadata": {
        "colab": {
          "base_uri": "https://localhost:8080/"
        },
        "id": "gf1gYzLgM3_j",
        "outputId": "28fd20b6-23c7-4fe0-981f-2614690b3aff"
      },
      "source": [
        "# Дерево решений\r\n",
        "%%time\r\n",
        "for max_depth in range(10, 30, 2):\r\n",
        "    model = DecisionTreeClassifier(max_depth=max_depth, random_state=42)\r\n",
        "    predicted = model.fit(X_train, y_train).predict(X_valid)\r\n",
        "    probabilities_one_valid = model.predict_proba(X_valid)[:, 1]   \r\n",
        "    print(f'Глубина: {max_depth}\\tF1-мера на валидации: {round(f1_score(y_valid, predicted), 3)}\\\r\n",
        "    \\tROC AUC: {round(roc_auc_score(y_valid, probabilities_one_valid), 3)}')"
      ],
      "execution_count": 280,
      "outputs": [
        {
          "output_type": "stream",
          "text": [
            "Глубина: 10\tF1-мера на валидации: 0.816    \tROC AUC: 0.798\n",
            "Глубина: 12\tF1-мера на валидации: 0.816    \tROC AUC: 0.798\n",
            "Глубина: 14\tF1-мера на валидации: 0.816    \tROC AUC: 0.798\n",
            "Глубина: 16\tF1-мера на валидации: 0.816    \tROC AUC: 0.798\n",
            "Глубина: 18\tF1-мера на валидации: 0.816    \tROC AUC: 0.798\n",
            "Глубина: 20\tF1-мера на валидации: 0.816    \tROC AUC: 0.798\n",
            "Глубина: 22\tF1-мера на валидации: 0.816    \tROC AUC: 0.798\n",
            "Глубина: 24\tF1-мера на валидации: 0.816    \tROC AUC: 0.798\n",
            "Глубина: 26\tF1-мера на валидации: 0.816    \tROC AUC: 0.798\n",
            "Глубина: 28\tF1-мера на валидации: 0.816    \tROC AUC: 0.798\n",
            "CPU times: user 50.1 ms, sys: 826 µs, total: 51 ms\n",
            "Wall time: 51.3 ms\n"
          ],
          "name": "stdout"
        }
      ]
    },
    {
      "cell_type": "code",
      "metadata": {
        "colab": {
          "base_uri": "https://localhost:8080/"
        },
        "id": "IdpP4jsBM4B9",
        "outputId": "e6b4331e-50ad-4b36-ef72-cc972597b2ef"
      },
      "source": [
        "# Случайный лес деревьев решений\r\n",
        "%%time\r\n",
        "for n_estimators in range(10, 200, 20):   \r\n",
        "    model = RandomForestClassifier(n_estimators=n_estimators, \r\n",
        "                                 max_depth=9, \r\n",
        "                                 random_state=42)\r\n",
        "    predicted = model.fit(X_train, y_train).predict(X_valid)\r\n",
        "    probabilities_one_valid = model.predict_proba(X_valid)[:, 1] \r\n",
        "    print(f'Деревьев: {n_estimators}\\tF1-мера на валидации: {round(f1_score(y_valid, predicted), 3)}\\\r\n",
        "    \\tROC AUC: {round(roc_auc_score(y_valid, probabilities_one_valid), 3)}')"
      ],
      "execution_count": 281,
      "outputs": [
        {
          "output_type": "stream",
          "text": [
            "Деревьев: 10\tF1-мера на валидации: 0.894    \tROC AUC: 0.947\n",
            "Деревьев: 30\tF1-мера на валидации: 0.917    \tROC AUC: 0.968\n",
            "Деревьев: 50\tF1-мера на валидации: 0.875    \tROC AUC: 0.972\n",
            "Деревьев: 70\tF1-мера на валидации: 0.88    \tROC AUC: 0.968\n",
            "Деревьев: 90\tF1-мера на валидации: 0.902    \tROC AUC: 0.969\n",
            "Деревьев: 110\tF1-мера на валидации: 0.833    \tROC AUC: 0.968\n",
            "Деревьев: 130\tF1-мера на валидации: 0.833    \tROC AUC: 0.968\n",
            "Деревьев: 150\tF1-мера на валидации: 0.875    \tROC AUC: 0.972\n",
            "Деревьев: 170\tF1-мера на валидации: 0.875    \tROC AUC: 0.972\n",
            "Деревьев: 190\tF1-мера на валидации: 0.857    \tROC AUC: 0.97\n",
            "CPU times: user 1.62 s, sys: 7.78 ms, total: 1.63 s\n",
            "Wall time: 1.63 s\n"
          ],
          "name": "stdout"
        }
      ]
    },
    {
      "cell_type": "code",
      "metadata": {
        "colab": {
          "base_uri": "https://localhost:8080/"
        },
        "id": "hEKc9geWZmBa",
        "outputId": "c4a09b49-d5de-4686-ed63-2a536ab2863a"
      },
      "source": [
        "# Градиентный бустинг деревьев решений\r\n",
        "%%time\r\n",
        "for n_estimators in range(10, 150, 20):\r\n",
        "    model = GradientBoostingClassifier(n_estimators=n_estimators, max_depth=9, random_state=42, learning_rate=.25)\r\n",
        "    predicted = model.fit(X_train, y_train).predict(X_valid)\r\n",
        "    probabilities_one_valid = model.predict_proba(X_valid)[:, 1]\r\n",
        "    print(f'Деревьев: {n_estimators}\\tF1-мера на валидации: {round(f1_score(y_valid, predicted), 3)}\\\r\n",
        "    \\tROC AUC: {round(roc_auc_score(y_valid, probabilities_one_valid), 3)}')"
      ],
      "execution_count": 282,
      "outputs": [
        {
          "output_type": "stream",
          "text": [
            "Деревьев: 10\tF1-мера на валидации: 0.783    \tROC AUC: 0.794\n",
            "Деревьев: 30\tF1-мера на валидации: 0.809    \tROC AUC: 0.873\n",
            "Деревьев: 50\tF1-мера на валидации: 0.809    \tROC AUC: 0.913\n",
            "Деревьев: 70\tF1-мера на валидации: 0.809    \tROC AUC: 0.913\n",
            "Деревьев: 90\tF1-мера на валидации: 0.809    \tROC AUC: 0.913\n",
            "Деревьев: 110\tF1-мера на валидации: 0.809    \tROC AUC: 0.913\n",
            "Деревьев: 130\tF1-мера на валидации: 0.809    \tROC AUC: 0.913\n",
            "CPU times: user 481 ms, sys: 661 µs, total: 481 ms\n",
            "Wall time: 484 ms\n"
          ],
          "name": "stdout"
        }
      ]
    },
    {
      "cell_type": "markdown",
      "metadata": {
        "id": "CzbK6kEreiMw"
      },
      "source": [
        "# Вывод\r\n",
        "\r\n",
        "Мы рассмотрели некоторое количество классификаторов для нашего набора данных, по анализу результатов, сделаем опреденные выводы:\r\n",
        "\r\n",
        "K-ближайших соседей хорошо предсказывает при минимальном К=1, а так же обладает очень быстрым временем работы\r\n",
        "\r\n",
        "Логистическая регрессия показала себя не самым лучшим образом, возможно, если бы мы взяли полиномы признаков, то метрики можно было бы улучшить\r\n",
        "\r\n",
        "Классификатор линейных векторов показал предсказательную силу на уровне логистической регрессии, аналогично, при использовании полиномов признаков метрики можно было бы поднять. Это было бы равнозначно \"ядерному трюку\"\r\n",
        "\r\n",
        "Метод опорных векторов проявил себя на данном наборе данных очень хорошо, но имеет очень высокое время обучения\r\n",
        "\r\n",
        "Дерево решений, на данном наборе, так же проявило себя довольно хорошо, но недостаточно, чтобы мы его использовали как основной метод классификации\r\n",
        "\r\n",
        "Случайный лес деревьев решений так же показал хорошую предсказательную способность, соизмеримую с методом опорных векторов, но время обучения модели гораздо выше\r\n",
        "\r\n",
        "Градиентный бустинг деревьев решений показал наивысший результат при относительно небольшом количестве деревьев.\r\n",
        "\r\n",
        "\r\n",
        "Именно метод градиентного бустинга мы и будем использовать для предсказания на тестовом наборе"
      ]
    },
    {
      "cell_type": "markdown",
      "metadata": {
        "id": "ovILip1HZ0m7"
      },
      "source": [
        "# Оцените качество модели с помощью функции f1_score"
      ]
    },
    {
      "cell_type": "code",
      "metadata": {
        "colab": {
          "base_uri": "https://localhost:8080/"
        },
        "id": "9ud1nptVaP8c",
        "outputId": "31227170-3cce-48cb-a5ef-81d8690d699b"
      },
      "source": [
        "# Мы определили самый продуктивный классификатор, протестируем его теперь на тестовом наборе данных\r\n",
        "# Обучим модель еще раз, с гиперпараметрами, которые мы определили, как наиболее удачные\r\n",
        "model = RandomForestClassifier(n_estimators=110, \r\n",
        "                                 max_depth=9, \r\n",
        "                                 random_state=42)\r\n",
        "model.fit(X_train, y_train)\r\n",
        "predict_valid = model.predict(X_valid)\r\n",
        "probabilities_one_valid = model.predict_proba(X_valid)[:, 1]   \r\n",
        "print(f'F1-мера на валидации: {round(f1_score(y_valid, predict_valid), 3)}\\\r\n",
        "    \\tROC AUC: {round(roc_auc_score(y_valid, probabilities_one_valid), 3)}')"
      ],
      "execution_count": 283,
      "outputs": [
        {
          "output_type": "stream",
          "text": [
            "F1-мера на валидации: 0.833    \tROC AUC: 0.968\n"
          ],
          "name": "stdout"
        }
      ]
    },
    {
      "cell_type": "code",
      "metadata": {
        "colab": {
          "base_uri": "https://localhost:8080/"
        },
        "id": "-nm6ciT-aQIM",
        "outputId": "9a50fdbc-f758-4518-b5e8-833e7574b072"
      },
      "source": [
        "# Теперь протестируем модель на тестовых данных\r\n",
        "predict_test = model.predict(X_test)\r\n",
        "probabilities_one_valid = model.predict_proba(X_test)[:, 1]  \r\n",
        "print(f'F1-мера на тесте: {round(f1_score(y_test, predict_test), 3)}\\\r\n",
        "    \\tROC AUC: {round(roc_auc_score(y_test, probabilities_one_valid), 3)}')\r\n"
      ],
      "execution_count": 284,
      "outputs": [
        {
          "output_type": "stream",
          "text": [
            "F1-мера на тесте: 0.784    \tROC AUC: 0.861\n"
          ],
          "name": "stdout"
        }
      ]
    },
    {
      "cell_type": "markdown",
      "metadata": {
        "id": "pvtBLWrLdQ03"
      },
      "source": [
        "На тестовом наборе наша модель показывает очень хорошие результаты, соизмеримые с результатами на валидационном наборе\r\n",
        "\r\n"
      ]
    },
    {
      "cell_type": "code",
      "metadata": {
        "colab": {
          "base_uri": "https://localhost:8080/"
        },
        "id": "FUwnomzFaQK_",
        "outputId": "2a59cd84-82ff-44ca-97f9-a99c3cbdc1df"
      },
      "source": [
        "# Проверим баланс предсказываемых классов\r\n",
        "pd.Series(predict_test).value_counts(normalize=True)\r\n"
      ],
      "execution_count": 285,
      "outputs": [
        {
          "output_type": "execute_result",
          "data": {
            "text/plain": [
              "1    0.543478\n",
              "0    0.456522\n",
              "dtype: float64"
            ]
          },
          "metadata": {
            "tags": []
          },
          "execution_count": 285
        }
      ]
    },
    {
      "cell_type": "code",
      "metadata": {
        "colab": {
          "base_uri": "https://localhost:8080/",
          "height": 518
        },
        "id": "T8WC_s6raQOF",
        "outputId": "d65b1858-21e4-44db-dfb7-53c83688334d"
      },
      "source": [
        "# Исследуем ROC-кривую нашей модели\r\n",
        "fpr_test, tpr_test, thresholds = roc_curve(y_test, probabilities_one_valid)\r\n",
        "plt.figure(figsize=(10, 8))\r\n",
        "plt.plot(fpr_test, tpr_test, label='ROC-кривая на тестовой')\r\n",
        "plt.plot([0, 1], [0, 1], linestyle='--')\r\n",
        "plt.legend()\r\n",
        "plt.ylim([0.0, 1.0])\r\n",
        "plt.xlim([0.0, 1.0])\r\n",
        "plt.xlabel('False Positive Rate')\r\n",
        "plt.ylabel('True Positive Rate')\r\n",
        "plt.title('ROC-кривая')\r\n",
        "plt.show()\r\n"
      ],
      "execution_count": 286,
      "outputs": [
        {
          "output_type": "display_data",
          "data": {
            "image/png": "[encoded data removed]",
            "text/plain": [
              "<Figure size 720x576 with 1 Axes>"
            ]
          },
          "metadata": {
            "tags": []
          }
        }
      ]
    },
    {
      "cell_type": "markdown",
      "metadata": {
        "id": "tircycSTbG7S"
      },
      "source": [
        "В данном проекте мы реализовали модель классификации, вероятность точного предсказания данной модели - почти 78%, что можно считать довольно хорошим показателем."
      ]
    },
    {
      "cell_type": "markdown",
      "metadata": {
        "id": "jQjkuybPe4yc"
      },
      "source": [
        "# Классификация при помощи Нейронной Сети\r\n",
        "\r\n",
        "\r\n",
        "\r\n"
      ]
    },
    {
      "cell_type": "code",
      "metadata": {
        "colab": {
          "base_uri": "https://localhost:8080/"
        },
        "id": "vUssEjIRfDJu",
        "outputId": "c24ee3b6-758a-4442-856f-5153b7781412"
      },
      "source": [
        "data = df.drop('TARGET', axis=1)\r\n",
        "XX = data.astype(int)\r\n",
        "print(XX.shape)\r\n",
        "\r\n",
        "y = np.array(df['TARGET'])\r\n",
        "YY = y.reshape(-1, 1).astype(int)\r\n",
        "print(YY.shape)"
      ],
      "execution_count": 400,
      "outputs": [
        {
          "output_type": "stream",
          "text": [
            "(303, 13)\n",
            "(303, 1)\n"
          ],
          "name": "stdout"
        }
      ]
    },
    {
      "cell_type": "code",
      "metadata": {
        "colab": {
          "base_uri": "https://localhost:8080/"
        },
        "id": "CY3ALBVpdM8l",
        "outputId": "0f63f31b-61a9-4fab-d2be-3186508f1942"
      },
      "source": [
        "#  Разобъем всю выборку на три части: обучающую, валидационную и тестовую.\r\n",
        "x_train, x_test, y_train, y_test = train_test_split(XX, YY, test_size=0.2, shuffle=True)    \r\n",
        "y_train.reshape(-1, 1)\r\n",
        "print(f'X_train: {x_train.shape}, y_train: {y_train.shape}')\r\n",
        "print(f'X_test: {x_test.shape}, y_test: {y_test.shape}')"
      ],
      "execution_count": 402,
      "outputs": [
        {
          "output_type": "stream",
          "text": [
            "X_train: (242, 13), y_train: (242, 1)\n",
            "X_test: (61, 13), y_test: (61, 1)\n"
          ],
          "name": "stdout"
        }
      ]
    },
    {
      "cell_type": "code",
      "metadata": {
        "id": "o-lHorAUfKvW"
      },
      "source": [
        "# Функция пересоздаёт пустую сеть\r\n",
        "def createModel():\r\n",
        "\r\n",
        "  # Создаем сеть\r\n",
        "  model = Sequential()\r\n",
        "\r\n",
        "  # Добавляем слои\r\n",
        "  model.add(Dense(60, input_dim=13, activation='relu'))\r\n",
        "  model.add(Dropout(0.2))\r\n",
        "  model.add(BatchNormalization())\r\n",
        "  model.add(Dense(30,  activation='relu'))\r\n",
        "  model.add(Dense(1, activation='sigmoid'))\r\n",
        "\r\n",
        "  # Компилируем сеть\r\n",
        "  model.compile(loss='binary_crossentropy', optimizer=Adam(lr=0.001), metrics=['accuracy'])\r\n",
        "\r\n",
        "  return model # Возвращаем созданную сеть"
      ],
      "execution_count": 403,
      "outputs": []
    },
    {
      "cell_type": "code",
      "metadata": {
        "colab": {
          "base_uri": "https://localhost:8080/"
        },
        "id": "_S3rIkVAhlxq",
        "outputId": "9efa40a8-dbcc-476c-c372-beb683076cdf"
      },
      "source": [
        "# Создаём пустую сеть при помощи функции createModel()\r\n",
        "model1 = createModel()\r\n",
        "model1.summary()"
      ],
      "execution_count": 404,
      "outputs": [
        {
          "output_type": "stream",
          "text": [
            "Model: \"sequential_41\"\n",
            "_________________________________________________________________\n",
            "Layer (type)                 Output Shape              Param #   \n",
            "=================================================================\n",
            "dense_144 (Dense)            (None, 60)                840       \n",
            "_________________________________________________________________\n",
            "dense_145 (Dense)            (None, 30)                1830      \n",
            "_________________________________________________________________\n",
            "dense_146 (Dense)            (None, 1)                 31        \n",
            "=================================================================\n",
            "Total params: 2,701\n",
            "Trainable params: 2,701\n",
            "Non-trainable params: 0\n",
            "_________________________________________________________________\n"
          ],
          "name": "stdout"
        }
      ]
    },
    {
      "cell_type": "code",
      "metadata": {
        "colab": {
          "base_uri": "https://localhost:8080/"
        },
        "id": "xqFcacqxhX-v",
        "outputId": "a0fc5491-dd86-4b51-bd6c-ddf4682a2bf9"
      },
      "source": [
        "# Обучаем сеть\r\n",
        "history = model1.fit(x_train, \r\n",
        "          y_train,\r\n",
        "          batch_size=4, \r\n",
        "          epochs=10,\r\n",
        "          validation_split=0.2, # Указываем 20% случайных примеров для проверочной выборки\r\n",
        "          verbose=1)"
      ],
      "execution_count": 405,
      "outputs": [
        {
          "output_type": "stream",
          "text": [
            "Epoch 1/10\n",
            "49/49 [==============================] - 1s 5ms/step - loss: 1.5661 - accuracy: 0.5873 - val_loss: 1.4019 - val_accuracy: 0.5714\n",
            "Epoch 2/10\n",
            "49/49 [==============================] - 0s 2ms/step - loss: 1.1857 - accuracy: 0.6290 - val_loss: 0.7518 - val_accuracy: 0.6122\n",
            "Epoch 3/10\n",
            "49/49 [==============================] - 0s 2ms/step - loss: 0.6127 - accuracy: 0.7159 - val_loss: 1.3268 - val_accuracy: 0.5306\n",
            "Epoch 4/10\n",
            "49/49 [==============================] - 0s 2ms/step - loss: 1.3027 - accuracy: 0.4821 - val_loss: 0.7768 - val_accuracy: 0.6531\n",
            "Epoch 5/10\n",
            "49/49 [==============================] - 0s 2ms/step - loss: 0.9757 - accuracy: 0.6570 - val_loss: 0.6550 - val_accuracy: 0.5918\n",
            "Epoch 6/10\n",
            "49/49 [==============================] - 0s 2ms/step - loss: 0.7490 - accuracy: 0.6089 - val_loss: 0.6012 - val_accuracy: 0.6531\n",
            "Epoch 7/10\n",
            "49/49 [==============================] - 0s 2ms/step - loss: 0.6195 - accuracy: 0.7252 - val_loss: 0.6687 - val_accuracy: 0.7143\n",
            "Epoch 8/10\n",
            "49/49 [==============================] - 0s 2ms/step - loss: 0.5214 - accuracy: 0.7291 - val_loss: 0.7040 - val_accuracy: 0.6327\n",
            "Epoch 9/10\n",
            "49/49 [==============================] - 0s 2ms/step - loss: 0.4431 - accuracy: 0.7765 - val_loss: 0.6845 - val_accuracy: 0.7347\n",
            "Epoch 10/10\n",
            "49/49 [==============================] - 0s 2ms/step - loss: 0.4795 - accuracy: 0.7880 - val_loss: 0.5421 - val_accuracy: 0.7347\n"
          ],
          "name": "stdout"
        }
      ]
    },
    {
      "cell_type": "code",
      "metadata": {
        "colab": {
          "base_uri": "https://localhost:8080/",
          "height": 285
        },
        "id": "8gVnqDIgiaPl",
        "outputId": "53aa583e-bd29-4d4a-b4b3-bf53441da2e6"
      },
      "source": [
        "# Выводим график обучения \r\n",
        "plt.plot(history.history['accuracy'], \r\n",
        "         label='Доля верных ответов на обучающем наборе')\r\n",
        "plt.plot(history.history['val_accuracy'], \r\n",
        "         label='Доля верных ответов на проверочном наборе')\r\n",
        "plt.xlabel('Эпоха обучения')\r\n",
        "plt.ylabel('Доля верных ответов')\r\n",
        "plt.legend()\r\n",
        "plt.show()"
      ],
      "execution_count": 407,
      "outputs": [
        {
          "output_type": "display_data",
          "data": {
            "image/png": "[encoded data removed]",
            "text/plain": [
              "<Figure size 432x288 with 1 Axes>"
            ]
          },
          "metadata": {
            "tags": []
          }
        }
      ]
    },
    {
      "cell_type": "code",
      "metadata": {
        "colab": {
          "base_uri": "https://localhost:8080/",
          "height": 285
        },
        "id": "meVA4RRkieIs",
        "outputId": "8458dab1-ff3f-4a47-ef78-4b9fea9d7c1b"
      },
      "source": [
        "# Выводим графики ошибки\r\n",
        "plt.plot(history.history['loss'], \r\n",
        "         label='Ошибка на обучающем наборе')\r\n",
        "plt.plot(history.history['val_loss'], \r\n",
        "         label='Ошибка на проверочном наборе')\r\n",
        "plt.xlabel('Эпоха обучения')\r\n",
        "plt.ylabel('Ошибка')\r\n",
        "plt.legend()\r\n",
        "plt.show()"
      ],
      "execution_count": 408,
      "outputs": [
        {
          "output_type": "display_data",
          "data": {
            "image/png": "[encoded data removed]",
            "text/plain": [
              "<Figure size 432x288 with 1 Axes>"
            ]
          },
          "metadata": {
            "tags": []
          }
        }
      ]
    },
    {
      "cell_type": "code",
      "metadata": {
        "colab": {
          "base_uri": "https://localhost:8080/"
        },
        "id": "NaENKunqilBy",
        "outputId": "369d8cc2-8fad-4c77-afe7-b1a9da991b76"
      },
      "source": [
        "# Вычисляем результаты сети на тестовом наборе\r\n",
        "scores = model1.evaluate(x_test, y_test, verbose=True)\r\n",
        "\r\n",
        "# scores состоит из двух знанчений\r\n",
        "# scores[0] - loss сети на тестовой выборке\r\n",
        "# scores[1] - процент правильно распознанных примеров на тестовой выборке\r\n",
        "print(scores)\r\n",
        "print(\"Доля верных ответов на тестовых данных, в процентах: \", round(scores[1] * 100, 2), \"%\", sep=\"\")"
      ],
      "execution_count": 410,
      "outputs": [
        {
          "output_type": "stream",
          "text": [
            "2/2 [==============================] - 0s 4ms/step - loss: 0.4033 - accuracy: 0.8525\n",
            "[0.40330493450164795, 0.8524590134620667]\n",
            "Доля верных ответов на тестовых данных, в процентах: 85.25%\n"
          ],
          "name": "stdout"
        }
      ]
    },
    {
      "cell_type": "code",
      "metadata": {
        "colab": {
          "base_uri": "https://localhost:8080/"
        },
        "id": "gyRhu6mSirGA",
        "outputId": "a26525a1-e9c9-46e0-ec66-82a13bd5685d"
      },
      "source": [
        "# Значения точности распознавания на проверочной выборке по эпохам\r\n",
        "val_acc = history.history['val_accuracy']\r\n",
        "for i in range(len(val_acc)):\r\n",
        "  print(\"Эпоха: \", i, \" точность: \", round(100*val_acc[i], 1), \"%\", sep=\"\")"
      ],
      "execution_count": 411,
      "outputs": [
        {
          "output_type": "stream",
          "text": [
            "Эпоха: 0 точность: 57.1%\n",
            "Эпоха: 1 точность: 61.2%\n",
            "Эпоха: 2 точность: 53.1%\n",
            "Эпоха: 3 точность: 65.3%\n",
            "Эпоха: 4 точность: 59.2%\n",
            "Эпоха: 5 точность: 65.3%\n",
            "Эпоха: 6 точность: 71.4%\n",
            "Эпоха: 7 точность: 63.3%\n",
            "Эпоха: 8 точность: 73.5%\n",
            "Эпоха: 9 точность: 73.5%\n"
          ],
          "name": "stdout"
        }
      ]
    },
    {
      "cell_type": "markdown",
      "metadata": {
        "id": "2Ix9d7NCi5t2"
      },
      "source": [
        "loss - binary_crossentropy - Вычисляет потерю кросс-энтропии между истинными и предсказанными метками. Используйте эту потерю перекрестной энтропии, когда существует только два класса меток (предполагается, что это 0 и 1).\r\n",
        "\r\n",
        "metrics - accuracy - Измеряет количество верно классифицированных объектов относительно общего количества всех объектов"
      ]
    }
  ]
}