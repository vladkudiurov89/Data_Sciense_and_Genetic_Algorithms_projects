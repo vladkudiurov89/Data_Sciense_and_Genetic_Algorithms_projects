{
  "nbformat": 4,
  "nbformat_minor": 0,
  "metadata": {
    "colab": {
      "name": "test_Devim.ipynb",
      "provenance": [],
      "toc_visible": true,
      "machine_shape": "hm"
    },
    "kernelspec": {
      "name": "python3",
      "display_name": "Python 3"
    },
    "accelerator": "GPU"
  },
  "cells": [
    {
      "cell_type": "markdown",
      "metadata": {
        "id": "QOHKURENUQpX"
      },
      "source": [
        "\r\n",
        "# Задание от компании Devim\r\n",
        "\r\n",
        "Исполнитель: Кудюров Владислав\r\n",
        "\r\n",
        "Необходимо на основе предоставленных данных построить модель для предсказания\r\n",
        "целевой переменной. Сделать описание проделанных шагов:\r\n",
        "\r\n",
        "● Анализ данных\r\n",
        "\r\n",
        "● Фильтрация\r\n",
        "\r\n",
        "● Преобразование переменных\r\n",
        "\r\n",
        "● Моделирование\r\n",
        "\r\n",
        "● Оценка качества модели\r\n",
        "\r\n",
        "Обоснование выбранной метрики качества. Подробно описать способ оценки качества построенной модели.\r\n"
      ]
    },
    {
      "cell_type": "code",
      "metadata": {
        "colab": {
          "base_uri": "https://localhost:8080/"
        },
        "id": "VVGc0vpC-0Qv",
        "outputId": "a038c0ac-a99b-4729-bccd-dbdcf568ebc4"
      },
      "source": [
        "pip install mlens"
      ],
      "execution_count": 186,
      "outputs": [
        {
          "output_type": "stream",
          "text": [
            "Collecting mlens\n",
            "\u001b[?25l  Downloading https://files.pythonhosted.org/packages/0b/f7/c04bda423ac93ddb54bc4c3a21c79c9a24bc83844efc30dc4c11c289e894/mlens-0.2.3-py2.py3-none-any.whl (227kB)\n",
            "\u001b[K     |████████████████████████████████| 235kB 4.9MB/s \n",
            "\u001b[?25hRequirement already satisfied: numpy>=1.11 in /usr/local/lib/python3.6/dist-packages (from mlens) (1.19.5)\n",
            "Requirement already satisfied: scipy>=0.17 in /usr/local/lib/python3.6/dist-packages (from mlens) (1.4.1)\n",
            "Installing collected packages: mlens\n",
            "Successfully installed mlens-0.2.3\n"
          ],
          "name": "stdout"
        }
      ]
    },
    {
      "cell_type": "code",
      "metadata": {
        "id": "eUlok9E8XGF0"
      },
      "source": [
        "import os\r\n",
        "import warnings\r\n",
        "warnings.filterwarnings(\"ignore\")\r\n",
        "\r\n",
        "import matplotlib.pyplot as plt\r\n",
        "import numpy as np\r\n",
        "import pandas as pd\r\n",
        "import seaborn as sns\r\n",
        "import fancyimpute\r\n",
        "from fancyimpute import IterativeImputer\r\n",
        "\r\n",
        "from imblearn.pipeline import make_pipeline as imb_make_pipeline\r\n",
        "from imblearn.over_sampling import RandomOverSampler, SMOTE\r\n",
        "from imblearn.under_sampling import RandomUnderSampler\r\n",
        "from imblearn.ensemble import BalancedBaggingClassifier, EasyEnsemble\r\n",
        "from mlens.visualization import corrmat\r\n",
        "\r\n",
        "from sklearn.model_selection import train_test_split, cross_val_score, cross_val_predict\r\n",
        "from sklearn.preprocessing import RobustScaler, FunctionTransformer\r\n",
        "from sklearn.impute import SimpleImputer\r\n",
        "from sklearn.ensemble import RandomForestClassifier, VotingClassifier, GradientBoostingClassifier\r\n",
        "from sklearn.ensemble.partial_dependence import plot_partial_dependence\r\n",
        "from sklearn.linear_model import LogisticRegression\r\n",
        "from sklearn.svm import SVC, LinearSVC\r\n",
        "from sklearn.neighbors import KNeighborsClassifier\r\n",
        "from sklearn.metrics import (roc_auc_score, confusion_matrix,\r\n",
        "                             accuracy_score, roc_curve,\r\n",
        "                             precision_recall_curve, f1_score)\r\n",
        "from sklearn.pipeline import make_pipeline\r\n",
        "import xgboost as xgb\r\n",
        "\r\n",
        "%matplotlib inline\r\n",
        "plt.style.use(\"fivethirtyeight\")\r\n",
        "sns.set_context(\"notebook\")"
      ],
      "execution_count": 217,
      "outputs": []
    },
    {
      "cell_type": "code",
      "metadata": {
        "colab": {
          "base_uri": "https://localhost:8080/"
        },
        "id": "Jp9_FJ0pYCbo",
        "outputId": "3bf9c702-6367-49e1-95fb-ff23282662e6"
      },
      "source": [
        "# Подключаем диск\r\n",
        "from google.colab import drive\r\n",
        "drive.mount('/content/drive')"
      ],
      "execution_count": 218,
      "outputs": [
        {
          "output_type": "stream",
          "text": [
            "Drive already mounted at /content/drive; to attempt to forcibly remount, call drive.mount(\"/content/drive\", force_remount=True).\n"
          ],
          "name": "stdout"
        }
      ]
    },
    {
      "cell_type": "markdown",
      "metadata": {
        "id": "uwCHscbVQJqe"
      },
      "source": [
        "# Иформация о переменных\r\n",
        "**Переменные, характеризующие кредитную историю клиента**\r\n",
        "\r\n",
        "closed_cred_sum - сумма, которую клиент выплатил по ранее взятым и закрытым\r\n",
        "кредитам\r\n",
        "\r\n",
        "closed_creds - количество закрытых кредитов\r\n",
        "\r\n",
        "active_cred_sum_overdue - суммарная задолженность по активным кредитам\r\n",
        "\r\n",
        "active_cred_sum - сумма всех активных кредитов\r\n",
        "\r\n",
        "active_cred_day_overdue - суммарная просрочка в днях по всем активным кредитам\r\n",
        "\r\n",
        "active_cred_max_overdue - максимальная сумма просроченной задолженности по\r\n",
        "активным кредитам\r\n",
        "\r\n",
        "**Переменные характеризующие клиента**\r\n",
        "\r\n",
        "age - возраст\r\n",
        "\r\n",
        "gender - пол\r\n",
        "\r\n",
        "region - регион\r\n",
        "\r\n",
        "month_income - ежемесячный доход\r\n",
        "\r\n",
        "\r\n",
        " **Переменные, характеризующие кредит, по которому нужно сделать прогноз**\r\n",
        "\r\n",
        "first_loan - сумма, которую клиент хочет получить в кредит (из заявки)\r\n",
        "\r\n",
        "first_days_quant - срок, на которую клиент хочет взять кредит\r\n",
        "\r\n",
        "loan_cost_all - одобренная клиенту сумма кредита\r\n",
        "\r\n",
        "order_date - дата подачи заявки на получение кредита\r\n",
        "\r\n",
        "cost_all - сумма всех выплат по одобренному кредиту\r\n",
        "\r\n",
        "order_id - id заявки\r\n",
        "\r\n",
        "client_id - id клиента\r\n",
        "\r\n",
        "**Целевая переменная:**\r\n",
        "\r\n",
        "expert - решение, которое принято по заявке (0 - одобрено, 1 - отклонено)\r\n",
        "\r\n",
        "\r\n",
        "\r\n",
        "\r\n"
      ]
    },
    {
      "cell_type": "code",
      "metadata": {
        "colab": {
          "base_uri": "https://localhost:8080/",
          "height": 817
        },
        "id": "RDPwuJnVYCe4",
        "outputId": "2f28a49a-c0eb-42e8-8a03-fccba2f19d6a"
      },
      "source": [
        "# Загрузка данных\r\n",
        "df = pd.read_csv('/content/drive/My Drive/datasets/test_Devim/data.csv', sep=';')\r\n",
        "df.index += 1\r\n",
        "df.info()\r\n",
        "display(df)"
      ],
      "execution_count": 220,
      "outputs": [
        {
          "output_type": "stream",
          "text": [
            "<class 'pandas.core.frame.DataFrame'>\n",
            "RangeIndex: 50001 entries, 1 to 50001\n",
            "Data columns (total 18 columns):\n",
            " #   Column                   Non-Null Count  Dtype  \n",
            "---  ------                   --------------  -----  \n",
            " 0   closed_cred_sum          50001 non-null  float64\n",
            " 1   closed_creds             50001 non-null  int64  \n",
            " 2   active_cred_sum_overdue  50001 non-null  float64\n",
            " 3   active_cred_sum          50001 non-null  float64\n",
            " 4   active_cred_day_overdue  50001 non-null  int64  \n",
            " 5   active_cred_max_overdue  50001 non-null  float64\n",
            " 6   age                      50001 non-null  int64  \n",
            " 7   gender                   50001 non-null  int64  \n",
            " 8   region                   50001 non-null  int64  \n",
            " 9   first_loan               49982 non-null  float64\n",
            " 10  loan_cost_all            50001 non-null  int64  \n",
            " 11  first_days_quant         50001 non-null  int64  \n",
            " 12  month_income             50001 non-null  float64\n",
            " 13  order_date               50001 non-null  object \n",
            " 14  cost_all                 50001 non-null  float64\n",
            " 15  order_id                 50001 non-null  int64  \n",
            " 16  client_id                50001 non-null  int64  \n",
            " 17  expert                   50001 non-null  int64  \n",
            "dtypes: float64(7), int64(10), object(1)\n",
            "memory usage: 6.9+ MB\n"
          ],
          "name": "stdout"
        },
        {
          "output_type": "display_data",
          "data": {
            "text/html": [
              "<div>\n",
              "<style scoped>\n",
              "    .dataframe tbody tr th:only-of-type {\n",
              "        vertical-align: middle;\n",
              "    }\n",
              "\n",
              "    .dataframe tbody tr th {\n",
              "        vertical-align: top;\n",
              "    }\n",
              "\n",
              "    .dataframe thead th {\n",
              "        text-align: right;\n",
              "    }\n",
              "</style>\n",
              "<table border=\"1\" class=\"dataframe\">\n",
              "  <thead>\n",
              "    <tr style=\"text-align: right;\">\n",
              "      <th></th>\n",
              "      <th>closed_cred_sum</th>\n",
              "      <th>closed_creds</th>\n",
              "      <th>active_cred_sum_overdue</th>\n",
              "      <th>active_cred_sum</th>\n",
              "      <th>active_cred_day_overdue</th>\n",
              "      <th>active_cred_max_overdue</th>\n",
              "      <th>age</th>\n",
              "      <th>gender</th>\n",
              "      <th>region</th>\n",
              "      <th>first_loan</th>\n",
              "      <th>loan_cost_all</th>\n",
              "      <th>first_days_quant</th>\n",
              "      <th>month_income</th>\n",
              "      <th>order_date</th>\n",
              "      <th>cost_all</th>\n",
              "      <th>order_id</th>\n",
              "      <th>client_id</th>\n",
              "      <th>expert</th>\n",
              "    </tr>\n",
              "  </thead>\n",
              "  <tbody>\n",
              "    <tr>\n",
              "      <th>1</th>\n",
              "      <td>143822.00</td>\n",
              "      <td>22</td>\n",
              "      <td>104.12</td>\n",
              "      <td>130068.80</td>\n",
              "      <td>8</td>\n",
              "      <td>756.09</td>\n",
              "      <td>31</td>\n",
              "      <td>0</td>\n",
              "      <td>36</td>\n",
              "      <td>10000.0</td>\n",
              "      <td>10000</td>\n",
              "      <td>196</td>\n",
              "      <td>0.0</td>\n",
              "      <td>2017-07-23</td>\n",
              "      <td>0.0</td>\n",
              "      <td>728319</td>\n",
              "      <td>320464</td>\n",
              "      <td>1</td>\n",
              "    </tr>\n",
              "    <tr>\n",
              "      <th>2</th>\n",
              "      <td>0.00</td>\n",
              "      <td>0</td>\n",
              "      <td>38151.93</td>\n",
              "      <td>46230.00</td>\n",
              "      <td>1492</td>\n",
              "      <td>38151.93</td>\n",
              "      <td>51</td>\n",
              "      <td>0</td>\n",
              "      <td>93</td>\n",
              "      <td>10000.0</td>\n",
              "      <td>10000</td>\n",
              "      <td>17</td>\n",
              "      <td>20000.0</td>\n",
              "      <td>2017-07-23</td>\n",
              "      <td>0.0</td>\n",
              "      <td>728321</td>\n",
              "      <td>320466</td>\n",
              "      <td>1</td>\n",
              "    </tr>\n",
              "    <tr>\n",
              "      <th>3</th>\n",
              "      <td>51356.00</td>\n",
              "      <td>2</td>\n",
              "      <td>3000.00</td>\n",
              "      <td>3000.00</td>\n",
              "      <td>8</td>\n",
              "      <td>3000.00</td>\n",
              "      <td>28</td>\n",
              "      <td>1</td>\n",
              "      <td>3</td>\n",
              "      <td>10000.0</td>\n",
              "      <td>10000</td>\n",
              "      <td>84</td>\n",
              "      <td>0.0</td>\n",
              "      <td>2017-07-23</td>\n",
              "      <td>0.0</td>\n",
              "      <td>728323</td>\n",
              "      <td>320467</td>\n",
              "      <td>1</td>\n",
              "    </tr>\n",
              "    <tr>\n",
              "      <th>4</th>\n",
              "      <td>0.00</td>\n",
              "      <td>0</td>\n",
              "      <td>22784.19</td>\n",
              "      <td>32103.52</td>\n",
              "      <td>913</td>\n",
              "      <td>22784.19</td>\n",
              "      <td>28</td>\n",
              "      <td>0</td>\n",
              "      <td>52</td>\n",
              "      <td>10000.0</td>\n",
              "      <td>10000</td>\n",
              "      <td>7</td>\n",
              "      <td>0.0</td>\n",
              "      <td>2017-07-23</td>\n",
              "      <td>0.0</td>\n",
              "      <td>728447</td>\n",
              "      <td>320533</td>\n",
              "      <td>1</td>\n",
              "    </tr>\n",
              "    <tr>\n",
              "      <th>5</th>\n",
              "      <td>12298.00</td>\n",
              "      <td>1</td>\n",
              "      <td>4942.95</td>\n",
              "      <td>4950.00</td>\n",
              "      <td>2883</td>\n",
              "      <td>4942.95</td>\n",
              "      <td>31</td>\n",
              "      <td>0</td>\n",
              "      <td>47</td>\n",
              "      <td>5000.0</td>\n",
              "      <td>5000</td>\n",
              "      <td>20</td>\n",
              "      <td>0.0</td>\n",
              "      <td>2017-07-23</td>\n",
              "      <td>0.0</td>\n",
              "      <td>728421</td>\n",
              "      <td>298598</td>\n",
              "      <td>1</td>\n",
              "    </tr>\n",
              "    <tr>\n",
              "      <th>...</th>\n",
              "      <td>...</td>\n",
              "      <td>...</td>\n",
              "      <td>...</td>\n",
              "      <td>...</td>\n",
              "      <td>...</td>\n",
              "      <td>...</td>\n",
              "      <td>...</td>\n",
              "      <td>...</td>\n",
              "      <td>...</td>\n",
              "      <td>...</td>\n",
              "      <td>...</td>\n",
              "      <td>...</td>\n",
              "      <td>...</td>\n",
              "      <td>...</td>\n",
              "      <td>...</td>\n",
              "      <td>...</td>\n",
              "      <td>...</td>\n",
              "      <td>...</td>\n",
              "    </tr>\n",
              "    <tr>\n",
              "      <th>49997</th>\n",
              "      <td>0.00</td>\n",
              "      <td>0</td>\n",
              "      <td>74662.61</td>\n",
              "      <td>79662.61</td>\n",
              "      <td>2593</td>\n",
              "      <td>42204.55</td>\n",
              "      <td>27</td>\n",
              "      <td>1</td>\n",
              "      <td>0</td>\n",
              "      <td>4000.0</td>\n",
              "      <td>4000</td>\n",
              "      <td>20</td>\n",
              "      <td>0.0</td>\n",
              "      <td>2017-08-13</td>\n",
              "      <td>0.0</td>\n",
              "      <td>759472</td>\n",
              "      <td>96091</td>\n",
              "      <td>1</td>\n",
              "    </tr>\n",
              "    <tr>\n",
              "      <th>49998</th>\n",
              "      <td>21653.49</td>\n",
              "      <td>2</td>\n",
              "      <td>0.00</td>\n",
              "      <td>0.00</td>\n",
              "      <td>0</td>\n",
              "      <td>0.00</td>\n",
              "      <td>28</td>\n",
              "      <td>0</td>\n",
              "      <td>75</td>\n",
              "      <td>2000.0</td>\n",
              "      <td>2000</td>\n",
              "      <td>10</td>\n",
              "      <td>20000.0</td>\n",
              "      <td>2017-08-13</td>\n",
              "      <td>0.0</td>\n",
              "      <td>759475</td>\n",
              "      <td>338240</td>\n",
              "      <td>1</td>\n",
              "    </tr>\n",
              "    <tr>\n",
              "      <th>49999</th>\n",
              "      <td>0.00</td>\n",
              "      <td>0</td>\n",
              "      <td>0.00</td>\n",
              "      <td>1000.00</td>\n",
              "      <td>0</td>\n",
              "      <td>941.00</td>\n",
              "      <td>22</td>\n",
              "      <td>0</td>\n",
              "      <td>0</td>\n",
              "      <td>10000.0</td>\n",
              "      <td>10000</td>\n",
              "      <td>20</td>\n",
              "      <td>35000.0</td>\n",
              "      <td>2017-08-13</td>\n",
              "      <td>0.0</td>\n",
              "      <td>759485</td>\n",
              "      <td>338246</td>\n",
              "      <td>1</td>\n",
              "    </tr>\n",
              "    <tr>\n",
              "      <th>50000</th>\n",
              "      <td>0.00</td>\n",
              "      <td>0</td>\n",
              "      <td>0.00</td>\n",
              "      <td>1000.00</td>\n",
              "      <td>0</td>\n",
              "      <td>941.00</td>\n",
              "      <td>22</td>\n",
              "      <td>0</td>\n",
              "      <td>0</td>\n",
              "      <td>10000.0</td>\n",
              "      <td>10000</td>\n",
              "      <td>20</td>\n",
              "      <td>35000.0</td>\n",
              "      <td>2017-08-13</td>\n",
              "      <td>0.0</td>\n",
              "      <td>759485</td>\n",
              "      <td>338246</td>\n",
              "      <td>1</td>\n",
              "    </tr>\n",
              "    <tr>\n",
              "      <th>50001</th>\n",
              "      <td>19750.00</td>\n",
              "      <td>9</td>\n",
              "      <td>14100.00</td>\n",
              "      <td>14100.00</td>\n",
              "      <td>331</td>\n",
              "      <td>6000.00</td>\n",
              "      <td>33</td>\n",
              "      <td>0</td>\n",
              "      <td>40</td>\n",
              "      <td>2000.0</td>\n",
              "      <td>2000</td>\n",
              "      <td>21</td>\n",
              "      <td>0.0</td>\n",
              "      <td>2017-08-13</td>\n",
              "      <td>0.0</td>\n",
              "      <td>759490</td>\n",
              "      <td>261961</td>\n",
              "      <td>1</td>\n",
              "    </tr>\n",
              "  </tbody>\n",
              "</table>\n",
              "<p>50001 rows × 18 columns</p>\n",
              "</div>"
            ],
            "text/plain": [
              "       closed_cred_sum  closed_creds  ...  client_id  expert\n",
              "1            143822.00            22  ...     320464       1\n",
              "2                 0.00             0  ...     320466       1\n",
              "3             51356.00             2  ...     320467       1\n",
              "4                 0.00             0  ...     320533       1\n",
              "5             12298.00             1  ...     298598       1\n",
              "...                ...           ...  ...        ...     ...\n",
              "49997             0.00             0  ...      96091       1\n",
              "49998         21653.49             2  ...     338240       1\n",
              "49999             0.00             0  ...     338246       1\n",
              "50000             0.00             0  ...     338246       1\n",
              "50001         19750.00             9  ...     261961       1\n",
              "\n",
              "[50001 rows x 18 columns]"
            ]
          },
          "metadata": {
            "tags": []
          }
        }
      ]
    },
    {
      "cell_type": "markdown",
      "metadata": {
        "id": "aLIoEiWAU1t_"
      },
      "source": [
        "**Вывод**\r\n",
        "\r\n",
        "Глядя на исходную таблицу, можно сделать выводы:\r\n",
        "\r\n",
        "*  Название столбцов - корректные;\r\n",
        "\r\n",
        "Это первый визуальный анализ, дальше мы разберем исходные данные глубже.\r\n",
        "\r\n",
        "\r\n",
        "\r\n",
        "\r\n"
      ]
    },
    {
      "cell_type": "markdown",
      "metadata": {
        "id": "-6HkUqaGUV0C"
      },
      "source": [
        "  # Анализ данных"
      ]
    },
    {
      "cell_type": "code",
      "metadata": {
        "colab": {
          "base_uri": "https://localhost:8080/"
        },
        "id": "gq4IptNSVaDi",
        "outputId": "ca374ed3-f980-4389-93d2-3868a53d61c5"
      },
      "source": [
        "# Проверка датасета на отсутствие данных \r\n",
        "df.isna().sum()"
      ],
      "execution_count": 221,
      "outputs": [
        {
          "output_type": "execute_result",
          "data": {
            "text/plain": [
              "closed_cred_sum             0\n",
              "closed_creds                0\n",
              "active_cred_sum_overdue     0\n",
              "active_cred_sum             0\n",
              "active_cred_day_overdue     0\n",
              "active_cred_max_overdue     0\n",
              "age                         0\n",
              "gender                      0\n",
              "region                      0\n",
              "first_loan                 19\n",
              "loan_cost_all               0\n",
              "first_days_quant            0\n",
              "month_income                0\n",
              "order_date                  0\n",
              "cost_all                    0\n",
              "order_id                    0\n",
              "client_id                   0\n",
              "expert                      0\n",
              "dtype: int64"
            ]
          },
          "metadata": {
            "tags": []
          },
          "execution_count": 221
        }
      ]
    },
    {
      "cell_type": "code",
      "metadata": {
        "colab": {
          "base_uri": "https://localhost:8080/"
        },
        "id": "fAQrglpAWz_O",
        "outputId": "b6971cf6-c7a6-4146-9fdd-a0e148605bb5"
      },
      "source": [
        "# Функция для вычисления процентного списка пропущенных данных\r\n",
        "def get_persent(fn):\r\n",
        "  try:\r\n",
        "    for col in fn.columns:\r\n",
        "      pct_missing = np.mean(fn[col].isnull())\r\n",
        "      print('{} - {}%'.format(col, round(pct_missing*100, 3)))\r\n",
        "  except ValueError:\r\n",
        "    print('Error DataFrame')\r\n",
        "\r\n",
        "get_persent(df)"
      ],
      "execution_count": 222,
      "outputs": [
        {
          "output_type": "stream",
          "text": [
            "closed_cred_sum - 0.0%\n",
            "closed_creds - 0.0%\n",
            "active_cred_sum_overdue - 0.0%\n",
            "active_cred_sum - 0.0%\n",
            "active_cred_day_overdue - 0.0%\n",
            "active_cred_max_overdue - 0.0%\n",
            "age - 0.0%\n",
            "gender - 0.0%\n",
            "region - 0.0%\n",
            "first_loan - 0.038%\n",
            "loan_cost_all - 0.0%\n",
            "first_days_quant - 0.0%\n",
            "month_income - 0.0%\n",
            "order_date - 0.0%\n",
            "cost_all - 0.0%\n",
            "order_id - 0.0%\n",
            "client_id - 0.0%\n",
            "expert - 0.0%\n"
          ],
          "name": "stdout"
        }
      ]
    },
    {
      "cell_type": "markdown",
      "metadata": {
        "id": "5UEd-mnmXmMc"
      },
      "source": [
        "По данным выше видно, что пропуски имееются в переменной(first_loan), причина отсутствие суммы кредита. Просто удалить пропуски из переменной было бы не корректно, это 3,8% данных. Чтобы не потерять данные, подставим в пропуски медиану. "
      ]
    },
    {
      "cell_type": "code",
      "metadata": {
        "colab": {
          "base_uri": "https://localhost:8080/"
        },
        "id": "9VbMP1nPXlTO",
        "outputId": "cfc174a5-f1ce-4885-aa5d-fe8b9c4a2def"
      },
      "source": [
        "# Заменим пропуски медианной в переменной first_loan\r\n",
        "df['first_loan'] = df['first_loan'].fillna(df['first_loan'].median())\r\n",
        "df.isna().sum()"
      ],
      "execution_count": 223,
      "outputs": [
        {
          "output_type": "execute_result",
          "data": {
            "text/plain": [
              "closed_cred_sum            0\n",
              "closed_creds               0\n",
              "active_cred_sum_overdue    0\n",
              "active_cred_sum            0\n",
              "active_cred_day_overdue    0\n",
              "active_cred_max_overdue    0\n",
              "age                        0\n",
              "gender                     0\n",
              "region                     0\n",
              "first_loan                 0\n",
              "loan_cost_all              0\n",
              "first_days_quant           0\n",
              "month_income               0\n",
              "order_date                 0\n",
              "cost_all                   0\n",
              "order_id                   0\n",
              "client_id                  0\n",
              "expert                     0\n",
              "dtype: int64"
            ]
          },
          "metadata": {
            "tags": []
          },
          "execution_count": 223
        }
      ]
    },
    {
      "cell_type": "code",
      "metadata": {
        "colab": {
          "base_uri": "https://localhost:8080/",
          "height": 297
        },
        "id": "XCH3nLwKnD7K",
        "outputId": "14669c83-d446-489d-f1f7-6166e4312b8b"
      },
      "source": [
        "# Статистика датасета\r\n",
        "df.describe()"
      ],
      "execution_count": 225,
      "outputs": [
        {
          "output_type": "execute_result",
          "data": {
            "text/html": [
              "<div>\n",
              "<style scoped>\n",
              "    .dataframe tbody tr th:only-of-type {\n",
              "        vertical-align: middle;\n",
              "    }\n",
              "\n",
              "    .dataframe tbody tr th {\n",
              "        vertical-align: top;\n",
              "    }\n",
              "\n",
              "    .dataframe thead th {\n",
              "        text-align: right;\n",
              "    }\n",
              "</style>\n",
              "<table border=\"1\" class=\"dataframe\">\n",
              "  <thead>\n",
              "    <tr style=\"text-align: right;\">\n",
              "      <th></th>\n",
              "      <th>closed_cred_sum</th>\n",
              "      <th>closed_creds</th>\n",
              "      <th>active_cred_sum_overdue</th>\n",
              "      <th>active_cred_sum</th>\n",
              "      <th>active_cred_day_overdue</th>\n",
              "      <th>active_cred_max_overdue</th>\n",
              "      <th>age</th>\n",
              "      <th>gender</th>\n",
              "      <th>region</th>\n",
              "      <th>first_loan</th>\n",
              "      <th>loan_cost_all</th>\n",
              "      <th>first_days_quant</th>\n",
              "      <th>month_income</th>\n",
              "      <th>cost_all</th>\n",
              "      <th>order_id</th>\n",
              "      <th>client_id</th>\n",
              "      <th>expert</th>\n",
              "    </tr>\n",
              "  </thead>\n",
              "  <tbody>\n",
              "    <tr>\n",
              "      <th>count</th>\n",
              "      <td>5.000100e+04</td>\n",
              "      <td>50001.000000</td>\n",
              "      <td>5.000100e+04</td>\n",
              "      <td>5.000100e+04</td>\n",
              "      <td>50001.000000</td>\n",
              "      <td>5.000100e+04</td>\n",
              "      <td>50001.000000</td>\n",
              "      <td>50001.000000</td>\n",
              "      <td>50001.000000</td>\n",
              "      <td>50001.000000</td>\n",
              "      <td>50001.000000</td>\n",
              "      <td>50001.000000</td>\n",
              "      <td>50001.000000</td>\n",
              "      <td>50001.000000</td>\n",
              "      <td>50001.000000</td>\n",
              "      <td>50001.000000</td>\n",
              "      <td>50001.000000</td>\n",
              "    </tr>\n",
              "    <tr>\n",
              "      <th>mean</th>\n",
              "      <td>1.865780e+05</td>\n",
              "      <td>7.974001</td>\n",
              "      <td>5.217919e+04</td>\n",
              "      <td>1.964205e+05</td>\n",
              "      <td>722.563769</td>\n",
              "      <td>3.776984e+04</td>\n",
              "      <td>35.018900</td>\n",
              "      <td>0.462691</td>\n",
              "      <td>28.825083</td>\n",
              "      <td>7751.396972</td>\n",
              "      <td>6703.681926</td>\n",
              "      <td>23.954561</td>\n",
              "      <td>24943.402642</td>\n",
              "      <td>1233.828788</td>\n",
              "      <td>734747.279874</td>\n",
              "      <td>290563.956781</td>\n",
              "      <td>0.749265</td>\n",
              "    </tr>\n",
              "    <tr>\n",
              "      <th>std</th>\n",
              "      <td>5.057408e+05</td>\n",
              "      <td>13.933307</td>\n",
              "      <td>2.537311e+05</td>\n",
              "      <td>4.365213e+05</td>\n",
              "      <td>1371.656677</td>\n",
              "      <td>1.703992e+05</td>\n",
              "      <td>11.235206</td>\n",
              "      <td>0.498611</td>\n",
              "      <td>29.726162</td>\n",
              "      <td>5309.793075</td>\n",
              "      <td>4610.529844</td>\n",
              "      <td>36.670176</td>\n",
              "      <td>20652.768218</td>\n",
              "      <td>4556.672041</td>\n",
              "      <td>26254.078989</td>\n",
              "      <td>74592.964584</td>\n",
              "      <td>0.433441</td>\n",
              "    </tr>\n",
              "    <tr>\n",
              "      <th>min</th>\n",
              "      <td>0.000000e+00</td>\n",
              "      <td>0.000000</td>\n",
              "      <td>0.000000e+00</td>\n",
              "      <td>0.000000e+00</td>\n",
              "      <td>0.000000</td>\n",
              "      <td>0.000000e+00</td>\n",
              "      <td>18.000000</td>\n",
              "      <td>0.000000</td>\n",
              "      <td>0.000000</td>\n",
              "      <td>2000.000000</td>\n",
              "      <td>0.000000</td>\n",
              "      <td>0.000000</td>\n",
              "      <td>0.000000</td>\n",
              "      <td>0.000000</td>\n",
              "      <td>695828.000000</td>\n",
              "      <td>109.000000</td>\n",
              "      <td>0.000000</td>\n",
              "    </tr>\n",
              "    <tr>\n",
              "      <th>25%</th>\n",
              "      <td>5.502000e+03</td>\n",
              "      <td>1.000000</td>\n",
              "      <td>0.000000e+00</td>\n",
              "      <td>1.467400e+04</td>\n",
              "      <td>0.000000</td>\n",
              "      <td>4.870800e+02</td>\n",
              "      <td>27.000000</td>\n",
              "      <td>0.000000</td>\n",
              "      <td>0.000000</td>\n",
              "      <td>5000.000000</td>\n",
              "      <td>3000.000000</td>\n",
              "      <td>10.000000</td>\n",
              "      <td>0.000000</td>\n",
              "      <td>0.000000</td>\n",
              "      <td>715042.000000</td>\n",
              "      <td>294858.000000</td>\n",
              "      <td>0.000000</td>\n",
              "    </tr>\n",
              "    <tr>\n",
              "      <th>50%</th>\n",
              "      <td>4.287400e+04</td>\n",
              "      <td>4.000000</td>\n",
              "      <td>5.000000e+03</td>\n",
              "      <td>5.703022e+04</td>\n",
              "      <td>64.000000</td>\n",
              "      <td>6.765660e+03</td>\n",
              "      <td>32.000000</td>\n",
              "      <td>0.000000</td>\n",
              "      <td>25.000000</td>\n",
              "      <td>7000.000000</td>\n",
              "      <td>7000.000000</td>\n",
              "      <td>20.000000</td>\n",
              "      <td>25000.000000</td>\n",
              "      <td>0.000000</td>\n",
              "      <td>734707.000000</td>\n",
              "      <td>316156.000000</td>\n",
              "      <td>1.000000</td>\n",
              "    </tr>\n",
              "    <tr>\n",
              "      <th>75%</th>\n",
              "      <td>1.740713e+05</td>\n",
              "      <td>9.000000</td>\n",
              "      <td>3.157990e+04</td>\n",
              "      <td>1.972360e+05</td>\n",
              "      <td>923.000000</td>\n",
              "      <td>2.449949e+04</td>\n",
              "      <td>41.000000</td>\n",
              "      <td>1.000000</td>\n",
              "      <td>52.000000</td>\n",
              "      <td>10000.000000</td>\n",
              "      <td>10000.000000</td>\n",
              "      <td>20.000000</td>\n",
              "      <td>35000.000000</td>\n",
              "      <td>0.000000</td>\n",
              "      <td>749477.000000</td>\n",
              "      <td>330172.000000</td>\n",
              "      <td>1.000000</td>\n",
              "    </tr>\n",
              "    <tr>\n",
              "      <th>max</th>\n",
              "      <td>4.457421e+07</td>\n",
              "      <td>563.000000</td>\n",
              "      <td>3.303100e+07</td>\n",
              "      <td>2.273166e+07</td>\n",
              "      <td>21927.000000</td>\n",
              "      <td>2.170166e+07</td>\n",
              "      <td>99.000000</td>\n",
              "      <td>1.000000</td>\n",
              "      <td>99.000000</td>\n",
              "      <td>100000.000000</td>\n",
              "      <td>100000.000000</td>\n",
              "      <td>336.000000</td>\n",
              "      <td>550000.000000</td>\n",
              "      <td>238770.420000</td>\n",
              "      <td>840692.000000</td>\n",
              "      <td>393528.000000</td>\n",
              "      <td>1.000000</td>\n",
              "    </tr>\n",
              "  </tbody>\n",
              "</table>\n",
              "</div>"
            ],
            "text/plain": [
              "       closed_cred_sum  closed_creds  ...      client_id        expert\n",
              "count     5.000100e+04  50001.000000  ...   50001.000000  50001.000000\n",
              "mean      1.865780e+05      7.974001  ...  290563.956781      0.749265\n",
              "std       5.057408e+05     13.933307  ...   74592.964584      0.433441\n",
              "min       0.000000e+00      0.000000  ...     109.000000      0.000000\n",
              "25%       5.502000e+03      1.000000  ...  294858.000000      0.000000\n",
              "50%       4.287400e+04      4.000000  ...  316156.000000      1.000000\n",
              "75%       1.740713e+05      9.000000  ...  330172.000000      1.000000\n",
              "max       4.457421e+07    563.000000  ...  393528.000000      1.000000\n",
              "\n",
              "[8 rows x 17 columns]"
            ]
          },
          "metadata": {
            "tags": []
          },
          "execution_count": 225
        }
      ]
    },
    {
      "cell_type": "markdown",
      "metadata": {
        "id": "ailr-xO-mS29"
      },
      "source": [
        "# Фильтрация данных\r\n",
        "\r\n",
        "\r\n"
      ]
    },
    {
      "cell_type": "code",
      "metadata": {
        "id": "yzIZgokPVkJz",
        "colab": {
          "base_uri": "https://localhost:8080/",
          "height": 432
        },
        "outputId": "7cd3787a-ccf9-4cf4-ba0b-b8c9e373d0ca"
      },
      "source": [
        "# Посмотрим переменную, которую будем предсказывать\r\n",
        "pos = df[df['expert'] == 0].shape[0]\r\n",
        "neg = df[df['expert'] == 1].shape[0]\r\n",
        "sns.set(style='whitegrid', rc={\"grid.linewidth\": 0.1})\r\n",
        "plt.figure(figsize=(8, 6))\r\n",
        "sns.countplot(df['expert'])\r\n",
        "plt.xticks((0, 1), ['Выдан кредит', \"Не выдан кредит\"])\r\n",
        "plt.ylabel('Число заёмщиков')\r\n",
        "plt.xlabel(\"\")\r\n",
        "plt.title('решение, которое принято по заявке')"
      ],
      "execution_count": 226,
      "outputs": [
        {
          "output_type": "execute_result",
          "data": {
            "text/plain": [
              "Text(0.5, 1.0, 'решение, которое принято по заявке')"
            ]
          },
          "metadata": {
            "tags": []
          },
          "execution_count": 226
        },
        {
          "output_type": "display_data",
          "data": {
            "image/png": "[encoded data removed]",
            "text/plain": [
              "<Figure size 576x432 with 1 Axes>"
            ]
          },
          "metadata": {
            "tags": []
          }
        }
      ]
    },
    {
      "cell_type": "code",
      "metadata": {
        "id": "pUZcnBoDVkMf",
        "colab": {
          "base_uri": "https://localhost:8080/"
        },
        "outputId": "bd87f86f-f43c-4507-d4dd-cf7e486faf49"
      },
      "source": [
        "print(f'Одобренно кредитов: {pos}')\r\n",
        "print(f'Не одобрили кредитов: {neg}')\r\n",
        "print(f'Соотношение одобренных и не одобренных кредитов: {(pos / neg) * 100:.2f}%')"
      ],
      "execution_count": 227,
      "outputs": [
        {
          "output_type": "stream",
          "text": [
            "Одобренно кредитов: 12537\n",
            "Не одобрили кредитов: 37464\n",
            "Соотношение одобренных и не одобренных кредитов: 33.46%\n"
          ],
          "name": "stdout"
        }
      ]
    },
    {
      "cell_type": "code",
      "metadata": {
        "colab": {
          "base_uri": "https://localhost:8080/",
          "height": 211
        },
        "id": "1QHxdaL8i-rD",
        "outputId": "da5a3ea9-b1ba-4551-f518-520509363bb6"
      },
      "source": [
        "# Удалим ненужный столбец длч дальнейшего анализа\r\n",
        "df = df.drop(['order_date'], axis=1)\r\n",
        "df.head()"
      ],
      "execution_count": 228,
      "outputs": [
        {
          "output_type": "execute_result",
          "data": {
            "text/html": [
              "<div>\n",
              "<style scoped>\n",
              "    .dataframe tbody tr th:only-of-type {\n",
              "        vertical-align: middle;\n",
              "    }\n",
              "\n",
              "    .dataframe tbody tr th {\n",
              "        vertical-align: top;\n",
              "    }\n",
              "\n",
              "    .dataframe thead th {\n",
              "        text-align: right;\n",
              "    }\n",
              "</style>\n",
              "<table border=\"1\" class=\"dataframe\">\n",
              "  <thead>\n",
              "    <tr style=\"text-align: right;\">\n",
              "      <th></th>\n",
              "      <th>closed_cred_sum</th>\n",
              "      <th>closed_creds</th>\n",
              "      <th>active_cred_sum_overdue</th>\n",
              "      <th>active_cred_sum</th>\n",
              "      <th>active_cred_day_overdue</th>\n",
              "      <th>active_cred_max_overdue</th>\n",
              "      <th>age</th>\n",
              "      <th>gender</th>\n",
              "      <th>region</th>\n",
              "      <th>first_loan</th>\n",
              "      <th>loan_cost_all</th>\n",
              "      <th>first_days_quant</th>\n",
              "      <th>month_income</th>\n",
              "      <th>cost_all</th>\n",
              "      <th>order_id</th>\n",
              "      <th>client_id</th>\n",
              "      <th>expert</th>\n",
              "    </tr>\n",
              "  </thead>\n",
              "  <tbody>\n",
              "    <tr>\n",
              "      <th>1</th>\n",
              "      <td>143822.0</td>\n",
              "      <td>22</td>\n",
              "      <td>104.12</td>\n",
              "      <td>130068.80</td>\n",
              "      <td>8</td>\n",
              "      <td>756.09</td>\n",
              "      <td>31</td>\n",
              "      <td>0</td>\n",
              "      <td>36</td>\n",
              "      <td>10000.0</td>\n",
              "      <td>10000</td>\n",
              "      <td>196</td>\n",
              "      <td>0.0</td>\n",
              "      <td>0.0</td>\n",
              "      <td>728319</td>\n",
              "      <td>320464</td>\n",
              "      <td>1</td>\n",
              "    </tr>\n",
              "    <tr>\n",
              "      <th>2</th>\n",
              "      <td>0.0</td>\n",
              "      <td>0</td>\n",
              "      <td>38151.93</td>\n",
              "      <td>46230.00</td>\n",
              "      <td>1492</td>\n",
              "      <td>38151.93</td>\n",
              "      <td>51</td>\n",
              "      <td>0</td>\n",
              "      <td>93</td>\n",
              "      <td>10000.0</td>\n",
              "      <td>10000</td>\n",
              "      <td>17</td>\n",
              "      <td>20000.0</td>\n",
              "      <td>0.0</td>\n",
              "      <td>728321</td>\n",
              "      <td>320466</td>\n",
              "      <td>1</td>\n",
              "    </tr>\n",
              "    <tr>\n",
              "      <th>3</th>\n",
              "      <td>51356.0</td>\n",
              "      <td>2</td>\n",
              "      <td>3000.00</td>\n",
              "      <td>3000.00</td>\n",
              "      <td>8</td>\n",
              "      <td>3000.00</td>\n",
              "      <td>28</td>\n",
              "      <td>1</td>\n",
              "      <td>3</td>\n",
              "      <td>10000.0</td>\n",
              "      <td>10000</td>\n",
              "      <td>84</td>\n",
              "      <td>0.0</td>\n",
              "      <td>0.0</td>\n",
              "      <td>728323</td>\n",
              "      <td>320467</td>\n",
              "      <td>1</td>\n",
              "    </tr>\n",
              "    <tr>\n",
              "      <th>4</th>\n",
              "      <td>0.0</td>\n",
              "      <td>0</td>\n",
              "      <td>22784.19</td>\n",
              "      <td>32103.52</td>\n",
              "      <td>913</td>\n",
              "      <td>22784.19</td>\n",
              "      <td>28</td>\n",
              "      <td>0</td>\n",
              "      <td>52</td>\n",
              "      <td>10000.0</td>\n",
              "      <td>10000</td>\n",
              "      <td>7</td>\n",
              "      <td>0.0</td>\n",
              "      <td>0.0</td>\n",
              "      <td>728447</td>\n",
              "      <td>320533</td>\n",
              "      <td>1</td>\n",
              "    </tr>\n",
              "    <tr>\n",
              "      <th>5</th>\n",
              "      <td>12298.0</td>\n",
              "      <td>1</td>\n",
              "      <td>4942.95</td>\n",
              "      <td>4950.00</td>\n",
              "      <td>2883</td>\n",
              "      <td>4942.95</td>\n",
              "      <td>31</td>\n",
              "      <td>0</td>\n",
              "      <td>47</td>\n",
              "      <td>5000.0</td>\n",
              "      <td>5000</td>\n",
              "      <td>20</td>\n",
              "      <td>0.0</td>\n",
              "      <td>0.0</td>\n",
              "      <td>728421</td>\n",
              "      <td>298598</td>\n",
              "      <td>1</td>\n",
              "    </tr>\n",
              "  </tbody>\n",
              "</table>\n",
              "</div>"
            ],
            "text/plain": [
              "   closed_cred_sum  closed_creds  ...  client_id  expert\n",
              "1         143822.0            22  ...     320464       1\n",
              "2              0.0             0  ...     320466       1\n",
              "3          51356.0             2  ...     320467       1\n",
              "4              0.0             0  ...     320533       1\n",
              "5          12298.0             1  ...     298598       1\n",
              "\n",
              "[5 rows x 17 columns]"
            ]
          },
          "metadata": {
            "tags": []
          },
          "execution_count": 228
        }
      ]
    },
    {
      "cell_type": "code",
      "metadata": {
        "colab": {
          "base_uri": "https://localhost:8080/",
          "height": 432
        },
        "id": "nMTQsLjERojT",
        "outputId": "13c2ba51-6f42-46e4-a617-c59badfabd22"
      },
      "source": [
        "# Взглянем на распределение переменных, характерезующих клиента\r\n",
        "fig, axes = plt.subplots(2, 2, figsize=(8, 6))\r\n",
        "sns.set(style='whitegrid', rc={\"grid.linewidth\": 0.1})\r\n",
        "axes[0, 0].hist(df['age'], bins=32)\r\n",
        "axes[0, 0].set_title('Age')\r\n",
        "\r\n",
        "axes[0, 1].hist(df['gender'], bins=3)\r\n",
        "axes[0, 1].set_title('Gender')\r\n",
        "\r\n",
        "axes[1, 0].hist(df['region'], bins=32)\r\n",
        "axes[1, 0].set_title('Region')\r\n",
        "\r\n",
        "axes[1, 1].hist(df['month_income'], bins=32)\r\n",
        "axes[1, 1].set_title('Month Income')\r\n"
      ],
      "execution_count": 229,
      "outputs": [
        {
          "output_type": "execute_result",
          "data": {
            "text/plain": [
              "Text(0.5, 1.0, 'Month Income')"
            ]
          },
          "metadata": {
            "tags": []
          },
          "execution_count": 229
        },
        {
          "output_type": "display_data",
          "data": {
            "image/png": "[encoded data removed]",
            "text/plain": [
              "<Figure size 576x432 with 4 Axes>"
            ]
          },
          "metadata": {
            "tags": []
          }
        }
      ]
    },
    {
      "cell_type": "code",
      "metadata": {
        "colab": {
          "base_uri": "https://localhost:8080/"
        },
        "id": "fdPMHj3ki-6i",
        "outputId": "aee5357e-9a4c-4fe4-c1c4-78273c8a186e"
      },
      "source": [
        "# Посмотрим, переменную Gender\r\n",
        "df.gender.value_counts(normalize=True)"
      ],
      "execution_count": 233,
      "outputs": [
        {
          "output_type": "execute_result",
          "data": {
            "text/plain": [
              "0    0.537309\n",
              "1    0.462691\n",
              "Name: gender, dtype: float64"
            ]
          },
          "metadata": {
            "tags": []
          },
          "execution_count": 233
        }
      ]
    },
    {
      "cell_type": "code",
      "metadata": {
        "colab": {
          "base_uri": "https://localhost:8080/",
          "height": 211
        },
        "id": "D7g6SusCi_AQ",
        "outputId": "7fac30a6-1a31-4658-85b1-67e26d479500"
      },
      "source": [
        "df.head()"
      ],
      "execution_count": 234,
      "outputs": [
        {
          "output_type": "execute_result",
          "data": {
            "text/html": [
              "<div>\n",
              "<style scoped>\n",
              "    .dataframe tbody tr th:only-of-type {\n",
              "        vertical-align: middle;\n",
              "    }\n",
              "\n",
              "    .dataframe tbody tr th {\n",
              "        vertical-align: top;\n",
              "    }\n",
              "\n",
              "    .dataframe thead th {\n",
              "        text-align: right;\n",
              "    }\n",
              "</style>\n",
              "<table border=\"1\" class=\"dataframe\">\n",
              "  <thead>\n",
              "    <tr style=\"text-align: right;\">\n",
              "      <th></th>\n",
              "      <th>closed_cred_sum</th>\n",
              "      <th>closed_creds</th>\n",
              "      <th>active_cred_sum_overdue</th>\n",
              "      <th>active_cred_sum</th>\n",
              "      <th>active_cred_day_overdue</th>\n",
              "      <th>active_cred_max_overdue</th>\n",
              "      <th>age</th>\n",
              "      <th>gender</th>\n",
              "      <th>region</th>\n",
              "      <th>first_loan</th>\n",
              "      <th>loan_cost_all</th>\n",
              "      <th>first_days_quant</th>\n",
              "      <th>month_income</th>\n",
              "      <th>cost_all</th>\n",
              "      <th>order_id</th>\n",
              "      <th>client_id</th>\n",
              "      <th>expert</th>\n",
              "    </tr>\n",
              "  </thead>\n",
              "  <tbody>\n",
              "    <tr>\n",
              "      <th>1</th>\n",
              "      <td>143822.0</td>\n",
              "      <td>22</td>\n",
              "      <td>104.12</td>\n",
              "      <td>130068.80</td>\n",
              "      <td>8</td>\n",
              "      <td>756.09</td>\n",
              "      <td>0.160494</td>\n",
              "      <td>0</td>\n",
              "      <td>0.363636</td>\n",
              "      <td>10000.0</td>\n",
              "      <td>10000</td>\n",
              "      <td>196</td>\n",
              "      <td>0.000000</td>\n",
              "      <td>0.0</td>\n",
              "      <td>728319</td>\n",
              "      <td>320464</td>\n",
              "      <td>1</td>\n",
              "    </tr>\n",
              "    <tr>\n",
              "      <th>2</th>\n",
              "      <td>0.0</td>\n",
              "      <td>0</td>\n",
              "      <td>38151.93</td>\n",
              "      <td>46230.00</td>\n",
              "      <td>1492</td>\n",
              "      <td>38151.93</td>\n",
              "      <td>0.407407</td>\n",
              "      <td>0</td>\n",
              "      <td>0.939394</td>\n",
              "      <td>10000.0</td>\n",
              "      <td>10000</td>\n",
              "      <td>17</td>\n",
              "      <td>0.036364</td>\n",
              "      <td>0.0</td>\n",
              "      <td>728321</td>\n",
              "      <td>320466</td>\n",
              "      <td>1</td>\n",
              "    </tr>\n",
              "    <tr>\n",
              "      <th>3</th>\n",
              "      <td>51356.0</td>\n",
              "      <td>2</td>\n",
              "      <td>3000.00</td>\n",
              "      <td>3000.00</td>\n",
              "      <td>8</td>\n",
              "      <td>3000.00</td>\n",
              "      <td>0.123457</td>\n",
              "      <td>1</td>\n",
              "      <td>0.030303</td>\n",
              "      <td>10000.0</td>\n",
              "      <td>10000</td>\n",
              "      <td>84</td>\n",
              "      <td>0.000000</td>\n",
              "      <td>0.0</td>\n",
              "      <td>728323</td>\n",
              "      <td>320467</td>\n",
              "      <td>1</td>\n",
              "    </tr>\n",
              "    <tr>\n",
              "      <th>4</th>\n",
              "      <td>0.0</td>\n",
              "      <td>0</td>\n",
              "      <td>22784.19</td>\n",
              "      <td>32103.52</td>\n",
              "      <td>913</td>\n",
              "      <td>22784.19</td>\n",
              "      <td>0.123457</td>\n",
              "      <td>0</td>\n",
              "      <td>0.525253</td>\n",
              "      <td>10000.0</td>\n",
              "      <td>10000</td>\n",
              "      <td>7</td>\n",
              "      <td>0.000000</td>\n",
              "      <td>0.0</td>\n",
              "      <td>728447</td>\n",
              "      <td>320533</td>\n",
              "      <td>1</td>\n",
              "    </tr>\n",
              "    <tr>\n",
              "      <th>5</th>\n",
              "      <td>12298.0</td>\n",
              "      <td>1</td>\n",
              "      <td>4942.95</td>\n",
              "      <td>4950.00</td>\n",
              "      <td>2883</td>\n",
              "      <td>4942.95</td>\n",
              "      <td>0.160494</td>\n",
              "      <td>0</td>\n",
              "      <td>0.474747</td>\n",
              "      <td>5000.0</td>\n",
              "      <td>5000</td>\n",
              "      <td>20</td>\n",
              "      <td>0.000000</td>\n",
              "      <td>0.0</td>\n",
              "      <td>728421</td>\n",
              "      <td>298598</td>\n",
              "      <td>1</td>\n",
              "    </tr>\n",
              "  </tbody>\n",
              "</table>\n",
              "</div>"
            ],
            "text/plain": [
              "   closed_cred_sum  closed_creds  ...  client_id  expert\n",
              "1         143822.0            22  ...     320464       1\n",
              "2              0.0             0  ...     320466       1\n",
              "3          51356.0             2  ...     320467       1\n",
              "4              0.0             0  ...     320533       1\n",
              "5          12298.0             1  ...     298598       1\n",
              "\n",
              "[5 rows x 17 columns]"
            ]
          },
          "metadata": {
            "tags": []
          },
          "execution_count": 234
        }
      ]
    },
    {
      "cell_type": "markdown",
      "metadata": {
        "id": "HCpnG91jWbFM"
      },
      "source": [
        "**Вывод**\r\n",
        "\r\n",
        "Ознакомившись с нашим набором данных, мы провели следующую предобработку:\r\n",
        "\r\n",
        "\r\n",
        "*   Удалили столбцы, которые не будут полезны при обучении модели\r\n",
        "*   Посмотрели на переменные,характеризующие заёмщика\r\n"
      ]
    },
    {
      "cell_type": "markdown",
      "metadata": {
        "id": "MBXjAyj_XJfA"
      },
      "source": [
        "# Моделирование"
      ]
    },
    {
      "cell_type": "code",
      "metadata": {
        "colab": {
          "base_uri": "https://localhost:8080/"
        },
        "id": "x4rqkWuqWEX9",
        "outputId": "7edbc1ff-ed09-4955-fe9b-f101bbfdf6d7"
      },
      "source": [
        "# Оценим баланс классов, которые нам необходимо предсказывать в нашей изначальной выборке\r\n",
        "df.expert.value_counts(normalize=True)"
      ],
      "execution_count": 235,
      "outputs": [
        {
          "output_type": "execute_result",
          "data": {
            "text/plain": [
              "1    0.749265\n",
              "0    0.250735\n",
              "Name: expert, dtype: float64"
            ]
          },
          "metadata": {
            "tags": []
          },
          "execution_count": 235
        }
      ]
    },
    {
      "cell_type": "code",
      "metadata": {
        "id": "lFK4VaUVWEbY"
      },
      "source": [
        "# Удалим переменную,которую будем предсказывать\r\n",
        "X = df.drop('expert', axis=1)\r\n",
        "indx = X.index\r\n",
        "y = df['expert']"
      ],
      "execution_count": 236,
      "outputs": []
    },
    {
      "cell_type": "code",
      "metadata": {
        "colab": {
          "base_uri": "https://localhost:8080/"
        },
        "id": "Qt0X4iurWEej",
        "outputId": "6aba1156-f4a8-4c22-eec5-6b94df2c0354"
      },
      "source": [
        "# подготовим наши данные, разобъем всю выборку на три части: обучающую, валидационную и тестовую.\r\n",
        "X_train, X_valid, y_train, y_valid = train_test_split(X, y, random_state=42, test_size=.3)\r\n",
        "X_valid, X_test, y_valid, y_test = train_test_split(X_valid, y_valid, random_state=42, test_size=.5)\r\n",
        "print(f'X_train: {X_train.shape}, y_train: {y_train.shape}')\r\n",
        "print(f'X_test: {X_test.shape}, y_test: {y_test.shape}')\r\n",
        "print(f'X_valid: {X_valid.shape}, y_valid: {y_valid.shape}')"
      ],
      "execution_count": 237,
      "outputs": [
        {
          "output_type": "stream",
          "text": [
            "X_train: (35000, 16), y_train: (35000,)\n",
            "X_test: (7501, 16), y_test: (7501,)\n",
            "X_valid: (7500, 16), y_valid: (7500,)\n"
          ],
          "name": "stdout"
        }
      ]
    },
    {
      "cell_type": "code",
      "metadata": {
        "colab": {
          "base_uri": "https://localhost:8080/"
        },
        "id": "pv0XhaO0Zl0A",
        "outputId": "5b900293-69c3-4101-f4c1-17ea419b8f7d"
      },
      "source": [
        "# Обучим простейшую модель классификации K-ближайших соседей, \r\n",
        "# на не сбалансированном датасете и сравним предсказание данной модели со случайной моделью\r\n",
        "\r\n",
        "for n_neighbors in range(1, 10):\r\n",
        "    knc = KNeighborsClassifier(n_neighbors=n_neighbors)\r\n",
        "    predicted = knc.fit(X_train, y_train).predict(X_valid)\r\n",
        "    probabilities_valid = knc.predict_proba(X_valid)\r\n",
        "    probabilities_one_valid = probabilities_valid[:, 1]\r\n",
        "    \r\n",
        "    print(f'n: {n_neighbors}\\tAccuracy: {round(knc.score(X_train, y_train), 3)}\\\r\n",
        "    \\tF1: {round(f1_score(y_valid.values, predicted),3)}\\\r\n",
        "    \\tROC AUC: {round(roc_auc_score(y_valid, probabilities_one_valid), 3)}')"
      ],
      "execution_count": 238,
      "outputs": [
        {
          "output_type": "stream",
          "text": [
            "n: 1\tAccuracy: 1.0    \tF1: 0.895    \tROC AUC: 0.782\n",
            "n: 2\tAccuracy: 0.931    \tF1: 0.867    \tROC AUC: 0.828\n",
            "n: 3\tAccuracy: 0.912    \tF1: 0.888    \tROC AUC: 0.842\n",
            "n: 4\tAccuracy: 0.893    \tF1: 0.877    \tROC AUC: 0.848\n",
            "n: 5\tAccuracy: 0.881    \tF1: 0.888    \tROC AUC: 0.855\n",
            "n: 6\tAccuracy: 0.875    \tF1: 0.883    \tROC AUC: 0.858\n",
            "n: 7\tAccuracy: 0.865    \tF1: 0.888    \tROC AUC: 0.858\n",
            "n: 8\tAccuracy: 0.862    \tF1: 0.885    \tROC AUC: 0.858\n",
            "n: 9\tAccuracy: 0.852    \tF1: 0.886    \tROC AUC: 0.86\n"
          ],
          "name": "stdout"
        }
      ]
    },
    {
      "cell_type": "markdown",
      "metadata": {
        "id": "1YEwgQK1dlLd"
      },
      "source": [
        "*Будем ориентироваться на F1-меру.*\r\n",
        "\r\n"
      ]
    },
    {
      "cell_type": "code",
      "metadata": {
        "colab": {
          "base_uri": "https://localhost:8080/"
        },
        "id": "Z8XetqTVZl3Q",
        "outputId": "fa721b43-1e10-4791-9239-44340f353e98"
      },
      "source": [
        "# Проверим нашу модель на адекватность, сгенерируем псевдослучайную последовательность 0 и 1,\r\n",
        "#  равную размером с тестовой выборкой и сравним метрики\r\n",
        "\r\n",
        "y_random = [np.random.randint(0, 2) for i in range(len(y_test))]\r\n",
        "\r\n",
        "model = KNeighborsClassifier(n_neighbors=5)\r\n",
        "model.fit(X_train, y_train)\r\n",
        "predicted = model.predict(X_test)\r\n",
        "probabilities_valid = model.predict_proba(X_test)\r\n",
        "probabilities_one_valid = probabilities_valid[:, 1]\r\n",
        "\r\n",
        "print(\"F1 на тестовой выборке: {:.3f}\".format(f1_score(y_test, predicted)))\r\n",
        "print(\"F1 на случайной выборке: {:.3f}\".format(f1_score(y_random, predicted)))\r\n",
        "\r\n",
        "print(\"ROC AUC на тестовой выборке: {:.3f}\".format(roc_auc_score(y_test, probabilities_one_valid)))\r\n",
        "print(\"ROC AUC на случайной выборке: {:.3f}\".format(roc_auc_score(y_random, probabilities_one_valid)))"
      ],
      "execution_count": 265,
      "outputs": [
        {
          "output_type": "stream",
          "text": [
            "F1 на тестовой выборке: 0.971\n",
            "F1 на случайной выборке: 0.611\n",
            "ROC AUC на тестовой выборке: 0.965\n",
            "ROC AUC на случайной выборке: 0.496\n"
          ],
          "name": "stdout"
        }
      ]
    },
    {
      "cell_type": "code",
      "metadata": {
        "colab": {
          "base_uri": "https://localhost:8080/",
          "height": 433
        },
        "id": "QFyJTAXFZl6x",
        "outputId": "88092c9b-dc65-4f82-846d-2b41f448de26"
      },
      "source": [
        "# Построим ROC-кривую\r\n",
        "fpr_test, tpr_test, thresholds = roc_curve(y_test, probabilities_one_valid)\r\n",
        "fpr_random, tpr_random, thresholds = roc_curve(y_random, probabilities_one_valid)\r\n",
        "plt.figure(figsize=(8, 6))\r\n",
        "plt.plot(fpr_test, tpr_test, label='ROC-кривая на тестовой')\r\n",
        "plt.plot(fpr_random, tpr_random, label='ROC-кривая на случайной')\r\n",
        "plt.plot([0, 1], [0, 1], linestyle='--')\r\n",
        "plt.legend()\r\n",
        "plt.ylim([0.0, 1.0])\r\n",
        "plt.xlim([0.0, 1.0])\r\n",
        "plt.xlabel('False Positive Rate')\r\n",
        "plt.ylabel('True Positive Rate')\r\n",
        "plt.title('ROC-кривая')\r\n",
        "plt.show()"
      ],
      "execution_count": 266,
      "outputs": [
        {
          "output_type": "display_data",
          "data": {
            "image/png": "[encoded data removed]",
            "text/plain": [
              "<Figure size 576x432 with 1 Axes>"
            ]
          },
          "metadata": {
            "tags": []
          }
        }
      ]
    },
    {
      "cell_type": "markdown",
      "metadata": {
        "id": "x_UYsvP8eOjN"
      },
      "source": [
        "**Вывод**\r\n",
        "\r\n",
        "Мы провели построение модели класификации методом ближайших соседей на несбланасированом наборе данных и выяснили, что наша модель предсказывает лучше чем случайная модель, но недостаточно хорошо, чтобы данную модель можно было использовать. Есть потенциал роста предсказательной способности. А именно мы можем сбалансировать классы и подобрать более оптимальную модель классификации"
      ]
    },
    {
      "cell_type": "markdown",
      "metadata": {
        "id": "1OhQYd01fxAW"
      },
      "source": [
        "**1.   Борьба с дисбалансом**\r\n",
        "\r\n",
        "Ранее мы определили пропорцию дисбалана классов и выяснили, что она примерно равна 75/25.\r\n",
        "\r\n",
        "будем использовать, RobustScaler чтобы стандартизация была менее подвержена влиянию выбросов, т.е. была более надежной\r\n"
      ]
    },
    {
      "cell_type": "code",
      "metadata": {
        "colab": {
          "base_uri": "https://localhost:8080/"
        },
        "id": "k74E73gfZl9a",
        "outputId": "4b1ce05e-c017-4b0d-d209-2d22efe594fe"
      },
      "source": [
        "# Исходные данные\r\n",
        "X = df.loc[:, df.columns != \"expert\"].values\r\n",
        "y = df.loc[:, df.columns == \"expert\"].values.flatten()\r\n",
        "X_train, X_test, y_train, y_test = train_test_split(\r\n",
        "    X, y, test_size=0.2, shuffle=True, random_state=123, stratify=y)\r\n",
        "print(f\"Исходные данные shapes: {X_train.shape, X_test.shape}\")\r\n",
        "\r\n",
        "# Очистка двоичных столбцов\r\n",
        "train_indices_na = np.max(np.isnan(X_train), axis=1)\r\n",
        "test_indices_na = np.max(np.isnan(X_test), axis=1)\r\n",
        "X_train_dropna, y_train_dropna = X_train[~train_indices_na, :][:, :-6], y_train[~train_indices_na]\r\n",
        "X_test_dropna, y_test_dropna = X_test[~test_indices_na, :][:, :-6], y_test[~test_indices_na]\r\n",
        "print(f\"Очищенные данные: {X_train_dropna.shape, X_test_dropna.shape}\")\r\n",
        "\r\n",
        "# Преобразование данных\r\n",
        "mice = IterativeImputer(verbose=0)\r\n",
        "X_mice = mice.fit_transform(X)\r\n",
        "X_train_mice, X_test_mice, y_train_mice, y_test_mice = train_test_split(\r\n",
        "    X_mice, y, test_size=0.2, shuffle=True, random_state=123, stratify=y)\r\n",
        "print(f\"Преобразование данных: {X_train_mice.shape, X_test_mice.shape}\")"
      ],
      "execution_count": 241,
      "outputs": [
        {
          "output_type": "stream",
          "text": [
            "Исходные данные shapes: ((40000, 16), (10001, 16))\n",
            "Очищенные данные: ((40000, 10), (10001, 10))\n",
            "Преобразование данных: ((40000, 16), (10001, 16))\n"
          ],
          "name": "stdout"
        }
      ]
    },
    {
      "cell_type": "code",
      "metadata": {
        "colab": {
          "base_uri": "https://localhost:8080/"
        },
        "id": "bXjfd4JaAAPv",
        "outputId": "bb135d4b-4b9e-449e-db86-d19f97af9498"
      },
      "source": [
        "%%time\r\n",
        "# Модель случайный лес классификатор \r\n",
        "rf_clf = RandomForestClassifier(n_estimators=500,\r\n",
        "                                max_features=0.25,\r\n",
        "                                criterion=\"entropy\",\r\n",
        "                                class_weight=\"balanced\")\r\n",
        "pip_baseline = make_pipeline(RobustScaler(), rf_clf)\r\n",
        "scores = cross_val_score(pip_baseline,\r\n",
        "                         X_train_dropna, y_train_dropna,\r\n",
        "                         scoring=\"roc_auc\", cv=10, verbose=1)\r\n",
        "print(f\"Базовая модель средняя AUC: {scores.mean():.3f}\")\r\n",
        "\r\n",
        "# Модель со среднеми  данными\r\n",
        "pip_impute_mean = make_pipeline(SimpleImputer(strategy=\"mean\"),\r\n",
        "                                RobustScaler(), rf_clf)\r\n",
        "scores = cross_val_score(pip_impute_mean,\r\n",
        "                         X_train, y_train,\r\n",
        "                         scoring=\"roc_auc\", cv=10, verbose=1)\r\n",
        "print(f\"Модель со среднеми данными средняя AUC: {scores.mean():.3f}\")\r\n",
        "\r\n",
        "# Модель с медианными данными\r\n",
        "pip_impute_median = make_pipeline(SimpleImputer(strategy=\"median\"),\r\n",
        "                                  RobustScaler(), rf_clf)\r\n",
        "scores = cross_val_score(pip_impute_median,\r\n",
        "                         X_train, y_train,\r\n",
        "                         scoring=\"roc_auc\", cv=10, verbose=1)\r\n",
        "print(f\"Модель с медианными данными средняя AUC: {scores.mean():.3f}\")\r\n",
        "\r\n",
        "\r\n",
        "# Модель с преобразованными данными\r\n",
        "pip_impute_mice = make_pipeline(RobustScaler(), rf_clf)\r\n",
        "scores = cross_val_score(pip_impute_mice,\r\n",
        "                         X_train_mice, y_train_mice,\r\n",
        "                         scoring=\"roc_auc\", cv=10, verbose=1)\r\n",
        "print(f\"Модель с преобразованными данными средняя AUC: {scores.mean():.3f}\")\r\n"
      ],
      "execution_count": 245,
      "outputs": [
        {
          "output_type": "stream",
          "text": [
            "[Parallel(n_jobs=1)]: Using backend SequentialBackend with 1 concurrent workers.\n",
            "[Parallel(n_jobs=1)]: Done  10 out of  10 | elapsed:  5.6min finished\n",
            "[Parallel(n_jobs=1)]: Using backend SequentialBackend with 1 concurrent workers.\n"
          ],
          "name": "stderr"
        },
        {
          "output_type": "stream",
          "text": [
            "Базовая модель средняя AUC: 0.901\n"
          ],
          "name": "stdout"
        },
        {
          "output_type": "stream",
          "text": [
            "[Parallel(n_jobs=1)]: Done  10 out of  10 | elapsed:  5.8min finished\n",
            "[Parallel(n_jobs=1)]: Using backend SequentialBackend with 1 concurrent workers.\n"
          ],
          "name": "stderr"
        },
        {
          "output_type": "stream",
          "text": [
            "Модель со среднеми данными средняя AUC: 0.998\n"
          ],
          "name": "stdout"
        },
        {
          "output_type": "stream",
          "text": [
            "[Parallel(n_jobs=1)]: Done  10 out of  10 | elapsed:  5.9min finished\n",
            "[Parallel(n_jobs=1)]: Using backend SequentialBackend with 1 concurrent workers.\n"
          ],
          "name": "stderr"
        },
        {
          "output_type": "stream",
          "text": [
            "Модель с медианными данными средняя AUC: 0.998\n",
            "Модель с преобразованными данными средняя AUC: 0.998\n",
            "CPU times: user 23min 5s, sys: 1.69 s, total: 23min 6s\n",
            "Wall time: 23min 6s\n"
          ],
          "name": "stdout"
        },
        {
          "output_type": "stream",
          "text": [
            "[Parallel(n_jobs=1)]: Done  10 out of  10 | elapsed:  5.8min finished\n"
          ],
          "name": "stderr"
        }
      ]
    },
    {
      "cell_type": "code",
      "metadata": {
        "colab": {
          "base_uri": "https://localhost:8080/"
        },
        "id": "5szThlCXGtkS",
        "outputId": "ef243e9d-1085-4f73-9063-ffff7ee407a5"
      },
      "source": [
        "%%time\r\n",
        "# Модель случайного леса классификатор(конфигурация та же)\r\n",
        "rf_clf = RandomForestClassifier(n_estimators=500,\r\n",
        "                                max_features=0.25,\r\n",
        "                                criterion=\"entropy\",\r\n",
        "                                class_weight=\"balanced\")\r\n",
        "\r\n",
        "# Модель построенная на средней выборке\r\n",
        "pip_orig = make_pipeline(SimpleImputer(strategy=\"mean\"), RobustScaler(),rf_clf)                    \r\n",
        "scores = cross_val_score(pip_orig,\r\n",
        "                         X_train, y_train,\r\n",
        "                         scoring=\"roc_auc\", cv=10)\r\n",
        "print(f\"Модель построенная на средней выборке среднее AUC: {scores.mean():.3f}\")\r\n",
        "\r\n",
        "# Модель с Undersampling\r\n",
        "pip_undersample = imb_make_pipeline(SimpleImputer(strategy=\"mean\"),\r\n",
        "                                    RobustScaler(),\r\n",
        "                                    RandomUnderSampler(), rf_clf)\r\n",
        "scores = cross_val_score(pip_undersample,\r\n",
        "                         X_train, y_train,\r\n",
        "                         scoring=\"roc_auc\", cv=10)\r\n",
        "print(f\"Модель с Undersampling средняя AUC: {scores.mean():.3f}\")\r\n",
        "\r\n",
        "# модель с передискретизации\r\n",
        "pip_oversample = imb_make_pipeline(SimpleImputer(strategy=\"mean\"),\r\n",
        "                                    RobustScaler(),\r\n",
        "                                    RandomOverSampler(), rf_clf)\r\n",
        "scores = cross_val_score(pip_oversample,\r\n",
        "                         X_train, y_train,\r\n",
        "                         scoring=\"roc_auc\", cv=10)\r\n",
        "print(f\"модель с передискретизации средняя AUC: {scores.mean():.3f}\")\r\n",
        "\r\n",
        "# Модель с EasyEnsemble\r\n",
        "resampled_rf = BalancedBaggingClassifier(base_estimator=rf_clf,\r\n",
        "                                         n_estimators=10, random_state=123)\r\n",
        "pip_resampled = make_pipeline(SimpleImputer(strategy=\"mean\"),\r\n",
        "                              RobustScaler(), resampled_rf)\r\n",
        "                             \r\n",
        "scores = cross_val_score(pip_resampled,\r\n",
        "                         X_train, y_train,\r\n",
        "                         scoring=\"roc_auc\", cv=10)\r\n",
        "print(f\"модель с EasyEnsemble средняя AUC: {scores.mean():.3f}\")\r\n",
        "\r\n",
        "# Модель SMOTE\r\n",
        "pip_smote = imb_make_pipeline(SimpleImputer(strategy=\"mean\"),\r\n",
        "                              RobustScaler(),\r\n",
        "                              SMOTE(), rf_clf)\r\n",
        "scores = cross_val_score(pip_smote,\r\n",
        "                         X_train, y_train,\r\n",
        "                         scoring=\"roc_auc\", cv=10)\r\n",
        "print(f\"Модель SMOTE: {scores.mean():.3f}\")"
      ],
      "execution_count": 252,
      "outputs": [
        {
          "output_type": "stream",
          "text": [
            "Модель построенная на средней выборке среднее AUC: 0.998\n",
            "Модель с Undersampling средняя AUC: 0.997\n",
            "модель с передискретизации средняя AUC: 0.998\n",
            "модель с EasyEnsemble средняя AUC: 0.997\n",
            "Модель SMOTE: 0.998\n",
            "CPU times: user 47min 26s, sys: 1.83 s, total: 47min 28s\n",
            "Wall time: 47min 28s\n"
          ],
          "name": "stdout"
        }
      ]
    },
    {
      "cell_type": "markdown",
      "metadata": {
        "id": "6mjVQSk3bmgs"
      },
      "source": [
        "Построим модели, используя три разные модели в качестве базовых обучающихся:\r\n",
        "\r\n",
        "*   Extra Gradient Boosting\r\n",
        "*   Support Vector Classifier\r\n",
        "*   Random Forest\r\n",
        "\r\n"
      ]
    },
    {
      "cell_type": "code",
      "metadata": {
        "colab": {
          "base_uri": "https://localhost:8080/"
        },
        "id": "I_qOWTfuGton",
        "outputId": "df66fe70-fb82-49ca-ec0c-f03563ac1881"
      },
      "source": [
        "%%time\r\n",
        "# Заменем данные на среднее\r\n",
        "imp = SimpleImputer()\r\n",
        "imp.fit(X_train)\r\n",
        "X_train = imp.transform(X_train)\r\n",
        "X_test = imp.transform(X_test)\r\n",
        "\r\n",
        "# Стандартизуем данные\r\n",
        "std = RobustScaler()\r\n",
        "std.fit(X_train)\r\n",
        "X_train = std.transform(X_train)\r\n",
        "X_test = std.transform(X_test)\r\n",
        "\r\n",
        "# Реализуем RandomUnderSampler\r\n",
        "random_undersampler = RandomUnderSampler()\r\n",
        "X_res, y_res = random_undersampler.fit_sample(X_train, y_train)\r\n",
        "# Перемешаем данные\r\n",
        "perms = np.random.permutation(X_res.shape[0])\r\n",
        "X_res = X_res[perms]\r\n",
        "y_res = y_res[perms]\r\n",
        "X_res.shape, y_res.shape"
      ],
      "execution_count": 253,
      "outputs": [
        {
          "output_type": "execute_result",
          "data": {
            "text/plain": [
              "((20058, 16), (20058,))"
            ]
          },
          "metadata": {
            "tags": []
          },
          "execution_count": 253
        }
      ]
    },
    {
      "cell_type": "markdown",
      "metadata": {
        "id": "tygczs9cesdm"
      },
      "source": [
        "\r\n",
        "\r\n",
        "Мы будем использовать логистическую регрессию в качестве метаобучения и k-folds cross validation для проверки и настройки гиперпараметров составной модели. Кроме того, мы построим кривые ROC и AUC с использованием тестовых данных и оценим производительность всех моделей"
      ]
    },
    {
      "cell_type": "code",
      "metadata": {
        "colab": {
          "base_uri": "https://localhost:8080/"
        },
        "id": "OhZg9EEXGtuX",
        "outputId": "c05be231-4fa1-4ef1-d9c6-2405ff7d0683"
      },
      "source": [
        "%%time\r\n",
        "# Extra Gradient Boosting\r\n",
        "xgb_clf = xgb.XGBClassifier(objective=\"binary:logistic\",\r\n",
        "                            learning_rate=0.03,\r\n",
        "                            n_estimators=500,\r\n",
        "                            max_depth=1,\r\n",
        "                            subsample=0.4,\r\n",
        "                            random_state=123)\r\n",
        "\r\n",
        "# Support Vector Classifier\r\n",
        "svm_clf = SVC(gamma=0.1,\r\n",
        "                C=0.01,\r\n",
        "                kernel=\"poly\",\r\n",
        "                degree=3,\r\n",
        "                coef0=10.0,\r\n",
        "                probability=True)\r\n",
        "\r\n",
        "#  Random Forest\r\n",
        "rf_clf = RandomForestClassifier(n_estimators=300,\r\n",
        "                                max_features=\"sqrt\",\r\n",
        "                                criterion=\"gini\",\r\n",
        "                                min_samples_leaf=5,\r\n",
        "                                class_weight=\"balanced\")\r\n",
        "\r\n",
        "# Определитель обучения\r\n",
        "logreg_clf = LogisticRegression(penalty=\"l2\",\r\n",
        "                                C=100,\r\n",
        "                                fit_intercept=True)\r\n",
        "\r\n",
        "# Установка для голосования CLF\r\n",
        "voting_clf = VotingClassifier([(\"xgb\", xgb_clf),\r\n",
        "                               (\"svm\", svm_clf),\r\n",
        "                               (\"rf\", rf_clf)],\r\n",
        "                              voting=\"soft\",\r\n",
        "                              flatten_transform=True)\r\n",
        "voting_clf.fit(X_res, y_res)\r\n",
        "xgb_model, svm_model, rf_model = voting_clf.estimators_\r\n",
        "models = {\"xgb\": xgb_model, \"svm\": svm_model,\r\n",
        "          \"rf\": rf_model, \"avg_ensemble\": voting_clf}\r\n",
        "\r\n",
        "# Первый стек\r\n",
        "first_stack = make_pipeline(voting_clf,\r\n",
        "                            FunctionTransformer(lambda X: X[:, 1::2]))\r\n",
        "# Используйте CV для создания мета-функций \r\n",
        "meta_features = cross_val_predict(first_stack,\r\n",
        "                                  X_res, y_res,\r\n",
        "                                  cv=10,\r\n",
        "                                  method=\"transform\")\r\n",
        "# Второй стек\r\n",
        "first_stack.fit(X_res, y_res)\r\n",
        "second_stack = logreg_clf.fit(meta_features, y_res)\r\n",
        "\r\n"
      ],
      "execution_count": 254,
      "outputs": [
        {
          "output_type": "stream",
          "text": [
            "CPU times: user 10min 8s, sys: 1.04 s, total: 10min 9s\n",
            "Wall time: 10min 9s\n"
          ],
          "name": "stdout"
        }
      ]
    },
    {
      "cell_type": "markdown",
      "metadata": {
        "id": "QkiflCQDzVJa"
      },
      "source": [
        "# Оценка качества модели"
      ]
    },
    {
      "cell_type": "code",
      "metadata": {
        "colab": {
          "base_uri": "https://localhost:8080/",
          "height": 437
        },
        "id": "ZqLqaudzIwTk",
        "outputId": "646b5508-8f52-454d-9fce-88b01ae6dee6"
      },
      "source": [
        "# Постройте кривые ROC и PR, используя все модели и данные испытаний\r\n",
        "fig, axes = plt.subplots(1, 2, figsize=(14, 6))\r\n",
        "for name, model in models.items():\r\n",
        "            model_probs = model.predict_proba(X_test)[:, 1:]\r\n",
        "            model_auc_score = roc_auc_score(y_test, model_probs)\r\n",
        "            fpr, tpr, _ = roc_curve(y_test, model_probs)\r\n",
        "            precision, recall, _ = precision_recall_curve(y_test, model_probs)\r\n",
        "            axes[0].plot(fpr, tpr, label=f\"{name}, auc = {model_auc_score:.3f}\")\r\n",
        "            axes[1].plot(recall, precision, label=f\"{name}\")\r\n",
        "stacked_probs = second_stack.predict_proba(first_stack.transform(X_test))[:, 1:]\r\n",
        "stacked_auc_score = roc_auc_score(y_test, stacked_probs)\r\n",
        "fpr, tpr, _ = roc_curve(y_test, stacked_probs)\r\n",
        "precision, recall, _ = precision_recall_curve(y_test, stacked_probs)\r\n",
        "axes[0].plot(fpr, tpr, label=f\"stacked_ensemble, auc = {stacked_auc_score:.3f}\")\r\n",
        "axes[1].plot(recall, precision, label=\"stacked_ensembe\")\r\n",
        "axes[0].legend(loc=\"lower right\")\r\n",
        "axes[0].set_xlabel(\"FPR\")\r\n",
        "axes[0].set_ylabel(\"TPR\")\r\n",
        "axes[0].set_title(\"ROC curve\")\r\n",
        "axes[1].legend()\r\n",
        "axes[1].set_xlabel(\"recall\")\r\n",
        "axes[1].set_ylabel(\"precision\")\r\n",
        "axes[1].set_title(\"PR curve\")\r\n",
        "plt.tight_layout()"
      ],
      "execution_count": 255,
      "outputs": [
        {
          "output_type": "display_data",
          "data": {
            "image/png": "[encoded data removed]",
            "text/plain": [
              "<Figure size 1008x432 with 2 Axes>"
            ]
          },
          "metadata": {
            "tags": []
          }
        }
      ]
    },
    {
      "cell_type": "code",
      "metadata": {
        "colab": {
          "base_uri": "https://localhost:8080/",
          "height": 608
        },
        "id": "bT4bLQDVpQkL",
        "outputId": "d0e96c22-6362-4958-c99c-febf1f9c3498"
      },
      "source": [
        "# Построим матрицу корреляций\r\n",
        "probs_df = pd.DataFrame(meta_features, columns=[\"xgb\", \"svm\", \"rf\"])\r\n",
        "corrmat(probs_df.corr(), inflate=True)"
      ],
      "execution_count": 257,
      "outputs": [
        {
          "output_type": "display_data",
          "data": {
            "image/png": "[encoded data removed]",
            "text/plain": [
              "<Figure size 792x648 with 2 Axes>"
            ]
          },
          "metadata": {
            "tags": []
          }
        },
        {
          "output_type": "execute_result",
          "data": {
            "text/plain": [
              "<matplotlib.axes._subplots.AxesSubplot at 0x7ff2fa436470>"
            ]
          },
          "metadata": {
            "tags": []
          },
          "execution_count": 257
        }
      ]
    },
    {
      "cell_type": "code",
      "metadata": {
        "colab": {
          "base_uri": "https://localhost:8080/",
          "height": 331
        },
        "id": "NsN-PjhbpQor",
        "outputId": "56e306ae-ab16-40cc-cc06-9ada9eab2efc"
      },
      "source": [
        "# Построим Confusion matrix\r\n",
        "second_stack_probs = second_stack.predict_proba(first_stack.transform(X_test))\r\n",
        "second_stack_preds = second_stack.predict(first_stack.transform(X_test))\r\n",
        "conf_mat = confusion_matrix(y_test, second_stack_preds)\r\n",
        "plt.figure(figsize=(16, 8))\r\n",
        "plt.matshow(conf_mat, cmap=plt.cm.Reds, alpha=0.2)\r\n",
        "for i in range(2):\r\n",
        "    for j in range(2):\r\n",
        "        plt.text(x=j, y=i, s=conf_mat[i, j], ha=\"center\", va=\"center\")\r\n",
        "plt.title(\"Confusion matrix\", y=1.1, fontdict={\"fontsize\": 20})\r\n",
        "plt.xlabel(\"Predicted\", fontdict={\"fontsize\": 14})\r\n",
        "plt.ylabel(\"Actual\", fontdict={\"fontsize\": 14});"
      ],
      "execution_count": 258,
      "outputs": [
        {
          "output_type": "display_data",
          "data": {
            "text/plain": [
              "<Figure size 1152x576 with 0 Axes>"
            ]
          },
          "metadata": {
            "tags": []
          }
        },
        {
          "output_type": "display_data",
          "data": {
            "image/png": "[encoded data removed]",
            "text/plain": [
              "<Figure size 288x288 with 1 Axes>"
            ]
          },
          "metadata": {
            "tags": []
          }
        }
      ]
    },
    {
      "cell_type": "markdown",
      "metadata": {
        "id": "O5th2sEfwEeq"
      },
      "source": [
        "Проверим графики частичной зависимости, чтобы увидеть, каковы наиболее важные характеристики и их взаимосвязь с тем, будет ли заемщик, скорее всего, полностью выплатить ссуду"
      ]
    },
    {
      "cell_type": "code",
      "metadata": {
        "colab": {
          "base_uri": "https://localhost:8080/",
          "height": 665
        },
        "id": "V86beWeNpQvO",
        "outputId": "1d56b19f-a393-4514-e050-f4cc5c61e29a"
      },
      "source": [
        "# Построим графики частичной зависимости\r\n",
        "gbrt = GradientBoostingClassifier(loss=\"deviance\",\r\n",
        "                                  learning_rate=0.1,\r\n",
        "                                  n_estimators=100,\r\n",
        "                                  max_depth=3,\r\n",
        "                                  random_state=123)\r\n",
        "gbrt.fit(X_res, y_res)\r\n",
        "fig, axes = plot_partial_dependence(gbrt, X_res,\r\n",
        "                                    np.argsort(gbrt.feature_importances_)[::-1][:20],\r\n",
        "                                    n_cols=4,\r\n",
        "                                    feature_names=df.columns,\r\n",
        "                                    figsize=(20, 10))\r\n",
        "plt.subplots_adjust(top=0.9)\r\n",
        "plt.suptitle(\"Графики частичной зависимости\")\r\n",
        "for ax in axes: ax.set_xticks(())\r\n",
        "for ax in [axes[0], axes[4]]: ax.set_ylabel(\"\")"
      ],
      "execution_count": 268,
      "outputs": [
        {
          "output_type": "display_data",
          "data": {
            "image/png": "[encoded data removed]",
            "text/plain": [
              "<Figure size 1440x720 with 16 Axes>"
            ]
          },
          "metadata": {
            "tags": []
          }
        }
      ]
    },
    {
      "cell_type": "markdown",
      "metadata": {
        "id": "s8SdDNN4BhI6"
      },
      "source": [
        "**Вывод**\r\n",
        "\r\n",
        "Наша модель очень хорошо предсказывает TPR при практически нулевом FPR. Данное обстоятельство может нам сигнализировать, что модель переобучилась на наборе данных, так как в нем присутствовало большое количество повторений событий. Вероятно в тестовый набор попали события, которые были и в обучающем наборе, либо модель действительно хорошо вытянула из набора данных общие закономерности и будет хорошо предсказывать и на неизвестном ей наборе данных\r\n",
        "\r\n",
        "Для более адекватной оценки модели, хорошо было бы иметь отдельный тестовый набор данных."
      ]
    },
    {
      "cell_type": "code",
      "metadata": {
        "id": "smoCHSZ1pQ0B"
      },
      "source": [
        ""
      ],
      "execution_count": null,
      "outputs": []
    }
  ]
}