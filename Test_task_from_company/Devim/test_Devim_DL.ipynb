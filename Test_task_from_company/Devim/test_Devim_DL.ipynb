{
  "nbformat": 4,
  "nbformat_minor": 0,
  "metadata": {
    "colab": {
      "name": "test_Devim_DL.ipynb",
      "provenance": [],
      "toc_visible": true,
      "machine_shape": "hm"
    },
    "kernelspec": {
      "name": "python3",
      "display_name": "Python 3"
    },
    "accelerator": "GPU"
  },
  "cells": [
    {
      "cell_type": "markdown",
      "metadata": {
        "id": "3oapoML0Yfur"
      },
      "source": [
        "# Задание от компании Devim\r\n",
        "\r\n",
        "Исполнитель: Кудюров Владислав\r\n",
        "\r\n",
        "Необходимо на основе предоставленных данных построить модель для предсказания\r\n",
        "целевой переменной. Сделать описание проделанных шагов:\r\n",
        "\r\n",
        "● Анализ данных\r\n",
        "\r\n",
        "● Фильтрация\r\n",
        "\r\n",
        "● Преобразование переменных\r\n",
        "\r\n",
        "● Моделирование\r\n",
        "\r\n",
        "● Оценка качества модели\r\n",
        "\r\n",
        "Обоснование выбранной метрики качества. Подробно описать способ оценки качества построенной модели."
      ]
    },
    {
      "cell_type": "code",
      "metadata": {
        "id": "nzbVP53MCn9G"
      },
      "source": [
        "# Подключим библиотеки\r\n",
        "from tensorflow.keras.optimizers import Adam, RMSprop\r\n",
        "from tensorflow.keras.models import Sequential, Model\r\n",
        "from tensorflow.keras.layers import Dense, Dropout, BatchNormalization\r\n",
        "\r\n",
        "from sklearn import preprocessing\r\n",
        "from sklearn.model_selection import train_test_split\r\n",
        "\r\n",
        "import pandas as pd\r\n",
        "from google.colab import files\r\n",
        "import numpy as np\r\n",
        "\r\n",
        "from sklearn.preprocessing import StandardScaler\r\n",
        "import matplotlib.pyplot as plt\r\n",
        "import seaborn as sns\r\n",
        "%matplotlib inline\r\n",
        "sns.set()\r\n"
      ],
      "execution_count": 5,
      "outputs": []
    },
    {
      "cell_type": "code",
      "metadata": {
        "colab": {
          "base_uri": "https://localhost:8080/"
        },
        "id": "Ijnbz7JeCoAr",
        "outputId": "6770d564-8eeb-4c89-c4cc-999b98678617"
      },
      "source": [
        "# Подключим диск\r\n",
        "from google.colab import drive\r\n",
        "drive.mount('/content/drive')"
      ],
      "execution_count": 6,
      "outputs": [
        {
          "output_type": "stream",
          "text": [
            "Drive already mounted at /content/drive; to attempt to forcibly remount, call drive.mount(\"/content/drive\", force_remount=True).\n"
          ],
          "name": "stdout"
        }
      ]
    },
    {
      "cell_type": "markdown",
      "metadata": {
        "id": "5kDAilxTYssa"
      },
      "source": [
        "# Анализ Данных"
      ]
    },
    {
      "cell_type": "markdown",
      "metadata": {
        "id": "-IznOxhhYiaF"
      },
      "source": [
        "Иформация о переменных\r\n",
        "Переменные, характеризующие кредитную историю клиента\r\n",
        "\r\n",
        "closed_cred_sum - сумма, которую клиент выплатил по ранее взятым и закрытым кредитам\r\n",
        "\r\n",
        "closed_creds - количество закрытых кредитов\r\n",
        "\r\n",
        "active_cred_sum_overdue - суммарная задолженность по активным кредитам\r\n",
        "\r\n",
        "active_cred_sum - сумма всех активных кредитов\r\n",
        "\r\n",
        "active_cred_day_overdue - суммарная просрочка в днях по всем активным кредитам\r\n",
        "\r\n",
        "active_cred_max_overdue - максимальная сумма просроченной задолженности по активным кредитам\r\n",
        "\r\n",
        "Переменные характеризующие клиента\r\n",
        "\r\n",
        "age - возраст\r\n",
        "\r\n",
        "gender - пол\r\n",
        "\r\n",
        "region - регион\r\n",
        "\r\n",
        "month_income - ежемесячный доход\r\n",
        "\r\n",
        "Переменные, характеризующие кредит, по которому нужно сделать прогноз\r\n",
        "\r\n",
        "first_loan - сумма, которую клиент хочет получить в кредит (из заявки)\r\n",
        "\r\n",
        "first_days_quant - срок, на которую клиент хочет взять кредит\r\n",
        "\r\n",
        "loan_cost_all - одобренная клиенту сумма кредита\r\n",
        "\r\n",
        "order_date - дата подачи заявки на получение кредита\r\n",
        "\r\n",
        "cost_all - сумма всех выплат по одобренному кредиту\r\n",
        "\r\n",
        "order_id - id заявки\r\n",
        "\r\n",
        "client_id - id клиента\r\n",
        "\r\n",
        "Целевая переменная:\r\n",
        "\r\n",
        "expert - решение, которое принято по заявке (0 - одобрено, 1 - отклонено)"
      ]
    },
    {
      "cell_type": "code",
      "metadata": {
        "colab": {
          "base_uri": "https://localhost:8080/",
          "height": 843
        },
        "id": "GsJFm5xACoEN",
        "outputId": "2a69877b-79f6-4bb2-c985-918c914941d0"
      },
      "source": [
        "# Загрузка данных\r\n",
        "df = pd.read_csv('/content/drive/My Drive/datasets/test_Devim/data.csv', sep=';')\r\n",
        "df.index += 1\r\n",
        "df.info()\r\n",
        "display(df)"
      ],
      "execution_count": 7,
      "outputs": [
        {
          "output_type": "stream",
          "text": [
            "<class 'pandas.core.frame.DataFrame'>\n",
            "RangeIndex: 50001 entries, 1 to 50001\n",
            "Data columns (total 18 columns):\n",
            " #   Column                   Non-Null Count  Dtype  \n",
            "---  ------                   --------------  -----  \n",
            " 0   closed_cred_sum          50001 non-null  float64\n",
            " 1   closed_creds             50001 non-null  int64  \n",
            " 2   active_cred_sum_overdue  50001 non-null  float64\n",
            " 3   active_cred_sum          50001 non-null  float64\n",
            " 4   active_cred_day_overdue  50001 non-null  int64  \n",
            " 5   active_cred_max_overdue  50001 non-null  float64\n",
            " 6   age                      50001 non-null  int64  \n",
            " 7   gender                   50001 non-null  int64  \n",
            " 8   region                   50001 non-null  int64  \n",
            " 9   first_loan               49982 non-null  float64\n",
            " 10  loan_cost_all            50001 non-null  int64  \n",
            " 11  first_days_quant         50001 non-null  int64  \n",
            " 12  month_income             50001 non-null  float64\n",
            " 13  order_date               50001 non-null  object \n",
            " 14  cost_all                 50001 non-null  float64\n",
            " 15  order_id                 50001 non-null  int64  \n",
            " 16  client_id                50001 non-null  int64  \n",
            " 17  expert                   50001 non-null  int64  \n",
            "dtypes: float64(7), int64(10), object(1)\n",
            "memory usage: 6.9+ MB\n"
          ],
          "name": "stdout"
        },
        {
          "output_type": "display_data",
          "data": {
            "text/html": [
              "<div>\n",
              "<style scoped>\n",
              "    .dataframe tbody tr th:only-of-type {\n",
              "        vertical-align: middle;\n",
              "    }\n",
              "\n",
              "    .dataframe tbody tr th {\n",
              "        vertical-align: top;\n",
              "    }\n",
              "\n",
              "    .dataframe thead th {\n",
              "        text-align: right;\n",
              "    }\n",
              "</style>\n",
              "<table border=\"1\" class=\"dataframe\">\n",
              "  <thead>\n",
              "    <tr style=\"text-align: right;\">\n",
              "      <th></th>\n",
              "      <th>closed_cred_sum</th>\n",
              "      <th>closed_creds</th>\n",
              "      <th>active_cred_sum_overdue</th>\n",
              "      <th>active_cred_sum</th>\n",
              "      <th>active_cred_day_overdue</th>\n",
              "      <th>active_cred_max_overdue</th>\n",
              "      <th>age</th>\n",
              "      <th>gender</th>\n",
              "      <th>region</th>\n",
              "      <th>first_loan</th>\n",
              "      <th>loan_cost_all</th>\n",
              "      <th>first_days_quant</th>\n",
              "      <th>month_income</th>\n",
              "      <th>order_date</th>\n",
              "      <th>cost_all</th>\n",
              "      <th>order_id</th>\n",
              "      <th>client_id</th>\n",
              "      <th>expert</th>\n",
              "    </tr>\n",
              "  </thead>\n",
              "  <tbody>\n",
              "    <tr>\n",
              "      <th>1</th>\n",
              "      <td>143822.00</td>\n",
              "      <td>22</td>\n",
              "      <td>104.12</td>\n",
              "      <td>130068.80</td>\n",
              "      <td>8</td>\n",
              "      <td>756.09</td>\n",
              "      <td>31</td>\n",
              "      <td>0</td>\n",
              "      <td>36</td>\n",
              "      <td>10000.0</td>\n",
              "      <td>10000</td>\n",
              "      <td>196</td>\n",
              "      <td>0.0</td>\n",
              "      <td>2017-07-23</td>\n",
              "      <td>0.0</td>\n",
              "      <td>728319</td>\n",
              "      <td>320464</td>\n",
              "      <td>1</td>\n",
              "    </tr>\n",
              "    <tr>\n",
              "      <th>2</th>\n",
              "      <td>0.00</td>\n",
              "      <td>0</td>\n",
              "      <td>38151.93</td>\n",
              "      <td>46230.00</td>\n",
              "      <td>1492</td>\n",
              "      <td>38151.93</td>\n",
              "      <td>51</td>\n",
              "      <td>0</td>\n",
              "      <td>93</td>\n",
              "      <td>10000.0</td>\n",
              "      <td>10000</td>\n",
              "      <td>17</td>\n",
              "      <td>20000.0</td>\n",
              "      <td>2017-07-23</td>\n",
              "      <td>0.0</td>\n",
              "      <td>728321</td>\n",
              "      <td>320466</td>\n",
              "      <td>1</td>\n",
              "    </tr>\n",
              "    <tr>\n",
              "      <th>3</th>\n",
              "      <td>51356.00</td>\n",
              "      <td>2</td>\n",
              "      <td>3000.00</td>\n",
              "      <td>3000.00</td>\n",
              "      <td>8</td>\n",
              "      <td>3000.00</td>\n",
              "      <td>28</td>\n",
              "      <td>1</td>\n",
              "      <td>3</td>\n",
              "      <td>10000.0</td>\n",
              "      <td>10000</td>\n",
              "      <td>84</td>\n",
              "      <td>0.0</td>\n",
              "      <td>2017-07-23</td>\n",
              "      <td>0.0</td>\n",
              "      <td>728323</td>\n",
              "      <td>320467</td>\n",
              "      <td>1</td>\n",
              "    </tr>\n",
              "    <tr>\n",
              "      <th>4</th>\n",
              "      <td>0.00</td>\n",
              "      <td>0</td>\n",
              "      <td>22784.19</td>\n",
              "      <td>32103.52</td>\n",
              "      <td>913</td>\n",
              "      <td>22784.19</td>\n",
              "      <td>28</td>\n",
              "      <td>0</td>\n",
              "      <td>52</td>\n",
              "      <td>10000.0</td>\n",
              "      <td>10000</td>\n",
              "      <td>7</td>\n",
              "      <td>0.0</td>\n",
              "      <td>2017-07-23</td>\n",
              "      <td>0.0</td>\n",
              "      <td>728447</td>\n",
              "      <td>320533</td>\n",
              "      <td>1</td>\n",
              "    </tr>\n",
              "    <tr>\n",
              "      <th>5</th>\n",
              "      <td>12298.00</td>\n",
              "      <td>1</td>\n",
              "      <td>4942.95</td>\n",
              "      <td>4950.00</td>\n",
              "      <td>2883</td>\n",
              "      <td>4942.95</td>\n",
              "      <td>31</td>\n",
              "      <td>0</td>\n",
              "      <td>47</td>\n",
              "      <td>5000.0</td>\n",
              "      <td>5000</td>\n",
              "      <td>20</td>\n",
              "      <td>0.0</td>\n",
              "      <td>2017-07-23</td>\n",
              "      <td>0.0</td>\n",
              "      <td>728421</td>\n",
              "      <td>298598</td>\n",
              "      <td>1</td>\n",
              "    </tr>\n",
              "    <tr>\n",
              "      <th>...</th>\n",
              "      <td>...</td>\n",
              "      <td>...</td>\n",
              "      <td>...</td>\n",
              "      <td>...</td>\n",
              "      <td>...</td>\n",
              "      <td>...</td>\n",
              "      <td>...</td>\n",
              "      <td>...</td>\n",
              "      <td>...</td>\n",
              "      <td>...</td>\n",
              "      <td>...</td>\n",
              "      <td>...</td>\n",
              "      <td>...</td>\n",
              "      <td>...</td>\n",
              "      <td>...</td>\n",
              "      <td>...</td>\n",
              "      <td>...</td>\n",
              "      <td>...</td>\n",
              "    </tr>\n",
              "    <tr>\n",
              "      <th>49997</th>\n",
              "      <td>0.00</td>\n",
              "      <td>0</td>\n",
              "      <td>74662.61</td>\n",
              "      <td>79662.61</td>\n",
              "      <td>2593</td>\n",
              "      <td>42204.55</td>\n",
              "      <td>27</td>\n",
              "      <td>1</td>\n",
              "      <td>0</td>\n",
              "      <td>4000.0</td>\n",
              "      <td>4000</td>\n",
              "      <td>20</td>\n",
              "      <td>0.0</td>\n",
              "      <td>2017-08-13</td>\n",
              "      <td>0.0</td>\n",
              "      <td>759472</td>\n",
              "      <td>96091</td>\n",
              "      <td>1</td>\n",
              "    </tr>\n",
              "    <tr>\n",
              "      <th>49998</th>\n",
              "      <td>21653.49</td>\n",
              "      <td>2</td>\n",
              "      <td>0.00</td>\n",
              "      <td>0.00</td>\n",
              "      <td>0</td>\n",
              "      <td>0.00</td>\n",
              "      <td>28</td>\n",
              "      <td>0</td>\n",
              "      <td>75</td>\n",
              "      <td>2000.0</td>\n",
              "      <td>2000</td>\n",
              "      <td>10</td>\n",
              "      <td>20000.0</td>\n",
              "      <td>2017-08-13</td>\n",
              "      <td>0.0</td>\n",
              "      <td>759475</td>\n",
              "      <td>338240</td>\n",
              "      <td>1</td>\n",
              "    </tr>\n",
              "    <tr>\n",
              "      <th>49999</th>\n",
              "      <td>0.00</td>\n",
              "      <td>0</td>\n",
              "      <td>0.00</td>\n",
              "      <td>1000.00</td>\n",
              "      <td>0</td>\n",
              "      <td>941.00</td>\n",
              "      <td>22</td>\n",
              "      <td>0</td>\n",
              "      <td>0</td>\n",
              "      <td>10000.0</td>\n",
              "      <td>10000</td>\n",
              "      <td>20</td>\n",
              "      <td>35000.0</td>\n",
              "      <td>2017-08-13</td>\n",
              "      <td>0.0</td>\n",
              "      <td>759485</td>\n",
              "      <td>338246</td>\n",
              "      <td>1</td>\n",
              "    </tr>\n",
              "    <tr>\n",
              "      <th>50000</th>\n",
              "      <td>0.00</td>\n",
              "      <td>0</td>\n",
              "      <td>0.00</td>\n",
              "      <td>1000.00</td>\n",
              "      <td>0</td>\n",
              "      <td>941.00</td>\n",
              "      <td>22</td>\n",
              "      <td>0</td>\n",
              "      <td>0</td>\n",
              "      <td>10000.0</td>\n",
              "      <td>10000</td>\n",
              "      <td>20</td>\n",
              "      <td>35000.0</td>\n",
              "      <td>2017-08-13</td>\n",
              "      <td>0.0</td>\n",
              "      <td>759485</td>\n",
              "      <td>338246</td>\n",
              "      <td>1</td>\n",
              "    </tr>\n",
              "    <tr>\n",
              "      <th>50001</th>\n",
              "      <td>19750.00</td>\n",
              "      <td>9</td>\n",
              "      <td>14100.00</td>\n",
              "      <td>14100.00</td>\n",
              "      <td>331</td>\n",
              "      <td>6000.00</td>\n",
              "      <td>33</td>\n",
              "      <td>0</td>\n",
              "      <td>40</td>\n",
              "      <td>2000.0</td>\n",
              "      <td>2000</td>\n",
              "      <td>21</td>\n",
              "      <td>0.0</td>\n",
              "      <td>2017-08-13</td>\n",
              "      <td>0.0</td>\n",
              "      <td>759490</td>\n",
              "      <td>261961</td>\n",
              "      <td>1</td>\n",
              "    </tr>\n",
              "  </tbody>\n",
              "</table>\n",
              "<p>50001 rows × 18 columns</p>\n",
              "</div>"
            ],
            "text/plain": [
              "       closed_cred_sum  closed_creds  ...  client_id  expert\n",
              "1            143822.00            22  ...     320464       1\n",
              "2                 0.00             0  ...     320466       1\n",
              "3             51356.00             2  ...     320467       1\n",
              "4                 0.00             0  ...     320533       1\n",
              "5             12298.00             1  ...     298598       1\n",
              "...                ...           ...  ...        ...     ...\n",
              "49997             0.00             0  ...      96091       1\n",
              "49998         21653.49             2  ...     338240       1\n",
              "49999             0.00             0  ...     338246       1\n",
              "50000             0.00             0  ...     338246       1\n",
              "50001         19750.00             9  ...     261961       1\n",
              "\n",
              "[50001 rows x 18 columns]"
            ]
          },
          "metadata": {
            "tags": []
          }
        }
      ]
    },
    {
      "cell_type": "code",
      "metadata": {
        "colab": {
          "base_uri": "https://localhost:8080/"
        },
        "id": "y9Qb7TltEtuM",
        "outputId": "71e0117b-64b5-44a7-c335-d25299a68703"
      },
      "source": [
        "# Проверка датасета на отсутствие данных \r\n",
        "df.isna().sum()"
      ],
      "execution_count": 8,
      "outputs": [
        {
          "output_type": "execute_result",
          "data": {
            "text/plain": [
              "closed_cred_sum             0\n",
              "closed_creds                0\n",
              "active_cred_sum_overdue     0\n",
              "active_cred_sum             0\n",
              "active_cred_day_overdue     0\n",
              "active_cred_max_overdue     0\n",
              "age                         0\n",
              "gender                      0\n",
              "region                      0\n",
              "first_loan                 19\n",
              "loan_cost_all               0\n",
              "first_days_quant            0\n",
              "month_income                0\n",
              "order_date                  0\n",
              "cost_all                    0\n",
              "order_id                    0\n",
              "client_id                   0\n",
              "expert                      0\n",
              "dtype: int64"
            ]
          },
          "metadata": {
            "tags": []
          },
          "execution_count": 8
        }
      ]
    },
    {
      "cell_type": "code",
      "metadata": {
        "colab": {
          "base_uri": "https://localhost:8080/"
        },
        "id": "ZbihPUx9Etxg",
        "outputId": "7cca7063-9fcc-4d96-90ae-faf5fa572946"
      },
      "source": [
        "# Функция для вычисления процентного списка пропущенных данных\r\n",
        "def get_persent(fn):\r\n",
        "  try:\r\n",
        "    for col in fn.columns:\r\n",
        "      pct_missing = np.mean(fn[col].isnull())\r\n",
        "      print('{} - {}%'.format(col, round(pct_missing*100, 3)))\r\n",
        "  except ValueError:\r\n",
        "    print('Error DataFrame')\r\n",
        "\r\n",
        "get_persent(df)"
      ],
      "execution_count": 9,
      "outputs": [
        {
          "output_type": "stream",
          "text": [
            "closed_cred_sum - 0.0%\n",
            "closed_creds - 0.0%\n",
            "active_cred_sum_overdue - 0.0%\n",
            "active_cred_sum - 0.0%\n",
            "active_cred_day_overdue - 0.0%\n",
            "active_cred_max_overdue - 0.0%\n",
            "age - 0.0%\n",
            "gender - 0.0%\n",
            "region - 0.0%\n",
            "first_loan - 0.038%\n",
            "loan_cost_all - 0.0%\n",
            "first_days_quant - 0.0%\n",
            "month_income - 0.0%\n",
            "order_date - 0.0%\n",
            "cost_all - 0.0%\n",
            "order_id - 0.0%\n",
            "client_id - 0.0%\n",
            "expert - 0.0%\n"
          ],
          "name": "stdout"
        }
      ]
    },
    {
      "cell_type": "code",
      "metadata": {
        "colab": {
          "base_uri": "https://localhost:8080/"
        },
        "id": "EBx6lkooEt0S",
        "outputId": "41039860-f277-4aab-b7d6-02e2955f7868"
      },
      "source": [
        "# Заменим пропуски медианной в переменной first_loan\r\n",
        "df['first_loan'] = df['first_loan'].fillna(df['first_loan'].median())\r\n",
        "df.isna().sum()"
      ],
      "execution_count": 10,
      "outputs": [
        {
          "output_type": "execute_result",
          "data": {
            "text/plain": [
              "closed_cred_sum            0\n",
              "closed_creds               0\n",
              "active_cred_sum_overdue    0\n",
              "active_cred_sum            0\n",
              "active_cred_day_overdue    0\n",
              "active_cred_max_overdue    0\n",
              "age                        0\n",
              "gender                     0\n",
              "region                     0\n",
              "first_loan                 0\n",
              "loan_cost_all              0\n",
              "first_days_quant           0\n",
              "month_income               0\n",
              "order_date                 0\n",
              "cost_all                   0\n",
              "order_id                   0\n",
              "client_id                  0\n",
              "expert                     0\n",
              "dtype: int64"
            ]
          },
          "metadata": {
            "tags": []
          },
          "execution_count": 10
        }
      ]
    },
    {
      "cell_type": "markdown",
      "metadata": {
        "id": "mNl7U_1DY7qr"
      },
      "source": [
        "# Фильтрация"
      ]
    },
    {
      "cell_type": "code",
      "metadata": {
        "colab": {
          "base_uri": "https://localhost:8080/",
          "height": 217
        },
        "id": "Lqh-2mC9Et28",
        "outputId": "cc82e8ad-e059-4450-fd6d-54c04782a4e6"
      },
      "source": [
        "# Удалим ненужный столбец длч дальнейшего анализа\r\n",
        "df = df.drop(['order_date'], axis=1)\r\n",
        "df.head()"
      ],
      "execution_count": 11,
      "outputs": [
        {
          "output_type": "execute_result",
          "data": {
            "text/html": [
              "<div>\n",
              "<style scoped>\n",
              "    .dataframe tbody tr th:only-of-type {\n",
              "        vertical-align: middle;\n",
              "    }\n",
              "\n",
              "    .dataframe tbody tr th {\n",
              "        vertical-align: top;\n",
              "    }\n",
              "\n",
              "    .dataframe thead th {\n",
              "        text-align: right;\n",
              "    }\n",
              "</style>\n",
              "<table border=\"1\" class=\"dataframe\">\n",
              "  <thead>\n",
              "    <tr style=\"text-align: right;\">\n",
              "      <th></th>\n",
              "      <th>closed_cred_sum</th>\n",
              "      <th>closed_creds</th>\n",
              "      <th>active_cred_sum_overdue</th>\n",
              "      <th>active_cred_sum</th>\n",
              "      <th>active_cred_day_overdue</th>\n",
              "      <th>active_cred_max_overdue</th>\n",
              "      <th>age</th>\n",
              "      <th>gender</th>\n",
              "      <th>region</th>\n",
              "      <th>first_loan</th>\n",
              "      <th>loan_cost_all</th>\n",
              "      <th>first_days_quant</th>\n",
              "      <th>month_income</th>\n",
              "      <th>cost_all</th>\n",
              "      <th>order_id</th>\n",
              "      <th>client_id</th>\n",
              "      <th>expert</th>\n",
              "    </tr>\n",
              "  </thead>\n",
              "  <tbody>\n",
              "    <tr>\n",
              "      <th>1</th>\n",
              "      <td>143822.0</td>\n",
              "      <td>22</td>\n",
              "      <td>104.12</td>\n",
              "      <td>130068.80</td>\n",
              "      <td>8</td>\n",
              "      <td>756.09</td>\n",
              "      <td>31</td>\n",
              "      <td>0</td>\n",
              "      <td>36</td>\n",
              "      <td>10000.0</td>\n",
              "      <td>10000</td>\n",
              "      <td>196</td>\n",
              "      <td>0.0</td>\n",
              "      <td>0.0</td>\n",
              "      <td>728319</td>\n",
              "      <td>320464</td>\n",
              "      <td>1</td>\n",
              "    </tr>\n",
              "    <tr>\n",
              "      <th>2</th>\n",
              "      <td>0.0</td>\n",
              "      <td>0</td>\n",
              "      <td>38151.93</td>\n",
              "      <td>46230.00</td>\n",
              "      <td>1492</td>\n",
              "      <td>38151.93</td>\n",
              "      <td>51</td>\n",
              "      <td>0</td>\n",
              "      <td>93</td>\n",
              "      <td>10000.0</td>\n",
              "      <td>10000</td>\n",
              "      <td>17</td>\n",
              "      <td>20000.0</td>\n",
              "      <td>0.0</td>\n",
              "      <td>728321</td>\n",
              "      <td>320466</td>\n",
              "      <td>1</td>\n",
              "    </tr>\n",
              "    <tr>\n",
              "      <th>3</th>\n",
              "      <td>51356.0</td>\n",
              "      <td>2</td>\n",
              "      <td>3000.00</td>\n",
              "      <td>3000.00</td>\n",
              "      <td>8</td>\n",
              "      <td>3000.00</td>\n",
              "      <td>28</td>\n",
              "      <td>1</td>\n",
              "      <td>3</td>\n",
              "      <td>10000.0</td>\n",
              "      <td>10000</td>\n",
              "      <td>84</td>\n",
              "      <td>0.0</td>\n",
              "      <td>0.0</td>\n",
              "      <td>728323</td>\n",
              "      <td>320467</td>\n",
              "      <td>1</td>\n",
              "    </tr>\n",
              "    <tr>\n",
              "      <th>4</th>\n",
              "      <td>0.0</td>\n",
              "      <td>0</td>\n",
              "      <td>22784.19</td>\n",
              "      <td>32103.52</td>\n",
              "      <td>913</td>\n",
              "      <td>22784.19</td>\n",
              "      <td>28</td>\n",
              "      <td>0</td>\n",
              "      <td>52</td>\n",
              "      <td>10000.0</td>\n",
              "      <td>10000</td>\n",
              "      <td>7</td>\n",
              "      <td>0.0</td>\n",
              "      <td>0.0</td>\n",
              "      <td>728447</td>\n",
              "      <td>320533</td>\n",
              "      <td>1</td>\n",
              "    </tr>\n",
              "    <tr>\n",
              "      <th>5</th>\n",
              "      <td>12298.0</td>\n",
              "      <td>1</td>\n",
              "      <td>4942.95</td>\n",
              "      <td>4950.00</td>\n",
              "      <td>2883</td>\n",
              "      <td>4942.95</td>\n",
              "      <td>31</td>\n",
              "      <td>0</td>\n",
              "      <td>47</td>\n",
              "      <td>5000.0</td>\n",
              "      <td>5000</td>\n",
              "      <td>20</td>\n",
              "      <td>0.0</td>\n",
              "      <td>0.0</td>\n",
              "      <td>728421</td>\n",
              "      <td>298598</td>\n",
              "      <td>1</td>\n",
              "    </tr>\n",
              "  </tbody>\n",
              "</table>\n",
              "</div>"
            ],
            "text/plain": [
              "   closed_cred_sum  closed_creds  ...  client_id  expert\n",
              "1         143822.0            22  ...     320464       1\n",
              "2              0.0             0  ...     320466       1\n",
              "3          51356.0             2  ...     320467       1\n",
              "4              0.0             0  ...     320533       1\n",
              "5          12298.0             1  ...     298598       1\n",
              "\n",
              "[5 rows x 17 columns]"
            ]
          },
          "metadata": {
            "tags": []
          },
          "execution_count": 11
        }
      ]
    },
    {
      "cell_type": "code",
      "metadata": {
        "colab": {
          "base_uri": "https://localhost:8080/"
        },
        "id": "EgMNVdnKE1Eb",
        "outputId": "ee4df64c-7659-4e4c-f1f9-2f823f94bd04"
      },
      "source": [
        "# Оценим баланс классов, которые нам необходимо предсказывать в нашей изначальной выборке\r\n",
        "df.expert.value_counts(normalize=True)"
      ],
      "execution_count": 12,
      "outputs": [
        {
          "output_type": "execute_result",
          "data": {
            "text/plain": [
              "1    0.749265\n",
              "0    0.250735\n",
              "Name: expert, dtype: float64"
            ]
          },
          "metadata": {
            "tags": []
          },
          "execution_count": 12
        }
      ]
    },
    {
      "cell_type": "code",
      "metadata": {
        "colab": {
          "base_uri": "https://localhost:8080/"
        },
        "id": "UhyqqNblOslH",
        "outputId": "72f7ae99-5db5-42e4-b790-24a1c6fea818"
      },
      "source": [
        "data = df.drop('expert', axis=1)\r\n",
        "X = data.astype(float)\r\n",
        "print(X.shape)\r\n",
        "\r\n",
        "y = np.array(df['expert'])\r\n",
        "Y = y.reshape(-1,1).astype(int)\r\n",
        "print(Y.shape)"
      ],
      "execution_count": 84,
      "outputs": [
        {
          "output_type": "stream",
          "text": [
            "(50001, 16)\n",
            "(50001, 1)\n"
          ],
          "name": "stdout"
        }
      ]
    },
    {
      "cell_type": "code",
      "metadata": {
        "colab": {
          "base_uri": "https://localhost:8080/"
        },
        "id": "Gz7xQA3XOsn-",
        "outputId": "a414163a-1ae3-4821-d31e-9136b02788e6"
      },
      "source": [
        "x_train, x_test, y_train, y_test = train_test_split(X, Y, test_size=0.2, shuffle=True)    \r\n",
        "print (x_train.shape)\r\n",
        "print (x_test.shape)\r\n",
        "print (y_train.shape)\r\n",
        "print (y_test.shape)"
      ],
      "execution_count": 85,
      "outputs": [
        {
          "output_type": "stream",
          "text": [
            "(40000, 16)\n",
            "(10001, 16)\n",
            "(40000, 1)\n",
            "(10001, 1)\n"
          ],
          "name": "stdout"
        }
      ]
    },
    {
      "cell_type": "markdown",
      "metadata": {
        "id": "16bLX8AyZBpg"
      },
      "source": [
        "# Моделирование"
      ]
    },
    {
      "cell_type": "code",
      "metadata": {
        "id": "ctVG3gn3SeXJ"
      },
      "source": [
        "# Функция пересоздаёт пустую сеть\r\n",
        "def createModel():\r\n",
        "\r\n",
        "  # Создаем сеть\r\n",
        "  model = Sequential()\r\n",
        "\r\n",
        "  # Добавляем слои\r\n",
        "  model.add(Dense(100, input_dim=16, activation='relu'))\r\n",
        "  model.add(Dense(80,  activation='relu'))\r\n",
        "  model.add(Dropout(0.2))\r\n",
        "\r\n",
        "  model.add(BatchNormalization())\r\n",
        "  model.add(Dense(50,  activation='relu')) \r\n",
        "  model.add(Dense(10,  activation='relu'))\r\n",
        "  \r\n",
        "  model.add(BatchNormalization())\r\n",
        "  model.add(Dropout(0.5))\r\n",
        "  model.add(Dense(1, activation='sigmoid'))\r\n",
        "\r\n",
        "  # Компилируем сеть\r\n",
        "  model.compile(loss='binary_crossentropy', optimizer=Adam(lr=0.01), metrics=['accuracy'])\r\n",
        "\r\n",
        "  return model # Возвращаем созданную сеть"
      ],
      "execution_count": 115,
      "outputs": []
    },
    {
      "cell_type": "code",
      "metadata": {
        "colab": {
          "base_uri": "https://localhost:8080/"
        },
        "id": "rAGyoTVoSjSr",
        "outputId": "f51a252f-0bbb-4c9a-f935-292764ff3246"
      },
      "source": [
        "# Создаём пустую сеть при помощи функции createModel()\r\n",
        "model = createModel()\r\n",
        "model.summary()"
      ],
      "execution_count": 116,
      "outputs": [
        {
          "output_type": "stream",
          "text": [
            "Model: \"sequential_25\"\n",
            "_________________________________________________________________\n",
            "Layer (type)                 Output Shape              Param #   \n",
            "=================================================================\n",
            "dense_49 (Dense)             (None, 100)               1700      \n",
            "_________________________________________________________________\n",
            "dense_50 (Dense)             (None, 80)                8080      \n",
            "_________________________________________________________________\n",
            "dropout_14 (Dropout)         (None, 80)                0         \n",
            "_________________________________________________________________\n",
            "batch_normalization_16 (Batc (None, 80)                320       \n",
            "_________________________________________________________________\n",
            "dense_51 (Dense)             (None, 50)                4050      \n",
            "_________________________________________________________________\n",
            "dense_52 (Dense)             (None, 10)                510       \n",
            "_________________________________________________________________\n",
            "batch_normalization_17 (Batc (None, 10)                40        \n",
            "_________________________________________________________________\n",
            "dropout_15 (Dropout)         (None, 10)                0         \n",
            "_________________________________________________________________\n",
            "dense_53 (Dense)             (None, 1)                 11        \n",
            "=================================================================\n",
            "Total params: 14,711\n",
            "Trainable params: 14,531\n",
            "Non-trainable params: 180\n",
            "_________________________________________________________________\n"
          ],
          "name": "stdout"
        }
      ]
    },
    {
      "cell_type": "markdown",
      "metadata": {
        "id": "4_it4N2iZKs7"
      },
      "source": [
        "# Оценка качества модели"
      ]
    },
    {
      "cell_type": "code",
      "metadata": {
        "colab": {
          "base_uri": "https://localhost:8080/"
        },
        "id": "z2B9spwzWavn",
        "outputId": "660a5cab-9c77-4cce-b5c0-2863acbe3afb"
      },
      "source": [
        "# Обучаем сеть\r\n",
        "history = model.fit(x_train, \r\n",
        "          y_train,\r\n",
        "          batch_size=32, \r\n",
        "          epochs=10,\r\n",
        "          validation_split=0.2, # Указываем 20% случайных примеров для проверочной выборки\r\n",
        "          verbose=1)"
      ],
      "execution_count": 117,
      "outputs": [
        {
          "output_type": "stream",
          "text": [
            "Epoch 1/10\n",
            "1000/1000 [==============================] - 4s 3ms/step - loss: 0.4455 - accuracy: 0.7971 - val_loss: 0.4906 - val_accuracy: 0.8719\n",
            "Epoch 2/10\n",
            "1000/1000 [==============================] - 3s 3ms/step - loss: 0.1672 - accuracy: 0.9451 - val_loss: 1.0216 - val_accuracy: 0.5046\n",
            "Epoch 3/10\n",
            "1000/1000 [==============================] - 3s 3ms/step - loss: 0.1322 - accuracy: 0.9615 - val_loss: 0.1267 - val_accuracy: 0.9650\n",
            "Epoch 4/10\n",
            "1000/1000 [==============================] - 3s 3ms/step - loss: 0.1257 - accuracy: 0.9637 - val_loss: 0.1662 - val_accuracy: 0.9339\n",
            "Epoch 5/10\n",
            "1000/1000 [==============================] - 3s 3ms/step - loss: 0.1167 - accuracy: 0.9692 - val_loss: 0.1013 - val_accuracy: 0.9664\n",
            "Epoch 6/10\n",
            "1000/1000 [==============================] - 3s 3ms/step - loss: 0.1068 - accuracy: 0.9713 - val_loss: 0.2831 - val_accuracy: 0.9689\n",
            "Epoch 7/10\n",
            "1000/1000 [==============================] - 3s 3ms/step - loss: 0.1071 - accuracy: 0.9718 - val_loss: 3.2623 - val_accuracy: 0.2869\n",
            "Epoch 8/10\n",
            "1000/1000 [==============================] - 3s 3ms/step - loss: 0.1019 - accuracy: 0.9751 - val_loss: 0.1944 - val_accuracy: 0.9516\n",
            "Epoch 9/10\n",
            "1000/1000 [==============================] - 3s 3ms/step - loss: 0.0984 - accuracy: 0.9764 - val_loss: 0.1151 - val_accuracy: 0.9799\n",
            "Epoch 10/10\n",
            "1000/1000 [==============================] - 3s 3ms/step - loss: 0.0892 - accuracy: 0.9785 - val_loss: 0.1399 - val_accuracy: 0.9670\n"
          ],
          "name": "stdout"
        }
      ]
    },
    {
      "cell_type": "code",
      "metadata": {
        "colab": {
          "base_uri": "https://localhost:8080/",
          "height": 285
        },
        "id": "ZR2HA1gmT26B",
        "outputId": "eab1d59e-812d-4675-d308-ff015953c658"
      },
      "source": [
        "# Выводим график обучения \r\n",
        "plt.plot(history.history['accuracy'], \r\n",
        "         label='Доля верных ответов на обучающем наборе')\r\n",
        "plt.plot(history.history['val_accuracy'], \r\n",
        "         label='Доля верных ответов на проверочном наборе')\r\n",
        "plt.xlabel('Эпоха обучения')\r\n",
        "plt.ylabel('Доля верных ответов')\r\n",
        "plt.legend()\r\n",
        "plt.show()"
      ],
      "execution_count": 118,
      "outputs": [
        {
          "output_type": "display_data",
          "data": {
            "image/png": "[encoded data removed]",
            "text/plain": [
              "<Figure size 432x288 with 1 Axes>"
            ]
          },
          "metadata": {
            "tags": []
          }
        }
      ]
    },
    {
      "cell_type": "code",
      "metadata": {
        "colab": {
          "base_uri": "https://localhost:8080/",
          "height": 285
        },
        "id": "DnkX55W7ZmUy",
        "outputId": "b90b0664-6fc8-4e3f-bb66-69e15bf23347"
      },
      "source": [
        "# Выводим графики ошибки\r\n",
        "plt.plot(history.history['loss'], \r\n",
        "         label='Ошибка на обучающем наборе')\r\n",
        "plt.plot(history.history['val_loss'], \r\n",
        "         label='Ошибка на проверочном наборе')\r\n",
        "plt.xlabel('Эпоха обучения')\r\n",
        "plt.ylabel('Ошибка')\r\n",
        "plt.legend()\r\n",
        "plt.show()"
      ],
      "execution_count": 121,
      "outputs": [
        {
          "output_type": "display_data",
          "data": {
            "image/png": "[encoded data removed]",
            "text/plain": [
              "<Figure size 432x288 with 1 Axes>"
            ]
          },
          "metadata": {
            "tags": []
          }
        }
      ]
    },
    {
      "cell_type": "code",
      "metadata": {
        "colab": {
          "base_uri": "https://localhost:8080/"
        },
        "id": "2o9dPOWUSjWE",
        "outputId": "837e64aa-d435-4290-d0c1-4ad80c644d29"
      },
      "source": [
        "# Вычисляем результаты сети на тестовом наборе\r\n",
        "scores = model.evaluate(x_test, y_test, verbose=True)\r\n",
        "\r\n",
        "# scores состоит из двух знанчений\r\n",
        "# scores[0] - loss сети на тестовой выборке\r\n",
        "# scores[1] - процент правильно распознанных примеров на тестовой выборке\r\n",
        "print(scores)\r\n",
        "print(\"Доля верных ответов на тестовых данных, в процентах: \", round(scores[1] * 100, 2), \"%\", sep=\"\")"
      ],
      "execution_count": 122,
      "outputs": [
        {
          "output_type": "stream",
          "text": [
            "313/313 [==============================] - 1s 2ms/step - loss: 0.1256 - accuracy: 0.9690\n",
            "[0.12563228607177734, 0.9690030813217163]\n",
            "Доля верных ответов на тестовых данных, в процентах: 96.9%\n"
          ],
          "name": "stdout"
        }
      ]
    },
    {
      "cell_type": "code",
      "metadata": {
        "colab": {
          "base_uri": "https://localhost:8080/"
        },
        "id": "-D1s2mbFUvJh",
        "outputId": "a5b9e1bf-323d-4168-99db-6bacd44d290a"
      },
      "source": [
        "# Значения точности распознавания на проверочной выборке по эпохам\r\n",
        "val_acc = history.history['val_accuracy']\r\n",
        "for i in range(len(val_acc)):\r\n",
        "  print(\"Эпоха: \", i, \" точность: \", round(100*val_acc[i], 1), \"%\", sep=\"\")"
      ],
      "execution_count": 123,
      "outputs": [
        {
          "output_type": "stream",
          "text": [
            "Эпоха: 0 точность: 87.2%\n",
            "Эпоха: 1 точность: 50.5%\n",
            "Эпоха: 2 точность: 96.5%\n",
            "Эпоха: 3 точность: 93.4%\n",
            "Эпоха: 4 точность: 96.6%\n",
            "Эпоха: 5 точность: 96.9%\n",
            "Эпоха: 6 точность: 28.7%\n",
            "Эпоха: 7 точность: 95.2%\n",
            "Эпоха: 8 точность: 98.0%\n",
            "Эпоха: 9 точность: 96.7%\n"
          ],
          "name": "stdout"
        }
      ]
    },
    {
      "cell_type": "markdown",
      "metadata": {
        "id": "nyyS1DJ_Z5p3"
      },
      "source": [
        "loss - binary_crossentropy - Вычисляет потерю кросс-энтропии между истинными и предсказанными метками. Используйте эту потерю перекрестной энтропии, когда существует только два класса меток (предполагается, что это 0 и 1).\r\n",
        "\r\n",
        "metrics - accuracy - Измеряет количество верно классифицированных объектов относительно общего количества всех объектов"
      ]
    }
  ]
}