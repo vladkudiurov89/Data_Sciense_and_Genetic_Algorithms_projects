{
  "nbformat": 4,
  "nbformat_minor": 0,
  "metadata": {
    "colab": {
      "name": "leetcode_sort.ipynb",
      "provenance": [],
      "collapsed_sections": []
    },
    "kernelspec": {
      "name": "python3",
      "display_name": "Python 3"
    },
    "language_info": {
      "name": "python"
    }
  },
  "cells": [
    {
      "cell_type": "code",
      "metadata": {
        "id": "jkXfFXsMcccO"
      },
      "source": [
        "# Merge Intervals 56 Medium"
      ],
      "execution_count": null,
      "outputs": []
    },
    {
      "cell_type": "markdown",
      "metadata": {
        "id": "aOz5apAHcoyI"
      },
      "source": [
        "# # Merge Intervals 56 "
      ]
    },
    {
      "cell_type": "code",
      "metadata": {
        "colab": {
          "base_uri": "https://localhost:8080/"
        },
        "id": "NLQOBn1tco4_",
        "outputId": "a79f0346-4f76-4c7c-b159-684402e13c12"
      },
      "source": [
        "# Merge Intervals 56 Medium\n",
        "# https://leetcode.com/problems/merge-intervals/\n",
        "\n",
        "# Given an array of intervals where intervals[i] = [starti, endi], merge all overlapping intervals, \n",
        "# and return an array of the non-overlapping intervals that cover all the intervals in the input.\n",
        "\n",
        "# Constraints:\n",
        "# 1 <= intervals.length <= 104\n",
        "# intervals[i].length == 2\n",
        "# 0 <= starti <= endi <= 104\n",
        "\n",
        "class Solution56:\n",
        "  def merge(self, intervals):\n",
        "    if not intervals:\n",
        "      return False\n",
        "\n",
        "    intervals = sorted(intervals, key=lambda x: x[0])\n",
        "    cur = 0\n",
        "    lenght = len(intervals)\n",
        "\n",
        "    while (1):\n",
        "      shift = 0\n",
        "\n",
        "      if cur == lenght:\n",
        "        return intervals\n",
        "\n",
        "      for i in range(cur + 1, lenght):\n",
        "        if intervals[cur][1] < intervals[i][0]:\n",
        "          pass\n",
        "        elif intervals[cur][1] >= intervals[i][0]:\n",
        "          if intervals[cur][1] >= intervals[i][1]:\n",
        "            intervals.remove(intervals[i])\n",
        "            lenght -= 1\n",
        "            shift = 1\n",
        "            break\n",
        "          intervals[cur][1] = intervals[i][1]\n",
        "          intervals.remove(intervals[i])\n",
        "          lenght -= 1\n",
        "          shift = 1\n",
        "          break\n",
        "      if shift == 1:\n",
        "        pass\n",
        "      else:\n",
        "        cur += 1\n",
        "    \n",
        "\n",
        "if __name__ == '__main__':\n",
        "  intervals = [[1, 3], [2, 6], [8, 10], [15, 18]]\n",
        "  out_56 = [[1, 6], [8, 10], [15, 18]]\n",
        "  # Explanation: Since intervals [1,3] and [2,6] overlaps, merge them into [1,6]\n",
        "  print(f'Solution56: {Solution56().merge(intervals)}\\nExpected: {out_56}\\n')\n",
        "\n",
        "  intervals_2 = [[1, 4], [4, 5]]\n",
        "  out_56_2 = [[1, 5]]\n",
        "  # Explanation: Intervals [1,4] and [4,5] are considered overlapping.\n",
        "  print(f'Solution56: {Solution56().merge(intervals_2)}\\nExpected: {out_56_2}\\n')"
      ],
      "execution_count": 2,
      "outputs": [
        {
          "output_type": "stream",
          "text": [
            "Solution56: [[1, 6], [8, 10], [15, 18]]\n",
            "Expected: [[1, 6], [8, 10], [15, 18]]\n",
            "\n",
            "Solution56: [[1, 5]]\n",
            "Expected: [[1, 5]]\n",
            "\n"
          ],
          "name": "stdout"
        }
      ]
    },
    {
      "cell_type": "code",
      "metadata": {
        "colab": {
          "base_uri": "https://localhost:8080/"
        },
        "id": "OjyzJL9mq5jV",
        "outputId": "4048b804-d4aa-4401-9da1-c21d401b7c4a"
      },
      "source": [
        "class Solution:\n",
        "    def merge(self, intervals):\n",
        "\n",
        "        intervals.sort(key=lambda x: x[0])\n",
        "\n",
        "        merged = []\n",
        "        for interval in intervals:\n",
        "            # if the list of merged intervals is empty or if the current\n",
        "            # interval does not overlap with the previous, simply append it.\n",
        "            if not merged or merged[-1][1] < interval[0]:\n",
        "                merged.append(interval)\n",
        "            else:\n",
        "            # otherwise, there is overlap, so we merge the current and previous\n",
        "            # intervals.\n",
        "                merged[-1][1] = max(merged[-1][1], interval[1])\n",
        "\n",
        "        return merged\n",
        "\n",
        "if __name__ == '__main__':\n",
        "  intervals = [[1, 3], [2, 6], [8, 10], [15, 18]]\n",
        "  out_56 = [[1, 6], [8, 10], [15, 18]]\n",
        "  # Explanation: Since intervals [1,3] and [2,6] overlaps, merge them into [1,6]\n",
        "  print(f'Solution56: {Solution56().merge(intervals)}\\nExpected: {out_56}\\n')\n",
        "\n",
        "  intervals_2 = [[1, 4], [4, 5]]\n",
        "  out_56_2 = [[1, 5]]\n",
        "  # Explanation: Intervals [1,4] and [4,5] are considered overlapping.\n",
        "  print(f'Solution56: {Solution56().merge(intervals_2)}\\nExpected: {out_56_2}\\n')"
      ],
      "execution_count": 5,
      "outputs": [
        {
          "output_type": "stream",
          "text": [
            "Solution56: [[1, 6], [8, 10], [15, 18]]\n",
            "Expected: [[1, 6], [8, 10], [15, 18]]\n",
            "\n",
            "Solution56: [[1, 5]]\n",
            "Expected: [[1, 5]]\n",
            "\n"
          ],
          "name": "stdout"
        }
      ]
    }
  ]
}