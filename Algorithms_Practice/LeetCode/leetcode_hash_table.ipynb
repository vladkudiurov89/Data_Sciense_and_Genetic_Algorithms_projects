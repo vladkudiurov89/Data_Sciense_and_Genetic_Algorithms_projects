{
  "nbformat": 4,
  "nbformat_minor": 0,
  "metadata": {
    "colab": {
      "name": "leetcode_hash_table.ipynb",
      "provenance": [],
      "collapsed_sections": [],
      "toc_visible": true,
      "machine_shape": "hm"
    },
    "kernelspec": {
      "name": "python3",
      "display_name": "Python 3"
    },
    "language_info": {
      "name": "python"
    },
    "accelerator": "GPU"
  },
  "cells": [
    {
      "cell_type": "markdown",
      "metadata": {
        "id": "fIMQnnu9WDDU"
      },
      "source": [
        "# Hash table\n",
        "\n",
        "\n"
      ]
    },
    {
      "cell_type": "code",
      "metadata": {
        "id": "NA2asCizwah5"
      },
      "source": [
        "# Single Number 136 Easy\n",
        "# Two Sum 1 Easy\n",
        "# 4Sum 18 Medium \n",
        "# Group Anagram 49 Medium\n",
        "# Valid Anagram 242 Easy\n",
        "# Find All Anagram is string 438 Medium"
      ],
      "execution_count": null,
      "outputs": []
    },
    {
      "cell_type": "markdown",
      "metadata": {
        "id": "Og0LkTDyMofk"
      },
      "source": [
        "# Single Number 136"
      ]
    },
    {
      "cell_type": "code",
      "metadata": {
        "colab": {
          "base_uri": "https://localhost:8080/"
        },
        "id": "cqBsNPHyVyPX",
        "outputId": "239c5206-64ca-4239-df2b-bd3823d3d7f2"
      },
      "source": [
        "# [136. Single Number][Python][Easy]\n",
        "# https://leetcode.com/problems/single-number/ - решить за O(1) по памяти\n",
        "\n",
        "# Problem: Given an array of integers, every element appears twice except for one. Find that single one.\n",
        "# Note: Your algorithm should have a linear runtime complexity. Could you implement it without using extra memory?\n",
        "\n",
        "class Solution:\n",
        "# Solution: 1. Use dictionary <key: element, value: element appearance>. O(n) time complexity.\n",
        "# Us Python get() method to return a value for a given key. \n",
        "# If key is not available, then return default value None or user specified value.\n",
        "    def singleNumber(self, nums):\n",
        "        vocab = {}\n",
        "        for i in nums:\n",
        "            vocab[i] = vocab.get(i, 0) + 1\n",
        "        for key, value in vocab.items():\n",
        "            if value == 1:\n",
        "                return key\n",
        "\n",
        "# 2. There is another very nice way to solve this is use XOR. \n",
        "# A ^ A = 0.( A ^ B) ^ C = (A ^ C) ^ B. \n",
        "# So for [1,2,3,2,1] we have 1 ^ 1 ^ 2 ^ 2 ^ 3 = 3.    \n",
        "    def singleNumber3(self, nums):\n",
        "      from functools import reduce\n",
        "      return reduce((lambda x, y: x ^ y), nums)\n",
        "\n",
        "# the best way to do this is to use XOR (⊕) operations (^ in Python), \n",
        "# because there are two benefits from XOR operation:\n",
        "# The XOR of any two identical numbers is 0. For example, 0101 ^ 0101 = 0000.\n",
        "# The XOR of any number and 0 is the number itself. For example, 0101 ^ 0000 = 0101\n",
        "# code will neglect the identical numbers and return a unique number\n",
        "    def singleNumber2(self, nums):\n",
        "        val = nums[0]\n",
        "        for num in nums[1:]:\n",
        "            val ^= num\n",
        "        return val\n",
        "\n",
        "num1 = [2, 2, 1]\n",
        "num2 = [4, 1, 2, 1, 2]\n",
        "\n",
        "solution = Solution()\n",
        "print(f'Solution1 expected num=1: output={solution.singleNumber(num1)}')\n",
        "print(f'Solution2 expected num=1: output={solution.singleNumber2(num1)}')\n",
        "print(f'Solution3 expected num=1: output={solution.singleNumber3(num1)}\\n')\n",
        "\n",
        "print(f'Solution1 expected num=4: output={solution.singleNumber(num2)}')\n",
        "print(f'Solution2 expected num=4: output={solution.singleNumber2(num2)}')\n",
        "print(f'Solution3 expected num=4: output={solution.singleNumber3(num2)}')"
      ],
      "execution_count": 23,
      "outputs": [
        {
          "output_type": "stream",
          "text": [
            "Solution1 expected num=1: output=1\n",
            "Solution2 expected num=1: output=1\n",
            "Solution3 expected num=1: output=1\n",
            "\n",
            "Solution1 expected num=4: output=4\n",
            "Solution2 expected num=4: output=4\n",
            "Solution3 expected num=4: output=4\n"
          ],
          "name": "stdout"
        }
      ]
    },
    {
      "cell_type": "markdown",
      "metadata": {
        "id": "QQA8WPC1MuJ-"
      },
      "source": [
        "# Two Sum 1"
      ]
    },
    {
      "cell_type": "code",
      "metadata": {
        "colab": {
          "base_uri": "https://localhost:8080/"
        },
        "id": "peUizQlPVySO",
        "outputId": "c7d9d6ea-61e6-40f3-a693-0a9660c63ea4"
      },
      "source": [
        "# 1. Two Sum\n",
        "# https://leetcode.com/problems/two-sum/\n",
        "\n",
        "# Given an array of integers nums and an integer target, return indices of the two numbers such that they add up to target.\n",
        "# You may assume that each input would have exactly one solution, and you may not use the same element twice.\n",
        "\n",
        "class Solution2:\n",
        "# Brute-force Solution - compare each and every number with the other in the list and see if they add up to the target number. \n",
        "# If they do add up, we return their indices. Although this works, still it’s an inefficient solution, O(n²). \n",
        "# Its runtime at LeetCode site was 4512 ms when I submitted it.\n",
        "  def twoSum(self, nums, target):\n",
        "    for i in range(len(nums)):\n",
        "      tmp = target - nums[i]\n",
        "\n",
        "      if tmp in nums:\n",
        "        j = nums.index(tmp)               \n",
        "        if j == i:\n",
        "          continue\n",
        "        return i, j\n",
        "\n",
        "  def twoSum2(self, nums, target):\n",
        "    for i in range(len(nums)):\n",
        "      for j in range(i + 1, len(nums)):\n",
        "        if nums[i] + nums[j] == target:\n",
        "          return [i, j]\n",
        "\n",
        "# Better Solution - create a dictionary to store the data such that the key is the number and the value is the index at which it was present. \n",
        "# We then traverse over the list once and see if the complement of the current number is present in the dictionary already. \n",
        "# If it is present, we return its index, stored in the dictionary, along with the current index. \n",
        "# If it is not present in the dictionary already, we add the current number and its index to the dictionary. \n",
        "# Its runtime at LeetCode site was 24 ms when I submitted it. You can clearly see how much optimized it is as compared to the previous one.\n",
        "  def twoSum3(self, nums, target):\n",
        "    vocab = {}\n",
        "    for i in range(len(nums)):\n",
        "      comp = target - nums[i]\n",
        "      if comp in vocab:\n",
        "        return vocab[comp], i\n",
        "      vocab[nums[i]] = i\n",
        "\n",
        "nums = [2, 7, 11, 15]\n",
        "target = 9\n",
        "\n",
        "solution = Solution2()\n",
        "print(f'Solution1 expected num=[0, 1]: output={solution.twoSum(nums, target)}')\n",
        "print(f'Solution2 expected num=[0, 1]: output={solution.twoSum2(nums, target)}')\n",
        "print(f'Solution3 expected num=[0, 1]: output={solution.twoSum3(nums, target)}\\n')\n"
      ],
      "execution_count": 24,
      "outputs": [
        {
          "output_type": "stream",
          "text": [
            "Solution1 expected num=[0, 1]: output=(0, 1)\n",
            "Solution2 expected num=[0, 1]: output=[0, 1]\n",
            "Solution3 expected num=[0, 1]: output=(0, 1)\n",
            "\n"
          ],
          "name": "stdout"
        }
      ]
    },
    {
      "cell_type": "markdown",
      "metadata": {
        "id": "W9sq8NCGMzV3"
      },
      "source": [
        "# 4Sum Medium 18"
      ]
    },
    {
      "cell_type": "code",
      "metadata": {
        "colab": {
          "base_uri": "https://localhost:8080/"
        },
        "id": "-Gymx6s32BK9",
        "outputId": "293477c2-17f1-49b8-e504-0502b17bebbf"
      },
      "source": [
        "# 18. 4Sum Medium\n",
        "# https://leetcode.com/problems/4sum/\n",
        "\n",
        "# Given an array nums of n integers, return an array of all the unique quadruplets [nums[a], nums[b], nums[c], nums[d]] such that:\n",
        "# 0 <= a, b, c, d < n\n",
        "# a, b, c, and d are distinct.\n",
        "# nums[a] + nums[b] + nums[c] + nums[d] == target\n",
        "# You may return the answer in any order.\n",
        "\n",
        "class Solution3:\n",
        "\n",
        "    def fourSum(self, nums, target):\n",
        "        n = len(nums)\n",
        "        nums.sort()\n",
        "        ans = []\n",
        "        for i in range(n):\n",
        "        \tfor j in range(i + 1, n):\n",
        "        \t\tl, r = j + 1, n-1\n",
        "        \t\twhile l < r:\n",
        "        \t\t\ttemp = nums[i] + nums[j] + nums[l] + nums[r]\n",
        "        \t\t\tif temp == target:\n",
        "        \t\t\t\tprint(nums[i], nums[j], nums[l], nums[r]) \n",
        "        \t\t\t\tif [nums[i], nums[j], nums[l], nums[r]] not in ans:\n",
        "        \t\t\t\t\tans.append([nums[i],nums[j],nums[l],nums[r]])\n",
        "        \t\t\t\tl += 1\n",
        "        \t\t\t\tr -= 1\n",
        "        \t\t\telif temp > target:\n",
        "        \t\t\t\tr -= 1\n",
        "        \t\t\telse:\n",
        "        \t\t\t\tl += 1\n",
        "        return ans\n",
        "\n",
        "nums = [1, 0, -1, 0, -2, 2]\n",
        "target = 0\n",
        "Output = [[-2,-1,1,2], [-2,0,0,2], [-1,0,0,1]]\n",
        "\n",
        "sol = Solution3()\n",
        "print(f'Input{nums}\\nOutput{Output}\\nexpected{sol.fourSum(nums, target)}')"
      ],
      "execution_count": 37,
      "outputs": [
        {
          "output_type": "stream",
          "text": [
            "-2 -1 1 2\n",
            "-2 0 0 2\n",
            "-1 0 0 1\n",
            "Input[1, 0, -1, 0, -2, 2]\n",
            "Output[[-2, -1, 1, 2], [-2, 0, 0, 2], [-1, 0, 0, 1]]\n",
            "expected [[-2, -1, 1, 2], [-2, 0, 0, 2], [-1, 0, 0, 1]]\n"
          ],
          "name": "stdout"
        }
      ]
    },
    {
      "cell_type": "markdown",
      "metadata": {
        "id": "mVPmUnNiNkP0"
      },
      "source": [
        "# Group Anagrams 49"
      ]
    },
    {
      "cell_type": "code",
      "metadata": {
        "colab": {
          "base_uri": "https://localhost:8080/"
        },
        "id": "OTW4Uaco2BN7",
        "outputId": "4d5e6d20-edb8-4355-d335-b6398ffb919c"
      },
      "source": [
        "# 49. Group Anagrams Medium\n",
        "# https://leetcode.com/problems/group-anagrams/\n",
        "\n",
        "# Given an array of strings strs, group the anagrams together. You can return the answer in any order.\n",
        "# An Anagram is a word or phrase formed by rearranging the letters of a different word or phrase, \n",
        "# typically using all the original letters exactly once.\n",
        "\n",
        "\n",
        "class Solution4:\n",
        "\n",
        "  def groupAnagram(self, strs):\n",
        "    vocab = {}\n",
        "    res, tmp = [], []\n",
        "    \n",
        "    for el in strs:\n",
        "      str2 = ''.join(sorted(el))\n",
        "      if str2 in vocab:\n",
        "        vocab[str2].extend([el])\n",
        "      else:\n",
        "        vocab[str2] = [el]\n",
        "\n",
        "    for key, value in vocab.items():\n",
        "      tmp = []\n",
        "      for val in value:\n",
        "        tmp.append(val)\n",
        "      res.append(tmp)\n",
        "    return res  \n",
        "\n",
        "\n",
        "Input_str = [\"eat\", \"tea\", \"tan\", \"ate\", \"nat\", \"bat\"]\n",
        "print(f'Input strs: {Input_str}')\n",
        "print(f'Output strs: {Solution4().groupAnagram(Input_str)}')\n",
        "Output_str = [[\"bat\"], [\"nat\",\"tan\"], [\"ate\",\"eat\",\"tea\"]]\n",
        "print(f'Expected str:{Output_str}')"
      ],
      "execution_count": 1,
      "outputs": [
        {
          "output_type": "stream",
          "text": [
            "Input strs: ['eat', 'tea', 'tan', 'ate', 'nat', 'bat']\n",
            "Output strs: [['eat', 'tea', 'ate'], ['tan', 'nat'], ['bat']]\n",
            "Expected str:[['bat'], ['nat', 'tan'], ['ate', 'eat', 'tea']]\n"
          ],
          "name": "stdout"
        }
      ]
    },
    {
      "cell_type": "markdown",
      "metadata": {
        "id": "3Z3-VEnERPK1"
      },
      "source": [
        "# Valid Anagram 242"
      ]
    },
    {
      "cell_type": "code",
      "metadata": {
        "colab": {
          "base_uri": "https://localhost:8080/"
        },
        "id": "uExg05d5Gne-",
        "outputId": "7a5ba753-5649-4e84-96bc-f5655aeab2ce"
      },
      "source": [
        "# 242. Valid Anagram Easy\n",
        "# https://leetcode.com/problems/valid-anagram/\n",
        "\n",
        "# Given two strings s and t, return true if t is an anagram of s, and false otherwise.\n",
        "\n",
        "\n",
        "s = \"anagram\"\n",
        "t = \"nagaram\"\n",
        "\n",
        "class Solution5:\n",
        "  def isAnagram(self, s:str, t:str):\n",
        "    num1 = [0] * 30\n",
        "    num2 = [0] * 30\n",
        "\n",
        "    for i in s:\n",
        "      num1[ord(i) - ord('a')] += 1\n",
        "    for j in t:\n",
        "      num2[ord(j) - ord('a')] += 1\n",
        "    return num1 == num2\n",
        "print(f's: {s}\\nt: {t}\\n')\n",
        "print(f'Output: {Solution5().isAnagram(s, t)}')\n",
        "print(f'Expected: true')    "
      ],
      "execution_count": 7,
      "outputs": [
        {
          "output_type": "stream",
          "text": [
            "s: anagram\n",
            "t: nagaram\n",
            "\n",
            "Output: True\n",
            "Expected: true\n"
          ],
          "name": "stdout"
        }
      ]
    },
    {
      "cell_type": "markdown",
      "metadata": {
        "id": "LgZRFe4DUMl4"
      },
      "source": [
        "# Find All Anagrams in a String 438"
      ]
    },
    {
      "cell_type": "code",
      "metadata": {
        "colab": {
          "base_uri": "https://localhost:8080/"
        },
        "id": "FTuP6LAfGniD",
        "outputId": "98281380-1dc1-416f-d1c7-9a208a796070"
      },
      "source": [
        "# 438. Find All Anagrams in a String Medium\n",
        "# https://leetcode.com/problems/find-all-anagrams-in-a-string/\n",
        "\n",
        "# Given two strings s and p, return an array of all the start indices of p's anagrams in s. \n",
        "# You may return the answer in any order.\n",
        "# Explanation:\n",
        "# The substring with start index = 0 is \"cba\", which is an anagram of \"abc\".\n",
        "# The substring with start index = 6 is \"bac\", which is an anagram of \"abc\".\n",
        "\n",
        "s = \"cbaebabacd\"\n",
        "p = \"abc\"\n",
        "le = [0, 6]\n",
        "\n",
        "\n",
        "class Solution438:\n",
        "  def findAnagram(self, s, p):\n",
        "    res = []\n",
        "    num = [0] * 30\n",
        "    left = 0\n",
        "    right = 0\n",
        "\n",
        "    for i in p:\n",
        "      num[ord(i) - ord('a')] += 1\n",
        "    \n",
        "    while right < len(s):\n",
        "      num[ord(s[right]) - ord('a')] -= 1\n",
        "      while left <= right and num[ord(s[right]) - ord('a')] < 0:\n",
        "        num[ord(s[left]) - ord('a')] += 1\n",
        "        left += 1\n",
        "      if right - left + 1 == len(p):\n",
        "        res.append(left)\n",
        "      right += 1\n",
        "    return res\n",
        "\n",
        "print(f's: {s}\\np: {p}\\n')\n",
        "print(f'Output: {Solution438().findAnagram(s, p)}')\n",
        "print(f'Expected: {le}')\n"
      ],
      "execution_count": 12,
      "outputs": [
        {
          "output_type": "stream",
          "text": [
            "s: cbaebabacd\n",
            "p: abc\n",
            "\n",
            "Output: [0, 6]\n",
            "Expected: [0, 6]\n"
          ],
          "name": "stdout"
        }
      ]
    }
  ]
}