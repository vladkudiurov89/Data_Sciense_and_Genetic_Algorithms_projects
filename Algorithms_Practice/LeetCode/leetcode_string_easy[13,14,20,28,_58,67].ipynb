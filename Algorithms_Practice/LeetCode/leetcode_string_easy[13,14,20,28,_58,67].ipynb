{
  "nbformat": 4,
  "nbformat_minor": 0,
  "metadata": {
    "colab": {
      "name": "leetcode_string_easy[13,14,20,28, 58,67].ipynb",
      "provenance": [],
      "collapsed_sections": [],
      "machine_shape": "hm"
    },
    "kernelspec": {
      "name": "python3",
      "display_name": "Python 3"
    },
    "language_info": {
      "name": "python"
    }
  },
  "cells": [
    {
      "cell_type": "code",
      "metadata": {
        "id": "7cZy6zwYTLJx"
      },
      "source": [
        "# Roman to Integer 13 Easy\n",
        "# Longest Common Prefix 14 Easy\n",
        "# Valid Parentheses 20 Easy\n",
        "# Implement strStr() 28 Easy\n",
        "# Length of Last Word 58 Easy\n",
        "# Add Binary 67 Easy\n"
      ],
      "execution_count": null,
      "outputs": []
    },
    {
      "cell_type": "markdown",
      "metadata": {
        "id": "V_bjwkfATPGO"
      },
      "source": [
        "# Roman to Integer 13"
      ]
    },
    {
      "cell_type": "code",
      "metadata": {
        "colab": {
          "base_uri": "https://localhost:8080/"
        },
        "id": "424Te7rETPO7",
        "outputId": "bf30c175-3641-42c3-a19c-cc66e5673424"
      },
      "source": [
        "# Roman to Integer 13 Easy\n",
        "# https://leetcode.com/problems/roman-to-integer/\n",
        "\n",
        "# Roman numerals are represented by seven different symbols: I, V, X, L, C, D and M.\n",
        "# For example, 2 is written as II in Roman numeral, just two one's added together. \n",
        "# 12 is written as XII, which is simply X + II. The number 27 is written as XXVII, which is XX + V + II.\n",
        "# Roman numerals are usually written largest to smallest from left to right. However, the numeral for four is not IIII. \n",
        "# Instead, the number four is written as IV. Because the one is before the five we subtract it making four. \n",
        "# The same principle applies to the number nine, which is written as IX. There are six instances where subtraction is used:\n",
        "# I can be placed before V (5) and X (10) to make 4 and 9. \n",
        "# X can be placed before L (50) and C (100) to make 40 and 90. \n",
        "# C can be placed before D (500) and M (1000) to make 400 and 900.\n",
        "# Given a roman numeral, convert it to an integer.\n",
        "\n",
        "# Constraints:\n",
        "# 1 <= s.length <= 15\n",
        "# s contains only the characters ('I', 'V', 'X', 'L', 'C', 'D', 'M').\n",
        "# It is guaranteed that s is a valid roman numeral in the range [1, 3999].\n",
        "\n",
        "class Solution13:\n",
        "  def romanToInt(self, s):\n",
        "    vocab = {\"I\": 1, \"V\": 5, \"X\": 10, \"L\": 50, \"C\":100, \"D\": 500, \"M\": 1000}\n",
        "    cur = 0\n",
        "    for i in range(len(s)):\n",
        "      if i > 0 and vocab[s[i]] > vocab[s[i - 1]]:\n",
        "        cur += vocab[s[i]] - 2 * vocab[s[i - 1]]\n",
        "      else:\n",
        "        cur += vocab[s[i]]\n",
        "    return cur\n",
        "\n",
        "\n",
        "if __name__ == '__main__':\n",
        "  s = \"III\"\n",
        "  out = 3\n",
        "  print(f'Input: {s}\\nSolution: {Solution13().romanToInt(s)}\\nExpected: {out}\\n')\n",
        "\n",
        "  s2 = \"IV\"\n",
        "  out2 = 4\n",
        "  print(f'Input: {s2}\\nSolution: {Solution13().romanToInt(s2)}\\nExpected: {out2}\\n')\n",
        "\n",
        "  s3 = \"IX\"\n",
        "  out3 = 9\n",
        "  print(f'Input: {s3}\\nSolution: {Solution13().romanToInt(s3)}\\nExpected: {out3}\\n')\n",
        "\n",
        "  s4 = \"LVIII\"\n",
        "  out4 = 58\n",
        "  # Explanation: L = 50, V= 5, III = 3.\n",
        "  print(f'Input: {s4}\\nSolution: {Solution13().romanToInt(s4)}\\nExpected: {out4}\\n')\n",
        "\n",
        "  s5 = \"MCMXCIV\"\n",
        "  out5 = 1994\n",
        "  # Explanation: M = 1000, CM = 900, XC = 90 and IV = 4.\n",
        "  print(f'Input: {s5}\\nSolution: {Solution13().romanToInt(s5)}\\nExpected: {out5}\\n')"
      ],
      "execution_count": 1,
      "outputs": [
        {
          "output_type": "stream",
          "text": [
            "Input: III\n",
            "Solution: 3\n",
            "Expected: 3\n",
            "\n",
            "Input: IV\n",
            "Solution: 4\n",
            "Expected: 4\n",
            "\n",
            "Input: IX\n",
            "Solution: 9\n",
            "Expected: 9\n",
            "\n",
            "Input: LVIII\n",
            "Solution: 58\n",
            "Expected: 58\n",
            "\n",
            "Input: MCMXCIV\n",
            "Solution: 1994\n",
            "Expected: 1994\n",
            "\n"
          ],
          "name": "stdout"
        }
      ]
    },
    {
      "cell_type": "markdown",
      "metadata": {
        "id": "7SUO90tQUF6o"
      },
      "source": [
        "# Longest Common Prefix 14"
      ]
    },
    {
      "cell_type": "code",
      "metadata": {
        "colab": {
          "base_uri": "https://localhost:8080/"
        },
        "id": "o2YeUbMEUHSA",
        "outputId": "796bef33-b8e0-4c69-dae1-142b97c2d9af"
      },
      "source": [
        "# Longest Common Prefix 14 Easy\n",
        "# https://leetcode.com/problems/longest-common-prefix/\n",
        "\n",
        "# Write a function to find the longest common prefix string amongst an array of strings.\n",
        "# If there is no common prefix, return an empty string \"\".\n",
        "\n",
        "# Constraints:\n",
        "# 1 <= strs.length <= 200\n",
        "# 0 <= strs[i].length <= 200\n",
        "# strs[i] consists of only lower-case English letters.\n",
        "\n",
        "class Solution14:\n",
        "  def longestCommonPrefix(self, strs):\n",
        "    if not strs:\n",
        "      return ''\n",
        "    for i in range(len(strs[0])):\n",
        "      for j in strs[1:]:\n",
        "        if i >= len(j) or j[i] != strs[0][i]:\n",
        "          return strs[0][:i]\n",
        "    return strs[0]\n",
        "\n",
        "\n",
        "if __name__ == '__main__':\n",
        "  strs = [\"flower\", \"flow\", \"flight\"]\n",
        "  out = 'fl'\n",
        "  print(f'Input: {strs}\\nSolution: {Solution14().longestCommonPrefix(strs)}\\nExpected: {out}\\n')\n",
        "\n",
        "  strs2 = [\"dog\", \"racecar\", \"car\"]\n",
        "  out2 = \"\"\n",
        "  # Explanation: There is no common prefix among the input strings.\n",
        "  print(f'Input: {strs2}\\nSolution: {Solution14().longestCommonPrefix(strs2)}\\nExpected:{out2}')"
      ],
      "execution_count": 2,
      "outputs": [
        {
          "output_type": "stream",
          "text": [
            "Input: ['flower', 'flow', 'flight']\n",
            "Solution: fl\n",
            "Expected: fl\n",
            "\n",
            "Input: ['dog', 'racecar', 'car']\n",
            "Solution: \n",
            "Expected:\n"
          ],
          "name": "stdout"
        }
      ]
    },
    {
      "cell_type": "markdown",
      "metadata": {
        "id": "ayLWvmXCUHXw"
      },
      "source": [
        "# Valid Parentheses 20"
      ]
    },
    {
      "cell_type": "code",
      "metadata": {
        "colab": {
          "base_uri": "https://localhost:8080/"
        },
        "id": "N9TaLAoLUHe3",
        "outputId": "7521dbd8-948f-4309-b2f4-9ab4066a4ec7"
      },
      "source": [
        "#  Valid Parentheses 20 Easy\n",
        "# https://leetcode.com/problems/valid-parentheses/\n",
        "\n",
        "# Given a string s containing just the characters '(', ')', '{', '}', '[' and ']', determine if the input string is valid.\n",
        "# An input string is valid if:\n",
        "# - Open brackets must be closed by the same type of brackets.\n",
        "# - Open brackets must be closed in the correct order.\n",
        "\n",
        "# Constraints:\n",
        "# 1 <= s.length <= 104\n",
        "# s consists of parentheses only '()[]{}'.\n",
        "\n",
        "class Solution20:\n",
        "  def isValid(self, s):\n",
        "    q = []\n",
        "    stack = {\"(\": \")\", \"{\": \"}\", \"[\": \"]\"}\n",
        "    for elem in s:\n",
        "        if elem in stack:\n",
        "            q.append(elem)\n",
        "        elif len(q) == 0 or stack[q.pop()] != elem:\n",
        "            return False\n",
        "    return len(q) == 0\n",
        "\n",
        "\n",
        "if __name__ == '__main__':\n",
        "  s = '()'\n",
        "  out = 'true'\n",
        "  print(f'Input: {s}\\nSolution: {s}\\nExpected: {out}\\n')\n",
        "\n",
        "  s2 = '()[]{}'\n",
        "  out2 = 'true'\n",
        "  print(f'Input: {s2}\\nSolution: {s2}\\nExpected: {out2}\\n')\n",
        "\n",
        "  s3 = '(]'\n",
        "  out3 = 'false'\n",
        "  print(f'Input: {s3}\\nSolution: {s3}\\nExpected: {out3}\\n')\n",
        "\n",
        "  s4 = '([)]'\n",
        "  out4 = 'false'\n",
        "  print(f'Input: {s4}\\nSolution: {s4}\\nExpected: {out4}\\n')\n",
        "\n",
        "  s5 = '{[]}'\n",
        "  out5 = 'true'\n",
        "  print(f'Input: {s5}\\nSolution: {s5}\\nExpected: {out5}\\n')"
      ],
      "execution_count": 5,
      "outputs": [
        {
          "output_type": "stream",
          "text": [
            "Input: ()\n",
            "Solution: ()\n",
            "Expected: true\n",
            "\n",
            "Input: ()[]{}\n",
            "Solution: ()[]{}\n",
            "Expected: true\n",
            "\n",
            "Input: (]\n",
            "Solution: (]\n",
            "Expected: false\n",
            "\n",
            "Input: ([)]\n",
            "Solution: ([)]\n",
            "Expected: false\n",
            "\n",
            "Input: {[]}\n",
            "Solution: {[]}\n",
            "Expected: true\n",
            "\n"
          ],
          "name": "stdout"
        }
      ]
    },
    {
      "cell_type": "markdown",
      "metadata": {
        "id": "qbs7Y5T2_heo"
      },
      "source": [
        "# Implement strStr() 28 Easy"
      ]
    },
    {
      "cell_type": "code",
      "metadata": {
        "colab": {
          "base_uri": "https://localhost:8080/"
        },
        "id": "G_wyHCKP_hmE",
        "outputId": "e45a77f1-b5b4-483f-ca9c-f1d870142b05"
      },
      "source": [
        "# Implement strStr() 28 Easy\n",
        "# https://leetcode.com/problems/implement-strstr/\n",
        "\n",
        "# Implement strStr().\n",
        "# Return the index of the first occurrence of needle in haystack, or -1 if needle is not part of haystack.\n",
        "\n",
        "# Clarification:\n",
        "# What should we return when needle is an empty string? This is a great question to ask during an interview.\n",
        "# For the purpose of this problem, we will return 0 when needle is an empty string. \n",
        "# This is consistent to C's strstr() and Java's indexOf()\n",
        "\n",
        "# Constraints:\n",
        "# 0 <= haystack.length, needle.length <= 5 * 104\n",
        "# haystack and needle consist of only lower-case English characters\n",
        "\n",
        "class Solution28:\n",
        "  def strStr(self, haystack, needle):\n",
        "    \n",
        "    for i in range(len(haystack) - len(needle) + 1):\n",
        "      if haystack[i : i + len(needle)] == needle:\n",
        "        return i\n",
        "    return -1\n",
        "\n",
        "\n",
        "if __name__ == '__main__':\n",
        "  haystack = 'hello'\n",
        "  needle = 'll'\n",
        "  out = 2\n",
        "  print(f'Input: {haystack} >> {needle}\\nSolution: {Solution28().strStr(haystack, needle)}\\nExpected: {out}\\n')\n",
        "\n",
        "  haystack2 = 'aaaaa'\n",
        "  needle2 = 'bba'\n",
        "  out2 = -1\n",
        "  print(f'Input: {haystack2} >> {needle2}\\nSolution: {Solution28().strStr(haystack2, needle2)}\\nExpected: {out2}\\n')\n",
        "\n",
        "  haystack3 = ''\n",
        "  needle3 = ''\n",
        "  out3 = 0\n",
        "  print(f'Input: {haystack3} >> {needle3}\\nSolution: {Solution28().strStr(haystack3, needle3)}\\nExpected: {out3}\\n')"
      ],
      "execution_count": 12,
      "outputs": [
        {
          "output_type": "stream",
          "text": [
            "Input: hello >> ll\n",
            "Solution: 2\n",
            "Expected: 2\n",
            "\n",
            "Input: aaaaa >> bba\n",
            "Solution: -1\n",
            "Expected: -1\n",
            "\n",
            "Input:  >> \n",
            "Solution: 0\n",
            "Expected: 0\n",
            "\n"
          ],
          "name": "stdout"
        }
      ]
    },
    {
      "cell_type": "markdown",
      "metadata": {
        "id": "SvJ_xFhcbxsO"
      },
      "source": [
        "# Length of Last Word 58 "
      ]
    },
    {
      "cell_type": "code",
      "metadata": {
        "colab": {
          "base_uri": "https://localhost:8080/"
        },
        "id": "kYQLrMnqbxzb",
        "outputId": "37bcb688-814d-4767-e2b3-9466fdd12dd9"
      },
      "source": [
        "# Length of Last Word 58 Easy\n",
        "# https://leetcode.com/problems/length-of-last-word/\n",
        "\n",
        "# Given a string s consisting of some words separated by some number of spaces, \n",
        "# return the length of the last word in the string.\n",
        "# A word is a maximal substring consisting of non-space characters only.\n",
        "\n",
        "# Constraints:\n",
        "# 1 <= s.length <= 104\n",
        "# s consists of only English letters and spaces ' '.\n",
        "# There will be at least one word in s.\n",
        "\n",
        "class Solution58:\n",
        "  def lenghtOfLastword(self, s):\n",
        "    return len(s.strip().split(' ')[-1])\n",
        "\n",
        "\n",
        "if __name__ == '__main__':\n",
        "  s = \"Hello World\"\n",
        "  out = 5\n",
        "  # Explanation: The words are \"Hello\" and \"World\", both of length 5.\n",
        "  print(f'Input: {s}\\nSolution: {Solution58().lenghtOfLastword(s)}\\nExpected: {out}\\n')\n",
        "\n",
        "  s2 = \"   fly me   to   the moon  \"\n",
        "  out2 = 4\n",
        "  # Explanation: The longest word is \"moon\" with length 4.\n",
        "  print(f'Input: {s2}\\nSolution: {Solution58().lenghtOfLastword(s2)}\\nExpected: {out2}\\n')\n",
        "\n",
        "  s3 = \"Hello World\"\n",
        "  out3 = 6\n",
        "  # Explanation: The longest word is \"joyboy\" with length 6.\n",
        "  print(f'Input: {s3}\\nSolution: {Solution58().lenghtOfLastword(s3)}\\nExpected: {out3}')"
      ],
      "execution_count": 10,
      "outputs": [
        {
          "output_type": "stream",
          "text": [
            "Input: Hello World\n",
            "Solution: 5\n",
            "Expected: 5\n",
            "\n",
            "Input:    fly me   to   the moon  \n",
            "Solution: 4\n",
            "Expected: 4\n",
            "\n",
            "Input: Hello World\n",
            "Solution: 5\n",
            "Expected: 6\n"
          ],
          "name": "stdout"
        }
      ]
    },
    {
      "cell_type": "markdown",
      "metadata": {
        "id": "972vvpVZbyBB"
      },
      "source": [
        "# Add Binary 67 "
      ]
    },
    {
      "cell_type": "code",
      "metadata": {
        "colab": {
          "base_uri": "https://localhost:8080/"
        },
        "id": "Ir4fGVXhbyfl",
        "outputId": "f57a09a9-dafd-48af-9234-ace163be1c31"
      },
      "source": [
        "# Add Binary 67 Easy\n",
        "# https://leetcode.com/problems/add-binary/\n",
        "\n",
        "# Given two binary strings a and b, return their sum as a binary string.\n",
        "\n",
        "# Constraints:\n",
        "# 1 <= a.length, b.length <= 104\n",
        "# a and b consist only of '0' or '1' characters.\n",
        "# Each string does not contain leading zeros except for the zero itself.\n",
        "\n",
        "class Solution67:\n",
        "  def addBinary(self, a, b):\n",
        "    shift = 0\n",
        "    res = ''\n",
        "\n",
        "    lst_a = list(a)\n",
        "    lst_b = list(b)\n",
        "\n",
        "    while lst_a or lst_b or shift:\n",
        "      if lst_a:\n",
        "        shift += int(lst_a.pop())\n",
        "      if lst_b:\n",
        "        shift += int(lst_b.pop())\n",
        "      res += str(shift % 2)\n",
        "      shift = shift // 2\n",
        "    return res[:: -1]\n",
        "\n",
        "if __name__ == '__main__':\n",
        "  a = '11'\n",
        "  b = '1'\n",
        "  out = '100'\n",
        "  print(f'Input: {a} >> {b}\\nSolution: {Solution67().addBinary(a, b)}\\nExpected: {out}\\n')\n",
        "\n",
        "  a2 = '1010'\n",
        "  b2 = '1011'\n",
        "  out2 = '10101'\n",
        "  print(f'Input: {a2} >> {b2}\\nSolution: {Solution67().addBinary(a2, b2)}\\nExpected: {out2}\\n')"
      ],
      "execution_count": 16,
      "outputs": [
        {
          "output_type": "stream",
          "text": [
            "Input: 11 >> 1\n",
            "Solution: 100\n",
            "Expected: 100\n",
            "\n",
            "Input: 1010 >> 1011\n",
            "Solution: 10101\n",
            "Expected: 10101\n",
            "\n"
          ],
          "name": "stdout"
        }
      ]
    }
  ]
}