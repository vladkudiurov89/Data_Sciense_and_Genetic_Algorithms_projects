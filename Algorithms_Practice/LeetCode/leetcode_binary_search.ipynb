{
  "nbformat": 4,
  "nbformat_minor": 0,
  "metadata": {
    "colab": {
      "name": "leetcode_binary_search.ipynb",
      "provenance": [],
      "collapsed_sections": [],
      "toc_visible": true
    },
    "kernelspec": {
      "name": "python3",
      "display_name": "Python 3"
    },
    "language_info": {
      "name": "python"
    },
    "accelerator": "GPU"
  },
  "cells": [
    {
      "cell_type": "code",
      "metadata": {
        "id": "5Hau_PMte2uO"
      },
      "source": [
        "# Binary Search Easy 704\n",
        "# Guess Number Higher or Lower 374 Easy\n",
        "# Search a 2D Matrix 74 Medium\n",
        "# Search in Rotated Sorted Array 33 Medium\n",
        "# Find Minimum in Rotated Sorted Array 153 Medium\n",
        "# Search in Rotated Sorted Array II 81 Medium\n"
      ],
      "execution_count": null,
      "outputs": []
    },
    {
      "cell_type": "markdown",
      "metadata": {
        "id": "-WFsReDFe_0I"
      },
      "source": [
        "# Binary Search 704"
      ]
    },
    {
      "cell_type": "code",
      "metadata": {
        "colab": {
          "base_uri": "https://localhost:8080/"
        },
        "id": "xsUyJBVqfAGh",
        "outputId": "1a53c8e8-c4f6-4b5a-cf09-3d93a75a0c40"
      },
      "source": [
        "# 704. Binary Search Easy\n",
        "# https://leetcode.com/problems/binary-search/\n",
        "\n",
        "# Given an array of integers nums which is sorted in ascending order, and an integer target,\n",
        "# write a function to search target in nums. If target exists, then return its index. Otherwise, return -1.\n",
        "\n",
        "# You must write an algorithm with O(log n) runtime complexity.\n",
        "nums = [-1, 0, 3, 5, 9, 12]\n",
        "target = 9\n",
        "out_704 = 4\n",
        "Explanation = '9 exists in nums and its index is 4'\n",
        "\n",
        "import math\n",
        "\n",
        "class Solution704:\n",
        "  def search(self, nums, target):\n",
        "    n = 0\n",
        "    N = len(nums) - 1\n",
        "\n",
        "    while n <= N:\n",
        "      z = (n + N) // 2\n",
        "      if nums[z] == target:\n",
        "        return z\n",
        "      elif nums[z] < target:\n",
        "        n = z + 1\n",
        "      else: \n",
        "        N = z - 1\n",
        "    return -1\n",
        "\n",
        "print(f'Solution704: {Solution704().search(nums, target)} \\nExpected: {out_704}') \n"
      ],
      "execution_count": 11,
      "outputs": [
        {
          "output_type": "stream",
          "text": [
            "Solution704: 4 \n",
            "Expected: 4\n"
          ],
          "name": "stdout"
        }
      ]
    },
    {
      "cell_type": "markdown",
      "metadata": {
        "id": "BJY8RnOafAUp"
      },
      "source": [
        "# Guess Number Higher or Lower 374"
      ]
    },
    {
      "cell_type": "code",
      "metadata": {
        "id": "TRPq3fc6fAc5"
      },
      "source": [
        "# Guess Number Higher or Lower 374 Easy\n",
        "# https://leetcode.com/problems/guess-number-higher-or-lower/\n",
        "\n",
        "# We are playing the Guess Game. The game is as follows:\n",
        "# I pick a number from 1 to n. You have to guess which number I picked.\n",
        "# Every time you guess wrong, I will tell you whether the number I picked is higher or lower than your guess.\n",
        "\n",
        "# You call a pre-defined API int guess(int num), which returns 3 possible results:\n",
        "\n",
        "# -1: The number I picked is lower than your guess (i.e. pick < num).\n",
        "#  1: The number I picked is higher than your guess (i.e. pick > num).\n",
        "#  0: The number I picked is equal to your guess (i.e. pick == num).\n",
        "\n",
        "\n",
        "\n",
        "n = [i for i in range(1, 11, 1)]\n",
        "pick = 6\n",
        "out_374 = 6\n",
        "\n",
        "class Solution374:\n",
        "  def guessNumber(self, n):\n",
        "    low = 1\n",
        "    high = n\n",
        "\n",
        "    while low <= high:\n",
        "      z = (low + high) // 2\n",
        "      res = guess(z)\n",
        "      if res == 0: \n",
        "        return z\n",
        "      elif res == -1: high = z - 1\n",
        "      else: low = z + 1\n",
        "    return -1\n"
      ],
      "execution_count": 14,
      "outputs": []
    },
    {
      "cell_type": "markdown",
      "metadata": {
        "id": "JZE2O31nfAnJ"
      },
      "source": [
        "# Search a 2D Matrix 74 "
      ]
    },
    {
      "cell_type": "code",
      "metadata": {
        "colab": {
          "base_uri": "https://localhost:8080/"
        },
        "id": "1aiNxlV5fA0n",
        "outputId": "ab970d63-c8cb-4498-f3d9-ac5bff540b50"
      },
      "source": [
        "# Search a 2D Matrix 74 Medium\n",
        "# https://leetcode.com/problems/search-a-2d-matrix/\n",
        "\n",
        "# Write an efficient algorithm that searches for a value in an m x n matrix. This matrix has the following properties:\n",
        "# Integers in each row are sorted from left to right.\n",
        "# The first integer of each row is greater than the last integer of the previous row.\n",
        "\n",
        "# matrix = [[1, 3, 5, 7], \n",
        "#           [10, 11, 16, 20], \n",
        "#           [23, 30, 34, 60]]\n",
        "# target = 3\n",
        "# out_74 = 'true'\n",
        "\n",
        "class Solution74:\n",
        "  def searchMatrix(self, matrix, target):\n",
        "        M = len(matrix)\n",
        "        if M == 0:\n",
        "            return False\n",
        "        N = len(matrix[0])\n",
        "        if N == 0:\n",
        "            return False\n",
        "        low = 0\n",
        "        high = M - 1\n",
        "        while low <= high:\n",
        "            mid = int((low + high) / 2)\n",
        "            if matrix[mid][0] == target:\n",
        "                return True\n",
        "            elif matrix[mid][0] > target:\n",
        "                high = mid - 1\n",
        "            else:\n",
        "                low = mid + 1\n",
        "\n",
        "        # print(low, high)\n",
        "        if low == 0 or low == M + 1:\n",
        "            return False\n",
        "\n",
        "        temp = high\n",
        "        low = 0\n",
        "        high = N - 1\n",
        "\n",
        "        # print(temp, mid)\n",
        "        while low <= high:\n",
        "            mid=int((low + high) / 2)\n",
        "            if matrix[temp][mid] == target:\n",
        "                return True\n",
        "            elif matrix[temp][mid] > target:\n",
        "                high = mid - 1\n",
        "            else:\n",
        "                low = mid + 1\n",
        "\n",
        "        return False\n",
        "\n",
        "\n",
        "if __name__ == '__main__':\n",
        "  matrix = [[1, 3, 5, 7], [10, 11, 16, 20], [23, 30, 34, 50]]\n",
        "  target = 3\n",
        "  out_74 = 'true'\n",
        "  print(f'Solution74: {Solution74().searchMatrix(matrix, target)} \\nExpected: {out_74}')\n"
      ],
      "execution_count": 15,
      "outputs": [
        {
          "output_type": "stream",
          "text": [
            "Solution74: True \n",
            "Expected: true\n"
          ],
          "name": "stdout"
        }
      ]
    },
    {
      "cell_type": "markdown",
      "metadata": {
        "id": "1JMR4_qrfCNE"
      },
      "source": [
        "# Search in Rotated Sorted Array 33"
      ]
    },
    {
      "cell_type": "code",
      "metadata": {
        "colab": {
          "base_uri": "https://localhost:8080/"
        },
        "id": "b-q9oz7ifCdj",
        "outputId": "e854da20-5429-49c2-db54-db63f4f5600d"
      },
      "source": [
        "# Search in Rotated Sorted Array 33 Medium\n",
        "# https://leetcode.com/problems/search-in-rotated-sorted-array/\n",
        "\n",
        "# There is an integer array nums sorted in ascending order (with distinct values).\n",
        "# Prior to being passed to your function, nums is rotated at an unknown pivot index k (0 <= k < nums.length) \n",
        "# such that the resulting array is [nums[k], nums[k+1], ..., nums[n-1], nums[0], nums[1], ..., nums[k-1]] (0-indexed). \n",
        "# For example, [0,1,2,4,5,6,7] might be rotated at pivot index 3 and become [4,5,6,7,0,1,2]\n",
        "\n",
        "# Given the array nums after the rotation and an integer target, \n",
        "# return the index of target if it is in nums, or -1 if it is not in nums.\n",
        "# You must write an algorithm with O(log n) runtime complexity.\n",
        "\n",
        "class Solution33:\n",
        "  def search(self, nums, target):\n",
        "    if len(nums) == 0:\n",
        "      return False\n",
        "\n",
        "    left = 0\n",
        "    right = len(nums) - 1\n",
        "\n",
        "    while left <= right:\n",
        "      mid = (left + right) // 2\n",
        "      if nums[mid] == target:\n",
        "        return mid\n",
        "      \n",
        "      if nums[mid] >= nums[left]:\n",
        "        if nums[mid] > target and nums[left] <= target:\n",
        "          right = mid - 1\n",
        "        else:\n",
        "          left = mid + 1\n",
        "      \n",
        "      if nums[mid] < nums[right]:\n",
        "        if nums[mid] < target and nums[right] >= target:\n",
        "          left = mid + 1\n",
        "        else:\n",
        "          right = mid - 1\n",
        "\n",
        "    return -1\n",
        "\n",
        "\n",
        "\n",
        "if __name__ == '__main__':\n",
        "  nums = [4,5,6,7,0,1,2] \n",
        "  target = 0\n",
        "  out_33 = 4\n",
        "  print(f'Solution33: {Solution33().search(nums, target)} \\nExpected: {out_33}')"
      ],
      "execution_count": 9,
      "outputs": [
        {
          "output_type": "stream",
          "text": [
            "Solution33: 4 \n",
            "Expected: 4\n"
          ],
          "name": "stdout"
        }
      ]
    },
    {
      "cell_type": "markdown",
      "metadata": {
        "id": "RumbaeXIfCtr"
      },
      "source": [
        "# Find Minimum in Rotated Sorted Array 153"
      ]
    },
    {
      "cell_type": "code",
      "metadata": {
        "colab": {
          "base_uri": "https://localhost:8080/"
        },
        "id": "d0Sx02xHfC5x",
        "outputId": "eef983ee-ff3a-40c7-db46-4ef6ead091c4"
      },
      "source": [
        "# Find Minimum in Rotated Sorted Array 153 Medium\n",
        "# https://leetcode.com/problems/find-minimum-in-rotated-sorted-array/\n",
        "\n",
        "# Suppose an array of length n sorted in ascending order is rotated between 1 and n times. \n",
        "# For example, the array nums = [0,1,2,4,5,6,7] might become:\n",
        "# [4,5,6,7,0,1,2] if it was rotated 4 times.\n",
        "# [0,1,2,4,5,6,7] if it was rotated 7 times.\n",
        "\n",
        "# Notice that rotating an array [a[0], a[1], a[2], ..., a[n-1]] \n",
        "# 1 time results in the array [a[n-1], a[0], a[1], a[2], ..., a[n-2]].\n",
        "# Given the sorted rotated array nums of unique elements, return the minimum element of this array.\n",
        "# You must write an algorithm that runs in O(log n) time.\n",
        "# Explanation: The original array was [1,2,3,4,5] rotated 3 times.\n",
        "\n",
        "class Solution153:\n",
        "  def findMin(self, nums):\n",
        "    left = 0\n",
        "    right = len(nums)\n",
        "    target = nums[-1]\n",
        "\n",
        "    while left < right:\n",
        "      mid = left + (right - left) // 2\n",
        "      if nums[mid] <= target:\n",
        "        rigth = mid\n",
        "      else:\n",
        "        left = mid + 1\n",
        "    return nums[left]\n",
        "\n",
        "  def findMin2(self, nums):\n",
        "      left = 0\n",
        "      right = len(nums) - 1\n",
        "\n",
        "      while left < right and nums[left] >= nums[right]:\n",
        "        mid = left + (right - left) // 2\n",
        "\n",
        "        if nums[mid] < nums[left]:\n",
        "          right = mid\n",
        "        else:\n",
        "          left = mid + 1\n",
        "      return nums[left]\n",
        "\n",
        "\n",
        "\n",
        "\n",
        "\n",
        "if __name__ == '__main__':\n",
        "  nums = [3, 4, 5, 1, 2]\n",
        "  out_153 = 1\n",
        "  print(f'Solution153: {Solution153().findMin2(nums)} \\nExpected: {out_153}')"
      ],
      "execution_count": 4,
      "outputs": [
        {
          "output_type": "stream",
          "text": [
            "Solution153: 1 \n",
            "Expected: 1\n"
          ],
          "name": "stdout"
        }
      ]
    },
    {
      "cell_type": "markdown",
      "metadata": {
        "id": "o-gM-ztZfDB6"
      },
      "source": [
        "# Search in Rotated Sorted Array II 81"
      ]
    },
    {
      "cell_type": "code",
      "metadata": {
        "colab": {
          "base_uri": "https://localhost:8080/"
        },
        "id": "sBzR21SJfDNy",
        "outputId": "a13b2065-8652-4c5c-80f9-5064f4fe8607"
      },
      "source": [
        "# Search in Rotated Sorted Array II 81 Medium\n",
        "# https://leetcode.com/problems/search-in-rotated-sorted-array-ii/\n",
        "\n",
        "# There is an integer array nums sorted in non-decreasing order (not necessarily with distinct values).\n",
        "# Before being passed to your function, nums is rotated at an unknown pivot index k (0 <= k < nums.length) \n",
        "# such that the resulting array is [nums[k], nums[k+1], ..., nums[n-1], nums[0], nums[1], ..., nums[k-1]] (0-indexed). \n",
        "# For example, [0,1,2,4,4,4,5,6,6,7] might be rotated at pivot index 5 and become [4,5,6,6,7,0,1,2,4,4].\n",
        "\n",
        "# Given the array nums after the rotation and an integer target, return true if target is in nums, or false if it is not in nums.\n",
        "# You must decrease the overall operation steps as much as possible.\n",
        "\n",
        "class Solution81:\n",
        "  def search(self, nums, target):\n",
        "    if len(nums) == 0:\n",
        "      return False\n",
        "\n",
        "    left = 0\n",
        "    right = len(nums) - 1\n",
        "\n",
        "    while left <= right - 1:\n",
        "      mid = left + (right - left) // 2\n",
        "      if nums[mid] == nums[right]:\n",
        "        right -= 1\n",
        "        continue\n",
        "      if nums[mid] == target:\n",
        "        return True\n",
        "      \n",
        "      if nums[mid] >= nums[left]:\n",
        "        if nums[left] <= target <= nums[mid]:\n",
        "          right = mid\n",
        "        else:\n",
        "          left = mid\n",
        "      else:\n",
        "        if nums[right] >= target >= nums[mid]:\n",
        "          left = mid\n",
        "        else:\n",
        "          right = mid\n",
        "      return True if nums[left] == target or nums[right] == target else False\n",
        "\n",
        "\n",
        "if __name__ == '__main__':\n",
        "  nums = [2, 5, 6, 0, 0, 1, 2]\n",
        "  target = 0\n",
        "  out_81 = 'true'\n",
        "  print(f'Solution: {Solution81().search(nums, target)} \\nExpected: {out_81}')\n"
      ],
      "execution_count": 16,
      "outputs": [
        {
          "output_type": "stream",
          "text": [
            "Solution: True \n",
            "Expected: true\n"
          ],
          "name": "stdout"
        }
      ]
    }
  ]
}