{
  "nbformat": 4,
  "nbformat_minor": 0,
  "metadata": {
    "colab": {
      "name": "leetcode_queue/stack.ipynb",
      "provenance": [],
      "collapsed_sections": []
    },
    "kernelspec": {
      "name": "python3",
      "display_name": "Python 3"
    },
    "language_info": {
      "name": "python"
    }
  },
  "cells": [
    {
      "cell_type": "code",
      "metadata": {
        "id": "OLG3xwdrQLfw"
      },
      "source": [
        "# Valid Parentheses 20 Easy"
      ],
      "execution_count": null,
      "outputs": []
    },
    {
      "cell_type": "markdown",
      "metadata": {
        "id": "OxDIBipxQNoz"
      },
      "source": [
        "# Valid Parentheses 20"
      ]
    },
    {
      "cell_type": "code",
      "metadata": {
        "colab": {
          "base_uri": "https://localhost:8080/"
        },
        "id": "gUIjvzp8QNfT",
        "outputId": "9d2452c4-82e6-48f8-87f9-0694d2ffb3bc"
      },
      "source": [
        "# Valid Parentheses 20 Easy\n",
        "# https://leetcode.com/problems/valid-parentheses/\n",
        "\n",
        "# Given a string s containing just the characters '(', ')', '{', '}', '[' and ']', determine if the input string is valid.\n",
        "# An input string is valid if:\n",
        "# 1. Open brackets must be closed by the same type of brackets.\n",
        "# 2. Open brackets must be closed in the correct order.\n",
        "\n",
        "# Constraints:\n",
        "# 1 <= s.length <= 104\n",
        "# s consists of parentheses only '()[]{}'.\n",
        "\n",
        "class Solution20:\n",
        "  def isValid(self, strs):\n",
        "    q = []\n",
        "    stack = {\"(\": \")\", \"{\": \"}\", \"[\": \"]\"}\n",
        "    for elem in strs:\n",
        "      if elem in stack:\n",
        "        q.append(elem)\n",
        "      elif len(q) == 0 or stack[q.pop()] != elem:\n",
        "        return False\n",
        "    return len(q) == 0\n",
        "\n",
        "\n",
        "if __name__ == '__main__':\n",
        "  s1 = '()'\n",
        "  out_s1 = 'true'\n",
        "  print(f'Solution20: {Solution20().isValid(s1)}\\nExpected: {out_s1}\\n')\n",
        "  \n",
        "  s2 = '()[]{}'\n",
        "  out_s2 = 'true'\n",
        "  print(f'Solution20: {Solution20().isValid(s2)}\\nExpected: {out_s2}\\n')\n",
        "\n",
        "  s3 = '(]'\n",
        "  out_s3 = 'false'\n",
        "  print(f'Solution20: {Solution20().isValid(s3)}\\nExpected: {out_s3}\\n')\n",
        "\n",
        "  s4 = '([)]'\n",
        "  out_s4 = 'false'\n",
        "  print(f'Solution20: {Solution20().isValid(s4)}\\nExpected: {out_s4}\\n')\n",
        "\n",
        "  s5 = '{[]}'\n",
        "  out_s5 = 'true'\n",
        "  print(f'Solution20: {Solution20().isValid(s5)}\\nExpected: {out_s5}\\n')\n"
      ],
      "execution_count": 2,
      "outputs": [
        {
          "output_type": "stream",
          "text": [
            "Solution20: True\n",
            "Expected: true\n",
            "\n",
            "Solution20: True\n",
            "Expected: true\n",
            "\n",
            "Solution20: False\n",
            "Expected: false\n",
            "\n",
            "Solution20: False\n",
            "Expected: false\n",
            "\n",
            "Solution20: True\n",
            "Expected: true\n",
            "\n"
          ],
          "name": "stdout"
        }
      ]
    }
  ]
}