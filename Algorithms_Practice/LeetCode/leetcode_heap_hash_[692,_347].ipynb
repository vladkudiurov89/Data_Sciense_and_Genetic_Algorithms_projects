{
  "nbformat": 4,
  "nbformat_minor": 0,
  "metadata": {
    "colab": {
      "name": "leetcode_heap/hash_[692, 347].ipynb",
      "provenance": [],
      "collapsed_sections": []
    },
    "kernelspec": {
      "name": "python3",
      "display_name": "Python 3"
    },
    "language_info": {
      "name": "python"
    }
  },
  "cells": [
    {
      "cell_type": "code",
      "metadata": {
        "id": "k-xVsEPQtgzR"
      },
      "source": [
        "# Top K Frequent Words 692 Medium\n",
        "# Top K Frequent Elements 347 Medium"
      ],
      "execution_count": null,
      "outputs": []
    },
    {
      "cell_type": "markdown",
      "metadata": {
        "id": "s2p3qT3iti5W"
      },
      "source": [
        "# Top K Frequent Words 692"
      ]
    },
    {
      "cell_type": "code",
      "metadata": {
        "colab": {
          "base_uri": "https://localhost:8080/"
        },
        "id": "3XuwrrvFtjBs",
        "outputId": "6e930494-e6e1-41fd-beae-f89217c30e51"
      },
      "source": [
        "# Top K Frequent Words 692 Medium\n",
        "# https://leetcode.com/problems/top-k-frequent-words/\n",
        "\n",
        "# Given an array of strings words and an integer k, return the k most frequent strings.\n",
        "# Return the answer sorted by the frequency from highest to lowest. Sort the words with the same frequency by their lexicographical order.\n",
        "\n",
        "# Constraints:\n",
        "# 1 <= words.length <= 500\n",
        "# 1 <= words[i] <= 10\n",
        "# words[i] consists of lowercase English letters.\n",
        "# k is in the range [1, The number of unique words[i]]\n",
        "# Follow-up: Could you solve it in O(n log(k)) time and O(n) extra space?\n",
        "\n",
        "from collections import Counter\n",
        "\n",
        "class Solution692:\n",
        "  def topKFrequent(self, words, k):\n",
        "    counts = Counter(words)\n",
        "    result = [[] for _ in range(len(words)+1)]\n",
        "    for word, count in counts.items():\n",
        "        result[count].append(word)\n",
        "    pairs = []\n",
        "    for i in reversed(range(len(words))):\n",
        "        for word in result[i]:\n",
        "            pairs.append((-i, word))\n",
        "        if len(pairs) >= k:\n",
        "            break\n",
        "    pairs.sort()\n",
        "    return [pair[1] for pair in pairs[:k]]\n",
        "\n",
        "\n",
        "if __name__ == '__main__':\n",
        "  words = [\"i\", \"love\", \"leetcode\", \"i\", \"love\", \"coding\"]\n",
        "  k = 2\n",
        "  out_692 = ['i', 'love']\n",
        "  # Explanation: \"i\" and \"love\" are the two most frequent words.\n",
        "  # Note that \"i\" comes before \"love\" due to a lower alphabetical order.\n",
        "  print(f'Input: {words}')\n",
        "  print(f'Solution692: {Solution692().topKFrequent(words, k)}\\nExpected: {out_692}\\n')\n",
        "\n",
        "  words_1 = [\"the\", \"day\", \"is\", \"sunny\", \"the\", \"the\", \"the\", \"sunny\", \"is\", \"is\"]\n",
        "  k_1 = 4\n",
        "  out_692_1 = [\"the\", \"is\", \"sunny\", \"day\"]\n",
        "  # Explanation: \"the\", \"is\", \"sunny\" and \"day\" are the four most frequent words, \n",
        "  # with the number of occurrence being 4, 3, 2 and 1 respectively.\n",
        "  print(f'Input: {words_1}')\n",
        "  print(f'Solution692: {Solution692().topKFrequent(words_1, k_1)}\\nExpected: {out_692_1}\\n')"
      ],
      "execution_count": 14,
      "outputs": [
        {
          "output_type": "stream",
          "text": [
            "Input: ['i', 'love', 'leetcode', 'i', 'love', 'coding']\n",
            "Solution692: ['i', 'love']\n",
            "Expected: ['i', 'love']\n",
            "\n",
            "Input: ['the', 'day', 'is', 'sunny', 'the', 'the', 'the', 'sunny', 'is', 'is']\n",
            "Solution692: ['the', 'is', 'sunny', 'day']\n",
            "Expected: ['the', 'is', 'sunny', 'day']\n",
            "\n"
          ],
          "name": "stdout"
        }
      ]
    },
    {
      "cell_type": "markdown",
      "metadata": {
        "id": "zQZtyMvNtkXx"
      },
      "source": [
        "# # Top K Frequent Elements 347"
      ]
    },
    {
      "cell_type": "code",
      "metadata": {
        "colab": {
          "base_uri": "https://localhost:8080/"
        },
        "id": "8wSyOlrutkis",
        "outputId": "08f55c1b-be64-47a1-95d8-145133678405"
      },
      "source": [
        "# Top K Frequent Elements 347 Medium\n",
        "# https://leetcode.com/problems/top-k-frequent-elements/\n",
        "\n",
        "# Given an integer array nums and an integer k, return the k most frequent elements. You may return the answer in any order.\n",
        "\n",
        "# Constraints:\n",
        "# 1 <= nums.length <= 105\n",
        "# k is in the range [1, the number of unique elements in the array].\n",
        "# It is guaranteed that the answer is unique.\n",
        "# Follow up: Your algorithm's time complexity must be better than O(n log n), where n is the array's size.\n",
        "from collections import Counter\n",
        "\n",
        "class Solution347:\n",
        "  def topKFrequent(self, nums, k):\n",
        "    \n",
        "    return [i for i, _ in Counter(nums).most_common(k)]\n",
        "\n",
        "\n",
        "if __name__ == '__main__':\n",
        "  nums = [1, 1, 1, 2, 2, 3] \n",
        "  k = 2\n",
        "  out_347 = [1, 2]\n",
        "  print(f'Input nums: {nums}\\nInput k: {k}')\n",
        "  print(f'Solution: {Solution347().topKFrequent(nums, k)}\\nExpected: {out_347}\\n')\n",
        "\n",
        "  nums_1 = [1]\n",
        "  k_1 = 1\n",
        "  out_347_1 = [1]\n",
        "  print(f'Input nums: {nums_1}\\nInput k: {k_1}')\n",
        "  print(f'Solution: {Solution347().topKFrequent(nums_1, k_1)}\\nExpected: {out_347_1}')\n"
      ],
      "execution_count": 16,
      "outputs": [
        {
          "output_type": "stream",
          "text": [
            "Input nums: [1, 1, 1, 2, 2, 3]\n",
            "Input k: 2\n",
            "Solution: [1, 2]\n",
            "Expected: [1, 2]\n",
            "\n",
            "Input nums: [1]\n",
            "Input k: 1\n",
            "Solution: [1]\n",
            "Expected: [1]\n"
          ],
          "name": "stdout"
        }
      ]
    },
    {
      "cell_type": "markdown",
      "metadata": {
        "id": "ascfpGFX9yMe"
      },
      "source": [
        "Approach 1: Heap\n",
        "Let's start from the simple heap approach with \\mathcal{O}(N \\log k)O(Nlogk) time complexity. To ensure that \\mathcal{O}(N \\log k)O(Nlogk) is always less than \\mathcal{O}(N \\log N)O(NlogN), the particular case k = Nk=N could be considered separately and solved in \\mathcal{O}(N)O(N) time.\n",
        "\n",
        "Algorithm\n",
        "\n",
        "The first step is to build a hash map element -> its frequency. In Java, we use the data structure HashMap. Python provides dictionary subclass Counter to initialize the hash map we need directly from the input array.\n",
        "This step takes \\mathcal{O}(N)O(N) time where N is a number of elements in the list.\n",
        "\n",
        "The second step is to build a heap of size k using N elements. To add the first k elements takes a linear time \\mathcal{O}(k)O(k) in the average case, and \\mathcal{O}(\\log 1 + \\log 2 + ... + \\log k) = \\mathcal{O}(log k!) = \\mathcal{O}(k \\log k)O(log1+log2+...+logk)=O(logk!)=O(klogk) in the worst case. It's equivalent to heapify implementation in Python. After the first k elements we start to push and pop at each step, N - k steps in total. The time complexity of heap push/pop is \\mathcal{O}(\\log k)O(logk) and we do it N - k times that means \\mathcal{O}((N - k)\\log k)O((N−k)logk) time complexity. Adding both parts up, we get \\mathcal{O}(N \\log k)O(Nlogk) time complexity for the second step.\n",
        "\n",
        "The third and the last step is to convert the heap into an output array. That could be done in \\mathcal{O}(k \\log k)O(klogk) time.\n",
        "\n",
        "In Python, library heapq provides a method nlargest, which combines the last two steps under the hood and has the same \\mathcal{O}(N \\log k)O(Nlogk) time complexity."
      ]
    },
    {
      "cell_type": "code",
      "metadata": {
        "colab": {
          "base_uri": "https://localhost:8080/"
        },
        "id": "iwDVjYQ58zmm",
        "outputId": "e69647a8-aec7-49f7-c02c-e2f2f59f5ddf"
      },
      "source": [
        "from collections import Counter\n",
        "class Solution:\n",
        "    def topKFrequent(self, nums, k): \n",
        "        # O(1) time \n",
        "        if k == len(nums):\n",
        "            return nums\n",
        "        \n",
        "        # 1. build hash map : character and how often it appears\n",
        "        # O(N) time\n",
        "        count = Counter(nums)   \n",
        "        # 2-3. build heap of top k frequent elements and\n",
        "        # convert it into an output array\n",
        "        # O(N log k) time\n",
        "        return heapq.nlargest(k, count.keys(), key=count.get)\n",
        "\n",
        "if __name__ == '__main__':\n",
        "  nums = [1, 1, 1, 2, 2, 3] \n",
        "  k = 2\n",
        "  out_347 = [1, 2]\n",
        "  print(f'Input nums: {nums}\\nInput k: {k}')\n",
        "  print(f'Solution: {Solution347().topKFrequent(nums, k)}\\nExpected: {out_347}\\n')\n",
        "\n",
        "  nums_1 = [1]\n",
        "  k_1 = 1\n",
        "  out_347_1 = [1]\n",
        "  print(f'Input nums: {nums_1}\\nInput k: {k_1}')\n",
        "  print(f'Solution: {Solution347().topKFrequent(nums_1, k_1)}\\nExpected: {out_347_1}')"
      ],
      "execution_count": 19,
      "outputs": [
        {
          "output_type": "stream",
          "text": [
            "Input nums: [1, 1, 1, 2, 2, 3]\n",
            "Input k: 2\n",
            "Solution: [1, 2]\n",
            "Expected: [1, 2]\n",
            "\n",
            "Input nums: [1]\n",
            "Input k: 1\n",
            "Solution: [1]\n",
            "Expected: [1]\n"
          ],
          "name": "stdout"
        }
      ]
    },
    {
      "cell_type": "markdown",
      "metadata": {
        "id": "mxJvRXG79-P-"
      },
      "source": [
        "Complexity Analysis\n",
        "\n",
        "Time complexity : \\mathcal{O}(N \\log k)O(Nlogk) if k < Nk<N and \\mathcal{O}(N)O(N) in the particular case of N = kN=k. That ensures time complexity to be better than \\mathcal{O}(N \\log N)O(NlogN).\n",
        "\n",
        "Space complexity : \\mathcal{O}(N + k)O(N+k) to store the hash map with not more NN elements and a heap with kk elements."
      ]
    },
    {
      "cell_type": "code",
      "metadata": {
        "colab": {
          "base_uri": "https://localhost:8080/"
        },
        "id": "7XGSJ8pO9D5O",
        "outputId": "92ab62ad-ed4f-48bb-ea65-cc85d2061b4c"
      },
      "source": [
        "# Algorithm\n",
        "# The algorithm is quite straightforward :\n",
        "# Build a hash map element -> its frequency and convert its keys into the array unique of unique elements. \n",
        "# Note that elements are unique, but their frequencies are not. That means we need a partition algorithm that works fine with duplicates.\n",
        "# Work with unique array. Use a partition scheme (please check the next section) to place the pivot into its perfect position pivot_index in the sorted array, \n",
        "# move less frequent elements to the left of pivot, and more frequent or of the same frequency - to the right.\n",
        "\n",
        "# Compare pivot_index and N - k.\n",
        "# If pivot_index == N - k, the pivot is N - kth most frequent element, and all elements on the right are more frequent or of the same frequency. \n",
        "# Return these top kk frequent elements.\n",
        "\n",
        "# Otherwise, choose the side of the array to proceed recursively.\n",
        "\n",
        "from collections import Counter\n",
        "class Solution:\n",
        "    def topKFrequent(self, nums, k):\n",
        "        count = Counter(nums)\n",
        "        unique = list(count.keys())\n",
        "        \n",
        "        def partition(left, right, pivot_index) -> int:\n",
        "            pivot_frequency = count[unique[pivot_index]]\n",
        "            # 1. move pivot to end\n",
        "            unique[pivot_index], unique[right] = unique[right], unique[pivot_index]  \n",
        "            \n",
        "            # 2. move all less frequent elements to the left\n",
        "            store_index = left\n",
        "            for i in range(left, right):\n",
        "                if count[unique[i]] < pivot_frequency:\n",
        "                    unique[store_index], unique[i] = unique[i], unique[store_index]\n",
        "                    store_index += 1\n",
        "\n",
        "            # 3. move pivot to its final place\n",
        "            unique[right], unique[store_index] = unique[store_index], unique[right]  \n",
        "            \n",
        "            return store_index\n",
        "        \n",
        "        def quickselect(left, right, k_smallest) -> None:\n",
        "            \"\"\"\n",
        "            Sort a list within left..right till kth less frequent element\n",
        "            takes its place. \n",
        "            \"\"\"\n",
        "            # base case: the list contains only one element\n",
        "            if left == right: \n",
        "                return\n",
        "            \n",
        "            # select a random pivot_index\n",
        "            pivot_index = random.randint(left, right)     \n",
        "                            \n",
        "            # find the pivot position in a sorted list   \n",
        "            pivot_index = partition(left, right, pivot_index)\n",
        "            \n",
        "            # if the pivot is in its final sorted position\n",
        "            if k_smallest == pivot_index:\n",
        "                 return \n",
        "            # go left\n",
        "            elif k_smallest < pivot_index:\n",
        "                quickselect(left, pivot_index - 1, k_smallest)\n",
        "            # go right\n",
        "            else:\n",
        "                quickselect(pivot_index + 1, right, k_smallest)\n",
        "         \n",
        "        n = len(unique) \n",
        "        # kth top frequent element is (n - k)th less frequent.\n",
        "        # Do a partial sort: from less frequent to the most frequent, till\n",
        "        # (n - k)th less frequent element takes its place (n - k) in a sorted array. \n",
        "        # All element on the left are less frequent.\n",
        "        # All the elements on the right are more frequent.  \n",
        "        quickselect(0, n - 1, n - k)\n",
        "        # Return top k frequent elements\n",
        "        return unique[n - k:]\n",
        "\n",
        "if __name__ == '__main__':\n",
        "  nums = [1, 1, 1, 2, 2, 3] \n",
        "  k = 2\n",
        "  out_347 = [1, 2]\n",
        "  print(f'Input nums: {nums}\\nInput k: {k}')\n",
        "  print(f'Solution: {Solution347().topKFrequent(nums, k)}\\nExpected: {out_347}\\n')\n",
        "\n",
        "  nums_1 = [1]\n",
        "  k_1 = 1\n",
        "  out_347_1 = [1]\n",
        "  print(f'Input nums: {nums_1}\\nInput k: {k_1}')\n",
        "  print(f'Solution: {Solution347().topKFrequent(nums_1, k_1)}\\nExpected: {out_347_1}')"
      ],
      "execution_count": 20,
      "outputs": [
        {
          "output_type": "stream",
          "text": [
            "Input nums: [1, 1, 1, 2, 2, 3]\n",
            "Input k: 2\n",
            "Solution: [1, 2]\n",
            "Expected: [1, 2]\n",
            "\n",
            "Input nums: [1]\n",
            "Input k: 1\n",
            "Solution: [1]\n",
            "Expected: [1]\n"
          ],
          "name": "stdout"
        }
      ]
    }
  ]
}