{
  "nbformat": 4,
  "nbformat_minor": 0,
  "metadata": {
    "colab": {
      "name": "leetcode_linked_list.ipynb",
      "provenance": [],
      "collapsed_sections": [],
      "machine_shape": "hm"
    },
    "kernelspec": {
      "name": "python3",
      "display_name": "Python 3"
    },
    "language_info": {
      "name": "python"
    }
  },
  "cells": [
    {
      "cell_type": "code",
      "metadata": {
        "id": "VB9_GiQj9y1g"
      },
      "source": [
        "# Merge K Sorted Lists 23 Hard \n",
        "# Linked List Cycle 141 Easy\n",
        "# Add Two Numbers 2 Medium\n",
        "# Reverse Linked List 206 Easy"
      ],
      "execution_count": null,
      "outputs": []
    },
    {
      "cell_type": "markdown",
      "metadata": {
        "id": "d7N-AKdM-Dp8"
      },
      "source": [
        "# Linked List"
      ]
    },
    {
      "cell_type": "markdown",
      "metadata": {
        "id": "k_azxwh8-H-Z"
      },
      "source": [
        "# Merge k Sorted List 23"
      ]
    },
    {
      "cell_type": "code",
      "metadata": {
        "colab": {
          "base_uri": "https://localhost:8080/"
        },
        "id": "bzkAEK8u-JFk",
        "outputId": "22000099-e0be-4d6c-8323-0738fd545376"
      },
      "source": [
        "# 23. Merge k Sorted Lists Hard\n",
        "# https://leetcode.com/problems/merge-k-sorted-lists/\n",
        "\n",
        "# You are given an array of k linked-lists lists, each linked-list is sorted in ascending order.\n",
        "# Merge all the linked-lists into one sorted linked-list and return it.\n",
        "\n",
        "# Explanation: The linked-lists are:\n",
        "# [\n",
        "#   1->4->5,\n",
        "#   1->3->4,\n",
        "#   2->6\n",
        "# ]\n",
        "# merging them into one sorted list:\n",
        "# 1->1->2->3->4->4->5->6\n",
        "\n",
        "# heapq - обеспечивает реализацию алгоритма очереди кучи, также известного как алгоритм очереди приоритетов\n",
        "import heapq\n",
        "\n",
        "class ListNode:\n",
        "  def __init__(self, val=0, next=None):\n",
        "    self.val = val\n",
        "    self.next = next\n",
        "  \n",
        "  # def __repr__(self):\n",
        "  #   if self:\n",
        "  #     return '{} -> {}'.format(self.val, self.next)\n",
        "\n",
        "\n",
        "class Solution23:\n",
        "  def mergeKLists(self, lists):\n",
        "    q = []\n",
        "    res = []\n",
        "    test_list = ListNode()\n",
        "\n",
        "    for elem in lists:\n",
        "      while elem:\n",
        "        heapq.heappush(q, test_list.val)\n",
        "        elem = test_list.next\n",
        "    \n",
        "    dummy = n = ListNode(0)\n",
        "    while q:\n",
        "      node = ListNode(heapq.heappop(q))\n",
        "      n.next = node\n",
        "      n = n.next\n",
        "    return dummy.next\n",
        "\n",
        "\n",
        "if __name__ == '__main__':\n",
        "  Solution23().mergeKLists(Input_lists)\n",
        "\n",
        "  Input_lists = [[1, 4, 5], [1, 3, 4], [2, 6]]\n",
        "  Output_list = [1, 1, 2, 3, 4, 4, 5, 6]\n",
        "  print(f'{Solution23().mergeKLists(Input_lists)}')"
      ],
      "execution_count": null,
      "outputs": [
        {
          "output_type": "stream",
          "text": [
            "<__main__.ListNode object at 0x7fa20e468e50>\n"
          ],
          "name": "stdout"
        }
      ]
    },
    {
      "cell_type": "code",
      "metadata": {
        "colab": {
          "base_uri": "https://localhost:8080/"
        },
        "id": "jQEk1zacVtGs",
        "outputId": "61bd2394-2e21-4f8e-db06-5704dbbb7a90"
      },
      "source": [
        "# Time:  O(nlogk)\n",
        "# Space: O(1)\n",
        "\n",
        "# Merge k sorted linked lists and return it as one sorted list.\n",
        "# Analyze and describe its complexity.\n",
        "\n",
        "# Definition for singly-linked list.\n",
        "class ListNode(object):\n",
        "    def __init__(self, x):\n",
        "        self.val = x\n",
        "        self.next = None\n",
        "\n",
        "    def __repr__(self):\t\t\n",
        "        if self:\t\t\n",
        "            return \"{} -> {}\".format(self.val, self.next)\n",
        "\n",
        "\n",
        "# Merge two by two solution.\n",
        "class Solution(object):\n",
        "    def mergeKLists(self, lists):\n",
        "        \"\"\"\n",
        "        :type lists: List[ListNode]\n",
        "        :rtype: ListNode\n",
        "        \"\"\"\n",
        "        def mergeTwoLists(l1, l2):\n",
        "            curr = dummy = ListNode(0)\n",
        "            while l1 and l2:\n",
        "                if l1.val < l2.val:\n",
        "                    curr.next = l1\n",
        "                    l1 = l1.next\n",
        "                else:\n",
        "                    curr.next = l2\n",
        "                    l2 = l2.next\n",
        "                curr = curr.next\n",
        "            curr.next = l1 or l2\n",
        "            return dummy.next\n",
        "\n",
        "        if not lists:\n",
        "            return None\n",
        "        left, right = 0, len(lists) - 1;\n",
        "        while right > 0:\n",
        "            if left >= right:\n",
        "                left = 0\n",
        "            else:\n",
        "                lists[left] = mergeTwoLists(lists[left], lists[right])\n",
        "                left += 1\n",
        "                right -= 1\n",
        "        return lists[0]\n",
        "\n",
        "\n",
        "# Time:  O(nlogk)\n",
        "# Space: O(logk)\n",
        "# Divide and Conquer solution.\n",
        "\n",
        "class Solution2:\n",
        "\n",
        "    def mergeKLists(self, lists):\n",
        "        def mergeTwoLists(l1, l2):\n",
        "            curr = dummy = ListNode(0)\n",
        "            while l1 and l2:\n",
        "                if l1.val < l2.val:\n",
        "                    curr.next = l1\n",
        "                    l1 = l1.next\n",
        "                else:\n",
        "                    curr.next = l2\n",
        "                    l2 = l2.next\n",
        "                curr = curr.next\n",
        "            curr.next = l1 or l2\n",
        "            return dummy.next\n",
        "    \n",
        "        def mergeKListsHelper(lists, begin, end):\n",
        "            if begin > end:\n",
        "                return None\n",
        "            if begin == end:\n",
        "                return lists[begin]\n",
        "            return mergeTwoLists(mergeKListsHelper(lists, begin, (begin + end) / 2), \\\n",
        "                                 mergeKListsHelper(lists, (begin + end) / 2 + 1, end))\n",
        "   \n",
        "        return mergeKListsHelper(lists, 0, len(lists) - 1)\n",
        "\n",
        "\n",
        "# Time:  O(nlogk)\n",
        "# Space: O(k)\n",
        "# Heap solution.\n",
        "import heapq\n",
        "class Solution3:\n",
        "    def mergeKLists(self, lists):\n",
        "        dummy = ListNode(0)\n",
        "        current = dummy\n",
        "        \n",
        "        heap = []\n",
        "        for sorted_list in lists:\n",
        "            if sorted_list:\n",
        "                heapq.heappush(heap, (sorted_list.val, sorted_list))\n",
        "                \n",
        "        while heap:\n",
        "            smallest = heapq.heappop(heap)[1]\n",
        "            current.next = smallest\n",
        "            current = current.next\n",
        "            if smallest.next:\n",
        "                heapq.heappush(heap, (smallest.next.val, smallest.next))\n",
        "                \n",
        "        return dummy.next\n",
        "\n",
        "\n",
        "if __name__ == \"__main__\":\n",
        "    list1 = ListNode(1)\n",
        "    list1.next = ListNode(3)\n",
        "    list2 = ListNode(2)\n",
        "    list2.next = ListNode(4)\n",
        "    print(Solution().mergeKLists([list1, list2])) "
      ],
      "execution_count": 26,
      "outputs": [
        {
          "output_type": "stream",
          "text": [
            "1 -> 2 -> 3 -> 4 -> None\n"
          ],
          "name": "stdout"
        }
      ]
    },
    {
      "cell_type": "markdown",
      "metadata": {
        "id": "VVd6zOvy-Q0V"
      },
      "source": [
        "# Linked List Cycle 141"
      ]
    },
    {
      "cell_type": "code",
      "metadata": {
        "id": "V2xBafoj-JIk",
        "colab": {
          "base_uri": "https://localhost:8080/"
        },
        "outputId": "090d1966-c629-4398-94ae-929fe53d77d7"
      },
      "source": [
        "# 141. Linked List Cycle Easy\n",
        "# https://leetcode.com/problems/linked-list-cycle/\n",
        "\n",
        "# Given head, the head of a linked list, determine if the linked list has a cycle in it.\n",
        "# There is a cycle in a linked list if there is some node in the list that can be reached again by continuously following the next pointer. \n",
        "# Internally, pos is used to denote the index of the node that tail's next pointer is connected to. Note that pos is not passed as a parameter.\n",
        "# Return true if there is a cycle in the linked list. Otherwise, return false.\n",
        "\n",
        "head = [3, 2, 0, -4]\n",
        "pos = 1\n",
        "Output_task = 'true'\n",
        "\n",
        "# Definition for singly-linked list.\n",
        "# class ListNode:\n",
        "#     def __init__(self, x):\n",
        "#         self.val = x\n",
        "#         self.next = None\n",
        "\n",
        "class Solution141:\n",
        "  def hasCycle(self, head):\n",
        "    left, right = head, head\n",
        "\n",
        "    while left and left.next:\n",
        "      left, right = left.next.next, right.next\n",
        "      if left is right:\n",
        "        return True\n",
        "    return False\n",
        "\n",
        "\n",
        "if __name__ == '__main__':\n",
        "    head = ListNode(1)\n",
        "    head.next = ListNode(2)\n",
        "    head.next.next = ListNode(3)\n",
        "    head.next.next.next = head.next\n",
        "    print(Solution141().hasCycle(head)) "
      ],
      "execution_count": 28,
      "outputs": [
        {
          "output_type": "stream",
          "text": [
            "True\n"
          ],
          "name": "stdout"
        }
      ]
    },
    {
      "cell_type": "markdown",
      "metadata": {
        "id": "DTxYAU3bWMQH"
      },
      "source": [
        "# Add Two Numbers 2"
      ]
    },
    {
      "cell_type": "code",
      "metadata": {
        "id": "-MlAVl0p-JLW"
      },
      "source": [
        "# 2. Add Two Numbers Medium\n",
        "# https://leetcode.com/problems/add-two-numbers/\n",
        "\n",
        "# You are given two non-empty linked lists representing two non-negative integers. \n",
        "# The digits are stored in reverse order, and each of their nodes contains a single digit. \n",
        "# Add the two numbers and return the sum as a linked list.\n",
        "\n",
        "# You may assume the two numbers do not contain any leading zero, except the number 0 itself.\n",
        "l1 = [2, 4, 3] \n",
        "l2 = [5, 6, 4]\n",
        "out_list = [7, 0, 8]\n",
        "Explanation = '342 + 465 = 807'\n",
        "\n",
        "# Definition for singly-linked list.\n",
        "class ListNode:\n",
        "    def __init__(self, val=0, next=None):\n",
        "        self.val = val\n",
        "        self.next = next\n",
        "\n",
        "class Solution2:\n",
        "    def addTwoNumbers(self, l1: ListNode, l2: ListNode) -> ListNode:\n",
        "      dummy = cur = ListNode(0)\n",
        "      summ = 0\n",
        "      \n",
        "      while summ or l1 or l2:\n",
        "          if l1:\n",
        "              summ += l1.val\n",
        "              l1 = l1.next\n",
        "          if l2:\n",
        "              summ += l2.val\n",
        "              l2 = l2.next\n",
        "          cur.next = ListNode(summ % 10)\n",
        "          cur = cur.next\n",
        "          summ //= 10\n",
        "      return dummy.next"
      ],
      "execution_count": 29,
      "outputs": []
    },
    {
      "cell_type": "markdown",
      "metadata": {
        "id": "Ytk5siU6YQyy"
      },
      "source": [
        "# Reverse Linked List 206"
      ]
    },
    {
      "cell_type": "code",
      "metadata": {
        "colab": {
          "base_uri": "https://localhost:8080/"
        },
        "id": "P361k6-2YRKD",
        "outputId": "0743ae57-dc63-4f14-b898-4201632ceab2"
      },
      "source": [
        "# Reverse Linked List 206 Easy\n",
        "# https://leetcode.com/problems/reverse-linked-list/\n",
        "\n",
        "# Given the head of a singly linked list, reverse the list, and return the reversed list.\n",
        "\n",
        "head = [1, 2, 3, 4, 5]\n",
        "Out_task = [5, 4, 3, 2, 1]\n",
        "\n",
        "# Definition for singly-linked list.\n",
        "class ListNode:\n",
        "    def __init__(self, val=0, next=None):\n",
        "        self.val = val\n",
        "        self.next = next\n",
        "    \n",
        "    def __repr__(self):\n",
        "      if self:\n",
        "        return \"{} -> {}\".format(self.val, repr(self.next))\n",
        "\n",
        "\n",
        "class Solution206:\n",
        "    def reverseList(self, head: Optional[ListNode]) -> Optional[ListNode]:\n",
        "      dummy = ListNode(float('-inf'))\n",
        "      \n",
        "      while head:\n",
        "        dummy.next, head.next, head = head, dummy.next, head.next\n",
        "      return dummy.next\n",
        "\n",
        "    def reverseList2(self, head):\n",
        "      [start, finish] = self.reverseListRec(head)\n",
        "      return start\n",
        "\n",
        "    def reverseListRec(self, head):\n",
        "      if not head:\n",
        "        return [None, None]\n",
        "\n",
        "      [start, finish] = self.reverseListRec(head.next)\n",
        "\n",
        "      if finish:\n",
        "        finish.next = head\n",
        "        head.next = None\n",
        "        return [start, head]\n",
        "      else:\n",
        "        return [head, head]\n",
        "\n",
        "\n",
        "\n",
        "if __name__ == \"__main__\":\n",
        "    head = ListNode(1)\n",
        "    head.next = ListNode(2)\n",
        "    head.next.next = ListNode(3)\n",
        "    head.next.next.next = ListNode(4)\n",
        "    head.next.next.next.next = ListNode(5)\n",
        "    print(Solution206().reverseList2(head))     \n",
        "    \n"
      ],
      "execution_count": 35,
      "outputs": [
        {
          "output_type": "stream",
          "text": [
            "5 -> 4 -> 3 -> 2 -> 1 -> None\n"
          ],
          "name": "stdout"
        }
      ]
    }
  ]
}