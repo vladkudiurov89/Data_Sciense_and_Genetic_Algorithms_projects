{
  "nbformat": 4,
  "nbformat_minor": 0,
  "metadata": {
    "colab": {
      "name": "Euclid's_Algorithm.ipynb",
      "provenance": [],
      "collapsed_sections": []
    },
    "kernelspec": {
      "name": "python3",
      "display_name": "Python 3"
    },
    "language_info": {
      "name": "python"
    }
  },
  "cells": [
    {
      "cell_type": "markdown",
      "metadata": {
        "id": "fn677rtIjB_s"
      },
      "source": [
        "# Алгоритм Эвклида"
      ]
    },
    {
      "cell_type": "markdown",
      "metadata": {
        "id": "JH2DNzf2jMIY"
      },
      "source": [
        "Алгоритм Евклида — это алгоритм, который используется для нахождения наибольшего делителя двух целых чисел. Он часто используется как в обучающих целях, так и в прикладных задачах.\n",
        "\n",
        "Существует несколько видов алгоритма: обычный, расширенный и бинарный. Все виды алгоритма Евклида легко реализуются на языке программирования Python"
      ]
    },
    {
      "cell_type": "markdown",
      "metadata": {
        "id": "KUQRoNeGjXQw"
      },
      "source": [
        "# Реализация с помощью остатка от деления"
      ]
    },
    {
      "cell_type": "code",
      "metadata": {
        "colab": {
          "base_uri": "https://localhost:8080/"
        },
        "id": "vDQzOtLChsLf",
        "outputId": "45df4fec-014f-449f-99b1-62db32052dcd"
      },
      "source": [
        "# Код алгоритма Евклида на Python\n",
        "def gcd_rem_division(num1, num2):\n",
        "  while num1 != 0 and num2 !=0:\n",
        "    if num1 >= num2:\n",
        "      num1 %= num2\n",
        "    else:\n",
        "      num2 %= num1\n",
        "  return num1 or num2\n",
        "\n",
        "num1 = 4851\n",
        "num2 = 3003\n",
        "ex_num = 231\n",
        "print(f'GCD Rem Division: {gcd_rem_division(num1, num2)}\\nExpected num: {ex_num}')"
      ],
      "execution_count": 3,
      "outputs": [
        {
          "output_type": "stream",
          "text": [
            "Gcd Rem Division: 231\n",
            "Expected num: 231\n"
          ],
          "name": "stdout"
        }
      ]
    },
    {
      "cell_type": "markdown",
      "metadata": {
        "id": "DWfWjKhSkpBH"
      },
      "source": [
        "# Реализация с помощью вычитания"
      ]
    },
    {
      "cell_type": "code",
      "metadata": {
        "colab": {
          "base_uri": "https://localhost:8080/"
        },
        "id": "CtlrufXvksF9",
        "outputId": "fa4bbbd9-6a68-4c5d-a774-d08961536c73"
      },
      "source": [
        "# Код вычисления НОД на Python\n",
        "def gcd_subtraction(num1, num2):\n",
        "  while num1 != 0 and num2 != 0:\n",
        "    if num1 >= num2:\n",
        "      num1 -= num2\n",
        "    else:\n",
        "      num2 -= num1\n",
        "  return num1 or num2\n",
        "\n",
        "num1 = 4851\n",
        "num2 = 3003\n",
        "ex_num = 231\n",
        "print(f'GCD Subtraction: {gcd_subtraction(num1, num2)}\\nExpected num: {ex_num}')"
      ],
      "execution_count": 4,
      "outputs": [
        {
          "output_type": "stream",
          "text": [
            "Gcd Subtraction: 231\n",
            "Expected num: 231\n"
          ],
          "name": "stdout"
        }
      ]
    },
    {
      "cell_type": "markdown",
      "metadata": {
        "id": "Ad6RfxYGlZ7d"
      },
      "source": [
        "# Реализация с помощью рекурсии"
      ]
    },
    {
      "cell_type": "code",
      "metadata": {
        "colab": {
          "base_uri": "https://localhost:8080/"
        },
        "id": "9js0HMFClaE9",
        "outputId": "bac6cb50-20c8-441f-df1c-a32d27d2c492"
      },
      "source": [
        "# Код программы на Python нахождения НОД с помощью рекурсии\n",
        "def gcd_recursion(num1, num2):\n",
        "  if num1 == 0:\n",
        "    return num2\n",
        "  return gcd_recursion(num2 % num1, num1)\n",
        "\n",
        "\n",
        "num1 = 4851\n",
        "num2 = 3003\n",
        "ex_num = 231\n",
        "print(f'GCD Recursion: {gcd_recursion(num1, num2)}\\nExpected num: {ex_num}')"
      ],
      "execution_count": 6,
      "outputs": [
        {
          "output_type": "stream",
          "text": [
            "Gcd Recursion: 231\n",
            "Expected num: 231\n"
          ],
          "name": "stdout"
        }
      ]
    },
    {
      "cell_type": "markdown",
      "metadata": {
        "id": "CxWIMvSymr7H"
      },
      "source": [
        "# Расширенный алгоритма Евклида"
      ]
    },
    {
      "cell_type": "markdown",
      "metadata": {
        "id": "h7lfYaXBnzxR"
      },
      "source": [
        "Расширенный алгоритм также находит наибольший общий делитель, а ещё он определяет два коэффициента x и y, такие что:\n",
        "\n",
        "ax + by = gcd(a,b)\n",
        "\n",
        "где gcd – это функция по нахождения НОД."
      ]
    },
    {
      "cell_type": "code",
      "metadata": {
        "colab": {
          "base_uri": "https://localhost:8080/"
        },
        "id": "MSThLEkfmsDb",
        "outputId": "312899ab-370f-4d86-fe67-8b56079326c4"
      },
      "source": [
        "# gcd – это аббревиатура, которую часто используют для обозначения функции по назначению НОД:\n",
        "# g – Greatest (наибольший);\n",
        "# c – Common (общий);\n",
        "# d – Divisor (делитель).\n",
        "# Реализация на Python Код программы выглядит так:\n",
        "\n",
        "def gcd_extended(num1, num2):\n",
        "  if num1 == 0:\n",
        "    return (num2, 0, 1)\n",
        "  else:\n",
        "    div, x, y = gcd_extended(num2 % num1, num1)\n",
        "  return (div, y - (num2 // num1) * x, x)\n",
        "\n",
        "\n",
        "num1 = 4851\n",
        "num2 = 3003\n",
        "ex_num = 231\n",
        "alg_test = gcd_extended(num1, num2)\n",
        "print(f'Делитель: {alg_test[0]}\\nX: {alg_test[1]}\\nY:{alg_test[2]}')"
      ],
      "execution_count": 8,
      "outputs": [
        {
          "output_type": "stream",
          "text": [
            "Делитель: 231\n",
            "X: 5\n",
            "Y:-8\n"
          ],
          "name": "stdout"
        }
      ]
    },
    {
      "cell_type": "markdown",
      "metadata": {
        "id": "JljYsowBolQz"
      },
      "source": [
        "Подставим полученные коэффициенты в формулу, тогда:\n",
        "\n",
        "69*426-334*88 = 2\n",
        "\n",
        "Действительно, коэффициенты и делитель найдены правильно. Но как работает алгоритм?\n",
        "\n",
        "Сначала проверяется, равно ли первое число нулю, если это так, то второе число является делителем, а коэффициенты равны 0 и 1, так как «num1 * x + num2 * y = y» в том случае, если y = 1, а левое произведение равно нулю.\n",
        "\n",
        "Функция возвращает три числа: делитель, коэффициент x и коэффициент y. Для её реализации используется рекурсия, делитель получается тем же образом, что и в классическом рекурсивным алгоритме, а коэффициенты рекурсивно вычисляются по формулам:\n",
        "\n",
        "x = y — (num2 // num1) * x\n",
        "y = x"
      ]
    },
    {
      "cell_type": "markdown",
      "metadata": {
        "id": "SDE3uUv4omU-"
      },
      "source": [
        "# Бинарный алгоритм Евклида"
      ]
    },
    {
      "cell_type": "markdown",
      "metadata": {
        "id": "LHBLW7BeqlAv"
      },
      "source": [
        "\n",
        "\n",
        "Суть бинарного алгоритма точно такая же — найти наибольший делитель. От классического он отличается только способом реализации. Вместо классических арифметических операций, в бинарном алгоритме Евклида используются только битовые сдвиги влево и вправо, которые соответствуют умножению и делению на 2.\n",
        "Сложность алгоритма по прежнему определяется функций O(h2), однако реальные тесты показывают, что бинарный алгоритм эффективнее классического на 60%, это обусловлено различиями в реализациях обычных арифметических операций и сдвигов.\n",
        "Однако ускорение бинарного по сравнению с классическим алгоритмом справедливо не для кода написанного на Python. Ниже, после описания его реализации проведём тест скорости выполнения для Python.\n"
      ]
    },
    {
      "cell_type": "code",
      "metadata": {
        "colab": {
          "base_uri": "https://localhost:8080/"
        },
        "id": "u_OpUU3somcb",
        "outputId": "00df4f7e-3d74-410c-ef02-c9bcca80b3e5"
      },
      "source": [
        "# Реализация на Python\n",
        "# Бинарный алгоритм имеет довольно сложную реализацию по сравнению со всеми предыдущими, однако это окупается его эффективностью.\n",
        "\n",
        "def gcd_binary(num1, num2):\n",
        "  shift = 0\n",
        "  if num1 == 0:\n",
        "    return num2\n",
        "  if num2 == 0:\n",
        "    return num1\n",
        "  \n",
        "  while (num1 | num2) & 1 == 0:\n",
        "    shift += 1\n",
        "    num1 >>= 1\n",
        "    num2 >>= 1\n",
        "  \n",
        "  while num1 & 1 == 0:\n",
        "    num1 >>= 1\n",
        "  while num2 != 0:\n",
        "    while num2 & 1 == 0:\n",
        "      num2 >>= 1\n",
        "  \n",
        "    if num1 > num2:\n",
        "      num1, num2 = num2, num1\n",
        "    num2 -= num1\n",
        "  return num1 << shift\n",
        "\n",
        "\n",
        "\n",
        "num1 = 4851\n",
        "num2 = 3003\n",
        "ex_num = 231\n",
        "print(f'GCD Binary: {gcd_binary(num1, num2)}\\nExpected num: {ex_num}')"
      ],
      "execution_count": 9,
      "outputs": [
        {
          "output_type": "stream",
          "text": [
            "GCD Binary: 231\n",
            "Expected num: 231\n"
          ],
          "name": "stdout"
        }
      ]
    },
    {
      "cell_type": "markdown",
      "metadata": {
        "id": "cQNZEnbktEBE"
      },
      "source": [
        "# Тест скорости выполнения"
      ]
    },
    {
      "cell_type": "code",
      "metadata": {
        "colab": {
          "base_uri": "https://localhost:8080/"
        },
        "id": "yPrBPW4bomfZ",
        "outputId": "eb13c705-7e28-4478-b181-ec128753a0d4"
      },
      "source": [
        "import time\n",
        "num1 = 4851\n",
        "num2 = 3003\n",
        "\n",
        "# Остаток от деления\n",
        "start = time.monotonic()\n",
        "for i in range(10000):\n",
        "  gcd_rem_division(num1, num2)\n",
        "result = time.monotonic() - start\n",
        "print(\"Division time : {:>.3f}\".format(result) + \" seconds\")\n",
        "\n",
        "# С помощью вычитания\n",
        "start = time.monotonic()\n",
        "for i in range(10000):\n",
        "  gcd_subtraction(num1, num2)\n",
        "result2 = time.monotonic() - start\n",
        "print(\"Subtraction time : {:>.3f}\".format(result2) + \" seconds\")\n",
        "\n",
        "# С помощью рекурсии\n",
        "start = time.monotonic()\n",
        "for i in range(10000):\n",
        "  gcd_recursion(num1, num2)\n",
        "result3 = time.monotonic() - start\n",
        "print(\"Recursion time : {:>.3f}\".format(result3) + \" seconds\")\n",
        "\n",
        "# расширенный алгоритм\n",
        "start = time.monotonic()\n",
        "for i in range(10000):\n",
        "  gcd_extended(num1, num2)\n",
        "result4 = time.monotonic() - start\n",
        "print(\"Extend time : {:>.3f}\".format(result4) + \" seconds\")\n",
        "\n",
        "start = time.monotonic()\n",
        "for i in range(10000):\n",
        "  gcd_binary(num1, num2)\n",
        "result5 = time.monotonic() - start\n",
        "print(\"Binary time : {:>.3f}\".format(result5) + \" seconds\")"
      ],
      "execution_count": 12,
      "outputs": [
        {
          "output_type": "stream",
          "text": [
            "division time : 0.012 seconds\n",
            "Subtraction time : 0.014 seconds\n",
            "Recursion time : 0.012 seconds\n",
            "Extend time : 0.023 seconds\n",
            "Binary time : 0.021 seconds\n"
          ],
          "name": "stdout"
        }
      ]
    },
    {
      "cell_type": "code",
      "metadata": {
        "colab": {
          "base_uri": "https://localhost:8080/",
          "height": 204
        },
        "id": "GYT5mFwOomhu",
        "outputId": "6854a3a4-76f1-4d71-e1fd-ff05e614bdae"
      },
      "source": [
        "import pandas as pd\n",
        "\n",
        "vocab = {'Division': result, 'Subtraction': result2, 'Recursion': result3,\n",
        "                   'Extend': result4, 'Binary': result5}\n",
        "                   \n",
        "df = pd.DataFrame(vocab.items(), columns = ['method', 'time sec'])\n",
        "df.index += 1\n",
        "\n",
        "display(df)"
      ],
      "execution_count": 22,
      "outputs": [
        {
          "output_type": "display_data",
          "data": {
            "text/html": [
              "<div>\n",
              "<style scoped>\n",
              "    .dataframe tbody tr th:only-of-type {\n",
              "        vertical-align: middle;\n",
              "    }\n",
              "\n",
              "    .dataframe tbody tr th {\n",
              "        vertical-align: top;\n",
              "    }\n",
              "\n",
              "    .dataframe thead th {\n",
              "        text-align: right;\n",
              "    }\n",
              "</style>\n",
              "<table border=\"1\" class=\"dataframe\">\n",
              "  <thead>\n",
              "    <tr style=\"text-align: right;\">\n",
              "      <th></th>\n",
              "      <th>method</th>\n",
              "      <th>time sec</th>\n",
              "    </tr>\n",
              "  </thead>\n",
              "  <tbody>\n",
              "    <tr>\n",
              "      <th>1</th>\n",
              "      <td>Division</td>\n",
              "      <td>0.012030</td>\n",
              "    </tr>\n",
              "    <tr>\n",
              "      <th>2</th>\n",
              "      <td>Subtraction</td>\n",
              "      <td>0.013747</td>\n",
              "    </tr>\n",
              "    <tr>\n",
              "      <th>3</th>\n",
              "      <td>Recursion</td>\n",
              "      <td>0.012155</td>\n",
              "    </tr>\n",
              "    <tr>\n",
              "      <th>4</th>\n",
              "      <td>Extend</td>\n",
              "      <td>0.022607</td>\n",
              "    </tr>\n",
              "    <tr>\n",
              "      <th>5</th>\n",
              "      <td>Binary</td>\n",
              "      <td>0.020984</td>\n",
              "    </tr>\n",
              "  </tbody>\n",
              "</table>\n",
              "</div>"
            ],
            "text/plain": [
              "        method  time sec\n",
              "1     Division  0.012030\n",
              "2  Subtraction  0.013747\n",
              "3    Recursion  0.012155\n",
              "4       Extend  0.022607\n",
              "5       Binary  0.020984"
            ]
          },
          "metadata": {
            "tags": []
          }
        }
      ]
    }
  ]
}