{
  "nbformat": 4,
  "nbformat_minor": 0,
  "metadata": {
    "colab": {
      "name": "leetcode_dfs/bfs.ipynb",
      "provenance": [],
      "collapsed_sections": []
    },
    "kernelspec": {
      "name": "python3",
      "display_name": "Python 3"
    },
    "language_info": {
      "name": "python"
    }
  },
  "cells": [
    {
      "cell_type": "code",
      "metadata": {
        "id": "Z1zF37g-ZHdb"
      },
      "source": [
        "# Number of Islands 200 Medium\n",
        "# Remove Invalid Parentheses 301 Hard"
      ],
      "execution_count": null,
      "outputs": []
    },
    {
      "cell_type": "markdown",
      "metadata": {
        "id": "Rr95NoM4Zae3"
      },
      "source": [
        "# Number of Islands 200"
      ]
    },
    {
      "cell_type": "code",
      "metadata": {
        "colab": {
          "base_uri": "https://localhost:8080/"
        },
        "id": "K2hR-cSxZZ2t",
        "outputId": "3d48672e-a53a-4442-e561-2ef19473a183"
      },
      "source": [
        "# Number of Islands 200 Medium\n",
        "# https://leetcode.com/problems/number-of-islands/\n",
        "\n",
        "# Given an m x n 2D binary grid grid which represents a map of '1's (land) and '0's (water), return the number of islands.\n",
        "# An island is surrounded by water and is formed by connecting adjacent lands horizontally or vertically. \n",
        "# You may assume all four edges of the grid are all surrounded by water.\n",
        "\n",
        "# Constraints:\n",
        "# m == grid.length\n",
        "# n == grid[i].length\n",
        "# 1 <= m, n <= 300\n",
        "# grid[i][j] is '0' or '1'.\n",
        "\n",
        "class Solution200:\n",
        "  def numIsland(self, grid):\n",
        "    if not grid:\n",
        "      return False\n",
        "\n",
        "    count = 0\n",
        "    row = len(grid)\n",
        "    col = len(grid[0])\n",
        "\n",
        "    for i in range(row):\n",
        "      for j in range(col):\n",
        "        if grid[i][j] == '1':\n",
        "          self.dfs(grid, row, col, i, j)\n",
        "          count += 1\n",
        "    return count\n",
        "\n",
        "\n",
        "  def dfs(self, grid, row, col, m, n):\n",
        "    if grid[m][n] == '0':\n",
        "      return\n",
        "    grid[m][n] = '0'\n",
        "\n",
        "    if m != 0:\n",
        "      self.dfs(grid, row, col, m - 1, n)\n",
        "    if m != row - 1:\n",
        "      self.dfs(grid, row, col, m + 1, n)\n",
        "    if n != 0:\n",
        "      self.dfs(grid, row, col, m, n - 1)\n",
        "    if n != col - 1:\n",
        "      self.dfs(grid, row, col, m, n + 1)\n",
        "\n",
        "if __name__ == '__main__':\n",
        "  grid = [\n",
        "  [\"1\",\"1\",\"1\",\"1\",\"0\"],\n",
        "  [\"1\",\"1\",\"0\",\"1\",\"0\"],\n",
        "  [\"1\",\"1\",\"0\",\"0\",\"0\"],\n",
        "  [\"0\",\"0\",\"0\",\"0\",\"0\"]]\n",
        "  out_200_1 = 1\n",
        "  print(f'Solution200: {Solution200().numIsland(grid)}\\nExpected: {out_200_1}\\n')\n",
        "\n",
        "  grid_2 = [\n",
        "  [\"1\",\"1\",\"0\",\"0\",\"0\"],\n",
        "  [\"1\",\"1\",\"0\",\"0\",\"0\"],\n",
        "  [\"0\",\"0\",\"1\",\"0\",\"0\"],\n",
        "  [\"0\",\"0\",\"0\",\"1\",\"1\"]]\n",
        "  out_200_2 = 3\n",
        "  print(f'Solution200: {Solution200().numIsland(grid_2)}\\nExpected: {out_200_2}\\n')"
      ],
      "execution_count": 4,
      "outputs": [
        {
          "output_type": "stream",
          "text": [
            "Solution200: 1\n",
            "Expected: 1\n",
            "\n",
            "Solution200: 3\n",
            "Expected: 3\n",
            "\n"
          ],
          "name": "stdout"
        }
      ]
    },
    {
      "cell_type": "markdown",
      "metadata": {
        "id": "zcLX5FA7ZbBB"
      },
      "source": [
        "# Remove Invalid Parentheses 301\n"
      ]
    },
    {
      "cell_type": "code",
      "metadata": {
        "colab": {
          "base_uri": "https://localhost:8080/"
        },
        "id": "C_QoBseUZbSx",
        "outputId": "50ddebdb-9f86-4fae-a602-98e1d1e9c4d3"
      },
      "source": [
        "# Remove Invalid Parentheses 301 Hard\n",
        "# https://leetcode.com/problems/remove-invalid-parentheses/\n",
        "\n",
        "# Given a string s that contains parentheses and letters, remove the minimum number of invalid parentheses to make the input string valid.\n",
        "# Return all the possible results. You may return the answer in any order.\n",
        "\n",
        "# Constraints:\n",
        "# 1 <= s.length <= 25\n",
        "# s consists of lowercase English letters and parentheses '(' and ')'.\n",
        "# There will be at most 20 parentheses in s.\n",
        "\n",
        "class Solution301:\n",
        "  def removeInvalidParentheres(self, s):\n",
        "    \n",
        "    # Function to calculate the minimum left and right parantheses to remove\n",
        "    def findMinRemove(s):\n",
        "      left = 0\n",
        "      right = 0\n",
        "      \n",
        "      for i in s:\n",
        "        if i == '(':\n",
        "          left += 1\n",
        "        elif i == ')':\n",
        "          if not left:\n",
        "            right += 1\n",
        "          else: \n",
        "            left -= 1\n",
        "      return (left, right)\n",
        "\n",
        "    # Function to check whether s is not valid or not\n",
        "    def isValid(s):\n",
        "      summ = 0\n",
        "      for i in s:\n",
        "        if i == '(':\n",
        "          summ += 1\n",
        "        elif i == ')':\n",
        "            summ -= 1\n",
        "        if summ < 0:\n",
        "            return False\n",
        "      return summ == 0\n",
        "\n",
        "    def removeInvalidParentheresHelpner(start, left, right):\n",
        "      if left == 0 and right == 0:\n",
        "        curr = ''\n",
        "        for i, j in enumerate(s):\n",
        "          if i not in removed_set:\n",
        "            curr += j\n",
        "        if isValid(curr):\n",
        "          result.append(curr)\n",
        "        return\n",
        "\n",
        "      for i in range(start, len(s)):\n",
        "        if right == 0 and left > 0 and s[i] == '(':\n",
        "          if i == start or s[i] != s[i - 1]:\n",
        "            removed_set[i] = True\n",
        "            removeInvalidParentheresHelpner(i + 1, left - 1, right)\n",
        "            del removed_set[i]\n",
        "\n",
        "        elif right > 0 and s[i] == ')':\n",
        "          if i == start or s[i] != s[i - 1]:\n",
        "            removed_set[i] = True\n",
        "            removeInvalidParentheresHelpner(i + 1, left, right - 1)\n",
        "            del removed_set[i]\n",
        "\n",
        "    result = []\n",
        "    removed_set = {}\n",
        "    (left, right) = findMinRemove(s)\n",
        "    removeInvalidParentheresHelpner(0, left, right)\n",
        "    return result  \n",
        "\n",
        "\n",
        "\n",
        "if __name__ == '__main__':\n",
        "  s = \"()())()\"\n",
        "  out_s = [\"(())()\",\"()()()\"]\n",
        "  print(f'Solution301: {Solution301().removeInvalidParentheres(s)}\\nExpected: {out_s}\\n')\n",
        "\n",
        "  s2 = \"(a)())()\"\n",
        "  out_s2 = [\"(a())()\",\"(a)()()\"]\n",
        "  print(f'Solution301: {Solution301().removeInvalidParentheres(s2)}\\nExpected: {out_s2}\\n')\n",
        "\n",
        "  s3 = \")(\"\n",
        "  out_s3 = [\"\"]\n",
        "  print(f'Solution301: {Solution301().removeInvalidParentheres(s3)}\\nExpected: {out_s3}\\n')\n"
      ],
      "execution_count": 8,
      "outputs": [
        {
          "output_type": "stream",
          "text": [
            "Solution301: ['(())()', '()()()']\n",
            "Expected: ['(())()', '()()()']\n",
            "\n",
            "Solution301: ['(a())()', '(a)()()']\n",
            "Expected: ['(a())()', '(a)()()']\n",
            "\n",
            "Solution301: ['']\n",
            "Expected: ['']\n",
            "\n"
          ],
          "name": "stdout"
        }
      ]
    }
  ]
}