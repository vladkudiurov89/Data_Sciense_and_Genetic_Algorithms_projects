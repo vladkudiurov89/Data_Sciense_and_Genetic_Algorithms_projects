{
  "nbformat": 4,
  "nbformat_minor": 0,
  "metadata": {
    "colab": {
      "name": "interview_queston.ipynb",
      "provenance": [],
      "collapsed_sections": []
    },
    "kernelspec": {
      "name": "python3",
      "display_name": "Python 3"
    },
    "language_info": {
      "name": "python"
    },
    "accelerator": "GPU"
  },
  "cells": [
    {
      "cell_type": "markdown",
      "metadata": {
        "id": "NSl3rZJV9x3g"
      },
      "source": [
        "# Check if list contains int x"
      ]
    },
    {
      "cell_type": "code",
      "metadata": {
        "colab": {
          "base_uri": "https://localhost:8080/"
        },
        "id": "WTXP7gB09pYt",
        "outputId": "c8b19bd6-1296-4187-c204-8bfc1988d716"
      },
      "source": [
        "l = [i for i in range(1, 11, 1)]\n",
        "print(l)\n",
        "print(5 in l)"
      ],
      "execution_count": 1,
      "outputs": [
        {
          "output_type": "stream",
          "text": [
            "[1, 2, 3, 4, 5, 6, 7, 8, 9, 10]\n",
            "True\n"
          ],
          "name": "stdout"
        }
      ]
    },
    {
      "cell_type": "markdown",
      "metadata": {
        "id": "VciIT2Eb-IGf"
      },
      "source": [
        "# Find duplicate num in in list"
      ]
    },
    {
      "cell_type": "code",
      "metadata": {
        "colab": {
          "base_uri": "https://localhost:8080/"
        },
        "id": "J0tKAaoE-IWN",
        "outputId": "78412672-e371-455e-ca51-9ca6f3903f58"
      },
      "source": [
        "aa = [3, 5, 3, 8, 5]\n",
        "def find_duplicates(els):\n",
        "  dupl, seen = set(), set()\n",
        "  for el in els:\n",
        "    if el in seen:\n",
        "      dupl.add(el)\n",
        "    seen.add(el)\n",
        "  return list(dupl)\n",
        "\n",
        "find_duplicates(aa)"
      ],
      "execution_count": 4,
      "outputs": [
        {
          "output_type": "execute_result",
          "data": {
            "text/plain": [
              "[3, 5]"
            ]
          },
          "metadata": {
            "tags": []
          },
          "execution_count": 4
        }
      ]
    },
    {
      "cell_type": "markdown",
      "metadata": {
        "id": "P6TBzcTu-7jT"
      },
      "source": [
        "# Check if two str are anagrams"
      ]
    },
    {
      "cell_type": "code",
      "metadata": {
        "colab": {
          "base_uri": "https://localhost:8080/"
        },
        "id": "U9SiA5l--67M",
        "outputId": "024f9fc0-0e1b-4b04-9b2d-65bc339d28f8"
      },
      "source": [
        "str1 = 'elvis'\n",
        "str2 = 'lives'\n",
        "\n",
        "def is_anagram(s1, s2):\n",
        "  return set(s1) == set(s2)\n",
        "\n",
        "print(is_anagram(str1, str2))"
      ],
      "execution_count": 5,
      "outputs": [
        {
          "output_type": "stream",
          "text": [
            "True\n"
          ],
          "name": "stdout"
        }
      ]
    },
    {
      "cell_type": "markdown",
      "metadata": {
        "id": "LZpMk5mp_qdf"
      },
      "source": [
        "# Remove all duplicates from list"
      ]
    },
    {
      "cell_type": "code",
      "metadata": {
        "colab": {
          "base_uri": "https://localhost:8080/"
        },
        "id": "M0zeH3d7_qmv",
        "outputId": "ad5a2835-7c61-470f-fb9c-a0186bcae4c8"
      },
      "source": [
        "li = [i for i in range(1, 11, 1)]\n",
        "st_1 = list(li + li)\n",
        "print(st_1)\n",
        "\n",
        "st = list(set(st_1))\n",
        "print(st)"
      ],
      "execution_count": 2,
      "outputs": [
        {
          "output_type": "stream",
          "text": [
            "[1, 2, 3, 4, 5, 6, 7, 8, 9, 10, 1, 2, 3, 4, 5, 6, 7, 8, 9, 10]\n",
            "[1, 2, 3, 4, 5, 6, 7, 8, 9, 10]\n"
          ],
          "name": "stdout"
        }
      ]
    },
    {
      "cell_type": "markdown",
      "metadata": {
        "id": "6t_UrNHz_YM5"
      },
      "source": [
        "# Find pair of int in list so that their sum is equal to int x"
      ]
    },
    {
      "cell_type": "code",
      "metadata": {
        "colab": {
          "base_uri": "https://localhost:8080/"
        },
        "id": "tN5tQhZs_YWo",
        "outputId": "655b1483-c8be-4926-e928-c57a93890a3d"
      },
      "source": [
        "def find_pair(l, x):\n",
        "  pairs = []\n",
        "  for i, el_1 in enumerate(l):\n",
        "    for j, el_2 in enumerate(l[i + 1:]):\n",
        "      if el_1 + el_2 == x:\n",
        "        pairs.append((el_1, el_2))\n",
        "  return pairs\n",
        "\n",
        "find_pair(st, 5)"
      ],
      "execution_count": 7,
      "outputs": [
        {
          "output_type": "execute_result",
          "data": {
            "text/plain": [
              "[(1, 4), (2, 3)]"
            ]
          },
          "metadata": {
            "tags": []
          },
          "execution_count": 7
        }
      ]
    },
    {
      "cell_type": "markdown",
      "metadata": {
        "id": "p9qVxQCw_j19"
      },
      "source": [
        "# Check if a str is a polidrom"
      ]
    },
    {
      "cell_type": "code",
      "metadata": {
        "colab": {
          "base_uri": "https://localhost:8080/"
        },
        "id": "iGR9CC5l_kAP",
        "outputId": "70980d70-3bd9-4712-bb32-0d27dc4315f0"
      },
      "source": [
        "def is_palidrom(phr):\n",
        "  return phr == phr[::-1]\n",
        "\n",
        "print(is_palidrom('anna'))\n",
        "print(is_palidrom('jack'))"
      ],
      "execution_count": 11,
      "outputs": [
        {
          "output_type": "stream",
          "text": [
            "True\n",
            "False\n"
          ],
          "name": "stdout"
        }
      ]
    },
    {
      "cell_type": "markdown",
      "metadata": {
        "id": "bCULnD8v_kWg"
      },
      "source": [
        "# Use list as stack, array, and queue"
      ]
    },
    {
      "cell_type": "code",
      "metadata": {
        "colab": {
          "base_uri": "https://localhost:8080/"
        },
        "id": "fpsFa7JI_kgC",
        "outputId": "804f9ea6-1479-440f-d6f5-80392f8648df"
      },
      "source": [
        "st_1 = [3, 4]\n",
        "st_1 += [5, 6] # [3, 4, 5, 6]\n",
        "\n",
        "# as stack\n",
        "# st_1.append(10) добавляет элемент в конец очереди [4, 5, 6, 10]\n",
        "# st_1.pop() удаляет последний элемент в очереди [4, 5, 6]\n",
        "\n",
        "# as queue\n",
        "# st_1.insert(0, 5) :st_1 = [5, 4, 5, 6]\n",
        "# st_1.pop() :st_1 = [5, 4, 5]"
      ],
      "execution_count": 16,
      "outputs": [
        {
          "output_type": "stream",
          "text": [
            "[3, 4, 5, 6] None 10\n"
          ],
          "name": "stdout"
        }
      ]
    },
    {
      "cell_type": "markdown",
      "metadata": {
        "id": "bI03zv4mc0Es"
      },
      "source": [
        "# Get missing number [1 ... 100]\n"
      ]
    },
    {
      "cell_type": "code",
      "metadata": {
        "colab": {
          "base_uri": "https://localhost:8080/"
        },
        "id": "vMrARHPbc0P4",
        "outputId": "3dc26158-167d-4244-968b-cffc686eed4b"
      },
      "source": [
        "def get_missing_number(A):\n",
        "  x = [A[i] + 1 for i in range(len(A)-1) if A[i+1] != A[i] + 1]\n",
        "  return x\n",
        "\n",
        "lst = [i for i in range(1, 100, 1)]\n",
        "lst.remove(50)\n",
        "\n",
        "print(get_missing_number(lst))"
      ],
      "execution_count": 12,
      "outputs": [
        {
          "output_type": "stream",
          "text": [
            "[50]\n"
          ],
          "name": "stdout"
        }
      ]
    },
    {
      "cell_type": "markdown",
      "metadata": {
        "id": "Au1nvaChiB3o"
      },
      "source": [
        "# Compute the intersection of two list"
      ]
    },
    {
      "cell_type": "code",
      "metadata": {
        "colab": {
          "base_uri": "https://localhost:8080/"
        },
        "id": "Te_hl_BkiCAX",
        "outputId": "ebb63880-729a-4df5-8f1d-8181fc1cdadc"
      },
      "source": [
        "def intersect(lst1, lst2):\n",
        "  res, lst2_copy = [], lst2[:]\n",
        "  for el in lst1:\n",
        "    if el in lst2_copy:\n",
        "      res.append(el)\n",
        "      lst2_copy.remove(el)\n",
        "  return res\n",
        "\n",
        "lst1 = [i for i in range(1, 100, 1)]\n",
        "lst2 = [i for i in range(1, 100, 1)]\n",
        "\n",
        "print(intersect(lst1, lst2))"
      ],
      "execution_count": 16,
      "outputs": [
        {
          "output_type": "stream",
          "text": [
            "[1, 2, 3, 4, 5, 6, 7, 8, 9, 10, 11, 12, 13, 14, 15, 16, 17, 18, 19, 20, 21, 22, 23, 24, 25, 26, 27, 28, 29, 30, 31, 32, 33, 34, 35, 36, 37, 38, 39, 40, 41, 42, 43, 44, 45, 46, 47, 48, 49, 50, 51, 52, 53, 54, 55, 56, 57, 58, 59, 60, 61, 62, 63, 64, 65, 66, 67, 68, 69, 70, 71, 72, 73, 74, 75, 76, 77, 78, 79, 80, 81, 82, 83, 84, 85, 86, 87, 88, 89, 90, 91, 92, 93, 94, 95, 96, 97, 98, 99]\n"
          ],
          "name": "stdout"
        }
      ]
    },
    {
      "cell_type": "markdown",
      "metadata": {
        "id": "b3tUtaNvoiZR"
      },
      "source": [
        "# Reverse String Using recursion"
      ]
    },
    {
      "cell_type": "code",
      "metadata": {
        "colab": {
          "base_uri": "https://localhost:8080/"
        },
        "id": "Pbghntk4oig9",
        "outputId": "551d8649-a816-4210-dd0a-88756a6b3e41"
      },
      "source": [
        "def reverse(s):\n",
        "  if len(s) <= 2: return s\n",
        "  return reverse(s[1:]) + s[0]\n",
        "\n",
        "print(reverse('hello'))\n",
        "print(reverse('hi'))"
      ],
      "execution_count": 23,
      "outputs": [
        {
          "output_type": "stream",
          "text": [
            "loleh\n",
            "hi\n"
          ],
          "name": "stdout"
        }
      ]
    },
    {
      "cell_type": "markdown",
      "metadata": {
        "id": "TusPPgUNpdw1"
      },
      "source": [
        "# Sort list with QuickSort Algorithm"
      ]
    },
    {
      "cell_type": "code",
      "metadata": {
        "colab": {
          "base_uri": "https://localhost:8080/"
        },
        "id": "gBtX2uNkpd6v",
        "outputId": "7dc2b9f7-2f6d-4f83-bc02-74958de27088"
      },
      "source": [
        "def qsort(lst):\n",
        "  if lst == []: return []\n",
        "  return qsort([x for x in lst[1:] if x < lst[0]]) + lst[0:1] + qsort([x for x in lst[1:] if x>=lst[0]])\n",
        "\n",
        "lst = [23, 78, 43, 21, 87, 64]\n",
        "print(qsort(lst))"
      ],
      "execution_count": 26,
      "outputs": [
        {
          "output_type": "stream",
          "text": [
            "[21, 23, 43, 64, 78, 87]\n"
          ],
          "name": "stdout"
        }
      ]
    },
    {
      "cell_type": "markdown",
      "metadata": {
        "id": "IGF4XrTGpeFO"
      },
      "source": [
        "# Find All permutation s of string"
      ]
    },
    {
      "cell_type": "code",
      "metadata": {
        "colab": {
          "base_uri": "https://localhost:8080/"
        },
        "id": "vWUV8LsgpePP",
        "outputId": "fe58792a-2d5b-43bf-ba83-04b2c1794997"
      },
      "source": [
        "def get_permutation(w):\n",
        "  if len(w) <= 1:\n",
        "    return set(w)\n",
        "  smaller = get_permutation(w[1:])\n",
        "  perms = set()\n",
        "  for x in smaller:\n",
        "    for pos in range(0, len(x) + 1):\n",
        "      perm = x[:pos] + w[0] + x[pos:]\n",
        "      perms.add(perm)\n",
        "  return perms\n",
        "\n",
        "print(get_permutation('anna'))"
      ],
      "execution_count": 27,
      "outputs": [
        {
          "output_type": "stream",
          "text": [
            "{'nnaa', 'naan', 'anan', 'aann', 'nana', 'anna'}\n"
          ],
          "name": "stdout"
        }
      ]
    }
  ]
}