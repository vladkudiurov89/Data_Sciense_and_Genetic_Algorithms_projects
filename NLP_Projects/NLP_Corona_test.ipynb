{
  "nbformat": 4,
  "nbformat_minor": 0,
  "metadata": {
    "colab": {
      "name": "NLP_Corona_test.ipynb",
      "provenance": [],
      "collapsed_sections": [],
      "toc_visible": true,
      "machine_shape": "hm"
    },
    "kernelspec": {
      "name": "python3",
      "display_name": "Python 3"
    },
    "language_info": {
      "name": "python"
    },
    "accelerator": "GPU"
  },
  "cells": [
    {
      "cell_type": "code",
      "metadata": {
        "colab": {
          "base_uri": "https://localhost:8080/"
        },
        "id": "ym7IFjdMWht5",
        "outputId": "62f382f9-f886-4ee9-d12e-753f3f9f374b"
      },
      "source": [
        "# Проверяем видео карту\n",
        "!nvidia-smi"
      ],
      "execution_count": null,
      "outputs": [
        {
          "output_type": "stream",
          "text": [
            "Fri Jul 16 20:36:19 2021       \n",
            "+-----------------------------------------------------------------------------+\n",
            "| NVIDIA-SMI 470.42.01    Driver Version: 460.32.03    CUDA Version: 11.2     |\n",
            "|-------------------------------+----------------------+----------------------+\n",
            "| GPU  Name        Persistence-M| Bus-Id        Disp.A | Volatile Uncorr. ECC |\n",
            "| Fan  Temp  Perf  Pwr:Usage/Cap|         Memory-Usage | GPU-Util  Compute M. |\n",
            "|                               |                      |               MIG M. |\n",
            "|===============================+======================+======================|\n",
            "|   0  Tesla V100-SXM2...  Off  | 00000000:00:04.0 Off |                    0 |\n",
            "| N/A   36C    P0    24W / 300W |      0MiB / 16160MiB |      0%      Default |\n",
            "|                               |                      |                  N/A |\n",
            "+-------------------------------+----------------------+----------------------+\n",
            "                                                                               \n",
            "+-----------------------------------------------------------------------------+\n",
            "| Processes:                                                                  |\n",
            "|  GPU   GI   CI        PID   Type   Process name                  GPU Memory |\n",
            "|        ID   ID                                                   Usage      |\n",
            "|=============================================================================|\n",
            "|  No running processes found                                                 |\n",
            "+-----------------------------------------------------------------------------+\n"
          ],
          "name": "stdout"
        }
      ]
    },
    {
      "cell_type": "markdown",
      "metadata": {
        "id": "sP1KdZx0WP1s"
      },
      "source": [
        "# Импорт библиотек"
      ]
    },
    {
      "cell_type": "code",
      "metadata": {
        "colab": {
          "base_uri": "https://localhost:8080/"
        },
        "id": "fEQJV-g9WtwB",
        "outputId": "90bb000e-e397-4d81-fab9-b76dfb8f0af9"
      },
      "source": [
        "# Подключаем гугл диск\n",
        "from google.colab import drive\n",
        "drive.mount('/content/drive')"
      ],
      "execution_count": null,
      "outputs": [
        {
          "output_type": "stream",
          "text": [
            "Mounted at /content/drive\n"
          ],
          "name": "stdout"
        }
      ]
    },
    {
      "cell_type": "code",
      "metadata": {
        "colab": {
          "base_uri": "https://localhost:8080/"
        },
        "id": "n8jFgS4qWtyy",
        "outputId": "bbc12a73-984e-4cb8-8fcb-f38f62117927"
      },
      "source": [
        "# Для работы с данными\n",
        "import pandas as pd\n",
        "import numpy as np\n",
        "import re\n",
        "\n",
        "# Для визуализации данных \n",
        "import matplotlib.pyplot as plt\n",
        "import seaborn as sns\n",
        "sns.set_style('whitegrid')\n",
        "\n",
        "# Для обработки текстовых данных\n",
        "import nltk\n",
        "from nltk.corpus import stopwords\n",
        "from nltk.corpus import wordnet\n",
        "from nltk.stem import WordNetLemmatizer\n",
        "nltk.download('stopwords')\n",
        "nltk.download('punkt')\n",
        "nltk.download('averaged_perceptron_tagger')\n",
        "nltk.download('wordnet')\n",
        "\n",
        "# Для токенизации данных\n",
        "from tensorflow.keras.preprocessing.text import Tokenizer\n",
        "from tensorflow.keras import preprocessing\n",
        "from tensorflow.keras.preprocessing.sequence import pad_sequences\n",
        "\n",
        "# Для препроцессинга данных\n",
        "from string import punctuation, digits\n",
        "\n",
        "# Для построения модели нейронной сети\n",
        "import tensorflow as tf\n",
        "from tensorflow import keras\n",
        "from tensorflow.keras import layers, models\n",
        "from tensorflow.keras.models import Sequential\n",
        "from tensorflow.keras.layers import Embedding, LSTM, Flatten, GlobalMaxPooling1D, Dense, Dropout\n",
        "from tensorflow.keras.utils import plot_model\n",
        "from keras.optimizers import RMSprop\n",
        "\n",
        "# Для игнорирования предупреждений\n",
        "import warnings\n",
        "warnings.filterwarnings(\"ignore\")\n",
        "\n",
        "import os\n",
        "os.environ['TF_CPP_MIN_LOG_LEVEL'] = '4' "
      ],
      "execution_count": null,
      "outputs": [
        {
          "output_type": "stream",
          "text": [
            "[nltk_data] Downloading package stopwords to /root/nltk_data...\n",
            "[nltk_data]   Unzipping corpora/stopwords.zip.\n",
            "[nltk_data] Downloading package punkt to /root/nltk_data...\n",
            "[nltk_data]   Unzipping tokenizers/punkt.zip.\n",
            "[nltk_data] Downloading package averaged_perceptron_tagger to\n",
            "[nltk_data]     /root/nltk_data...\n",
            "[nltk_data]   Unzipping taggers/averaged_perceptron_tagger.zip.\n",
            "[nltk_data] Downloading package wordnet to /root/nltk_data...\n",
            "[nltk_data]   Unzipping corpora/wordnet.zip.\n"
          ],
          "name": "stdout"
        }
      ]
    },
    {
      "cell_type": "code",
      "metadata": {
        "colab": {
          "base_uri": "https://localhost:8080/"
        },
        "id": "yQF3x1a2XqUO",
        "outputId": "e96fdd0f-6d30-4b24-87a5-27fd1b40d304"
      },
      "source": [
        "!ls '/content/drive/My Drive/datasets/NLP_datasets/Corona_NLP/'"
      ],
      "execution_count": null,
      "outputs": [
        {
          "output_type": "stream",
          "text": [
            "Corona_NLP_test.csv  Corona_NLP_train.csv  model_LSTM\n"
          ],
          "name": "stdout"
        }
      ]
    },
    {
      "cell_type": "markdown",
      "metadata": {
        "id": "ek39jRqotHEk"
      },
      "source": [
        "# Загрузка данных"
      ]
    },
    {
      "cell_type": "code",
      "metadata": {
        "colab": {
          "base_uri": "https://localhost:8080/"
        },
        "id": "PSYGBHASWt1r",
        "outputId": "d3c25901-de17-4d55-d4c9-41c308456da1"
      },
      "source": [
        "# Загрузим данные\n",
        "PATH = '/content/drive/My Drive/datasets/NLP_datasets/Corona_NLP/'\n",
        "test_df = pd.read_csv(PATH + 'Corona_NLP_test.csv')\n",
        "train_df = pd.read_csv(PATH + 'Corona_NLP_train.csv', engine='python') # При ошибки чтения файла использовать engine\n",
        "\n",
        "# Размерность данных\n",
        "print(f'Train Data Shape: {train_df.shape}')\n",
        "print(f'Test Data Shape: {test_df.shape}')"
      ],
      "execution_count": null,
      "outputs": [
        {
          "output_type": "stream",
          "text": [
            "Train Data Shape: (41157, 6)\n",
            "Test Data Shape: (3798, 6)\n"
          ],
          "name": "stdout"
        }
      ]
    },
    {
      "cell_type": "code",
      "metadata": {
        "colab": {
          "base_uri": "https://localhost:8080/",
          "height": 204
        },
        "id": "fRfxuyTsXlZh",
        "outputId": "ff58ab0b-9eb0-4417-a8a3-f01a37ad3c23"
      },
      "source": [
        "test_df.head()"
      ],
      "execution_count": null,
      "outputs": [
        {
          "output_type": "execute_result",
          "data": {
            "text/html": [
              "<div>\n",
              "<style scoped>\n",
              "    .dataframe tbody tr th:only-of-type {\n",
              "        vertical-align: middle;\n",
              "    }\n",
              "\n",
              "    .dataframe tbody tr th {\n",
              "        vertical-align: top;\n",
              "    }\n",
              "\n",
              "    .dataframe thead th {\n",
              "        text-align: right;\n",
              "    }\n",
              "</style>\n",
              "<table border=\"1\" class=\"dataframe\">\n",
              "  <thead>\n",
              "    <tr style=\"text-align: right;\">\n",
              "      <th></th>\n",
              "      <th>UserName</th>\n",
              "      <th>ScreenName</th>\n",
              "      <th>Location</th>\n",
              "      <th>TweetAt</th>\n",
              "      <th>OriginalTweet</th>\n",
              "      <th>Sentiment</th>\n",
              "    </tr>\n",
              "  </thead>\n",
              "  <tbody>\n",
              "    <tr>\n",
              "      <th>0</th>\n",
              "      <td>1</td>\n",
              "      <td>44953</td>\n",
              "      <td>NYC</td>\n",
              "      <td>02-03-2020</td>\n",
              "      <td>TRENDING: New Yorkers encounter empty supermar...</td>\n",
              "      <td>Extremely Negative</td>\n",
              "    </tr>\n",
              "    <tr>\n",
              "      <th>1</th>\n",
              "      <td>2</td>\n",
              "      <td>44954</td>\n",
              "      <td>Seattle, WA</td>\n",
              "      <td>02-03-2020</td>\n",
              "      <td>When I couldn't find hand sanitizer at Fred Me...</td>\n",
              "      <td>Positive</td>\n",
              "    </tr>\n",
              "    <tr>\n",
              "      <th>2</th>\n",
              "      <td>3</td>\n",
              "      <td>44955</td>\n",
              "      <td>NaN</td>\n",
              "      <td>02-03-2020</td>\n",
              "      <td>Find out how you can protect yourself and love...</td>\n",
              "      <td>Extremely Positive</td>\n",
              "    </tr>\n",
              "    <tr>\n",
              "      <th>3</th>\n",
              "      <td>4</td>\n",
              "      <td>44956</td>\n",
              "      <td>Chicagoland</td>\n",
              "      <td>02-03-2020</td>\n",
              "      <td>#Panic buying hits #NewYork City as anxious sh...</td>\n",
              "      <td>Negative</td>\n",
              "    </tr>\n",
              "    <tr>\n",
              "      <th>4</th>\n",
              "      <td>5</td>\n",
              "      <td>44957</td>\n",
              "      <td>Melbourne, Victoria</td>\n",
              "      <td>03-03-2020</td>\n",
              "      <td>#toiletpaper #dunnypaper #coronavirus #coronav...</td>\n",
              "      <td>Neutral</td>\n",
              "    </tr>\n",
              "  </tbody>\n",
              "</table>\n",
              "</div>"
            ],
            "text/plain": [
              "   UserName  ...           Sentiment\n",
              "0         1  ...  Extremely Negative\n",
              "1         2  ...            Positive\n",
              "2         3  ...  Extremely Positive\n",
              "3         4  ...            Negative\n",
              "4         5  ...             Neutral\n",
              "\n",
              "[5 rows x 6 columns]"
            ]
          },
          "metadata": {
            "tags": []
          },
          "execution_count": 6
        }
      ]
    },
    {
      "cell_type": "code",
      "metadata": {
        "colab": {
          "base_uri": "https://localhost:8080/",
          "height": 204
        },
        "id": "9fGTeuN0XlcM",
        "outputId": "94f34302-d803-44fe-e7e8-9e9ec5b199c7"
      },
      "source": [
        "train_df.head()"
      ],
      "execution_count": null,
      "outputs": [
        {
          "output_type": "execute_result",
          "data": {
            "text/html": [
              "<div>\n",
              "<style scoped>\n",
              "    .dataframe tbody tr th:only-of-type {\n",
              "        vertical-align: middle;\n",
              "    }\n",
              "\n",
              "    .dataframe tbody tr th {\n",
              "        vertical-align: top;\n",
              "    }\n",
              "\n",
              "    .dataframe thead th {\n",
              "        text-align: right;\n",
              "    }\n",
              "</style>\n",
              "<table border=\"1\" class=\"dataframe\">\n",
              "  <thead>\n",
              "    <tr style=\"text-align: right;\">\n",
              "      <th></th>\n",
              "      <th>UserName</th>\n",
              "      <th>ScreenName</th>\n",
              "      <th>Location</th>\n",
              "      <th>TweetAt</th>\n",
              "      <th>OriginalTweet</th>\n",
              "      <th>Sentiment</th>\n",
              "    </tr>\n",
              "  </thead>\n",
              "  <tbody>\n",
              "    <tr>\n",
              "      <th>0</th>\n",
              "      <td>3799</td>\n",
              "      <td>48751</td>\n",
              "      <td>London</td>\n",
              "      <td>16-03-2020</td>\n",
              "      <td>@MeNyrbie @Phil_Gahan @Chrisitv https://t.co/i...</td>\n",
              "      <td>Neutral</td>\n",
              "    </tr>\n",
              "    <tr>\n",
              "      <th>1</th>\n",
              "      <td>3800</td>\n",
              "      <td>48752</td>\n",
              "      <td>UK</td>\n",
              "      <td>16-03-2020</td>\n",
              "      <td>advice Talk to your neighbours family to excha...</td>\n",
              "      <td>Positive</td>\n",
              "    </tr>\n",
              "    <tr>\n",
              "      <th>2</th>\n",
              "      <td>3801</td>\n",
              "      <td>48753</td>\n",
              "      <td>Vagabonds</td>\n",
              "      <td>16-03-2020</td>\n",
              "      <td>Coronavirus Australia: Woolworths to give elde...</td>\n",
              "      <td>Positive</td>\n",
              "    </tr>\n",
              "    <tr>\n",
              "      <th>3</th>\n",
              "      <td>3802</td>\n",
              "      <td>48754</td>\n",
              "      <td>NaN</td>\n",
              "      <td>16-03-2020</td>\n",
              "      <td>My food stock is not the only one which is emp...</td>\n",
              "      <td>Positive</td>\n",
              "    </tr>\n",
              "    <tr>\n",
              "      <th>4</th>\n",
              "      <td>3803</td>\n",
              "      <td>48755</td>\n",
              "      <td>NaN</td>\n",
              "      <td>16-03-2020</td>\n",
              "      <td>Me, ready to go at supermarket during the #COV...</td>\n",
              "      <td>Extremely Negative</td>\n",
              "    </tr>\n",
              "  </tbody>\n",
              "</table>\n",
              "</div>"
            ],
            "text/plain": [
              "   UserName  ...           Sentiment\n",
              "0      3799  ...             Neutral\n",
              "1      3800  ...            Positive\n",
              "2      3801  ...            Positive\n",
              "3      3802  ...            Positive\n",
              "4      3803  ...  Extremely Negative\n",
              "\n",
              "[5 rows x 6 columns]"
            ]
          },
          "metadata": {
            "tags": []
          },
          "execution_count": 7
        }
      ]
    },
    {
      "cell_type": "code",
      "metadata": {
        "id": "BHXKdg9bZoqB"
      },
      "source": [
        "# Функция для разбития данных\n",
        "def get_label_split(ds):\n",
        "  data = ds['OriginalTweet']\n",
        "  label = ds['Sentiment']\n",
        "  return data, label\n",
        "\n",
        "train_data, train_label = get_label_split(train_df) \n",
        "test_data, test_label = get_label_split(test_df)\n",
        "\n",
        "# Создаем датасеты\n",
        "train = pd.DataFrame({'label': train_label, 'data': train_data}) \n",
        "test = pd.DataFrame({'label': test_label, 'data': test_data})\n",
        "\n",
        "# Функция для извлечения меток\n",
        "def get_label(x):\n",
        "  if x == 'Extremely Positive' or x == 'Positive':\n",
        "    return 1\n",
        "  elif x == 'Extremely Negative' or x == 'Negative':\n",
        "    return -1\n",
        "  elif x == 'Neutral':\n",
        "    return 0\n",
        "\n",
        "train.label = train.label.apply(lambda x: get_label(x))\n",
        "test.label = test.label.apply(lambda x: get_label(x))"
      ],
      "execution_count": null,
      "outputs": []
    },
    {
      "cell_type": "markdown",
      "metadata": {
        "id": "Pzb3ja_KtCJA"
      },
      "source": [
        "# Препроцессинг данных"
      ]
    },
    {
      "cell_type": "code",
      "metadata": {
        "id": "MJS0IFReZos2"
      },
      "source": [
        "# Функции для очистки и препроцесссинга данных\n",
        "def get_revome(s):\n",
        "  list_punctuation = list(punctuation)\n",
        "  for i in list_punctuation:\n",
        "    s = s.replace(i, '')\n",
        "  return s.lower()\n",
        "\n",
        "def get_clean(sentence):\n",
        "    sentence = sentence.lower()\n",
        "    sentence = re.sub(r'(\\W)\\1{2,}', r'\\1', sentence)\n",
        "    sentence = re.sub(r'(\\w)\\1{2,}', r'\\1\\1', sentence)\n",
        "    sentence = re.sub(r'(?P<url>https?://[^\\s]+)', '', sentence)\n",
        "    sentence = re.sub(r\"\\@(\\w+)\", '', sentence)\n",
        "    sentence = re.sub(r\"\\#(\\w+)\", '', sentence)\n",
        "    sentence = re.sub(r\"\\S(\\w+)\", '', sentence)\n",
        "    sentence = sentence.replace(\"-\", ' ')\n",
        "\n",
        "    tokens = sentence.split()\n",
        "    tokens = [get_revome(w) for w in tokens]\n",
        "\n",
        "    stop_words = set(stopwords.words('english'))\n",
        "\n",
        "    tokens = [w for w in tokens if not w in stop_words]\n",
        "\n",
        "    remove_digits = str.maketrans('', '', digits)\n",
        "    tokens = [w.translate(remove_digits) for w in tokens]\n",
        "    tokens = [w.strip() for w in tokens]\n",
        "    tokens = [w for w in tokens if w!=\"\"]\n",
        "    tokens = ' '.join(tokens)\n",
        "    return tokens\n",
        "\n",
        "# Очищем данные \n",
        "train.data = train.data.apply(lambda sentences: get_clean(sentences))\n",
        "test.data = test.data.apply(lambda sentences: get_clean(sentences))"
      ],
      "execution_count": null,
      "outputs": []
    },
    {
      "cell_type": "code",
      "metadata": {
        "id": "nkxAsUhBZovq"
      },
      "source": [
        "# Функция для очистки от символа a\n",
        "def get_del_a(sentences):\n",
        "  sentences = sentences.replace('a', '')\n",
        "  return sentences\n",
        "\n",
        "train.data = train.data.apply(lambda sentences: get_del_a(sentences))\n",
        "test.data = test.data.apply(lambda sentences: get_del_a(sentences))"
      ],
      "execution_count": null,
      "outputs": []
    },
    {
      "cell_type": "code",
      "metadata": {
        "id": "ynOvLt99ZoyS"
      },
      "source": [
        "# Заменим отсутствующиеся значения в колонке data\n",
        "train['data'].replace('', np.nan, inplace=True)\n",
        "test['data'].replace('', np.nan, inplace=True)\n",
        "\n",
        "# Удалим пропущенные значения\n",
        "train.dropna(subset=['data'], inplace=True)\n",
        "test.dropna(subset=['data'], inplace=True)\n",
        "\n",
        "# Разделим на обучающую и тестовую выборку\n",
        "train_data = train.data\n",
        "train_label = train.label\n",
        "\n",
        "test_data = test.data\n",
        "test_label = test.label"
      ],
      "execution_count": null,
      "outputs": []
    },
    {
      "cell_type": "markdown",
      "metadata": {
        "id": "X8fAM0Nqssmk"
      },
      "source": [
        "# Визуализация данных"
      ]
    },
    {
      "cell_type": "code",
      "metadata": {
        "colab": {
          "base_uri": "https://localhost:8080/",
          "height": 315
        },
        "id": "_qVTFh8crf8L",
        "outputId": "e42b6ea3-7e4b-4155-ca7b-95fbd21fe306"
      },
      "source": [
        "# Гистограмма количество элементов в обучающей выборке\n",
        "\n",
        "sns.countplot(x=train_label)\n",
        "plt.title('Количество данных в каждом классе', fontdict={'fontname': 'Comic Sans MS', 'fontsize': 15})\n",
        "plt.tight_layout()\n",
        "plt.show()"
      ],
      "execution_count": null,
      "outputs": [
        {
          "output_type": "stream",
          "text": [
            "findfont: Font family ['Comic Sans MS'] not found. Falling back to DejaVu Sans.\n"
          ],
          "name": "stderr"
        },
        {
          "output_type": "display_data",
          "data": {
            "image/png": "[encoded data removed]",
            "text/plain": [
              "<Figure size 432x288 with 1 Axes>"
            ]
          },
          "metadata": {
            "tags": []
          }
        }
      ]
    },
    {
      "cell_type": "code",
      "metadata": {
        "colab": {
          "base_uri": "https://localhost:8080/",
          "height": 297
        },
        "id": "47SyeWzhrgDb",
        "outputId": "85b4a7c5-7f02-43cf-c110-de4e6d3746a9"
      },
      "source": [
        "# Гистограмма количество элементов в тестовой выборке\n",
        "\n",
        "sns.countplot(x=test_label)\n",
        "plt.title('Количество данных в каждом классе', fontdict={'fontname': 'Comic Sans MS', 'fontsize': 15})\n",
        "plt.tight_layout()\n",
        "plt.show()"
      ],
      "execution_count": null,
      "outputs": [
        {
          "output_type": "display_data",
          "data": {
            "image/png": "[encoded data removed]",
            "text/plain": [
              "<Figure size 432x288 with 1 Axes>"
            ]
          },
          "metadata": {
            "tags": []
          }
        }
      ]
    },
    {
      "cell_type": "code",
      "metadata": {
        "id": "44ZCzArGrgGz"
      },
      "source": [
        "# Преобразуем в категориальные данные\n",
        "\n",
        "train_label = pd.get_dummies(train_label)\n",
        "test_label = pd.get_dummies(test_label)"
      ],
      "execution_count": null,
      "outputs": []
    },
    {
      "cell_type": "markdown",
      "metadata": {
        "id": "VDJN6pn1vA5h"
      },
      "source": [
        "# Лемматизация текстовых данных"
      ]
    },
    {
      "cell_type": "code",
      "metadata": {
        "id": "veF5hXrwvAL5"
      },
      "source": [
        "lemmatizer = WordNetLemmatizer()\n",
        "\n",
        "# Функция для преобразования тегов в wordnet тег\n",
        "def get_convert_tag(teg):\n",
        "  if teg.startswith('J'):\n",
        "    return wordnet.ADJ\n",
        "  elif teg.startswith('V'):\n",
        "    return wordnet.VERB\n",
        "  elif teg.startswith('N'):\n",
        "    return wordnet.NOUN\n",
        "  elif teg.startswith('R'):\n",
        "    return wordnet.ADV\n",
        "  else:\n",
        "    return None\n",
        "\n",
        "# Функция для поиска лем в каждом слове\n",
        "def get_lem_sentences(sent):\n",
        "  nltk_teg = nltk.pos_tag(nltk.word_tokenize(sent))\n",
        "  wordnet_teg = map(lambda x: (x[0], get_convert_tag(x[1])), nltk_teg)\n",
        "  lemmatized_sentence = []\n",
        "  for word, tag in wordnet_teg:\n",
        "    if tag is None:\n",
        "      lemmatized_sentence.append(word)\n",
        "    else:\n",
        "      lemmatized_sentence.append(lemmatizer.lemmatize(word, tag))\n",
        "  return ''.join(lemmatized_sentence)\n",
        "\n",
        "# Произведем лемматизацию\n",
        "train_lem = [get_lem_sentences(i) for i in train_data]\n",
        "test_lem = [get_lem_sentences(i) for i in test_data]"
      ],
      "execution_count": null,
      "outputs": []
    },
    {
      "cell_type": "markdown",
      "metadata": {
        "id": "OHSHtvurDKEK"
      },
      "source": [
        "# Токенизация"
      ]
    },
    {
      "cell_type": "code",
      "metadata": {
        "colab": {
          "base_uri": "https://localhost:8080/"
        },
        "id": "GdyB06tuu_FP",
        "outputId": "51040657-d6d3-4f6b-e14e-6dcf8b6d1e0d"
      },
      "source": [
        "samples_1 = train_lem\n",
        "samples_2 = test_lem\n",
        "\n",
        "tokenizer = Tokenizer(num_words = 25000)\n",
        "tokenizer.fit_on_texts(samples_1)\n",
        "\n",
        "train_data = tokenizer.texts_to_sequences(samples_1)\n",
        "test_data = tokenizer.texts_to_sequences(samples_2)\n",
        "\n",
        "word_index = tokenizer.word_index\n",
        "print(f'Количество %s уникальных токенов' % len(word_index))"
      ],
      "execution_count": null,
      "outputs": [
        {
          "output_type": "stream",
          "text": [
            "Количество 309 уникальных токенов\n"
          ],
          "name": "stdout"
        }
      ]
    },
    {
      "cell_type": "code",
      "metadata": {
        "id": "z6BkszSKFE_C"
      },
      "source": [
        "# Конвертируем в тензор\n",
        "maxlen = 40\n",
        "train_data = preprocessing.sequence.pad_sequences(train_data, maxlen=maxlen, padding='post', truncating='post')\n",
        "test_data = preprocessing.sequence.pad_sequences(test_data, maxlen=maxlen, padding='post', truncating='post')"
      ],
      "execution_count": null,
      "outputs": []
    },
    {
      "cell_type": "markdown",
      "metadata": {
        "id": "5pwsBev6Ig4g"
      },
      "source": [
        "# Создаём модель классификации Keras LSTM"
      ]
    },
    {
      "cell_type": "code",
      "metadata": {
        "colab": {
          "base_uri": "https://localhost:8080/"
        },
        "id": "Rpqy88c2FFCC",
        "outputId": "61612025-0c61-4dcd-a49d-7a33230ff6e1"
      },
      "source": [
        "# Указываем параметры\n",
        "embanding_dim = 32\n",
        "vocab_inp_size = len(word_index) + 1\n",
        "hiddden_size = 256\n",
        "\n",
        "# Размерность данных\n",
        "print(f'Train Data Shape: {train_data.shape}')\n",
        "print(f'Test Data Shape: {test_data.shape}')"
      ],
      "execution_count": null,
      "outputs": [
        {
          "output_type": "stream",
          "text": [
            "Train Data Shape: (3655, 40)\n",
            "Test Data Shape: (348, 40)\n"
          ],
          "name": "stdout"
        }
      ]
    },
    {
      "cell_type": "code",
      "metadata": {
        "id": "78J7s8KhIuHJ"
      },
      "source": [
        "# Функция построения модели\n",
        "def get_model():\n",
        "  model = Sequential()\n",
        "  # Для конвертации слов в вектор\n",
        "  model.add(Embedding(input_dim = vocab_inp_size, output_dim=embanding_dim, input_length=maxlen))\n",
        "  # Применим dropout воизбежания переобучения сети\n",
        "  model.add(LSTM(hiddden_size, return_sequences=True, dropout=0.4, recurrent_dropout=0.4))\n",
        "  model.add(LSTM(128, return_sequences=True, dropout=0.3, recurrent_dropout=0.3))\n",
        "  model.add(LSTM(64, return_sequences=True, dropout=0.2, recurrent_dropout=0.2))\n",
        "  # Конвертируем 3D в 2D для добавления Dense слоя в модель\n",
        "  model.add(Flatten())\n",
        "  # model.add(GlobalMaxPooling1D())\n",
        "  # Выходной слой с функцией активации\n",
        "  model.add(Dense(3, activation='softmax'))\n",
        "  model.summary()\n",
        "  model.compile(optimizer=RMSprop(learning_rate=0.001), loss='binary_crossentropy', metrics=['categorical_accuracy'])\n",
        "\n",
        "  return model\n",
        "\n",
        "# Класс строит график всего обучения, состоявшего из нескольких этапов.\n",
        "class LearnHistory:\n",
        "    def __init__(self):\n",
        "        self.history = {'loss':[], 'val_loss': []}\n",
        "\n",
        "    def append(self, history):\n",
        "        self.history['loss'].extend(history.history['loss'])\n",
        "        self.history['val_loss'].extend(history.history['val_loss'])\n",
        "\n",
        "    def plot(self, ylim=None):\n",
        "        ep = [i+1 for i in range(len(self.history['loss']))]\n",
        "        plt.plot(ep, self.history['loss'], label='Loss на обучающем наборе')\n",
        "        plt.plot(ep, self.history['val_loss'], label='Loss на проверочном наборе')\n",
        "        plt.ylabel('Средняя ошибка')\n",
        "        plt.xlabel('Эпоха')\n",
        "        if ylim is not None:\n",
        "            plt.ylim(0, ylim)\n",
        "        plt.title('История обучения')\n",
        "        plt.grid()\n",
        "        plt.legend()\n",
        "        plt.show()"
      ],
      "execution_count": null,
      "outputs": []
    },
    {
      "cell_type": "code",
      "metadata": {
        "colab": {
          "base_uri": "https://localhost:8080/",
          "height": 1000
        },
        "id": "-ZAi20YuIuJ1",
        "outputId": "078ae7a5-e243-4357-f6f1-21bd40d3b6ea"
      },
      "source": [
        "model_LSTM = get_model()\n",
        "lh = LearnHistory()\n",
        "plot_model(model_LSTM, to_file='model.png', show_shapes=True) # и построим график для визуализации слоев и связей между ними"
      ],
      "execution_count": null,
      "outputs": [
        {
          "output_type": "stream",
          "text": [
            "WARNING:tensorflow:Layer lstm will not use cuDNN kernels since it doesn't meet the criteria. It will use a generic GPU kernel as fallback when running on GPU.\n",
            "WARNING:tensorflow:Layer lstm_1 will not use cuDNN kernels since it doesn't meet the criteria. It will use a generic GPU kernel as fallback when running on GPU.\n",
            "WARNING:tensorflow:Layer lstm_2 will not use cuDNN kernels since it doesn't meet the criteria. It will use a generic GPU kernel as fallback when running on GPU.\n",
            "Model: \"sequential\"\n",
            "_________________________________________________________________\n",
            "Layer (type)                 Output Shape              Param #   \n",
            "=================================================================\n",
            "embedding (Embedding)        (None, 40, 32)            9920      \n",
            "_________________________________________________________________\n",
            "lstm (LSTM)                  (None, 40, 256)           295936    \n",
            "_________________________________________________________________\n",
            "lstm_1 (LSTM)                (None, 40, 128)           197120    \n",
            "_________________________________________________________________\n",
            "lstm_2 (LSTM)                (None, 40, 64)            49408     \n",
            "_________________________________________________________________\n",
            "flatten (Flatten)            (None, 2560)              0         \n",
            "_________________________________________________________________\n",
            "dense (Dense)                (None, 3)                 7683      \n",
            "=================================================================\n",
            "Total params: 560,067\n",
            "Trainable params: 560,067\n",
            "Non-trainable params: 0\n",
            "_________________________________________________________________\n"
          ],
          "name": "stdout"
        },
        {
          "output_type": "execute_result",
          "data": {
            "image/png": "[encoded data removed]",
            "text/plain": [
              "<IPython.core.display.Image object>"
            ]
          },
          "metadata": {
            "tags": []
          },
          "execution_count": 20
        }
      ]
    },
    {
      "cell_type": "code",
      "metadata": {
        "colab": {
          "base_uri": "https://localhost:8080/"
        },
        "id": "97JX4Ch2MkPU",
        "outputId": "a9a0258a-8a8b-46ea-aa53-e4be260c500d"
      },
      "source": [
        "history = model_LSTM.fit(train_data, train_label, epochs=10, batch_size=16, validation_split=0.2)\n"
      ],
      "execution_count": null,
      "outputs": [
        {
          "output_type": "stream",
          "text": [
            "Epoch 1/10\n",
            "183/183 [==============================] - 78s 384ms/step - loss: 0.6063 - categorical_accuracy: 0.4299 - val_loss: 0.6075 - val_categorical_accuracy: 0.3721\n",
            "Epoch 2/10\n",
            "183/183 [==============================] - 70s 384ms/step - loss: 0.6007 - categorical_accuracy: 0.4172 - val_loss: 0.5929 - val_categorical_accuracy: 0.4829\n",
            "Epoch 3/10\n",
            "183/183 [==============================] - 71s 389ms/step - loss: 0.5996 - categorical_accuracy: 0.4135 - val_loss: 0.5955 - val_categorical_accuracy: 0.4090\n",
            "Epoch 4/10\n",
            "183/183 [==============================] - 70s 382ms/step - loss: 0.5996 - categorical_accuracy: 0.4166 - val_loss: 0.6037 - val_categorical_accuracy: 0.3721\n",
            "Epoch 5/10\n",
            "183/183 [==============================] - 71s 388ms/step - loss: 0.5966 - categorical_accuracy: 0.4343 - val_loss: 0.6001 - val_categorical_accuracy: 0.3721\n",
            "Epoch 6/10\n",
            "183/183 [==============================] - 70s 384ms/step - loss: 0.5970 - categorical_accuracy: 0.4330 - val_loss: 0.6038 - val_categorical_accuracy: 0.3858\n",
            "Epoch 7/10\n",
            "183/183 [==============================] - 70s 382ms/step - loss: 0.5944 - categorical_accuracy: 0.4453 - val_loss: 0.5970 - val_categorical_accuracy: 0.4692\n",
            "Epoch 8/10\n",
            "183/183 [==============================] - 72s 392ms/step - loss: 0.5941 - categorical_accuracy: 0.4617 - val_loss: 0.6172 - val_categorical_accuracy: 0.3762\n",
            "Epoch 9/10\n",
            "183/183 [==============================] - 70s 381ms/step - loss: 0.5911 - categorical_accuracy: 0.4774 - val_loss: 0.6055 - val_categorical_accuracy: 0.3803\n",
            "Epoch 10/10\n",
            "183/183 [==============================] - 70s 382ms/step - loss: 0.5904 - categorical_accuracy: 0.4696 - val_loss: 0.5915 - val_categorical_accuracy: 0.4733\n"
          ],
          "name": "stdout"
        }
      ]
    },
    {
      "cell_type": "code",
      "metadata": {
        "colab": {
          "base_uri": "https://localhost:8080/",
          "height": 301
        },
        "id": "P95PiBf2MkSG",
        "outputId": "7b87c892-8aad-404d-ec79-0875c38d42ba"
      },
      "source": [
        "# Граффик обучения\n",
        "lh.append(history)\n",
        "sns.set()\n",
        "lh.plot()"
      ],
      "execution_count": null,
      "outputs": [
        {
          "output_type": "display_data",
          "data": {
            "image/png": "[encoded data removed]",
            "text/plain": [
              "<Figure size 432x288 with 1 Axes>"
            ]
          },
          "metadata": {
            "tags": []
          }
        }
      ]
    },
    {
      "cell_type": "code",
      "metadata": {
        "id": "_oOeQKWCQ8GI"
      },
      "source": [
        "# Сохраним полученную модель\n",
        "models.save_model(model_LSTM, PATH + 'model_LSTM.h5')"
      ],
      "execution_count": null,
      "outputs": []
    },
    {
      "cell_type": "markdown",
      "metadata": {
        "id": "F4s6a4xfQcKC"
      },
      "source": [
        "# Проверка модели на тестовой выборке"
      ]
    },
    {
      "cell_type": "code",
      "metadata": {
        "colab": {
          "base_uri": "https://localhost:8080/"
        },
        "id": "-HLFXW78Qjag",
        "outputId": "4145f5c1-bd1f-4917-dcd4-5a29a0f58fdc"
      },
      "source": [
        "# Загрузим модель \n",
        "model = models.load_model(PATH + 'model_LSTM.h5', compile=True)\n",
        "\n",
        "# Предикт модели\n",
        "prediction = model.predict(test_data)\n",
        "print(f'\\nModel predict: \\n{prediction}\\n')\n",
        "# Предик вероятности\n",
        "sent_pred = model.predict_proba(test_data)\n",
        "print(f'\\nModel predict_proba: \\n{sent_pred}\\n')\n",
        "\n",
        "# Проверим оценку модели\n",
        "model_LSTM.evaluate(test_data, test_label)"
      ],
      "execution_count": null,
      "outputs": [
        {
          "output_type": "stream",
          "text": [
            "WARNING:tensorflow:Layer lstm will not use cuDNN kernels since it doesn't meet the criteria. It will use a generic GPU kernel as fallback when running on GPU.\n",
            "WARNING:tensorflow:Layer lstm_1 will not use cuDNN kernels since it doesn't meet the criteria. It will use a generic GPU kernel as fallback when running on GPU.\n",
            "WARNING:tensorflow:Layer lstm_2 will not use cuDNN kernels since it doesn't meet the criteria. It will use a generic GPU kernel as fallback when running on GPU.\n",
            "\n",
            "Model predict: \n",
            "[[0.4303124  0.11473428 0.45495328]\n",
            " [0.33730468 0.15598454 0.5067108 ]\n",
            " [0.25939906 0.09667948 0.6439215 ]\n",
            " ...\n",
            " [0.40553808 0.0957735  0.4986884 ]\n",
            " [0.34938186 0.06439728 0.58622086]\n",
            " [0.15626337 0.33425075 0.5094859 ]]\n",
            "\n",
            "\n",
            "Model predict_proba: \n",
            "[[0.4303124  0.11473428 0.45495328]\n",
            " [0.33730468 0.15598454 0.5067108 ]\n",
            " [0.25939906 0.09667948 0.6439215 ]\n",
            " ...\n",
            " [0.40553808 0.0957735  0.4986884 ]\n",
            " [0.34938186 0.06439728 0.58622086]\n",
            " [0.15626337 0.33425075 0.5094859 ]]\n",
            "\n",
            "11/11 [==============================] - 0s 36ms/step - loss: 0.5897 - categorical_accuracy: 0.4425\n"
          ],
          "name": "stdout"
        },
        {
          "output_type": "execute_result",
          "data": {
            "text/plain": [
              "[0.5897010564804077, 0.44252872467041016]"
            ]
          },
          "metadata": {
            "tags": []
          },
          "execution_count": 25
        }
      ]
    },
    {
      "cell_type": "code",
      "metadata": {
        "id": "vRdoF20VQjdF"
      },
      "source": [
        ""
      ],
      "execution_count": null,
      "outputs": []
    }
  ]
}