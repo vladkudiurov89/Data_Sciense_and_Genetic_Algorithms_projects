{
  "nbformat": 4,
  "nbformat_minor": 0,
  "metadata": {
    "colab": {
      "name": "Test_NLP.ipynb",
      "provenance": [],
      "collapsed_sections": [],
      "machine_shape": "hm"
    },
    "kernelspec": {
      "name": "python3",
      "display_name": "Python 3"
    },
    "language_info": {
      "name": "python"
    },
    "accelerator": "GPU"
  },
  "cells": [
    {
      "cell_type": "code",
      "metadata": {
        "colab": {
          "base_uri": "https://localhost:8080/"
        },
        "id": "keSuaLQLcn32",
        "outputId": "17104a71-b334-404e-829d-f542a9c5c983"
      },
      "source": [
        "# Check video cart\n",
        "!nvidia-smi"
      ],
      "execution_count": 1,
      "outputs": [
        {
          "output_type": "stream",
          "text": [
            "Wed May 26 06:55:51 2021       \n",
            "+-----------------------------------------------------------------------------+\n",
            "| NVIDIA-SMI 465.19.01    Driver Version: 460.32.03    CUDA Version: 11.2     |\n",
            "|-------------------------------+----------------------+----------------------+\n",
            "| GPU  Name        Persistence-M| Bus-Id        Disp.A | Volatile Uncorr. ECC |\n",
            "| Fan  Temp  Perf  Pwr:Usage/Cap|         Memory-Usage | GPU-Util  Compute M. |\n",
            "|                               |                      |               MIG M. |\n",
            "|===============================+======================+======================|\n",
            "|   0  Tesla P100-PCIE...  Off  | 00000000:00:04.0 Off |                    0 |\n",
            "| N/A   35C    P0    26W / 250W |      0MiB / 16280MiB |      0%      Default |\n",
            "|                               |                      |                  N/A |\n",
            "+-------------------------------+----------------------+----------------------+\n",
            "                                                                               \n",
            "+-----------------------------------------------------------------------------+\n",
            "| Processes:                                                                  |\n",
            "|  GPU   GI   CI        PID   Type   Process name                  GPU Memory |\n",
            "|        ID   ID                                                   Usage      |\n",
            "|=============================================================================|\n",
            "|  No running processes found                                                 |\n",
            "+-----------------------------------------------------------------------------+\n"
          ],
          "name": "stdout"
        }
      ]
    },
    {
      "cell_type": "code",
      "metadata": {
        "id": "JKhx4CeIjDeL"
      },
      "source": [
        "import warnings\n",
        "warnings.filterwarnings(\"ignore\")"
      ],
      "execution_count": 8,
      "outputs": []
    },
    {
      "cell_type": "code",
      "metadata": {
        "colab": {
          "base_uri": "https://localhost:8080/"
        },
        "id": "OyrzBnLHtxAJ",
        "outputId": "cd6bf251-ec9e-4a2c-a460-76991cf515e6"
      },
      "source": [
        "!pip install graphviz "
      ],
      "execution_count": 25,
      "outputs": [
        {
          "output_type": "stream",
          "text": [
            "Requirement already satisfied: graphviz in /usr/local/lib/python3.7/dist-packages (0.10.1)\n"
          ],
          "name": "stdout"
        }
      ]
    },
    {
      "cell_type": "markdown",
      "metadata": {
        "id": "s2Bo0WjxdSLa"
      },
      "source": [
        ""
      ]
    },
    {
      "cell_type": "code",
      "metadata": {
        "colab": {
          "base_uri": "https://localhost:8080/",
          "height": 35
        },
        "id": "JMsqGw0edRvs",
        "outputId": "81a3ac7b-519d-4fea-cc1a-b529715c5f96"
      },
      "source": [
        "import keras\n",
        "keras.__version__"
      ],
      "execution_count": 9,
      "outputs": [
        {
          "output_type": "execute_result",
          "data": {
            "application/vnd.google.colaboratory.intrinsic+json": {
              "type": "string"
            },
            "text/plain": [
              "'2.5.0'"
            ]
          },
          "metadata": {
            "tags": []
          },
          "execution_count": 9
        }
      ]
    },
    {
      "cell_type": "code",
      "metadata": {
        "id": "JBkuQrdadRyq"
      },
      "source": [
        "\n",
        "\n",
        "from keras.datasets import imdb\n",
        "from keras.preprocessing import sequence\n",
        "from keras.models import Sequential\n",
        "from keras.layers import Embedding, Dense, Conv1D, MaxPooling1D, GlobalAveragePooling1D\n",
        "from keras.optimizers import Adam, RMSprop\n",
        "\n",
        "import tensorflow as tf\n",
        "# from tf.keras.utils import plot_model\n",
        "# from keras.utils import plot_model\n",
        "\n",
        "import matplotlib.pyplot as plt\n",
        "import seaborn as sns\n",
        "sns.set()"
      ],
      "execution_count": 28,
      "outputs": []
    },
    {
      "cell_type": "code",
      "metadata": {
        "colab": {
          "base_uri": "https://localhost:8080/"
        },
        "id": "DMW9RaBEhvt-",
        "outputId": "b0f06cf4-4b7c-41d4-fceb-489c325f8eb0"
      },
      "source": [
        "# Load data\n",
        "max_features = 10000\n",
        "max_len = 100\n",
        "\n",
        "(x_train, y_train), (x_test, y_test) = imdb.load_data(num_words = max_features)\n",
        "print(f'len x_train = {len(x_train)} \\nlen x_test = {len(x_test)}')"
      ],
      "execution_count": 11,
      "outputs": [
        {
          "output_type": "stream",
          "text": [
            "len x_train= 25000 \n",
            "len x_test= 25000\n"
          ],
          "name": "stdout"
        }
      ]
    },
    {
      "cell_type": "code",
      "metadata": {
        "colab": {
          "base_uri": "https://localhost:8080/"
        },
        "id": "wlm66WNhhvwp",
        "outputId": "a59a493e-a532-417f-bc85-4b21f55b14df"
      },
      "source": [
        "# \n",
        "x_train = sequence.pad_sequences(x_train, maxlen = max_len)\n",
        "x_test = sequence.pad_sequences(x_test, maxlen = max_len)\n",
        "\n",
        "print(f'x_train.shape = {x_train.shape} \\nx_test.shape = {x_test.shape}')"
      ],
      "execution_count": 12,
      "outputs": [
        {
          "output_type": "stream",
          "text": [
            "x_train.shape = (25000, 100) \n",
            "x_test.shape = (25000, 100)\n"
          ],
          "name": "stdout"
        }
      ]
    },
    {
      "cell_type": "code",
      "metadata": {
        "id": "q59HNzMOhvzg"
      },
      "source": [
        "# \n",
        "def get_model():\n",
        "   model = Sequential()\n",
        "   model.add(Embedding(max_features, 128, input_length = max_len))\n",
        "   model.add(Conv1D(32, 7, activation='relu'))\n",
        "   model.add(MaxPooling1D(5))\n",
        "   model.add(Conv1D(32, 7, activation='relu'))\n",
        "   model.add(GlobalAveragePooling1D())\n",
        "   model.add(Dense(1))\n",
        "   return model"
      ],
      "execution_count": 36,
      "outputs": []
    },
    {
      "cell_type": "code",
      "metadata": {
        "colab": {
          "base_uri": "https://localhost:8080/"
        },
        "id": "7tdW92_vk0Qv",
        "outputId": "cfe1f001-304c-4987-e1b1-a68c8142d29b"
      },
      "source": [
        "model_Adam = get_model()\n",
        "model_Adam.compile(optimizer = Adam(learning_rate = 1e-4), loss = 'binary_crossentropy', metrics = ['accuracy'])\n",
        "model_Adam.summary()\n"
      ],
      "execution_count": 37,
      "outputs": [
        {
          "output_type": "stream",
          "text": [
            "Model: \"sequential_4\"\n",
            "_________________________________________________________________\n",
            "Layer (type)                 Output Shape              Param #   \n",
            "=================================================================\n",
            "embedding_4 (Embedding)      (None, 100, 128)          1280000   \n",
            "_________________________________________________________________\n",
            "conv1d_8 (Conv1D)            (None, 94, 32)            28704     \n",
            "_________________________________________________________________\n",
            "max_pooling1d_4 (MaxPooling1 (None, 18, 32)            0         \n",
            "_________________________________________________________________\n",
            "conv1d_9 (Conv1D)            (None, 12, 32)            7200      \n",
            "_________________________________________________________________\n",
            "global_average_pooling1d_4 ( (None, 32)                0         \n",
            "_________________________________________________________________\n",
            "dense_4 (Dense)              (None, 1)                 33        \n",
            "=================================================================\n",
            "Total params: 1,315,937\n",
            "Trainable params: 1,315,937\n",
            "Non-trainable params: 0\n",
            "_________________________________________________________________\n"
          ],
          "name": "stdout"
        }
      ]
    },
    {
      "cell_type": "code",
      "metadata": {
        "colab": {
          "base_uri": "https://localhost:8080/"
        },
        "id": "5SP25HU-uUIA",
        "outputId": "270ceddf-adc6-4d96-f1a7-00d142a403aa"
      },
      "source": [
        "# \n",
        "history = model_Adam.fit(x_train, y_train, validation_split=0.2, epochs=10, batch_size=128, verbose=1)"
      ],
      "execution_count": 38,
      "outputs": [
        {
          "output_type": "stream",
          "text": [
            "Epoch 1/10\n",
            "157/157 [==============================] - 3s 15ms/step - loss: 2.2760 - accuracy: 0.4982 - val_loss: 0.8630 - val_accuracy: 0.5062\n",
            "Epoch 2/10\n",
            "157/157 [==============================] - 2s 13ms/step - loss: 0.7945 - accuracy: 0.4992 - val_loss: 0.6926 - val_accuracy: 0.5158\n",
            "Epoch 3/10\n",
            "157/157 [==============================] - 2s 13ms/step - loss: 0.6855 - accuracy: 0.5732 - val_loss: 0.6820 - val_accuracy: 0.6058\n",
            "Epoch 4/10\n",
            "157/157 [==============================] - 2s 13ms/step - loss: 0.6738 - accuracy: 0.6508 - val_loss: 0.6717 - val_accuracy: 0.6538\n",
            "Epoch 5/10\n",
            "157/157 [==============================] - 2s 13ms/step - loss: 0.6597 - accuracy: 0.7146 - val_loss: 0.6580 - val_accuracy: 0.6920\n",
            "Epoch 6/10\n",
            "157/157 [==============================] - 2s 13ms/step - loss: 0.6410 - accuracy: 0.7483 - val_loss: 0.6382 - val_accuracy: 0.7190\n",
            "Epoch 7/10\n",
            "157/157 [==============================] - 2s 13ms/step - loss: 0.6145 - accuracy: 0.7737 - val_loss: 0.6073 - val_accuracy: 0.7368\n",
            "Epoch 8/10\n",
            "157/157 [==============================] - 2s 13ms/step - loss: 0.5723 - accuracy: 0.7969 - val_loss: 0.5593 - val_accuracy: 0.7578\n",
            "Epoch 9/10\n",
            "157/157 [==============================] - 2s 14ms/step - loss: 0.5092 - accuracy: 0.8180 - val_loss: 0.4937 - val_accuracy: 0.7846\n",
            "Epoch 10/10\n",
            "157/157 [==============================] - 2s 14ms/step - loss: 0.4249 - accuracy: 0.8464 - val_loss: 0.4592 - val_accuracy: 0.7928\n"
          ],
          "name": "stdout"
        }
      ]
    },
    {
      "cell_type": "code",
      "metadata": {
        "colab": {
          "base_uri": "https://localhost:8080/",
          "height": 301
        },
        "id": "Zn1YWcKgultj",
        "outputId": "c6a4a64f-6ef3-4c2b-ec5c-ec5e8733815e"
      },
      "source": [
        "# Обучение и проверка точности значений\n",
        "acc = history.history['accuracy']\n",
        "val_acc = history.history['val_accuracy']\n",
        "loss = history.history['loss']\n",
        "val_loss = history.history['val_loss']\n",
        "\n",
        "epochs = range(len(acc))\n",
        "\n",
        "plt.plot(epochs, acc, 'ro', label='Training accuracy')\n",
        "plt.plot(epochs, val_acc, 'b', label='Validation accuracy')\n",
        "\n",
        "plt.title('Model accuracy')\n",
        "plt.ylabel('Accuracy')\n",
        "plt.xlabel('Epoch')\n",
        "plt.legend(['train', 'test'], loc='upper left')\n",
        "plt.show()"
      ],
      "execution_count": 40,
      "outputs": [
        {
          "output_type": "display_data",
          "data": {
            "image/png": "[encoded data removed]",
            "text/plain": [
              "<Figure size 432x288 with 1 Axes>"
            ]
          },
          "metadata": {
            "tags": []
          }
        }
      ]
    },
    {
      "cell_type": "code",
      "metadata": {
        "colab": {
          "base_uri": "https://localhost:8080/",
          "height": 301
        },
        "id": "L_J-QB_LxGrn",
        "outputId": "044727b6-a241-4333-9a7d-c546ca6e77a9"
      },
      "source": [
        "plt.plot(epochs, loss, 'ro', label='Training loss')\n",
        "plt.plot(epochs, val_loss, 'b', label='Validation loss')\n",
        "\n",
        "plt.title('Model loss')\n",
        "plt.ylabel('Loss')\n",
        "plt.xlabel('Epoch')\n",
        "plt.legend(['train', 'test'], loc='upper left')\n",
        "plt.show()"
      ],
      "execution_count": 42,
      "outputs": [
        {
          "output_type": "display_data",
          "data": {
            "image/png": "[encoded data removed]",
            "text/plain": [
              "<Figure size 432x288 with 1 Axes>"
            ]
          },
          "metadata": {
            "tags": []
          }
        }
      ]
    },
    {
      "cell_type": "code",
      "metadata": {
        "colab": {
          "base_uri": "https://localhost:8080/"
        },
        "id": "oDzgZteDk0TW",
        "outputId": "cf07a1bd-4a5e-45c9-fcbb-aa2ac4d30638"
      },
      "source": [
        "model_RMSprop = get_model()\n",
        "model_RMSprop.compile(optimizer = RMSprop(learning_rate = 1e-4), loss = 'binary_crossentropy', metrics = ['accuracy'])\n",
        "model_RMSprop.summary()"
      ],
      "execution_count": 43,
      "outputs": [
        {
          "output_type": "stream",
          "text": [
            "Model: \"sequential_5\"\n",
            "_________________________________________________________________\n",
            "Layer (type)                 Output Shape              Param #   \n",
            "=================================================================\n",
            "embedding_5 (Embedding)      (None, 100, 128)          1280000   \n",
            "_________________________________________________________________\n",
            "conv1d_10 (Conv1D)           (None, 94, 32)            28704     \n",
            "_________________________________________________________________\n",
            "max_pooling1d_5 (MaxPooling1 (None, 18, 32)            0         \n",
            "_________________________________________________________________\n",
            "conv1d_11 (Conv1D)           (None, 12, 32)            7200      \n",
            "_________________________________________________________________\n",
            "global_average_pooling1d_5 ( (None, 32)                0         \n",
            "_________________________________________________________________\n",
            "dense_5 (Dense)              (None, 1)                 33        \n",
            "=================================================================\n",
            "Total params: 1,315,937\n",
            "Trainable params: 1,315,937\n",
            "Non-trainable params: 0\n",
            "_________________________________________________________________\n"
          ],
          "name": "stdout"
        }
      ]
    },
    {
      "cell_type": "code",
      "metadata": {
        "colab": {
          "base_uri": "https://localhost:8080/"
        },
        "id": "lY_8b5rOk0WJ",
        "outputId": "b03f10ca-a556-43bf-8d5d-cf935c168393"
      },
      "source": [
        "# \n",
        "history = model_RMSprop.fit(x_train, y_train, validation_split=0.2, epochs=10, batch_size=128, verbose=1)"
      ],
      "execution_count": 44,
      "outputs": [
        {
          "output_type": "stream",
          "text": [
            "Epoch 1/10\n",
            "157/157 [==============================] - 3s 12ms/step - loss: 0.7803 - accuracy: 0.5378 - val_loss: 0.6563 - val_accuracy: 0.6294\n",
            "Epoch 2/10\n",
            "157/157 [==============================] - 2s 11ms/step - loss: 0.6279 - accuracy: 0.6994 - val_loss: 0.5469 - val_accuracy: 0.7348\n",
            "Epoch 3/10\n",
            "157/157 [==============================] - 2s 11ms/step - loss: 0.4986 - accuracy: 0.7770 - val_loss: 0.4791 - val_accuracy: 0.7822\n",
            "Epoch 4/10\n",
            "157/157 [==============================] - 2s 11ms/step - loss: 0.4136 - accuracy: 0.8261 - val_loss: 0.4847 - val_accuracy: 0.8020\n",
            "Epoch 5/10\n",
            "157/157 [==============================] - 2s 11ms/step - loss: 0.3748 - accuracy: 0.8493 - val_loss: 0.5144 - val_accuracy: 0.8090\n",
            "Epoch 6/10\n",
            "157/157 [==============================] - 2s 11ms/step - loss: 0.3585 - accuracy: 0.8629 - val_loss: 0.5207 - val_accuracy: 0.8124\n",
            "Epoch 7/10\n",
            "157/157 [==============================] - 2s 10ms/step - loss: 0.3292 - accuracy: 0.8817 - val_loss: 0.5433 - val_accuracy: 0.8152\n",
            "Epoch 8/10\n",
            "157/157 [==============================] - 2s 10ms/step - loss: 0.3170 - accuracy: 0.8877 - val_loss: 0.5771 - val_accuracy: 0.8160\n",
            "Epoch 9/10\n",
            "157/157 [==============================] - 2s 10ms/step - loss: 0.3050 - accuracy: 0.8926 - val_loss: 0.6277 - val_accuracy: 0.8158\n",
            "Epoch 10/10\n",
            "157/157 [==============================] - 2s 11ms/step - loss: 0.2805 - accuracy: 0.9034 - val_loss: 0.6952 - val_accuracy: 0.8138\n"
          ],
          "name": "stdout"
        }
      ]
    },
    {
      "cell_type": "code",
      "metadata": {
        "colab": {
          "base_uri": "https://localhost:8080/",
          "height": 301
        },
        "id": "esMS9xLq19ES",
        "outputId": "e06793ad-0416-42d8-d30f-624f4fb9ca19"
      },
      "source": [
        "# Обучение и проверка точности значений\n",
        "acc = history.history['accuracy']\n",
        "val_acc = history.history['val_accuracy']\n",
        "loss = history.history['loss']\n",
        "val_loss = history.history['val_loss']\n",
        "\n",
        "epochs = range(len(acc))\n",
        "\n",
        "plt.plot(epochs, acc, 'ro', label='Training accuracy')\n",
        "plt.plot(epochs, val_acc, 'b', label='Validation accuracy')\n",
        "\n",
        "plt.title('Model accuracy')\n",
        "plt.ylabel('Accuracy')\n",
        "plt.xlabel('Epoch')\n",
        "plt.legend(['train', 'test'], loc='upper left')\n",
        "plt.show()"
      ],
      "execution_count": 45,
      "outputs": [
        {
          "output_type": "display_data",
          "data": {
            "image/png": "[encoded data removed]",
            "text/plain": [
              "<Figure size 432x288 with 1 Axes>"
            ]
          },
          "metadata": {
            "tags": []
          }
        }
      ]
    },
    {
      "cell_type": "code",
      "metadata": {
        "colab": {
          "base_uri": "https://localhost:8080/",
          "height": 301
        },
        "id": "mftjXfV619G2",
        "outputId": "790fc6c4-c77e-4b3b-d7e9-e493e1631f7c"
      },
      "source": [
        "plt.plot(epochs, loss, 'ro', label='Training loss')\n",
        "plt.plot(epochs, val_loss, 'b', label='Validation loss')\n",
        "\n",
        "plt.title('Model loss')\n",
        "plt.ylabel('Loss')\n",
        "plt.xlabel('Epoch')\n",
        "plt.legend(['train', 'test'], loc='upper left')\n",
        "plt.show()"
      ],
      "execution_count": 46,
      "outputs": [
        {
          "output_type": "display_data",
          "data": {
            "image/png": "[encoded data removed]",
            "text/plain": [
              "<Figure size 432x288 with 1 Axes>"
            ]
          },
          "metadata": {
            "tags": []
          }
        }
      ]
    },
    {
      "cell_type": "code",
      "metadata": {
        "id": "xQPrznLQ19J7"
      },
      "source": [
        ""
      ],
      "execution_count": null,
      "outputs": []
    },
    {
      "cell_type": "code",
      "metadata": {
        "id": "H4HGb6832epu"
      },
      "source": [
        ""
      ],
      "execution_count": null,
      "outputs": []
    }
  ]
}