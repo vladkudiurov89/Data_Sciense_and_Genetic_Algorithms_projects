{
  "nbformat": 4,
  "nbformat_minor": 0,
  "metadata": {
    "colab": {
      "name": "Test_task_Junior_DS.ipynb",
      "provenance": [],
      "collapsed_sections": [],
      "toc_visible": true,
      "machine_shape": "hm"
    },
    "kernelspec": {
      "name": "python3",
      "display_name": "Python 3"
    },
    "language_info": {
      "name": "python"
    },
    "accelerator": "GPU"
  },
  "cells": [
    {
      "cell_type": "markdown",
      "metadata": {
        "id": "VP6Pf9mSa3mD"
      },
      "source": [
        "# Тестовое задание Junior Data Scientist\n",
        "\n",
        "Выполнил кандидат: Кудюров Владислав\n",
        "\n",
        "Использовал датасет на русском языке(corpus вопросов и ответов собирал сам), к датасету длбавил данные  прототипа диалогов,т.к. диалогов не достаточно для  оценки качества модели. Создан список произвольных вопросов из прототипа диалогов.\n",
        "\n",
        "Архитектуру нейронной сети и параметров подбирал сам.\n",
        "\n",
        "\n",
        "\n"
      ]
    },
    {
      "cell_type": "code",
      "metadata": {
        "id": "tUJ3vHGDIKBX",
        "colab": {
          "base_uri": "https://localhost:8080/"
        },
        "outputId": "b4413a2d-cc5f-445c-f639-3baca7fd43a2"
      },
      "source": [
        "# Проверем видеокарту\n",
        "!nvidia-smi"
      ],
      "execution_count": 1,
      "outputs": [
        {
          "output_type": "stream",
          "text": [
            "Mon May 24 09:12:17 2021       \n",
            "+-----------------------------------------------------------------------------+\n",
            "| NVIDIA-SMI 465.19.01    Driver Version: 460.32.03    CUDA Version: 11.2     |\n",
            "|-------------------------------+----------------------+----------------------+\n",
            "| GPU  Name        Persistence-M| Bus-Id        Disp.A | Volatile Uncorr. ECC |\n",
            "| Fan  Temp  Perf  Pwr:Usage/Cap|         Memory-Usage | GPU-Util  Compute M. |\n",
            "|                               |                      |               MIG M. |\n",
            "|===============================+======================+======================|\n",
            "|   0  Tesla P100-PCIE...  Off  | 00000000:00:04.0 Off |                    0 |\n",
            "| N/A   35C    P0    27W / 250W |      0MiB / 16280MiB |      0%      Default |\n",
            "|                               |                      |                  N/A |\n",
            "+-------------------------------+----------------------+----------------------+\n",
            "                                                                               \n",
            "+-----------------------------------------------------------------------------+\n",
            "| Processes:                                                                  |\n",
            "|  GPU   GI   CI        PID   Type   Process name                  GPU Memory |\n",
            "|        ID   ID                                                   Usage      |\n",
            "|=============================================================================|\n",
            "|  No running processes found                                                 |\n",
            "+-----------------------------------------------------------------------------+\n"
          ],
          "name": "stdout"
        }
      ]
    },
    {
      "cell_type": "markdown",
      "metadata": {
        "id": "yBz7ABgid0Ys"
      },
      "source": [
        "# Задание № 1\n",
        "\n",
        "По ссылке ниже находится документ, в котором приведены примеры 10 реальных диалогов оператора с клиентом. Используя диалоги в качестве прототипа, необходимо создать блок-схему голосового чат-бота, который будет совершать обзвон базы номеров. Ключевой задачей чат-бота является конверсия холодных обзвонов в лидов (передача лида техническому специалисту, который закроет сделку)"
      ]
    },
    {
      "cell_type": "code",
      "metadata": {
        "id": "jjCHlihgIizA"
      },
      "source": [
        "import tensorflow as tf\n",
        "from tensorflow import keras\n",
        "from tensorflow.keras import layers\n",
        "import keras\n",
        "from keras.utils import plot_model\n",
        "import numpy as np \n",
        "from tensorflow.keras.models import Model, load_model\n",
        "from tensorflow.keras.layers import Dense, Embedding, LSTM, Input, Flatten \n",
        "from tensorflow.keras.optimizers import Adam, RMSprop, Adadelta \n",
        "from tensorflow.keras.preprocessing.sequence import pad_sequences \n",
        "from tensorflow.keras.preprocessing.text import Tokenizer \n",
        "from tensorflow.keras import utils \n",
        "from tensorflow.keras.utils import Sequence, to_categorical, plot_model \n",
        "import yaml \n",
        "from matplotlib import pyplot as plt\n",
        "import random"
      ],
      "execution_count": 2,
      "outputs": []
    },
    {
      "cell_type": "code",
      "metadata": {
        "id": "ebss7hLeJ3se",
        "colab": {
          "base_uri": "https://localhost:8080/"
        },
        "outputId": "4498658b-ffc5-4412-b4ee-fc8305b6023b"
      },
      "source": [
        "# Подключаем гугл диск\n",
        "from google.colab import drive\n",
        "drive.mount('/content/drive')"
      ],
      "execution_count": 3,
      "outputs": [
        {
          "output_type": "stream",
          "text": [
            "Mounted at /content/drive\n"
          ],
          "name": "stdout"
        }
      ]
    },
    {
      "cell_type": "markdown",
      "metadata": {
        "id": "Y57-7PXsTMcy"
      },
      "source": [
        "# Загружаем данные и обрабатываем их."
      ]
    },
    {
      "cell_type": "code",
      "metadata": {
        "id": "OiUkKaijK7S8",
        "colab": {
          "base_uri": "https://localhost:8080/"
        },
        "outputId": "ac71e512-6875-46b3-fbcf-e481905a4486"
      },
      "source": [
        "# Открываем файл с диалогами\n",
        "\n",
        "corpus = open('/content/drive/My Drive/datasets/Диалоги2(рассказы).yml', 'r') # открываем файл с диалогами в режиме чтения\n",
        "document = yaml.safe_load(corpus) # загружаем файл *глоссарий\n",
        "conversations = document['разговоры'] # загружаем диалоги из файла и заносим в conversations \n",
        "print('Количество пар вопрос-ответ : {}'.format(len(conversations)))\n",
        "print('Пример диалога : {}'.format(conversations[11906]))"
      ],
      "execution_count": 4,
      "outputs": [
        {
          "output_type": "stream",
          "text": [
            "Количество пар вопрос-ответ : 11920\n",
            "Пример диалога : ['Представляю компанию Электромонтаж.У нас для вас предложение?', 'Слушаю вас.']\n"
          ],
          "name": "stdout"
        }
      ]
    },
    {
      "cell_type": "code",
      "metadata": {
        "id": "43Mb9MdKJ35D"
      },
      "source": [
        "# Отделение знаков препинания пробелами\n",
        "def replaceSigns(s):\n",
        "    s = s.replace('.', ' . ')\n",
        "    s = s.replace(',', ' , ')\n",
        "    s = s.replace('!', ' ! ')\n",
        "    s = s.replace('?', ' ? ')\n",
        "    return s.lower()\n",
        "\n",
        "# Исправленная версия\n",
        "def strToTokens(sentence: str, maxlen=14): # функция принимает строку на вход (предложение с вопросом)\n",
        "    words = sentence.lower().split() # приводит предложение к нижнему регистру и разбирает на слова\n",
        "    tokensList = tokenizer.texts_to_sequences([words])\n",
        "    return pad_sequences(tokensList, maxlen=maxlen , padding='post')\n",
        "\n",
        "# Класс строит график всего обучения, состоявшего из нескольких этапов.\n",
        "class LearnHistory:\n",
        "    def __init__(self):\n",
        "        self.history = {'loss':[], 'val_loss': []}\n",
        "\n",
        "    def append(self, history):\n",
        "        self.history['loss'].extend(history.history['loss'])\n",
        "        self.history['val_loss'].extend(history.history['val_loss'])\n",
        "\n",
        "    def plot(self, ylim=None):\n",
        "        ep = [i+1 for i in range(len(self.history['loss']))]\n",
        "        plt.plot(ep, self.history['loss'], label='Loss на обучающем наборе')\n",
        "        plt.plot(ep, self.history['val_loss'], label='Loss на проверочном наборе')\n",
        "        plt.ylabel('Средняя ошибка')\n",
        "        plt.xlabel('Эпоха')\n",
        "        if ylim is not None:\n",
        "            plt.ylim(0, ylim)\n",
        "        plt.title('История обучения')\n",
        "        plt.grid()\n",
        "        plt.legend()\n",
        "        plt.show()\n",
        "\n",
        "# Делает батчи для обучения\n",
        "class MySequence(Sequence):\n",
        "    def __init__(self, x_set, y_set, voc_len, batch_size=50):\n",
        "        self.x, self.y = x_set, y_set\n",
        "        self.batch_size = batch_size\n",
        "        self.voc_len = voc_len\n",
        "\n",
        "    def __len__(self):\n",
        "        return len(self.x) // self.batch_size\n",
        "\n",
        "    def __getitem__(self, idx):\n",
        "        batch_x = self.x[idx * self.batch_size:(idx + 1) * self.batch_size]\n",
        "        batch_y = self.y[idx * self.batch_size:(idx + 1) * self.batch_size]\n",
        "        batch_z = np.zeros((self.batch_size, batch_y.shape[1], self.voc_len), dtype=np.int32)\n",
        "        for n in range(self.batch_size):\n",
        "            for j in range(batch_y.shape[1] - 1):\n",
        "                batch_z[n, j, batch_y[n, j+1]] = 1\n",
        "        return [batch_x, batch_y], batch_z"
      ],
      "execution_count": 5,
      "outputs": []
    },
    {
      "cell_type": "code",
      "metadata": {
        "id": "17kMY-RKKVlC"
      },
      "source": [
        "# Тестовые вопросы\n",
        "myQuestions = [\n",
        "               'Удобно разговаривать?',\n",
        "               'У нас для вас предложение?', \n",
        "               'Мы помогаем экономить до 40% от суммы расходов на электроэнергию с гарантией результата, интересует?',\n",
        "               'Скажите, вас заинтересовала бы возможность экономии до 40% расходов на оплату электроенергии?', \n",
        "               'Предлагаю детальнее вам ознакомиться с нашим предложением?',\n",
        "               'Почему?',\n",
        "               'Разве вам не хотелось бы экономить существенную часть расходов и направить эти средства на что-то более полезное?'\n",
        "               ]"
      ],
      "execution_count": 6,
      "outputs": []
    },
    {
      "cell_type": "code",
      "metadata": {
        "id": "7f9lI5AVVtL8"
      },
      "source": [
        "# Тестирование inference-модели на вопросах\n",
        "def testModel(encModel, decModel, questions, tokenizer, maxlen):\n",
        "    for question in questions:\n",
        "        question = replaceSigns(question)\n",
        "        statesValues = encModel.predict(strToTokens(question))\n",
        "        emptyTargetSeq = np.zeros((1, 1))    \n",
        "        emptyTargetSeq[0, 0] = tokenizer.word_index['start']\n",
        "        decodedTranslation = ''\n",
        "        for i in range(maxlen): \n",
        "            decOutputs, h, c = decModel.predict([emptyTargetSeq] + statesValues)\n",
        "            ind = np.argmax(decOutputs, axis=-1)[0, 0]\n",
        "            if ind == 0:\n",
        "                break\n",
        "            sampledWord = tokenizer.index_word[ind]\n",
        "            if sampledWord == 'end':\n",
        "                break\n",
        "            decodedTranslation += (' ' + sampledWord)\n",
        "            emptyTargetSeq[0, 0] = ind \n",
        "            statesValues = [h, c] \n",
        "        \n",
        "        print('Question: ' + question)\n",
        "        print('Answer: ' + decodedTranslation)\n",
        "\n",
        "# Для задания расписания для learning rate\n",
        "class CustomSchedule(tf.keras.optimizers.schedules.LearningRateSchedule):\n",
        "  def __init__(self, d_model, warmup_steps=4000):\n",
        "    super(CustomSchedule, self).__init__()\n",
        "    \n",
        "    self.d_model = d_model\n",
        "    self.d_model = tf.cast(self.d_model, tf.float32)\n",
        "\n",
        "    self.warmup_steps = warmup_steps\n",
        "    \n",
        "  def __call__(self, step):\n",
        "    arg1 = tf.math.rsqrt(step)\n",
        "    arg2 = step * (self.warmup_steps ** -1.5)\n",
        "    \n",
        "    return tf.math.rsqrt(self.d_model) * tf.math.minimum(arg1, arg2)"
      ],
      "execution_count": 7,
      "outputs": []
    },
    {
      "cell_type": "code",
      "metadata": {
        "id": "8l9D_0aXVtV0",
        "colab": {
          "base_uri": "https://localhost:8080/"
        },
        "outputId": "859bb464-3f6d-4cd7-a978-51ee63b19124"
      },
      "source": [
        "# Разбираем вопросы-ответы с проставлением тегов ответам\n",
        "######################\n",
        "# Собираем вопросы и ответы в списки\n",
        "questions = list() # здесь будет список вопросов\n",
        "answers = list() # здесь будет список ответов\n",
        "\n",
        "# В каждом диалоге берем фразу и добавляем в лист\n",
        "# Если в ответе не одна фраза - то сцепляем сколько есть\n",
        "for con in conversations: # для каждой пары вопрос-ответ\n",
        "  if len(con) > 2 : # если ответ содержит более двух предложений (кол-во реплик, кол-во вариантов ответа)\n",
        "    questions.append(con[0]) # то вопросительную реплику отправляем в список вопросов\n",
        "    replies = con[1:] # а ответную составляем из последующих строк\n",
        "    ans = '' # здесь соберем ответ\n",
        "    for rep in replies: # каждую реплику в ответной реплике\n",
        "      ans += ' ' + rep \n",
        "    answers.append(ans) #добавим в список ответов\n",
        "  elif len(con)> 1: # если на 1 вопрос приходится 1 ответ\n",
        "    questions.append(con[0]) # то вопросительную реплику отправляем в список вопросов\n",
        "    answers.append(con[1]) # а ответную в список ответов\n",
        "\n",
        "# Очищаем строки с неопределенным типов ответов\n",
        "answersCleaned = list()\n",
        "for i in range(len(answers)):\n",
        "  if type(answers[i]) == str:\n",
        "    answersCleaned.append(answers[i]) #если тип - строка, то добавляем в ответы\n",
        "  else:\n",
        "    questions.pop(i) # если не строка, то ответ не добавился, и плюс убираем соответствующий вопрос\n",
        "\n",
        "# Сделаем теги-метки для начала и конца ответов\n",
        "answers = list()\n",
        "for i in range(len(answersCleaned)):\n",
        "  answers.append( '<START> ' + answersCleaned[i] + ' <END>' )\n",
        "\n",
        "# Выведем обновленные данные на экран\n",
        "print('Вопрос : {}'.format(questions[2000]))\n",
        "print('Ответ : {}'.format(answers[2000]))"
      ],
      "execution_count": 8,
      "outputs": [
        {
          "output_type": "stream",
          "text": [
            "Вопрос : Кто? - удивился Славик, - повариха что ли?\n",
            "Ответ : <START> Ромашка. <END>\n"
          ],
          "name": "stdout"
        }
      ]
    },
    {
      "cell_type": "code",
      "metadata": {
        "id": "J9UTaZZaVyBi",
        "colab": {
          "base_uri": "https://localhost:8080/"
        },
        "outputId": "ec76266a-04fd-4c1e-d317-eaca00ef3ef5"
      },
      "source": [
        "# Отделяем знаки препинания от слов\n",
        "for i, s in enumerate(questions):\n",
        "    if isinstance(s, list):\n",
        "        s = s[0]\n",
        "    questions[i] = replaceSigns(s)\n",
        "\n",
        "for i, s in enumerate(answers):\n",
        "    if isinstance(s, list):\n",
        "        s = s[0]\n",
        "    answers[i] = replaceSigns(s)\n",
        "\n",
        "# Добавили oov_token, убрали знаки препинания из фильтра\n",
        "tokenizer = Tokenizer(filters='\"#$%&()*+-/:;<=>@[\\\\]^_`{|}~\\t\\n', oov_token='unknown')\n",
        "tokenizer.fit_on_texts(questions + answers) # загружаем в токенизатор список вопросов-ответов для сборки словаря частотности\n",
        "vocabularyItems = list(tokenizer.word_index.items()) # список с cодержимым словаря\n",
        "vocabularySize = len(vocabularyItems)+1 # размер словаря\n",
        "print( 'Фрагмент словаря : {}'.format(vocabularyItems[:50]))\n",
        "print( 'Размер словаря : {}'.format(vocabularySize))"
      ],
      "execution_count": 9,
      "outputs": [
        {
          "output_type": "stream",
          "text": [
            "Фрагмент словаря : [('unknown', 1), ('.', 2), ('start', 3), ('end', 4), ('?', 5), (',', 6), ('что', 7), ('!', 8), ('не', 9), ('я', 10), ('а', 11), ('ты', 12), ('это', 13), ('да', 14), ('в', 15), ('нет', 16), ('как', 17), ('и', 18), ('вы', 19), ('ну', 20), ('с', 21), ('на', 22), ('же', 23), ('так', 24), ('он', 25), ('у', 26), ('кто', 27), ('где', 28), ('все', 29), ('мы', 30), ('то', 31), ('мне', 32), ('тебя', 33), ('меня', 34), ('здесь', 35), ('еще', 36), ('почему', 37), ('о', 38), ('есть', 39), ('там', 40), ('тебе', 41), ('его', 42), ('за', 43), ('куда', 44), ('вот', 45), ('ничего', 46), ('вас', 47), ('знаю', 48), ('чем', 49), ('но', 50)]\n",
            "Размер словаря : 15163\n"
          ],
          "name": "stdout"
        }
      ]
    },
    {
      "cell_type": "code",
      "metadata": {
        "id": "7Bq478XjVyEY",
        "colab": {
          "base_uri": "https://localhost:8080/"
        },
        "outputId": "47e1e91b-1e26-42a8-a1e5-dc4dced9d362"
      },
      "source": [
        "# Устанавливаем закодированные входные данные(вопросы)\n",
        "######################\n",
        "tokenizedQuestions = tokenizer.texts_to_sequences(questions) # разбиваем текст вопросов на последовательности индексов\n",
        "maxLenQuestions = max([ len(x) for x in tokenizedQuestions]) # уточняем длину самого большого вопроса\n",
        "# Делаем последовательности одной длины, заполняя нулями более короткие вопросы\n",
        "paddedQuestions = pad_sequences(tokenizedQuestions, maxlen=maxLenQuestions, padding='post')\n",
        "\n",
        "# Предподготавливаем данные для входа в сеть\n",
        "encoderForInput = np.array(paddedQuestions) # переводим в numpy массив\n",
        "print('Пример оригинального вопроса на вход : {}'.format(questions[100])) \n",
        "print('Пример кодированного вопроса на вход : {}'.format(encoderForInput[100])) \n",
        "print('Размеры закодированного массива вопросов на вход : {}'.format(encoderForInput.shape)) \n",
        "print('Установленная длина вопросов на вход : {}'.format(maxLenQuestions))"
      ],
      "execution_count": 10,
      "outputs": [
        {
          "output_type": "stream",
          "text": [
            "Пример оригинального вопроса на вход : какая же мораль ? \n",
            "Пример кодированного вопроса на вход : [ 175   23 5731    5    0    0    0    0    0    0    0    0    0    0\n",
            "    0    0    0    0    0    0    0    0    0    0    0    0    0    0\n",
            "    0    0    0    0    0    0    0    0    0    0    0    0    0    0\n",
            "    0    0    0    0]\n",
            "Размеры закодированного массива вопросов на вход : (11915, 46)\n",
            "Установленная длина вопросов на вход : 46\n"
          ],
          "name": "stdout"
        }
      ]
    },
    {
      "cell_type": "code",
      "metadata": {
        "id": "Wkqaa7tsWPBM",
        "colab": {
          "base_uri": "https://localhost:8080/"
        },
        "outputId": "1171b7e4-eb18-471a-8121-7260a3a16a0b"
      },
      "source": [
        "# Устанавливаем раскодированные входные данные(ответы)\n",
        "\n",
        "tokenizedAnswers = tokenizer.texts_to_sequences(answers) # разбиваем текст ответов на последовательности индексов\n",
        "maxLenAnswers = max([len(x) for x in tokenizedAnswers]) # уточняем длину самого большого ответа\n",
        "\n",
        "# Делаем последовательности одной длины, заполняя нулями более короткие ответы\n",
        "paddedAnswers = pad_sequences(tokenizedAnswers, maxlen=maxLenAnswers, padding='post')\n",
        "\n",
        "# Предподготавливаем данные для входа в сеть\n",
        "decoderForInput = np.array(paddedAnswers) # переводим в numpy массив\n",
        "print('Пример оригинального ответа на вход: {}'.format(answers[100])) \n",
        "print('Пример раскодированного ответа на вход : {}'.format(decoderForInput[100])) \n",
        "print('Размеры раскодированного массива ответов на вход : {}'.format(decoderForInput.shape)) \n",
        "print('Установленная длина ответов на вход : {}'.format(maxLenAnswers))"
      ],
      "execution_count": 11,
      "outputs": [
        {
          "output_type": "stream",
          "text": [
            "Пример оригинального ответа на вход: <start> никакой .  так просто вспомнилось .  <end>\n",
            "Пример раскодированного ответа на вход : [    3   679     2    24    98 10614     2     4     0     0     0     0\n",
            "     0     0     0     0     0     0     0     0     0     0     0     0\n",
            "     0     0     0     0     0]\n",
            "Размеры раскодированного массива ответов на вход : (11915, 29)\n",
            "Установленная длина ответов на вход : 29\n"
          ],
          "name": "stdout"
        }
      ]
    },
    {
      "cell_type": "markdown",
      "metadata": {
        "id": "wRs5luNKTchl"
      },
      "source": [
        "# Данные готовы к обучению."
      ]
    },
    {
      "cell_type": "code",
      "metadata": {
        "id": "JO1RPvcgWPEP"
      },
      "source": [
        "# Перемешаем данные\n",
        "inds = np.array([i for i in range(11900)])\n",
        "np.random.shuffle(inds)"
      ],
      "execution_count": 12,
      "outputs": []
    },
    {
      "cell_type": "code",
      "metadata": {
        "id": "9zoxjco2WPG8"
      },
      "source": [
        "# Обучающие наборы\n",
        "x_train = paddedQuestions[inds[:10000]]\n",
        "y_train = paddedAnswers[inds[:10000]]\n",
        "x_val = paddedQuestions[inds[10000:10900]]\n",
        "y_val = paddedAnswers[inds[10000:10900]]\n",
        "x_test = paddedQuestions[inds[10900:11900]]\n",
        "y_test = paddedAnswers[inds[10900:11900]]"
      ],
      "execution_count": 13,
      "outputs": []
    },
    {
      "cell_type": "code",
      "metadata": {
        "id": "FW-aVNHKWPJ6"
      },
      "source": [
        "# сиквенсы для обучения - выдают батчи по 50\n",
        "seq_train = MySequence(x_train, y_train, voc_len=vocabularySize, batch_size=50)\n",
        "seq_val = MySequence(x_val, y_val, voc_len=vocabularySize, batch_size=50)\n",
        "seq_test = MySequence(x_test, y_test, voc_len=vocabularySize, batch_size=50)"
      ],
      "execution_count": 14,
      "outputs": []
    },
    {
      "cell_type": "markdown",
      "metadata": {
        "id": "G8etUd3OTjl6"
      },
      "source": [
        "# Параметры и протип простенькой модели."
      ]
    },
    {
      "cell_type": "code",
      "metadata": {
        "id": "C1ieGYuIWPMh"
      },
      "source": [
        "DIM = 200\n",
        "\n",
        "# Первый входной слой, кодер, выходной слой\n",
        "encoderInputs = Input(shape=(None, )) # размеры на входе сетки (здесь будет encoderForInput)\n",
        "\n",
        "# Эти данные проходят через слой Embedding (длина словаря, размерность) \n",
        "encoderEmbedding = Embedding(vocabularySize, DIM,  mask_zero=True) (encoderInputs)\n",
        "\n",
        "# Затем выход с Embedding пойдёт в LSTM слой, на выходе у которого будет два вектора состояния - state_h , state_c\n",
        "# Вектора состояния - state_h , state_c зададутся в LSTM слое декодера в блоке ниже\n",
        "encoderOutputs, state_h , state_c = LSTM(DIM, return_state=True)(encoderEmbedding)\n",
        "encoderStates = [state_h, state_c]"
      ],
      "execution_count": 15,
      "outputs": []
    },
    {
      "cell_type": "code",
      "metadata": {
        "id": "FeDwdJMpVyHq"
      },
      "source": [
        "# Второй входной слой, декодер, выходной слой\n",
        "decoderInputs = Input(shape=(None, )) # размеры на входе сетки (здесь будет decoderForInput)\n",
        "\n",
        "# Эти данные проходят через слой Embedding (длина словаря, размерность) \n",
        "# mask_zero=True - игнорировать нулевые padding при передаче в LSTM. Предотвратит вывод ответа типа: \"У меня все хорошо PAD PAD PAD PAD PAD PAD..\"\n",
        "decoderEmbedding = Embedding(vocabularySize, DIM, mask_zero=True) (decoderInputs)\n",
        "\n",
        "# Затем выход с Embedding пойдёт в LSTM слой, которому передаются вектора состояния - state_h , state_c\n",
        "decoderLSTM = LSTM(DIM, return_state=True, return_sequences=True)\n",
        "decoderOutputs , _ , _ = decoderLSTM(decoderEmbedding, initial_state=encoderStates)\n",
        "\n",
        "# И от LSTM'а сигнал decoderOutputs пропускаем через полносвязный слой с софтмаксом на выходе\n",
        "decoderDense = Dense(vocabularySize, activation='softmax') \n",
        "output = decoderDense (decoderOutputs)"
      ],
      "execution_count": 16,
      "outputs": []
    },
    {
      "cell_type": "code",
      "metadata": {
        "id": "BK8zSKUzWaW6",
        "colab": {
          "base_uri": "https://localhost:8080/",
          "height": 877
        },
        "outputId": "441a47e7-d625-427d-b95d-2b463a0787bf"
      },
      "source": [
        "# Собираем тренировочную модель нейросети\n",
        "\n",
        "model = Model([encoderInputs, decoderInputs], output)\n",
        "lh = LearnHistory()\n",
        "print(model.summary())\n",
        "\n",
        " # выведем на экран информацию о построенной модели нейросетии построим график для визуализации слоев и связей между ними\n",
        "plot_model(model, to_file='model.png', show_shapes=True) "
      ],
      "execution_count": 17,
      "outputs": [
        {
          "output_type": "stream",
          "text": [
            "Model: \"model\"\n",
            "__________________________________________________________________________________________________\n",
            "Layer (type)                    Output Shape         Param #     Connected to                     \n",
            "==================================================================================================\n",
            "input_1 (InputLayer)            [(None, None)]       0                                            \n",
            "__________________________________________________________________________________________________\n",
            "input_2 (InputLayer)            [(None, None)]       0                                            \n",
            "__________________________________________________________________________________________________\n",
            "embedding (Embedding)           (None, None, 200)    3032600     input_1[0][0]                    \n",
            "__________________________________________________________________________________________________\n",
            "embedding_1 (Embedding)         (None, None, 200)    3032600     input_2[0][0]                    \n",
            "__________________________________________________________________________________________________\n",
            "lstm (LSTM)                     [(None, 200), (None, 320800      embedding[0][0]                  \n",
            "__________________________________________________________________________________________________\n",
            "lstm_1 (LSTM)                   [(None, None, 200),  320800      embedding_1[0][0]                \n",
            "                                                                 lstm[0][1]                       \n",
            "                                                                 lstm[0][2]                       \n",
            "__________________________________________________________________________________________________\n",
            "dense (Dense)                   (None, None, 15163)  3047763     lstm_1[0][0]                     \n",
            "==================================================================================================\n",
            "Total params: 9,754,563\n",
            "Trainable params: 9,754,563\n",
            "Non-trainable params: 0\n",
            "__________________________________________________________________________________________________\n",
            "None\n"
          ],
          "name": "stdout"
        },
        {
          "output_type": "execute_result",
          "data": {
            "image/png": "[encoded data removed]",
            "text/plain": [
              "<IPython.core.display.Image object>"
            ]
          },
          "metadata": {
            "tags": []
          },
          "execution_count": 17
        }
      ]
    },
    {
      "cell_type": "code",
      "metadata": {
        "id": "uwcFq7otWaZ9"
      },
      "source": [
        "# Определим модель кодера, на входе далее будут закодированные вопросы(encoderForInputs), на выходе состояния state_h, state_c\n",
        "encoderModel = Model(encoderInputs, encoderStates) \n",
        "\n",
        "decoderStateInput_h = Input(shape=(DIM,)) # обозначим размерность для входного слоя с состоянием state_h\n",
        "decoderStateInput_c = Input(shape=(DIM,)) # обозначим размерность для входного слоя с состоянием state_c\n",
        "\n",
        "decoderStatesInputs = [decoderStateInput_h, decoderStateInput_c] # возьмем оба inputs вместе и запишем в decoderStatesInputs\n",
        "\n",
        "# Берём ответы, прошедшие через эмбединг, вместе с состояниями и подаём LSTM cлою\n",
        "\n",
        "decoderOutputs, state_h, state_c = decoderLSTM(decoderEmbedding, initial_state=decoderStatesInputs)\n",
        "\n",
        "decoderStates = [state_h, state_c] # LSTM даст нам новые состояния\n",
        "decoderOutputs = decoderDense(decoderOutputs) # и ответы, которые мы пропустим через полносвязный слой с софтмаксом\n",
        "\n",
        "# Определим модель декодера, на входе далее будут раскодированные ответы (decoderForInputs) и состояния\n",
        "# на выходе предсказываемый ответ и новые состояния\n",
        "decoderModel = Model([decoderInputs] + decoderStatesInputs, [decoderOutputs] + decoderStates)"
      ],
      "execution_count": 18,
      "outputs": []
    },
    {
      "cell_type": "markdown",
      "metadata": {
        "id": "UISNYg27TrIG"
      },
      "source": [
        "# Модель. До и после обучения."
      ]
    },
    {
      "cell_type": "code",
      "metadata": {
        "id": "k2VwbKJHY2yz",
        "colab": {
          "base_uri": "https://localhost:8080/"
        },
        "outputId": "2faac5b0-190d-4cb2-dcf0-e98fbe725865"
      },
      "source": [
        "# Необученная модель:\n",
        "testModel(encoderModel, decoderModel, myQuestions, tokenizer, maxLenAnswers)"
      ],
      "execution_count": 19,
      "outputs": [
        {
          "output_type": "stream",
          "text": [
            "Question: удобно разговаривать ? \n",
            "Answer:  полюс старину офуна внутренний поселка химобработка друга слегка докладываем спуститься спуститься добрых пару учеба мэйсон бык чучело шмелькову фары антонина улика оставляешь оставляешь разобьем одолжи задразнят облегчением веранде смотрю\n",
            "Question: у нас для вас предложение ? \n",
            "Answer:  пошутить ошибается стреляли гр области области овечьей мясо похороны посходили получить потрогать сердцем пай содержание главное потребовала станем андрюшенька неделю коем капитан хитрый работе тэйлор шевелись тяжелейшие труженик свиты\n",
            "Question: мы помогаем экономить до 40% от суммы расходов на электроэнергию с гарантией результата ,  интересует ? \n",
            "Answer:  демон лава лава заграница распоряжениях точно месте травница травница позавчера замерзли начать родились дачу нажить шампанское доисторических поездку возница сунуть ошиблась письма возвращаться возвращаться возвращаться трусову прийти прийти стефи\n",
            "Question: скажите ,  вас заинтересовала бы возможность экономии до 40% расходов на оплату электроенергии ? \n",
            "Answer:  рояль рояль приземлились контрабас стропило охоту пулеметчики тыы дурака повесть богдан удержаться упавший съедим учиться корускант откажется самые остановимся прощалась твое хоч петра поспеём воронки бастеру бежал работаю цистерн\n",
            "Question: предлагаю детальнее вам ознакомиться с нашим предложением ? \n",
            "Answer:  порядочно гут хотят герцог цветов подпишете боль приглашению свинарник свинарник терезка терезка терезка провода ходят руфа пан строй поляну болтаю рекомендуют болтаю рекомендуют крашер шофер бин сити карпы скупится\n",
            "Question: почему ? \n",
            "Answer:  принцессы затмение гайдук анализа i командование ммм дурень табаку детишки удавкой секретарское подкрадываться 3800 секретарское проворонили дэвида продолжайте поджариваемся победитель о'хиггинс славно обстановка водитель хитрый хитрый отрастил обозниках каком\n",
            "Question: разве вам не хотелось бы экономить существенную часть расходов и направить эти средства на что-то более полезное ? \n",
            "Answer:  пробасил одеждой полетим распоряжениях согласия немцы вернись брт годы йогой стрелок минутку посмотрели борисовщизне петербург людо выставочный шум никем никем пятерку кроликов протокол толлчифа толлчифа пинта клетку коммандер пикар\n"
          ],
          "name": "stdout"
        }
      ]
    },
    {
      "cell_type": "code",
      "metadata": {
        "id": "jiUSrNEHWp4g",
        "colab": {
          "base_uri": "https://localhost:8080/",
          "height": 1000
        },
        "outputId": "5c15de27-469b-40e0-8957-d8ffc284c99f"
      },
      "source": [
        "# Обучение на 50 эпохах\n",
        "model.compile(optimizer=Adam(lr=0.0002), loss='categorical_crossentropy', metrics='accuracy')\n",
        "history = model.fit(seq_train, validation_data=seq_val, epochs=50) \n",
        "lh.append(history)\n",
        "lh.plot()"
      ],
      "execution_count": 20,
      "outputs": [
        {
          "output_type": "stream",
          "text": [
            "Epoch 1/50\n",
            "200/200 [==============================] - 36s 151ms/step - loss: 1.9994 - accuracy: 0.1724 - val_loss: 1.2210 - val_accuracy: 0.1537\n",
            "Epoch 2/50\n",
            "200/200 [==============================] - 28s 139ms/step - loss: 1.1934 - accuracy: 0.1619 - val_loss: 1.2050 - val_accuracy: 0.1997\n",
            "Epoch 3/50\n",
            "200/200 [==============================] - 28s 139ms/step - loss: 1.1494 - accuracy: 0.2161 - val_loss: 1.1426 - val_accuracy: 0.2738\n",
            "Epoch 4/50\n",
            "200/200 [==============================] - 28s 139ms/step - loss: 1.0826 - accuracy: 0.3174 - val_loss: 1.1044 - val_accuracy: 0.3841\n",
            "Epoch 5/50\n",
            "200/200 [==============================] - 28s 139ms/step - loss: 1.0271 - accuracy: 0.3913 - val_loss: 1.0748 - val_accuracy: 0.3931\n",
            "Epoch 6/50\n",
            "200/200 [==============================] - 28s 139ms/step - loss: 1.0005 - accuracy: 0.3955 - val_loss: 1.0591 - val_accuracy: 0.3947\n",
            "Epoch 7/50\n",
            "200/200 [==============================] - 28s 139ms/step - loss: 0.9775 - accuracy: 0.3972 - val_loss: 1.0516 - val_accuracy: 0.3910\n",
            "Epoch 8/50\n",
            "200/200 [==============================] - 28s 139ms/step - loss: 0.9578 - accuracy: 0.3989 - val_loss: 1.0472 - val_accuracy: 0.4013\n",
            "Epoch 9/50\n",
            "200/200 [==============================] - 28s 139ms/step - loss: 0.9557 - accuracy: 0.4035 - val_loss: 1.0467 - val_accuracy: 0.4042\n",
            "Epoch 10/50\n",
            "200/200 [==============================] - 28s 139ms/step - loss: 0.9464 - accuracy: 0.4071 - val_loss: 1.0455 - val_accuracy: 0.4053\n",
            "Epoch 11/50\n",
            "200/200 [==============================] - 28s 139ms/step - loss: 0.9328 - accuracy: 0.4106 - val_loss: 1.0461 - val_accuracy: 0.4083\n",
            "Epoch 12/50\n",
            "200/200 [==============================] - 28s 139ms/step - loss: 0.9225 - accuracy: 0.4129 - val_loss: 1.0479 - val_accuracy: 0.4134\n",
            "Epoch 13/50\n",
            "200/200 [==============================] - 28s 139ms/step - loss: 0.9185 - accuracy: 0.4197 - val_loss: 1.0513 - val_accuracy: 0.4089\n",
            "Epoch 14/50\n",
            "200/200 [==============================] - 28s 139ms/step - loss: 0.9018 - accuracy: 0.4281 - val_loss: 1.0525 - val_accuracy: 0.4175\n",
            "Epoch 15/50\n",
            "200/200 [==============================] - 28s 139ms/step - loss: 0.8982 - accuracy: 0.4368 - val_loss: 1.0545 - val_accuracy: 0.4197\n",
            "Epoch 16/50\n",
            "200/200 [==============================] - 28s 140ms/step - loss: 0.8913 - accuracy: 0.4405 - val_loss: 1.0559 - val_accuracy: 0.4197\n",
            "Epoch 17/50\n",
            "200/200 [==============================] - 28s 139ms/step - loss: 0.8858 - accuracy: 0.4442 - val_loss: 1.0587 - val_accuracy: 0.4208\n",
            "Epoch 18/50\n",
            "200/200 [==============================] - 28s 139ms/step - loss: 0.8805 - accuracy: 0.4466 - val_loss: 1.0584 - val_accuracy: 0.4214\n",
            "Epoch 19/50\n",
            "200/200 [==============================] - 28s 139ms/step - loss: 0.8770 - accuracy: 0.4505 - val_loss: 1.0615 - val_accuracy: 0.4249\n",
            "Epoch 20/50\n",
            "200/200 [==============================] - 28s 139ms/step - loss: 0.8780 - accuracy: 0.4518 - val_loss: 1.0601 - val_accuracy: 0.4249\n",
            "Epoch 21/50\n",
            "200/200 [==============================] - 28s 139ms/step - loss: 0.8601 - accuracy: 0.4584 - val_loss: 1.0603 - val_accuracy: 0.4300\n",
            "Epoch 22/50\n",
            "200/200 [==============================] - 28s 139ms/step - loss: 0.8552 - accuracy: 0.4636 - val_loss: 1.0621 - val_accuracy: 0.4298\n",
            "Epoch 23/50\n",
            "200/200 [==============================] - 28s 139ms/step - loss: 0.8499 - accuracy: 0.4650 - val_loss: 1.0644 - val_accuracy: 0.4309\n",
            "Epoch 24/50\n",
            "200/200 [==============================] - 28s 139ms/step - loss: 0.8490 - accuracy: 0.4703 - val_loss: 1.0677 - val_accuracy: 0.4331\n",
            "Epoch 25/50\n",
            "200/200 [==============================] - 28s 139ms/step - loss: 0.8345 - accuracy: 0.4726 - val_loss: 1.0690 - val_accuracy: 0.4333\n",
            "Epoch 26/50\n",
            "200/200 [==============================] - 28s 138ms/step - loss: 0.8311 - accuracy: 0.4749 - val_loss: 1.0717 - val_accuracy: 0.4319\n",
            "Epoch 27/50\n",
            "200/200 [==============================] - 28s 138ms/step - loss: 0.8216 - accuracy: 0.4801 - val_loss: 1.0757 - val_accuracy: 0.4303\n",
            "Epoch 28/50\n",
            "200/200 [==============================] - 28s 139ms/step - loss: 0.8095 - accuracy: 0.4838 - val_loss: 1.0802 - val_accuracy: 0.4316\n",
            "Epoch 29/50\n",
            "200/200 [==============================] - 28s 139ms/step - loss: 0.8028 - accuracy: 0.4860 - val_loss: 1.0844 - val_accuracy: 0.4290\n",
            "Epoch 30/50\n",
            "200/200 [==============================] - 28s 139ms/step - loss: 0.7973 - accuracy: 0.4868 - val_loss: 1.0901 - val_accuracy: 0.4289\n",
            "Epoch 31/50\n",
            "200/200 [==============================] - 28s 139ms/step - loss: 0.7925 - accuracy: 0.4913 - val_loss: 1.0936 - val_accuracy: 0.4278\n",
            "Epoch 32/50\n",
            "200/200 [==============================] - 28s 139ms/step - loss: 0.7827 - accuracy: 0.4946 - val_loss: 1.1014 - val_accuracy: 0.4260\n",
            "Epoch 33/50\n",
            "200/200 [==============================] - 28s 139ms/step - loss: 0.7777 - accuracy: 0.4960 - val_loss: 1.1045 - val_accuracy: 0.4244\n",
            "Epoch 34/50\n",
            "200/200 [==============================] - 28s 139ms/step - loss: 0.7655 - accuracy: 0.4978 - val_loss: 1.1092 - val_accuracy: 0.4219\n",
            "Epoch 35/50\n",
            "200/200 [==============================] - 28s 139ms/step - loss: 0.7661 - accuracy: 0.4981 - val_loss: 1.1157 - val_accuracy: 0.4241\n",
            "Epoch 36/50\n",
            "200/200 [==============================] - 28s 139ms/step - loss: 0.7540 - accuracy: 0.5041 - val_loss: 1.1213 - val_accuracy: 0.4181\n",
            "Epoch 37/50\n",
            "200/200 [==============================] - 28s 139ms/step - loss: 0.7461 - accuracy: 0.5059 - val_loss: 1.1275 - val_accuracy: 0.4178\n",
            "Epoch 38/50\n",
            "200/200 [==============================] - 28s 139ms/step - loss: 0.7434 - accuracy: 0.5096 - val_loss: 1.1324 - val_accuracy: 0.4214\n",
            "Epoch 39/50\n",
            "200/200 [==============================] - 28s 139ms/step - loss: 0.7361 - accuracy: 0.5111 - val_loss: 1.1360 - val_accuracy: 0.4189\n",
            "Epoch 40/50\n",
            "200/200 [==============================] - 28s 139ms/step - loss: 0.7326 - accuracy: 0.5114 - val_loss: 1.1418 - val_accuracy: 0.4159\n",
            "Epoch 41/50\n",
            "200/200 [==============================] - 28s 139ms/step - loss: 0.7206 - accuracy: 0.5183 - val_loss: 1.1512 - val_accuracy: 0.4140\n",
            "Epoch 42/50\n",
            "200/200 [==============================] - 28s 138ms/step - loss: 0.7139 - accuracy: 0.5186 - val_loss: 1.1543 - val_accuracy: 0.4160\n",
            "Epoch 43/50\n",
            "200/200 [==============================] - 28s 138ms/step - loss: 0.7079 - accuracy: 0.5205 - val_loss: 1.1601 - val_accuracy: 0.4113\n",
            "Epoch 44/50\n",
            "200/200 [==============================] - 28s 139ms/step - loss: 0.7132 - accuracy: 0.5184 - val_loss: 1.1667 - val_accuracy: 0.4156\n",
            "Epoch 45/50\n",
            "200/200 [==============================] - 28s 138ms/step - loss: 0.7069 - accuracy: 0.5217 - val_loss: 1.1694 - val_accuracy: 0.4127\n",
            "Epoch 46/50\n",
            "200/200 [==============================] - 28s 140ms/step - loss: 0.6934 - accuracy: 0.5241 - val_loss: 1.1760 - val_accuracy: 0.4121\n",
            "Epoch 47/50\n",
            "200/200 [==============================] - 28s 140ms/step - loss: 0.6855 - accuracy: 0.5298 - val_loss: 1.1804 - val_accuracy: 0.4134\n",
            "Epoch 48/50\n",
            "200/200 [==============================] - 28s 139ms/step - loss: 0.6834 - accuracy: 0.5283 - val_loss: 1.1874 - val_accuracy: 0.4075\n",
            "Epoch 49/50\n",
            "200/200 [==============================] - 28s 138ms/step - loss: 0.6700 - accuracy: 0.5340 - val_loss: 1.1938 - val_accuracy: 0.4073\n",
            "Epoch 50/50\n",
            "200/200 [==============================] - 28s 138ms/step - loss: 0.6701 - accuracy: 0.5326 - val_loss: 1.1975 - val_accuracy: 0.4016\n"
          ],
          "name": "stdout"
        },
        {
          "output_type": "display_data",
          "data": {
            "image/png": "[encoded data removed]",
            "text/plain": [
              "<Figure size 432x288 with 1 Axes>"
            ]
          },
          "metadata": {
            "tags": [],
            "needs_background": "light"
          }
        }
      ]
    },
    {
      "cell_type": "markdown",
      "metadata": {
        "id": "O8uyYrHpaRij"
      },
      "source": [
        "После 100 эпохах обучения, модель обученная на датасете отвечает на произвольные вопросы из возможных диалогов."
      ]
    },
    {
      "cell_type": "code",
      "metadata": {
        "id": "3l3gsqJUWqDL",
        "colab": {
          "base_uri": "https://localhost:8080/",
          "height": 558
        },
        "outputId": "9867fc2c-62a7-489c-c5ec-add8bf6fb29d"
      },
      "source": [
        "# После 100 эпох:\n",
        "lh.plot()\n",
        "testModel(encoderModel, decoderModel, myQuestions, tokenizer, maxLenAnswers)"
      ],
      "execution_count": 21,
      "outputs": [
        {
          "output_type": "display_data",
          "data": {
            "image/png": "[encoded data removed]",
            "text/plain": [
              "<Figure size 432x288 with 1 Axes>"
            ]
          },
          "metadata": {
            "tags": [],
            "needs_background": "light"
          }
        },
        {
          "output_type": "stream",
          "text": [
            "Question: удобно разговаривать ? \n",
            "Answer:  э э . . .\n",
            "Question: у нас для вас предложение ? \n",
            "Answer:  да нет .\n",
            "Question: мы помогаем экономить до 40% от суммы расходов на электроэнергию с гарантией результата ,  интересует ? \n",
            "Answer:  я не знаю .\n",
            "Question: скажите ,  вас заинтересовала бы возможность экономии до 40% расходов на оплату электроенергии ? \n",
            "Answer:  да так , товарищ командир !\n",
            "Question: предлагаю детальнее вам ознакомиться с нашим предложением ? \n",
            "Answer:  я не знаю .\n",
            "Question: почему ? \n",
            "Answer:  да , что ты не знаю ?\n",
            "Question: разве вам не хотелось бы экономить существенную часть расходов и направить эти средства на что-то более полезное ? \n",
            "Answer:  да . . .\n"
          ],
          "name": "stdout"
        }
      ]
    },
    {
      "cell_type": "code",
      "metadata": {
        "id": "_Y9qpEpGWadG",
        "colab": {
          "base_uri": "https://localhost:8080/",
          "height": 443
        },
        "outputId": "e1cef44a-88b0-44d8-e487-07edf4838b17"
      },
      "source": [
        "# Создаем рабочую модель для вывода ответов на запросы пользователя\n",
        "\n",
        "def makeInferenceModels():\n",
        "  encoderModel = Model(encoderInputs, encoderStates) \n",
        "  decoderStateInput_h = Input(shape=(200 ,)) \n",
        "  decoderStateInput_c = Input(shape=(200 ,)) \n",
        "  decoderStatesInputs = [decoderStateInput_h, decoderStateInput_c]\n",
        "  decoderOutputs, state_h, state_c = decoderLSTM(decoderEmbedding, initial_state=decoderStatesInputs)\n",
        "  decoderStates = [state_h, state_c] \n",
        "  decoderOutputs = decoderDense(decoderOutputs)\n",
        "  decoderModel = Model([decoderInputs] + decoderStatesInputs, [decoderOutputs] + decoderStates)\n",
        "  return encoderModel , decoderModel\n",
        "\n",
        "\n",
        "# Создадим функцию, которая преобразует вопрос пользователя в последовательность индексов\n",
        "def strToTokens(sentence: str): \n",
        "  words = sentence.lower().split()\n",
        "  tokensList = list()\n",
        "  for word in words:\n",
        "    tokensList.append(tokenizer.word_index[word])\n",
        "  return pad_sequences([tokensList], maxlen=maxLenQuestions , padding='post')\n",
        "\n",
        "# Устанавливаем окончательные настройки и запускаем модель\n",
        "encModel, decModel = makeInferenceModels()\n",
        "for _ in range(6):\n",
        "  statesValues = encModel.predict(strToTokens(input( 'Задайте вопрос : ' )))\n",
        "  emptyTargetSeq = np.zeros((1, 1))    \n",
        "  emptyTargetSeq[0, 0] = tokenizer.word_index['start']\n",
        "  stopCondition = False \n",
        "  decodedTranslation = ''\n",
        "  while not stopCondition :\n",
        "    decOutputs , h , c = decModel.predict([emptyTargetSeq] + statesValues)\n",
        "    \n",
        "    sampledWordIndex = np.argmax(decOutputs, axis=-1) \n",
        "    sampledWord = None \n",
        "    for word , index in tokenizer.word_index.items():\n",
        "      if sampledWordIndex == index: \n",
        "        decodedTranslation += ' {}'.format(word) \n",
        "        sampledWord = word \n",
        "\n",
        "    if sampledWord == 'end' or len(decodedTranslation.split()) > maxLenAnswers:\n",
        "      stopCondition = True \n",
        "\n",
        "    emptyTargetSeq = np.zeros((1, 1)) \n",
        "    emptyTargetSeq[0, 0] = sampledWordIndex \n",
        "    statesValues = [h, c] \n",
        "  \n",
        "  print(decodedTranslation[:-3])"
      ],
      "execution_count": 22,
      "outputs": [
        {
          "output_type": "stream",
          "text": [
            "Задайте вопрос : привет\n",
            " бизнес ! \n",
            "Задайте вопрос : есть предложение\n",
            " бизнес ! бизнес ! \n",
            "Задайте вопрос : купите лампочек\n"
          ],
          "name": "stdout"
        },
        {
          "output_type": "error",
          "ename": "KeyError",
          "evalue": "ignored",
          "traceback": [
            "\u001b[0;31m---------------------------------------------------------------------------\u001b[0m",
            "\u001b[0;31mKeyError\u001b[0m                                  Traceback (most recent call last)",
            "\u001b[0;32m<ipython-input-22-b79e11372426>\u001b[0m in \u001b[0;36m<module>\u001b[0;34m()\u001b[0m\n\u001b[1;32m     24\u001b[0m \u001b[0mencModel\u001b[0m\u001b[0;34m,\u001b[0m \u001b[0mdecModel\u001b[0m \u001b[0;34m=\u001b[0m \u001b[0mmakeInferenceModels\u001b[0m\u001b[0;34m(\u001b[0m\u001b[0;34m)\u001b[0m\u001b[0;34m\u001b[0m\u001b[0;34m\u001b[0m\u001b[0m\n\u001b[1;32m     25\u001b[0m \u001b[0;32mfor\u001b[0m \u001b[0m_\u001b[0m \u001b[0;32min\u001b[0m \u001b[0mrange\u001b[0m\u001b[0;34m(\u001b[0m\u001b[0;36m6\u001b[0m\u001b[0;34m)\u001b[0m\u001b[0;34m:\u001b[0m\u001b[0;34m\u001b[0m\u001b[0;34m\u001b[0m\u001b[0m\n\u001b[0;32m---> 26\u001b[0;31m   \u001b[0mstatesValues\u001b[0m \u001b[0;34m=\u001b[0m \u001b[0mencModel\u001b[0m\u001b[0;34m.\u001b[0m\u001b[0mpredict\u001b[0m\u001b[0;34m(\u001b[0m\u001b[0mstrToTokens\u001b[0m\u001b[0;34m(\u001b[0m\u001b[0minput\u001b[0m\u001b[0;34m(\u001b[0m \u001b[0;34m'Задайте вопрос : '\u001b[0m \u001b[0;34m)\u001b[0m\u001b[0;34m)\u001b[0m\u001b[0;34m)\u001b[0m\u001b[0;34m\u001b[0m\u001b[0;34m\u001b[0m\u001b[0m\n\u001b[0m\u001b[1;32m     27\u001b[0m   \u001b[0memptyTargetSeq\u001b[0m \u001b[0;34m=\u001b[0m \u001b[0mnp\u001b[0m\u001b[0;34m.\u001b[0m\u001b[0mzeros\u001b[0m\u001b[0;34m(\u001b[0m\u001b[0;34m(\u001b[0m\u001b[0;36m1\u001b[0m\u001b[0;34m,\u001b[0m \u001b[0;36m1\u001b[0m\u001b[0;34m)\u001b[0m\u001b[0;34m)\u001b[0m\u001b[0;34m\u001b[0m\u001b[0;34m\u001b[0m\u001b[0m\n\u001b[1;32m     28\u001b[0m   \u001b[0memptyTargetSeq\u001b[0m\u001b[0;34m[\u001b[0m\u001b[0;36m0\u001b[0m\u001b[0;34m,\u001b[0m \u001b[0;36m0\u001b[0m\u001b[0;34m]\u001b[0m \u001b[0;34m=\u001b[0m \u001b[0mtokenizer\u001b[0m\u001b[0;34m.\u001b[0m\u001b[0mword_index\u001b[0m\u001b[0;34m[\u001b[0m\u001b[0;34m'start'\u001b[0m\u001b[0;34m]\u001b[0m\u001b[0;34m\u001b[0m\u001b[0;34m\u001b[0m\u001b[0m\n",
            "\u001b[0;32m<ipython-input-22-b79e11372426>\u001b[0m in \u001b[0;36mstrToTokens\u001b[0;34m(sentence)\u001b[0m\n\u001b[1;32m     18\u001b[0m   \u001b[0mtokensList\u001b[0m \u001b[0;34m=\u001b[0m \u001b[0mlist\u001b[0m\u001b[0;34m(\u001b[0m\u001b[0;34m)\u001b[0m\u001b[0;34m\u001b[0m\u001b[0;34m\u001b[0m\u001b[0m\n\u001b[1;32m     19\u001b[0m   \u001b[0;32mfor\u001b[0m \u001b[0mword\u001b[0m \u001b[0;32min\u001b[0m \u001b[0mwords\u001b[0m\u001b[0;34m:\u001b[0m\u001b[0;34m\u001b[0m\u001b[0;34m\u001b[0m\u001b[0m\n\u001b[0;32m---> 20\u001b[0;31m     \u001b[0mtokensList\u001b[0m\u001b[0;34m.\u001b[0m\u001b[0mappend\u001b[0m\u001b[0;34m(\u001b[0m\u001b[0mtokenizer\u001b[0m\u001b[0;34m.\u001b[0m\u001b[0mword_index\u001b[0m\u001b[0;34m[\u001b[0m\u001b[0mword\u001b[0m\u001b[0;34m]\u001b[0m\u001b[0;34m)\u001b[0m\u001b[0;34m\u001b[0m\u001b[0;34m\u001b[0m\u001b[0m\n\u001b[0m\u001b[1;32m     21\u001b[0m   \u001b[0;32mreturn\u001b[0m \u001b[0mpad_sequences\u001b[0m\u001b[0;34m(\u001b[0m\u001b[0;34m[\u001b[0m\u001b[0mtokensList\u001b[0m\u001b[0;34m]\u001b[0m\u001b[0;34m,\u001b[0m \u001b[0mmaxlen\u001b[0m\u001b[0;34m=\u001b[0m\u001b[0mmaxLenQuestions\u001b[0m \u001b[0;34m,\u001b[0m \u001b[0mpadding\u001b[0m\u001b[0;34m=\u001b[0m\u001b[0;34m'post'\u001b[0m\u001b[0;34m)\u001b[0m\u001b[0;34m\u001b[0m\u001b[0;34m\u001b[0m\u001b[0m\n\u001b[1;32m     22\u001b[0m \u001b[0;34m\u001b[0m\u001b[0m\n",
            "\u001b[0;31mKeyError\u001b[0m: 'лампочек'"
          ]
        }
      ]
    },
    {
      "cell_type": "markdown",
      "metadata": {
        "id": "CKm45fuYRq6P"
      },
      "source": [
        "Так как, в данном датасете, не хватает диалогов о предложении и продажах, чат-бот не может ответить корректно на вопросы. Для дальнейшего улучшения ответов или вопрос требуется правильно подобрать корпус с диалогами, а также увеличить колличество эпох обучения  и подборку параметров для снижении ошибки на тестовых вопросах."
      ]
    },
    {
      "cell_type": "markdown",
      "metadata": {
        "id": "mSnI_AsapdZS"
      },
      "source": [
        "# Попробуем усовершенствовать данную модель"
      ]
    },
    {
      "cell_type": "code",
      "metadata": {
        "id": "3MyYh6OQUZW8"
      },
      "source": [
        "#  Наверное наибольшую ценность имеет обучение сети отвечать на произвольные вопросы, для этого надо уменьшать потери на контрольной выборке.\n",
        "# Разобьем все данные, как положено по феншую, на тренировочные, валидационные и тестовые.\n",
        "\n",
        "# Перемешаем данные\n",
        "inds = np.array([i for i in range(11900)])\n",
        "np.random.shuffle(inds)"
      ],
      "execution_count": 23,
      "outputs": []
    },
    {
      "cell_type": "code",
      "metadata": {
        "id": "Jyh619GiXnUm"
      },
      "source": [
        "# Пересоздадим выборки\n",
        "x_train = paddedQuestions[inds[:10000]]\n",
        "y_train = paddedAnswers[inds[:10000]]\n",
        "x_val = paddedQuestions[inds[10000:10900]]\n",
        "y_val = paddedAnswers[inds[10000:10900]]\n",
        "x_test = paddedQuestions[inds[10900:11900]]\n",
        "y_test = paddedAnswers[inds[10900:11900]]"
      ],
      "execution_count": 24,
      "outputs": []
    },
    {
      "cell_type": "code",
      "metadata": {
        "id": "c6RbWsgGXovS",
        "colab": {
          "base_uri": "https://localhost:8080/"
        },
        "outputId": "c9f441f4-c3ba-4c2a-e765-b57e1bd46a80"
      },
      "source": [
        "vocabularySize"
      ],
      "execution_count": 25,
      "outputs": [
        {
          "output_type": "execute_result",
          "data": {
            "text/plain": [
              "15163"
            ]
          },
          "metadata": {
            "tags": []
          },
          "execution_count": 25
        }
      ]
    },
    {
      "cell_type": "code",
      "metadata": {
        "id": "IDrFmhzOXoyP",
        "colab": {
          "base_uri": "https://localhost:8080/"
        },
        "outputId": "8e39bf04-d60a-4e3a-9957-5777e13bb5a8"
      },
      "source": [
        "# Увеличим размерность векторного (embedding) пространства. Добавим дропауты в LSTM для борьбы с переобучением.\n",
        "# Перейдем на оптимизатор Adam\n",
        "DIM = 256\n",
        "\n",
        "encoderInputs = Input(shape=(None, ))\n",
        "encoderEmbedding = Embedding(vocabularySize, DIM,  mask_zero=True) (encoderInputs)\n",
        "encoderOutputs, state_h , state_c = LSTM(DIM, dropout=0.2, recurrent_dropout=0.2, return_state=True)(encoderEmbedding)\n",
        "encoderStates = [state_h, state_c]\n",
        "\n",
        "decoderInputs = Input(shape=(None, ))\n",
        "decoderEmbedding = Embedding(vocabularySize, DIM, mask_zero=True) (decoderInputs) \n",
        "decoderLSTM = LSTM(DIM, dropout=0.2, recurrent_dropout=0.2, return_state=True, return_sequences=True)\n",
        "decoderOutputs , _ , _ = decoderLSTM(decoderEmbedding, initial_state=encoderStates)\n",
        "decoderDense = Dense(vocabularySize, activation='softmax') \n",
        "output = decoderDense (decoderOutputs)\n",
        "\n",
        "model1 = Model([encoderInputs, decoderInputs], output)\n",
        "lh = LearnHistory() \n",
        "model1.summary()"
      ],
      "execution_count": 26,
      "outputs": [
        {
          "output_type": "stream",
          "text": [
            "WARNING:tensorflow:Layer lstm_2 will not use cuDNN kernel since it doesn't meet the cuDNN kernel criteria. It will use generic GPU kernel as fallback when running on GPU\n",
            "WARNING:tensorflow:Layer lstm_3 will not use cuDNN kernel since it doesn't meet the cuDNN kernel criteria. It will use generic GPU kernel as fallback when running on GPU\n",
            "Model: \"model_5\"\n",
            "__________________________________________________________________________________________________\n",
            "Layer (type)                    Output Shape         Param #     Connected to                     \n",
            "==================================================================================================\n",
            "input_7 (InputLayer)            [(None, None)]       0                                            \n",
            "__________________________________________________________________________________________________\n",
            "input_8 (InputLayer)            [(None, None)]       0                                            \n",
            "__________________________________________________________________________________________________\n",
            "embedding_2 (Embedding)         (None, None, 256)    3881728     input_7[0][0]                    \n",
            "__________________________________________________________________________________________________\n",
            "embedding_3 (Embedding)         (None, None, 256)    3881728     input_8[0][0]                    \n",
            "__________________________________________________________________________________________________\n",
            "lstm_2 (LSTM)                   [(None, 256), (None, 525312      embedding_2[0][0]                \n",
            "__________________________________________________________________________________________________\n",
            "lstm_3 (LSTM)                   [(None, None, 256),  525312      embedding_3[0][0]                \n",
            "                                                                 lstm_2[0][1]                     \n",
            "                                                                 lstm_2[0][2]                     \n",
            "__________________________________________________________________________________________________\n",
            "dense_1 (Dense)                 (None, None, 15163)  3896891     lstm_3[0][0]                     \n",
            "==================================================================================================\n",
            "Total params: 12,710,971\n",
            "Trainable params: 12,710,971\n",
            "Non-trainable params: 0\n",
            "__________________________________________________________________________________________________\n"
          ],
          "name": "stdout"
        }
      ]
    },
    {
      "cell_type": "code",
      "metadata": {
        "id": "fFOE0zitXo1A",
        "colab": {
          "base_uri": "https://localhost:8080/",
          "height": 435
        },
        "outputId": "127ce957-2dac-4564-c0e8-19d2036deefd"
      },
      "source": [
        "plot_model(model1, to_file='model.png', show_shapes=True)"
      ],
      "execution_count": 27,
      "outputs": [
        {
          "output_type": "execute_result",
          "data": {
            "image/png": "[encoded data removed]",
            "text/plain": [
              "<IPython.core.display.Image object>"
            ]
          },
          "metadata": {
            "tags": []
          },
          "execution_count": 27
        }
      ]
    },
    {
      "cell_type": "code",
      "metadata": {
        "id": "rNIrPIPFX_Nd"
      },
      "source": [
        "# Нам нужны 3 сиквенса на каждый тип данных.\n",
        "\n",
        "seq_train = MySequence(x_train, y_train, voc_len=vocabularySize, batch_size=100)\n",
        "seq_val = MySequence(x_val, y_val, voc_len=vocabularySize, batch_size=100)\n",
        "seq_test = MySequence(x_test, y_test, voc_len=vocabularySize, batch_size=100)"
      ],
      "execution_count": 28,
      "outputs": []
    },
    {
      "cell_type": "code",
      "metadata": {
        "id": "RE9XQGpMX_QV",
        "colab": {
          "base_uri": "https://localhost:8080/",
          "height": 1000
        },
        "outputId": "263f6377-8d83-432c-a194-42884cdc376c"
      },
      "source": [
        "# Пробовал менять lr по расписанию.\n",
        "\n",
        "optimizer = Adam(learning_rate=0.001, beta_1=0.9, beta_2=0.98, epsilon=1e-9)\n",
        "model1.compile(optimizer=optimizer, loss='categorical_crossentropy', metrics=['accuracy']) \n",
        "history = model1.fit(seq_train, validation_data=(seq_val), epochs=20) \n",
        "lh.append(history)\n",
        "lh.plot()\n"
      ],
      "execution_count": 29,
      "outputs": [
        {
          "output_type": "stream",
          "text": [
            "Epoch 1/20\n",
            "100/100 [==============================] - 44s 392ms/step - loss: 1.7078 - accuracy: 0.1974 - val_loss: 1.1999 - val_accuracy: 0.2077\n",
            "Epoch 2/20\n",
            "100/100 [==============================] - 38s 384ms/step - loss: 1.1044 - accuracy: 0.3058 - val_loss: 1.0605 - val_accuracy: 0.3933\n",
            "Epoch 3/20\n",
            "100/100 [==============================] - 39s 389ms/step - loss: 0.9766 - accuracy: 0.3983 - val_loss: 1.0511 - val_accuracy: 0.4045\n",
            "Epoch 4/20\n",
            "100/100 [==============================] - 39s 387ms/step - loss: 0.9315 - accuracy: 0.4110 - val_loss: 1.0617 - val_accuracy: 0.4077\n",
            "Epoch 5/20\n",
            "100/100 [==============================] - 39s 386ms/step - loss: 0.9009 - accuracy: 0.4174 - val_loss: 1.0744 - val_accuracy: 0.4120\n",
            "Epoch 6/20\n",
            "100/100 [==============================] - 39s 388ms/step - loss: 0.8690 - accuracy: 0.4363 - val_loss: 1.0890 - val_accuracy: 0.4238\n",
            "Epoch 7/20\n",
            "100/100 [==============================] - 39s 387ms/step - loss: 0.8484 - accuracy: 0.4527 - val_loss: 1.1020 - val_accuracy: 0.4327\n",
            "Epoch 8/20\n",
            "100/100 [==============================] - 39s 385ms/step - loss: 0.8143 - accuracy: 0.4641 - val_loss: 1.1279 - val_accuracy: 0.4319\n",
            "Epoch 9/20\n",
            "100/100 [==============================] - 39s 386ms/step - loss: 0.7945 - accuracy: 0.4709 - val_loss: 1.1506 - val_accuracy: 0.4270\n",
            "Epoch 10/20\n",
            "100/100 [==============================] - 38s 383ms/step - loss: 0.7615 - accuracy: 0.4816 - val_loss: 1.1662 - val_accuracy: 0.4343\n",
            "Epoch 11/20\n",
            "100/100 [==============================] - 39s 388ms/step - loss: 0.7431 - accuracy: 0.4885 - val_loss: 1.1992 - val_accuracy: 0.4340\n",
            "Epoch 12/20\n",
            "100/100 [==============================] - 39s 386ms/step - loss: 0.7189 - accuracy: 0.4926 - val_loss: 1.2079 - val_accuracy: 0.4284\n",
            "Epoch 13/20\n",
            "100/100 [==============================] - 39s 385ms/step - loss: 0.6925 - accuracy: 0.4986 - val_loss: 1.2234 - val_accuracy: 0.4293\n",
            "Epoch 14/20\n",
            "100/100 [==============================] - 39s 385ms/step - loss: 0.6734 - accuracy: 0.5036 - val_loss: 1.2531 - val_accuracy: 0.4293\n",
            "Epoch 15/20\n",
            "100/100 [==============================] - 38s 383ms/step - loss: 0.6399 - accuracy: 0.5125 - val_loss: 1.2605 - val_accuracy: 0.4250\n",
            "Epoch 16/20\n",
            "100/100 [==============================] - 38s 384ms/step - loss: 0.6288 - accuracy: 0.5190 - val_loss: 1.2758 - val_accuracy: 0.4225\n",
            "Epoch 17/20\n",
            "100/100 [==============================] - 39s 386ms/step - loss: 0.5973 - accuracy: 0.5294 - val_loss: 1.2859 - val_accuracy: 0.4271\n",
            "Epoch 18/20\n",
            "100/100 [==============================] - 38s 383ms/step - loss: 0.5829 - accuracy: 0.5406 - val_loss: 1.2968 - val_accuracy: 0.4235\n",
            "Epoch 19/20\n",
            "100/100 [==============================] - 39s 385ms/step - loss: 0.5544 - accuracy: 0.5547 - val_loss: 1.3112 - val_accuracy: 0.4212\n",
            "Epoch 20/20\n",
            "100/100 [==============================] - 39s 385ms/step - loss: 0.5438 - accuracy: 0.5621 - val_loss: 1.3217 - val_accuracy: 0.4206\n"
          ],
          "name": "stdout"
        },
        {
          "output_type": "display_data",
          "data": {
            "image/png": "[encoded data removed]",
            "text/plain": [
              "<Figure size 432x288 with 1 Axes>"
            ]
          },
          "metadata": {
            "tags": [],
            "needs_background": "light"
          }
        }
      ]
    },
    {
      "cell_type": "markdown",
      "metadata": {
        "id": "e6Z2r1SSoHO6"
      },
      "source": [
        "# Выводы:\n",
        "\n",
        "- Для улучшения качества модели потребуется грамотно составить корпус;\n",
        " \n",
        "- Увеличить колличество эпох.\n",
        "\n",
        "Создание чат-бота подразумевается, что выходная последовательность должна как-то достаточно однозначно вытекать из входной. Создание чат-бота - скорее задача классификации. Особенность в том, что классов очень много (тысячи). Надо найти в базе запрос, максимально похожий (а лучше совпадающий) с введенным запросом и рандомно выдать один из заготовленных ответов.\n",
        "\n",
        "Нейронная сеть является универсальным аппроксиматором, и есть теорема, утверждающая, что сеть способна обеспечить любую наперед заданную точность. Но это касается лишь обучаемых данных. Поэтому задача снижения потерь на тренировочных данных не слишком трудна, нужно лишь взять досточно сложную сеть и нужное число эпох. Ценность такого обучения весьма ограничена - сеть лишь запомнит конкретные ответы на конкретные вопросы, но не сможет хорошо отвечать на произвольные вопросы.\n",
        "\n",
        "Более ценным результатом было бы обучение, дающее малую потерю на тестовом наборе. Однако в нашем случае добиться хорошего результата на тестовом наборе не получилось - несмотря на все предпринятые меры, очень быстро наступало переобучение, а потери оставались на высоком уровне. Я объясняю такой результат тем, что данные в ответах не вытекают логически из вопросов, и довольно произвольны. \n",
        "\n",
        "При обучении модели возникли серьезные проблемы с нехваткой памяти, так как OHE кодировка давала огромные массивы, приводившие к краху сессии. Поэтому мне пришлось создать свой сиквенс, выдающий данные в OHE формате батчами лишь по 50 штук. Это решило проблему.\n",
        "\n",
        "\n"
      ]
    }
  ]
}