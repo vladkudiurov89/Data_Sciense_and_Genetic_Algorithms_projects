{
 "cells": [
  {
   "cell_type": "code",
   "execution_count": null,
   "metadata": {},
   "outputs": [],
   "source": [
    "from pyspark import SparkConf, SparkContext"
   ]
  },
  {
   "cell_type": "code",
   "execution_count": null,
   "metadata": {},
   "outputs": [],
   "source": [
    "sc = SparkContext(master=\"yarn\")"
   ]
  },
  {
   "cell_type": "code",
   "execution_count": null,
   "metadata": {},
   "outputs": [],
   "source": [
    "sc"
   ]
  },
  {
   "cell_type": "code",
   "execution_count": null,
   "metadata": {},
   "outputs": [],
   "source": [
    "def computeContribs(neighbours, pagerank):\n",
    "    num = len(neighbours)\n",
    "    \n",
    "    for n in neighbours:\n",
    "        yield (n, pagerank / num)"
   ]
  },
  {
   "cell_type": "code",
   "execution_count": null,
   "metadata": {},
   "outputs": [],
   "source": [
    "iterations = 1\n",
    "raw_graph = sc.textFile(\"/data/spark/lecture05/graph.tsv\")\n",
    "graph = raw_graph.map(lambda x: tuple(x.split(\"\\t\")))\\\n",
    "                 .distinct()\n",
    "vertices = graph.map(lambda x: x[0])\\\n",
    "                .union(graph.map(lambda x: x[1]))\\\n",
    "                .distinct()\n",
    "num_vertices = vertices.count()\n",
    "ranks = vertices.map(lambda x: (x, 1 / num_vertices))\n",
    "\n",
    "for i in range(iterations):\n",
    "    links = graph.groupByKey()\n",
    "    contributions = links.join(ranks)\n",
    "    ranks = contributions.flatMap(lambda x: computeContribs(x[1][0], x[1][1]))\\\n",
    "                         .groupByKey().mapValues(sum)\n",
    "    print(\"Iteration {0}: current pagerank {1}\".format(i, sorted(ranks.collect(), key=lambda x: x[0])))"
   ]
  },
  {
   "cell_type": "markdown",
   "metadata": {
    "collapsed": true
   },
   "source": [
    "## Попытайтесь отпимизировать эту программу (сократить число стеджей, тасков и объем шаффла), используя знания, полученные на занятиях"
   ]
  },
  {
   "cell_type": "code",
   "execution_count": null,
   "metadata": {},
   "outputs": [],
   "source": [
    "## Ваш код здесь"
   ]
  },
  {
   "cell_type": "code",
   "execution_count": null,
   "metadata": {},
   "outputs": [],
   "source": [
    "sc.stop()"
   ]
  },
  {
   "cell_type": "code",
   "execution_count": null,
   "metadata": {},
   "outputs": [],
   "source": []
  }
 ],
 "metadata": {
  "kernelspec": {
   "display_name": "Python 3",
   "language": "python",
   "name": "python3"
  },
  "language_info": {
   "codemirror_mode": {
    "name": "ipython",
    "version": 3
   },
   "file_extension": ".py",
   "mimetype": "text/x-python",
   "name": "python",
   "nbconvert_exporter": "python",
   "pygments_lexer": "ipython3",
   "version": "3.7.0"
  }
 },
 "nbformat": 4,
 "nbformat_minor": 2
}
